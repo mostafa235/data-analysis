{
 "cells": [
  {
   "cell_type": "code",
   "execution_count": 60,
   "id": "2bd64fbc",
   "metadata": {},
   "outputs": [],
   "source": [
    "import pandas as pd\n",
    "from datetime import datetime"
   ]
  },
  {
   "cell_type": "code",
   "execution_count": 61,
   "id": "00290749",
   "metadata": {},
   "outputs": [],
   "source": [
    "year = 2020\n",
    "month = 5\n",
    "day = 15\n",
    "hour = 13\n",
    "minute = 30\n",
    "sec = 23"
   ]
  },
  {
   "cell_type": "code",
   "execution_count": 62,
   "id": "31fe0cf7",
   "metadata": {},
   "outputs": [
    {
     "data": {
      "text/plain": [
       "datetime.datetime(2020, 5, 15, 0, 0)"
      ]
     },
     "execution_count": 62,
     "metadata": {},
     "output_type": "execute_result"
    }
   ],
   "source": [
    "date = datetime(year,month,day)\n",
    "date"
   ]
  },
  {
   "cell_type": "code",
   "execution_count": 63,
   "id": "75ed36d7",
   "metadata": {},
   "outputs": [
    {
     "data": {
      "text/plain": [
       "datetime.datetime(2020, 5, 15, 13, 30, 23)"
      ]
     },
     "execution_count": 63,
     "metadata": {},
     "output_type": "execute_result"
    }
   ],
   "source": [
    "date = datetime(year,month,day,hour,minute,sec)\n",
    "date"
   ]
  },
  {
   "cell_type": "code",
   "execution_count": 64,
   "id": "6ddccad6",
   "metadata": {},
   "outputs": [
    {
     "data": {
      "text/plain": [
       "2020"
      ]
     },
     "execution_count": 64,
     "metadata": {},
     "output_type": "execute_result"
    }
   ],
   "source": [
    "date.year"
   ]
  },
  {
   "cell_type": "code",
   "execution_count": 65,
   "id": "bb4f4fc0",
   "metadata": {},
   "outputs": [
    {
     "data": {
      "text/plain": [
       "5"
      ]
     },
     "execution_count": 65,
     "metadata": {},
     "output_type": "execute_result"
    }
   ],
   "source": [
    "date.month"
   ]
  },
  {
   "cell_type": "code",
   "execution_count": 66,
   "id": "6c11dc73",
   "metadata": {},
   "outputs": [
    {
     "data": {
      "text/plain": [
       "13"
      ]
     },
     "execution_count": 66,
     "metadata": {},
     "output_type": "execute_result"
    }
   ],
   "source": [
    "date.hour"
   ]
  },
  {
   "cell_type": "code",
   "execution_count": 67,
   "id": "a96d432a",
   "metadata": {},
   "outputs": [
    {
     "data": {
      "text/plain": [
       "0    may 5 , 2020\n",
       "1        2020-1-1\n",
       "dtype: object"
      ]
     },
     "execution_count": 67,
     "metadata": {},
     "output_type": "execute_result"
    }
   ],
   "source": [
    "ser = pd.Series(['may 5 , 2020' , '2020-1-1'])\n",
    "ser"
   ]
  },
  {
   "cell_type": "code",
   "execution_count": 68,
   "id": "479c36fa",
   "metadata": {},
   "outputs": [
    {
     "data": {
      "text/plain": [
       "0   2020-05-05\n",
       "1   2020-01-01\n",
       "dtype: datetime64[ns]"
      ]
     },
     "execution_count": 68,
     "metadata": {},
     "output_type": "execute_result"
    }
   ],
   "source": [
    "pd.to_datetime(ser)"
   ]
  },
  {
   "cell_type": "code",
   "execution_count": 69,
   "id": "ce416e81",
   "metadata": {},
   "outputs": [
    {
     "data": {
      "text/plain": [
       "Timestamp('2020-05-05 00:00:00')"
      ]
     },
     "execution_count": 69,
     "metadata": {},
     "output_type": "execute_result"
    }
   ],
   "source": [
    "pd.to_datetime(ser)[0]"
   ]
  },
  {
   "cell_type": "code",
   "execution_count": 70,
   "id": "2a02994a",
   "metadata": {},
   "outputs": [],
   "source": [
    "new_date = '22-5-2020'"
   ]
  },
  {
   "cell_type": "code",
   "execution_count": 71,
   "id": "24207f56",
   "metadata": {},
   "outputs": [
    {
     "data": {
      "text/plain": [
       "Timestamp('2020-05-22 00:00:00')"
      ]
     },
     "execution_count": 71,
     "metadata": {},
     "output_type": "execute_result"
    }
   ],
   "source": [
    "pd.to_datetime(new_date)"
   ]
  },
  {
   "cell_type": "code",
   "execution_count": 72,
   "id": "3e5f8ba4",
   "metadata": {},
   "outputs": [],
   "source": [
    "my_err_date = '10-12-2020'"
   ]
  },
  {
   "cell_type": "code",
   "execution_count": 73,
   "id": "e49b3ec6",
   "metadata": {},
   "outputs": [
    {
     "data": {
      "text/plain": [
       "Timestamp('2020-10-12 00:00:00')"
      ]
     },
     "execution_count": 73,
     "metadata": {},
     "output_type": "execute_result"
    }
   ],
   "source": [
    "pd.to_datetime(my_err_date)"
   ]
  },
  {
   "cell_type": "code",
   "execution_count": 74,
   "id": "113b439f",
   "metadata": {},
   "outputs": [
    {
     "data": {
      "text/plain": [
       "Timestamp('2020-07-22 00:00:00')"
      ]
     },
     "execution_count": 74,
     "metadata": {},
     "output_type": "execute_result"
    }
   ],
   "source": [
    "new_date1 = '22-7-2020'\n",
    "pd.to_datetime(new_date1)"
   ]
  },
  {
   "cell_type": "code",
   "execution_count": 75,
   "id": "2914185b",
   "metadata": {},
   "outputs": [
    {
     "data": {
      "text/plain": [
       "Timestamp('2020-01-07 00:00:00')"
      ]
     },
     "execution_count": 75,
     "metadata": {},
     "output_type": "execute_result"
    }
   ],
   "source": [
    "new_date1 = '1-7-2020'\n",
    "pd.to_datetime(new_date1)"
   ]
  },
  {
   "cell_type": "code",
   "execution_count": 76,
   "id": "675a935b",
   "metadata": {},
   "outputs": [],
   "source": [
    "date = '1-12-2020'"
   ]
  },
  {
   "cell_type": "code",
   "execution_count": 77,
   "id": "a4f1e9db",
   "metadata": {},
   "outputs": [
    {
     "data": {
      "text/plain": [
       "Timestamp('2020-12-01 00:00:00')"
      ]
     },
     "execution_count": 77,
     "metadata": {},
     "output_type": "execute_result"
    }
   ],
   "source": [
    "pd.to_datetime(date , format='%d-%m-%Y')"
   ]
  },
  {
   "cell_type": "code",
   "execution_count": 78,
   "id": "5ad52891",
   "metadata": {},
   "outputs": [],
   "source": [
    "date = '1-Dec-2020'"
   ]
  },
  {
   "cell_type": "code",
   "execution_count": 79,
   "id": "71258433",
   "metadata": {},
   "outputs": [
    {
     "data": {
      "text/plain": [
       "Timestamp('2020-12-01 00:00:00')"
      ]
     },
     "execution_count": 79,
     "metadata": {},
     "output_type": "execute_result"
    }
   ],
   "source": [
    "pd.to_datetime(date , format='%d-%b-%Y')"
   ]
  },
  {
   "cell_type": "code",
   "execution_count": 80,
   "id": "4c3e0213",
   "metadata": {},
   "outputs": [],
   "source": [
    "date = '10th of Dec 2020'"
   ]
  },
  {
   "cell_type": "code",
   "execution_count": 81,
   "id": "56eb28eb",
   "metadata": {},
   "outputs": [
    {
     "data": {
      "text/plain": [
       "Timestamp('2020-12-10 00:00:00')"
      ]
     },
     "execution_count": 81,
     "metadata": {},
     "output_type": "execute_result"
    }
   ],
   "source": [
    "pd.to_datetime(date)"
   ]
  },
  {
   "cell_type": "code",
   "execution_count": null,
   "id": "ce5a3219",
   "metadata": {},
   "outputs": [],
   "source": []
  }
 ],
 "metadata": {
  "kernelspec": {
   "display_name": "Python 3 (ipykernel)",
   "language": "python",
   "name": "python3"
  },
  "language_info": {
   "codemirror_mode": {
    "name": "ipython",
    "version": 3
   },
   "file_extension": ".py",
   "mimetype": "text/x-python",
   "name": "python",
   "nbconvert_exporter": "python",
   "pygments_lexer": "ipython3",
   "version": "3.9.7"
  }
 },
 "nbformat": 4,
 "nbformat_minor": 5
}
