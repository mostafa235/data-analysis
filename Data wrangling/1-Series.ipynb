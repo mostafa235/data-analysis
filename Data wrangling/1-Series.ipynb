{
 "cells": [
  {
   "cell_type": "code",
   "execution_count": 4,
   "id": "94d4578e",
   "metadata": {},
   "outputs": [],
   "source": [
    "import pandas as pd"
   ]
  },
  {
   "cell_type": "code",
   "execution_count": 5,
   "id": "e7747810",
   "metadata": {},
   "outputs": [],
   "source": [
    "var = [10,20,30]\n",
    "ser = pd.Series(var)"
   ]
  },
  {
   "cell_type": "code",
   "execution_count": 6,
   "id": "8cc5d3d5",
   "metadata": {},
   "outputs": [
    {
     "data": {
      "text/plain": [
       "0    10\n",
       "1    20\n",
       "2    30\n",
       "dtype: int64"
      ]
     },
     "execution_count": 6,
     "metadata": {},
     "output_type": "execute_result"
    }
   ],
   "source": [
    "ser"
   ]
  },
  {
   "cell_type": "code",
   "execution_count": 8,
   "id": "af58c32f",
   "metadata": {},
   "outputs": [
    {
     "data": {
      "text/plain": [
       "20"
      ]
     },
     "execution_count": 8,
     "metadata": {},
     "output_type": "execute_result"
    }
   ],
   "source": [
    "ser[1]"
   ]
  },
  {
   "cell_type": "code",
   "execution_count": 9,
   "id": "b99fdc90",
   "metadata": {},
   "outputs": [
    {
     "data": {
      "text/plain": [
       "30"
      ]
     },
     "execution_count": 9,
     "metadata": {},
     "output_type": "execute_result"
    }
   ],
   "source": [
    "ser[2]"
   ]
  },
  {
   "cell_type": "code",
   "execution_count": 10,
   "id": "28bbd85c",
   "metadata": {},
   "outputs": [],
   "source": [
    "val = [10,20,30,40]\n",
    "indx = ['a','b','c','d']"
   ]
  },
  {
   "cell_type": "code",
   "execution_count": 11,
   "id": "b9a776b0",
   "metadata": {},
   "outputs": [],
   "source": [
    "ser = pd.Series(val , indx)"
   ]
  },
  {
   "cell_type": "code",
   "execution_count": 12,
   "id": "038c7118",
   "metadata": {},
   "outputs": [
    {
     "data": {
      "text/plain": [
       "a    10\n",
       "b    20\n",
       "c    30\n",
       "d    40\n",
       "dtype: int64"
      ]
     },
     "execution_count": 12,
     "metadata": {},
     "output_type": "execute_result"
    }
   ],
   "source": [
    "ser"
   ]
  },
  {
   "cell_type": "code",
   "execution_count": 13,
   "id": "47ac7fe4",
   "metadata": {},
   "outputs": [
    {
     "data": {
      "text/plain": [
       "30"
      ]
     },
     "execution_count": 13,
     "metadata": {},
     "output_type": "execute_result"
    }
   ],
   "source": [
    "ser['c']"
   ]
  },
  {
   "cell_type": "code",
   "execution_count": 14,
   "id": "13ba13d0",
   "metadata": {},
   "outputs": [],
   "source": [
    "ages = {'abdo':20 , 'ali':18 , 'ahmed' : 10}\n",
    "ser = pd.Series(ages)"
   ]
  },
  {
   "cell_type": "code",
   "execution_count": 15,
   "id": "671980a0",
   "metadata": {},
   "outputs": [
    {
     "data": {
      "text/plain": [
       "abdo     20\n",
       "ali      18\n",
       "ahmed    10\n",
       "dtype: int64"
      ]
     },
     "execution_count": 15,
     "metadata": {},
     "output_type": "execute_result"
    }
   ],
   "source": [
    "ser"
   ]
  },
  {
   "cell_type": "code",
   "execution_count": 16,
   "id": "fb5cabda",
   "metadata": {},
   "outputs": [],
   "source": [
    "ages = {'abdo':[20,1],\n",
    "        'ali':[18,1],\n",
    "        'asmaa':[10,0]}\n",
    "ser = pd.Series(ages)"
   ]
  },
  {
   "cell_type": "code",
   "execution_count": 17,
   "id": "20f2c653",
   "metadata": {},
   "outputs": [
    {
     "data": {
      "text/plain": [
       "abdo     [20, 1]\n",
       "ali      [18, 1]\n",
       "asmaa    [10, 0]\n",
       "dtype: object"
      ]
     },
     "execution_count": 17,
     "metadata": {},
     "output_type": "execute_result"
    }
   ],
   "source": [
    "ser"
   ]
  },
  {
   "cell_type": "code",
   "execution_count": 19,
   "id": "ec726acf",
   "metadata": {},
   "outputs": [
    {
     "data": {
      "text/plain": [
       "[10, 0]"
      ]
     },
     "execution_count": 19,
     "metadata": {},
     "output_type": "execute_result"
    }
   ],
   "source": [
    "ser[\"asmaa\"]"
   ]
  },
  {
   "cell_type": "code",
   "execution_count": null,
   "id": "593d1de6",
   "metadata": {},
   "outputs": [],
   "source": []
  }
 ],
 "metadata": {
  "kernelspec": {
   "display_name": "Python 3 (ipykernel)",
   "language": "python",
   "name": "python3"
  },
  "language_info": {
   "codemirror_mode": {
    "name": "ipython",
    "version": 3
   },
   "file_extension": ".py",
   "mimetype": "text/x-python",
   "name": "python",
   "nbconvert_exporter": "python",
   "pygments_lexer": "ipython3",
   "version": "3.9.7"
  }
 },
 "nbformat": 4,
 "nbformat_minor": 5
}
