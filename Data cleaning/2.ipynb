{
 "cells": [
  {
   "cell_type": "code",
   "execution_count": 20,
   "id": "10d462e3",
   "metadata": {},
   "outputs": [],
   "source": [
    "import pandas as pd"
   ]
  },
  {
   "cell_type": "code",
   "execution_count": 21,
   "id": "7d260cd3",
   "metadata": {},
   "outputs": [
    {
     "name": "stdout",
     "output_type": "stream",
     "text": [
      "      cleanliness           safety          satisfaction\n",
      "0           Clean          Neutral        Very satisfied\n",
      "1         Average        Very safe               Neutral\n",
      "2  Somewhat clean    Somewhat safe    Somewhat satisfied\n",
      "3  Somewhat dirty      Very unsafe  Somewhat unsatisfied\n",
      "4           Dirty  Somewhat unsafe      Very unsatisfied\n"
     ]
    }
   ],
   "source": [
    "data = {'cleanliness': ['Clean', 'Average', 'Somewhat clean', 'Somewhat dirty', 'Dirty'],\n",
    "        'safety': ['Neutral', 'Very safe', 'Somewhat safe', 'Very unsafe', 'Somewhat unsafe'],\n",
    "        'satisfaction': ['Very satisfied', 'Neutral', 'Somewhat satisfied', 'Somewhat unsatisfied', 'Very unsatisfied']}\n",
    "\n",
    "# create a Pandas DataFrame from the dictionary\n",
    "df = pd.DataFrame(data)\n",
    "\n",
    "print(df)"
   ]
  },
  {
   "cell_type": "code",
   "execution_count": 22,
   "id": "5b563c01",
   "metadata": {},
   "outputs": [],
   "source": [
    "airlines = pd.read_csv('J:/Data science/datacamp/clean data in python/airlines_final.csv',\n",
    "                      index_col = 'Unnamed: 0')"
   ]
  },
  {
   "cell_type": "code",
   "execution_count": 23,
   "id": "d7400da9",
   "metadata": {},
   "outputs": [
    {
     "data": {
      "text/html": [
       "<div>\n",
       "<style scoped>\n",
       "    .dataframe tbody tr th:only-of-type {\n",
       "        vertical-align: middle;\n",
       "    }\n",
       "\n",
       "    .dataframe tbody tr th {\n",
       "        vertical-align: top;\n",
       "    }\n",
       "\n",
       "    .dataframe thead th {\n",
       "        text-align: right;\n",
       "    }\n",
       "</style>\n",
       "<table border=\"1\" class=\"dataframe\">\n",
       "  <thead>\n",
       "    <tr style=\"text-align: right;\">\n",
       "      <th></th>\n",
       "      <th>id</th>\n",
       "      <th>day</th>\n",
       "      <th>airline</th>\n",
       "      <th>destination</th>\n",
       "      <th>dest_region</th>\n",
       "      <th>dest_size</th>\n",
       "      <th>boarding_area</th>\n",
       "      <th>dept_time</th>\n",
       "      <th>wait_min</th>\n",
       "      <th>cleanliness</th>\n",
       "      <th>safety</th>\n",
       "      <th>satisfaction</th>\n",
       "    </tr>\n",
       "  </thead>\n",
       "  <tbody>\n",
       "    <tr>\n",
       "      <th>0</th>\n",
       "      <td>1351</td>\n",
       "      <td>Tuesday</td>\n",
       "      <td>UNITED INTL</td>\n",
       "      <td>KANSAI</td>\n",
       "      <td>Asia</td>\n",
       "      <td>Hub</td>\n",
       "      <td>Gates 91-102</td>\n",
       "      <td>2018-12-31</td>\n",
       "      <td>115.0</td>\n",
       "      <td>Clean</td>\n",
       "      <td>Neutral</td>\n",
       "      <td>Very satisfied</td>\n",
       "    </tr>\n",
       "    <tr>\n",
       "      <th>1</th>\n",
       "      <td>373</td>\n",
       "      <td>Friday</td>\n",
       "      <td>ALASKA</td>\n",
       "      <td>SAN JOSE DEL CABO</td>\n",
       "      <td>Canada/Mexico</td>\n",
       "      <td>Small</td>\n",
       "      <td>Gates 50-59</td>\n",
       "      <td>2018-12-31</td>\n",
       "      <td>135.0</td>\n",
       "      <td>Clean</td>\n",
       "      <td>Very safe</td>\n",
       "      <td>Very satisfied</td>\n",
       "    </tr>\n",
       "    <tr>\n",
       "      <th>2</th>\n",
       "      <td>2820</td>\n",
       "      <td>Thursday</td>\n",
       "      <td>DELTA</td>\n",
       "      <td>LOS ANGELES</td>\n",
       "      <td>West US</td>\n",
       "      <td>Hub</td>\n",
       "      <td>Gates 40-48</td>\n",
       "      <td>2018-12-31</td>\n",
       "      <td>70.0</td>\n",
       "      <td>Average</td>\n",
       "      <td>Somewhat safe</td>\n",
       "      <td>Neutral</td>\n",
       "    </tr>\n",
       "  </tbody>\n",
       "</table>\n",
       "</div>"
      ],
      "text/plain": [
       "     id       day      airline        destination    dest_region dest_size  \\\n",
       "0  1351   Tuesday  UNITED INTL             KANSAI           Asia       Hub   \n",
       "1   373    Friday       ALASKA  SAN JOSE DEL CABO  Canada/Mexico     Small   \n",
       "2  2820  Thursday        DELTA        LOS ANGELES        West US       Hub   \n",
       "\n",
       "  boarding_area   dept_time  wait_min cleanliness         safety  \\\n",
       "0  Gates 91-102  2018-12-31     115.0       Clean        Neutral   \n",
       "1   Gates 50-59  2018-12-31     135.0       Clean      Very safe   \n",
       "2   Gates 40-48  2018-12-31      70.0     Average  Somewhat safe   \n",
       "\n",
       "     satisfaction  \n",
       "0  Very satisfied  \n",
       "1  Very satisfied  \n",
       "2         Neutral  "
      ]
     },
     "execution_count": 23,
     "metadata": {},
     "output_type": "execute_result"
    }
   ],
   "source": [
    "airlines.head(3)"
   ]
  },
  {
   "cell_type": "code",
   "execution_count": 24,
   "id": "9b323950",
   "metadata": {},
   "outputs": [
    {
     "name": "stdout",
     "output_type": "stream",
     "text": [
      "<class 'pandas.core.frame.DataFrame'>\n",
      "Int64Index: 2477 entries, 0 to 2808\n",
      "Data columns (total 12 columns):\n",
      " #   Column         Non-Null Count  Dtype  \n",
      "---  ------         --------------  -----  \n",
      " 0   id             2477 non-null   int64  \n",
      " 1   day            2477 non-null   object \n",
      " 2   airline        2477 non-null   object \n",
      " 3   destination    2477 non-null   object \n",
      " 4   dest_region    2477 non-null   object \n",
      " 5   dest_size      2477 non-null   object \n",
      " 6   boarding_area  2477 non-null   object \n",
      " 7   dept_time      2477 non-null   object \n",
      " 8   wait_min       2477 non-null   float64\n",
      " 9   cleanliness    2477 non-null   object \n",
      " 10  safety         2477 non-null   object \n",
      " 11  satisfaction   2477 non-null   object \n",
      "dtypes: float64(1), int64(1), object(10)\n",
      "memory usage: 251.6+ KB\n"
     ]
    }
   ],
   "source": [
    "airlines.info()"
   ]
  },
  {
   "cell_type": "code",
   "execution_count": 25,
   "id": "9bf11b18",
   "metadata": {},
   "outputs": [
    {
     "data": {
      "text/plain": [
       "Index(['id', 'day', 'airline', 'destination', 'dest_region', 'dest_size',\n",
       "       'boarding_area', 'dept_time', 'wait_min', 'cleanliness', 'safety',\n",
       "       'satisfaction'],\n",
       "      dtype='object')"
      ]
     },
     "execution_count": 25,
     "metadata": {},
     "output_type": "execute_result"
    }
   ],
   "source": [
    "airlines.columns"
   ]
  },
  {
   "cell_type": "code",
   "execution_count": 26,
   "id": "282e1896",
   "metadata": {},
   "outputs": [
    {
     "name": "stdout",
     "output_type": "stream",
     "text": [
      "Cleanliness:  ['Clean' 'Average' 'Somewhat clean' 'Somewhat dirty' 'Dirty'] \n",
      "\n",
      "Safety:  ['Neutral' 'Very safe' 'Somewhat safe' 'Very unsafe' 'Somewhat unsafe'] \n",
      "\n",
      "Satisfaction:  ['Very satisfied' 'Neutral' 'Somewhat satsified' 'Somewhat unsatisfied'\n",
      " 'Very unsatisfied'] \n",
      "\n"
     ]
    }
   ],
   "source": [
    "print('Cleanliness: ', airlines['cleanliness'].unique(), \"\\n\")\n",
    "print('Safety: ', airlines['safety'].unique(), \"\\n\")\n",
    "print('Satisfaction: ', airlines['satisfaction'].unique(), \"\\n\")"
   ]
  },
  {
   "cell_type": "code",
   "execution_count": 27,
   "id": "8527a15c",
   "metadata": {},
   "outputs": [],
   "source": [
    "categories = df.copy()"
   ]
  },
  {
   "cell_type": "markdown",
   "id": "fe4f9864",
   "metadata": {},
   "source": [
    "Create a set out of the cleanliness column in airlines using set() and find the inconsistent category by finding the difference in the cleanliness column of categories."
   ]
  },
  {
   "cell_type": "code",
   "execution_count": 28,
   "id": "a8965daa",
   "metadata": {},
   "outputs": [
    {
     "name": "stdout",
     "output_type": "stream",
     "text": [
      "set()\n"
     ]
    }
   ],
   "source": [
    "inconsist = set(airlines['cleanliness']).difference(categories['cleanliness'])\n",
    "print(inconsist)"
   ]
  },
  {
   "cell_type": "code",
   "execution_count": 29,
   "id": "f9ba15f6",
   "metadata": {
    "scrolled": true
   },
   "outputs": [
    {
     "name": "stdout",
     "output_type": "stream",
     "text": [
      "Somewhat clean    1175\n",
      "Clean              885\n",
      "Average            389\n",
      "Somewhat dirty      26\n",
      "Dirty                2\n",
      "Name: cleanliness, dtype: int64 \n",
      "\n",
      "Clean             1\n",
      "Average           1\n",
      "Somewhat clean    1\n",
      "Somewhat dirty    1\n",
      "Dirty             1\n",
      "Name: cleanliness, dtype: int64\n"
     ]
    }
   ],
   "source": [
    "print(airlines['cleanliness'].value_counts() , '\\n')\n",
    "print(categories['cleanliness'].value_counts())"
   ]
  },
  {
   "cell_type": "code",
   "execution_count": 30,
   "id": "3f336e2f",
   "metadata": {},
   "outputs": [
    {
     "name": "stdout",
     "output_type": "stream",
     "text": [
      "Empty DataFrame\n",
      "Columns: [id, day, airline, destination, dest_region, dest_size, boarding_area, dept_time, wait_min, cleanliness, safety, satisfaction]\n",
      "Index: []\n"
     ]
    }
   ],
   "source": [
    "# Find the cleanliness category in airlines not in categories\n",
    "exist_in_air_not_cat = set(airlines['cleanliness']).difference(categories['cleanliness'])\n",
    "\n",
    "# Find rows with that category\n",
    "cat_clean_rows = airlines['cleanliness'].isin(exist_in_air_not_cat)\n",
    "\n",
    "# Print rows with inconsistent category\n",
    "print(airlines[cat_clean_rows])"
   ]
  },
  {
   "cell_type": "code",
   "execution_count": 31,
   "id": "71183aa5",
   "metadata": {},
   "outputs": [
    {
     "ename": "NameError",
     "evalue": "name 'cat_clean' is not defined",
     "output_type": "error",
     "traceback": [
      "\u001b[1;31m---------------------------------------------------------------------------\u001b[0m",
      "\u001b[1;31mNameError\u001b[0m                                 Traceback (most recent call last)",
      "Input \u001b[1;32mIn [31]\u001b[0m, in \u001b[0;36m<cell line: 1>\u001b[1;34m()\u001b[0m\n\u001b[1;32m----> 1\u001b[0m \u001b[38;5;28mprint\u001b[39m(\u001b[43mcat_clean\u001b[49m,\u001b[38;5;124m'\u001b[39m\u001b[38;5;130;01m\\n\u001b[39;00m\u001b[38;5;124m'\u001b[39m)\n",
      "\u001b[1;31mNameError\u001b[0m: name 'cat_clean' is not defined"
     ]
    }
   ],
   "source": [
    "print(cat_clean,'\\n')"
   ]
  },
  {
   "cell_type": "code",
   "execution_count": null,
   "id": "9d239483",
   "metadata": {},
   "outputs": [],
   "source": [
    "cat_clean_rows[cat_clean_rows == True]"
   ]
  },
  {
   "cell_type": "code",
   "execution_count": null,
   "id": "4497f3a5",
   "metadata": {},
   "outputs": [],
   "source": [
    "print(airlines[cat_clean_rows])"
   ]
  },
  {
   "cell_type": "code",
   "execution_count": null,
   "id": "a6879e09",
   "metadata": {},
   "outputs": [],
   "source": [
    "# Find the cleanliness category in airlines not in categories\n",
    "cat_clean = set(airlines['cleanliness']).difference(categories['cleanliness'])\n",
    "\n",
    "# Find rows with that category\n",
    "cat_clean_rows = airlines['cleanliness'].isin(cat_clean)\n"
   ]
  },
  {
   "cell_type": "code",
   "execution_count": null,
   "id": "fb45d133",
   "metadata": {},
   "outputs": [],
   "source": [
    "# Print rows with inconsistent category\n",
    "print(airlines[cat_clean_rows],'\\n')"
   ]
  },
  {
   "cell_type": "code",
   "execution_count": null,
   "id": "303a6cd3",
   "metadata": {},
   "outputs": [],
   "source": [
    "# Print rows with consistent categories only\n",
    "print(airlines[~cat_clean_rows])"
   ]
  },
  {
   "cell_type": "code",
   "execution_count": null,
   "id": "90ecef5a",
   "metadata": {},
   "outputs": [],
   "source": [
    "airlines.columns"
   ]
  },
  {
   "cell_type": "code",
   "execution_count": null,
   "id": "3e1235dc",
   "metadata": {},
   "outputs": [],
   "source": [
    "# Print unique values of both columns\n",
    "print(airlines['dest_region'].unique())\n",
    "print(airlines['dest_size'].unique())"
   ]
  },
  {
   "cell_type": "code",
   "execution_count": null,
   "id": "aaceb575",
   "metadata": {},
   "outputs": [],
   "source": [
    "airlines['dest_region'].head()"
   ]
  },
  {
   "cell_type": "code",
   "execution_count": null,
   "id": "b11fc428",
   "metadata": {},
   "outputs": [],
   "source": [
    "airlines['dest_region'] = airlines['dest_region'].str.lower()\n",
    "airlines['dest_region'].head()"
   ]
  },
  {
   "cell_type": "code",
   "execution_count": null,
   "id": "c0a33771",
   "metadata": {},
   "outputs": [],
   "source": [
    "airlines['dest_region'] = airlines['dest_region'].replace({'eur':'europe'})"
   ]
  },
  {
   "cell_type": "code",
   "execution_count": null,
   "id": "b10efb12",
   "metadata": {},
   "outputs": [],
   "source": [
    "airlines[airlines['dest_region'] == 'europe'].head()"
   ]
  },
  {
   "cell_type": "code",
   "execution_count": null,
   "id": "54f98694",
   "metadata": {},
   "outputs": [],
   "source": [
    "airlines['dest_size'].value_counts()"
   ]
  },
  {
   "cell_type": "code",
   "execution_count": null,
   "id": "53ca5cbb",
   "metadata": {},
   "outputs": [],
   "source": [
    "airlines['dest_size'] = airlines['dest_size'].str.strip()\n",
    "airlines['dest_size'].value_counts()"
   ]
  },
  {
   "cell_type": "markdown",
   "id": "7f8e6292",
   "metadata": {},
   "source": [
    "Create the ranges and labels for the wait_type column mentioned in the description"
   ]
  },
  {
   "cell_type": "code",
   "execution_count": null,
   "id": "21b1828a",
   "metadata": {},
   "outputs": [],
   "source": [
    "airlines['wait_min'].head()"
   ]
  },
  {
   "cell_type": "code",
   "execution_count": null,
   "id": "25b3a28b",
   "metadata": {},
   "outputs": [],
   "source": [
    "import numpy as np\n",
    "label_ranges = [0, 60, 180, np.inf]\n",
    "label_ranges"
   ]
  },
  {
   "cell_type": "code",
   "execution_count": null,
   "id": "5fec1edf",
   "metadata": {},
   "outputs": [],
   "source": [
    "label_names = ['short', 'medium', 'long']\n",
    "label_names"
   ]
  },
  {
   "cell_type": "code",
   "execution_count": null,
   "id": "c22011e5",
   "metadata": {},
   "outputs": [],
   "source": [
    "airlines['wait_type'] = pd.cut(airlines['wait_min'], bins = label_ranges, \n",
    "                               labels = label_names)\n",
    "airlines['wait_type'].head()"
   ]
  },
  {
   "cell_type": "code",
   "execution_count": null,
   "id": "798c75ae",
   "metadata": {},
   "outputs": [],
   "source": [
    "mappings = {'Monday':'weekday', 'Tuesday':'weekday', 'Wednesday': 'weekday', \n",
    "            'Thursday': 'weekday', 'Friday': 'weekday', \n",
    "            'Saturday': 'weekend', 'Sunday': 'weekend'}"
   ]
  },
  {
   "cell_type": "code",
   "execution_count": null,
   "id": "64d5e2a5",
   "metadata": {},
   "outputs": [],
   "source": [
    "airlines['day_week'] = airlines['day'].replace(mappings)\n",
    "airlines['day_week'].head()"
   ]
  },
  {
   "cell_type": "code",
   "execution_count": 33,
   "id": "6054b72c",
   "metadata": {},
   "outputs": [
    {
     "data": {
      "text/plain": [
       "Index(['id', 'day', 'airline', 'destination', 'dest_region', 'dest_size',\n",
       "       'boarding_area', 'dept_time', 'wait_min', 'cleanliness', 'safety',\n",
       "       'satisfaction'],\n",
       "      dtype='object')"
      ]
     },
     "execution_count": 33,
     "metadata": {},
     "output_type": "execute_result"
    }
   ],
   "source": [
    "airlines.columns"
   ]
  },
  {
   "cell_type": "code",
   "execution_count": 35,
   "id": "b2581768",
   "metadata": {},
   "outputs": [
    {
     "data": {
      "text/html": [
       "<div>\n",
       "<style scoped>\n",
       "    .dataframe tbody tr th:only-of-type {\n",
       "        vertical-align: middle;\n",
       "    }\n",
       "\n",
       "    .dataframe tbody tr th {\n",
       "        vertical-align: top;\n",
       "    }\n",
       "\n",
       "    .dataframe thead th {\n",
       "        text-align: right;\n",
       "    }\n",
       "</style>\n",
       "<table border=\"1\" class=\"dataframe\">\n",
       "  <thead>\n",
       "    <tr style=\"text-align: right;\">\n",
       "      <th></th>\n",
       "      <th>id</th>\n",
       "      <th>day</th>\n",
       "      <th>airline</th>\n",
       "      <th>destination</th>\n",
       "      <th>dest_region</th>\n",
       "      <th>dest_size</th>\n",
       "      <th>boarding_area</th>\n",
       "      <th>dept_time</th>\n",
       "      <th>wait_min</th>\n",
       "      <th>cleanliness</th>\n",
       "      <th>safety</th>\n",
       "      <th>satisfaction</th>\n",
       "    </tr>\n",
       "  </thead>\n",
       "  <tbody>\n",
       "    <tr>\n",
       "      <th>0</th>\n",
       "      <td>1351</td>\n",
       "      <td>Tuesday</td>\n",
       "      <td>UNITED INTL</td>\n",
       "      <td>KANSAI</td>\n",
       "      <td>Asia</td>\n",
       "      <td>Hub</td>\n",
       "      <td>Gates 91-102</td>\n",
       "      <td>2018-12-31</td>\n",
       "      <td>115.0</td>\n",
       "      <td>Clean</td>\n",
       "      <td>Neutral</td>\n",
       "      <td>Very satisfied</td>\n",
       "    </tr>\n",
       "    <tr>\n",
       "      <th>1</th>\n",
       "      <td>373</td>\n",
       "      <td>Friday</td>\n",
       "      <td>ALASKA</td>\n",
       "      <td>SAN JOSE DEL CABO</td>\n",
       "      <td>Canada/Mexico</td>\n",
       "      <td>Small</td>\n",
       "      <td>Gates 50-59</td>\n",
       "      <td>2018-12-31</td>\n",
       "      <td>135.0</td>\n",
       "      <td>Clean</td>\n",
       "      <td>Very safe</td>\n",
       "      <td>Very satisfied</td>\n",
       "    </tr>\n",
       "  </tbody>\n",
       "</table>\n",
       "</div>"
      ],
      "text/plain": [
       "     id      day      airline        destination    dest_region dest_size  \\\n",
       "0  1351  Tuesday  UNITED INTL             KANSAI           Asia       Hub   \n",
       "1   373   Friday       ALASKA  SAN JOSE DEL CABO  Canada/Mexico     Small   \n",
       "\n",
       "  boarding_area   dept_time  wait_min cleanliness     safety    satisfaction  \n",
       "0  Gates 91-102  2018-12-31     115.0       Clean    Neutral  Very satisfied  \n",
       "1   Gates 50-59  2018-12-31     135.0       Clean  Very safe  Very satisfied  "
      ]
     },
     "execution_count": 35,
     "metadata": {},
     "output_type": "execute_result"
    }
   ],
   "source": [
    "airlines.head(2)"
   ]
  },
  {
   "cell_type": "markdown",
   "id": "115bc8d6",
   "metadata": {},
   "source": [
    "#### Remove \"Dr.\", \"Mr.\", \"Miss\" and \"Ms.\" from full_name by replacing them with an empty string \"\" in that order."
   ]
  },
  {
   "cell_type": "code",
   "execution_count": null,
   "id": "7d3e41b8",
   "metadata": {},
   "outputs": [],
   "source": [
    "# Replace \"Dr.\" with empty string \"\"\n",
    "airlines['full_name'] = airlines['full_name'].str.replace(\"Dr.\",\"\")\n",
    "\n",
    "# Replace \"Mr.\" with empty string \"\"\n",
    "airlines['full_name'] = airlines['full_name'].str.replace(\"Mr.\",\"\")\n",
    "\n",
    "# Replace \"Miss\" with empty string \"\"\n",
    "airlines['full_name'] = airlines['full_name'].str.replace(\"Miss\", \"\")\n",
    "\n",
    "# Replace \"Ms.\" with empty string \"\"\n",
    "airlines['full_name'] = airlines['full_name'].str.replace(\"Ms.\", \"\")"
   ]
  },
  {
   "cell_type": "markdown",
   "id": "782e5ca3",
   "metadata": {},
   "source": [
    "#### Run the assert statement using .str.contains() that tests whether full_name still contains any of the honorifics."
   ]
  },
  {
   "cell_type": "code",
   "execution_count": null,
   "id": "76abcacd",
   "metadata": {},
   "outputs": [],
   "source": [
    "assert airlines['full_name'].str.contains('Ms.|Mr.|Miss|Dr.').any() == False"
   ]
  },
  {
   "cell_type": "code",
   "execution_count": null,
   "id": "ebbca9c0",
   "metadata": {},
   "outputs": [],
   "source": [
    "# Store length of each row in survey_response column\n",
    "resp_length = airlines['survey_response'].str.len()\n",
    "\n",
    "# Find rows in airlines where resp_length > 40\n",
    "airlines_survey = airlines[resp_length > 40]\n",
    "\n",
    "# Assert minimum survey_response length is > 40\n",
    "assert airlines_survey['survey_response'].str.len().min() > 40\n",
    "\n",
    "# Print new survey_response column\n",
    "print(airlines_survey['survey_response'])"
   ]
  },
  {
   "cell_type": "code",
   "execution_count": 40,
   "id": "39ddc71b",
   "metadata": {},
   "outputs": [
    {
     "data": {
      "text/plain": [
       "LOS ANGELES        185\n",
       "PARIS-DE GAULLE    126\n",
       "DENVER              96\n",
       "HONG KONG           95\n",
       "LONDON HEATHROW     91\n",
       "                  ... \n",
       "WUHAN                4\n",
       "ONTARIO (CALIF)      3\n",
       "NEW ORLEANS          3\n",
       "QINGDAO              3\n",
       "EUGENE               1\n",
       "Name: destination, Length: 72, dtype: int64"
      ]
     },
     "execution_count": 40,
     "metadata": {},
     "output_type": "execute_result"
    }
   ],
   "source": [
    "airlines['destination'].value_counts()"
   ]
  },
  {
   "cell_type": "code",
   "execution_count": 41,
   "id": "3c049270",
   "metadata": {},
   "outputs": [
    {
     "data": {
      "text/plain": [
       "0        6\n",
       "1       17\n",
       "2       11\n",
       "3       11\n",
       "4        5\n",
       "        ..\n",
       "2804    12\n",
       "2805     7\n",
       "2806     7\n",
       "2807    10\n",
       "2808     7\n",
       "Name: destination, Length: 2477, dtype: int64"
      ]
     },
     "execution_count": 41,
     "metadata": {},
     "output_type": "execute_result"
    }
   ],
   "source": [
    "dest_length = airlines['destination'].str.len()\n",
    "dest_length"
   ]
  },
  {
   "cell_type": "code",
   "execution_count": 51,
   "id": "bd920ad6",
   "metadata": {},
   "outputs": [
    {
     "data": {
      "text/html": [
       "<div>\n",
       "<style scoped>\n",
       "    .dataframe tbody tr th:only-of-type {\n",
       "        vertical-align: middle;\n",
       "    }\n",
       "\n",
       "    .dataframe tbody tr th {\n",
       "        vertical-align: top;\n",
       "    }\n",
       "\n",
       "    .dataframe thead th {\n",
       "        text-align: right;\n",
       "    }\n",
       "</style>\n",
       "<table border=\"1\" class=\"dataframe\">\n",
       "  <thead>\n",
       "    <tr style=\"text-align: right;\">\n",
       "      <th></th>\n",
       "      <th>id</th>\n",
       "      <th>day</th>\n",
       "      <th>airline</th>\n",
       "      <th>destination</th>\n",
       "      <th>dest_region</th>\n",
       "      <th>dest_size</th>\n",
       "      <th>boarding_area</th>\n",
       "      <th>dept_time</th>\n",
       "      <th>wait_min</th>\n",
       "      <th>cleanliness</th>\n",
       "      <th>safety</th>\n",
       "      <th>satisfaction</th>\n",
       "    </tr>\n",
       "  </thead>\n",
       "  <tbody>\n",
       "    <tr>\n",
       "      <th>1</th>\n",
       "      <td>373</td>\n",
       "      <td>Friday</td>\n",
       "      <td>ALASKA</td>\n",
       "      <td>SAN JOSE DEL CABO</td>\n",
       "      <td>Canada/Mexico</td>\n",
       "      <td>Small</td>\n",
       "      <td>Gates 50-59</td>\n",
       "      <td>2018-12-31</td>\n",
       "      <td>135.0</td>\n",
       "      <td>Clean</td>\n",
       "      <td>Very safe</td>\n",
       "      <td>Very satisfied</td>\n",
       "    </tr>\n",
       "    <tr>\n",
       "      <th>2</th>\n",
       "      <td>2820</td>\n",
       "      <td>Thursday</td>\n",
       "      <td>DELTA</td>\n",
       "      <td>LOS ANGELES</td>\n",
       "      <td>West US</td>\n",
       "      <td>Hub</td>\n",
       "      <td>Gates 40-48</td>\n",
       "      <td>2018-12-31</td>\n",
       "      <td>70.0</td>\n",
       "      <td>Average</td>\n",
       "      <td>Somewhat safe</td>\n",
       "      <td>Neutral</td>\n",
       "    </tr>\n",
       "    <tr>\n",
       "      <th>3</th>\n",
       "      <td>1157</td>\n",
       "      <td>Tuesday</td>\n",
       "      <td>SOUTHWEST</td>\n",
       "      <td>LOS ANGELES</td>\n",
       "      <td>West US</td>\n",
       "      <td>Hub</td>\n",
       "      <td>Gates 20-39</td>\n",
       "      <td>2018-12-31</td>\n",
       "      <td>190.0</td>\n",
       "      <td>Clean</td>\n",
       "      <td>Very safe</td>\n",
       "      <td>Somewhat satsified</td>\n",
       "    </tr>\n",
       "    <tr>\n",
       "      <th>8</th>\n",
       "      <td>2592</td>\n",
       "      <td>Saturday</td>\n",
       "      <td>AEROMEXICO</td>\n",
       "      <td>MEXICO CITY</td>\n",
       "      <td>Canada/Mexico</td>\n",
       "      <td>Hub</td>\n",
       "      <td>Gates 1-12</td>\n",
       "      <td>2018-12-31</td>\n",
       "      <td>215.0</td>\n",
       "      <td>Somewhat clean</td>\n",
       "      <td>Very safe</td>\n",
       "      <td>Neutral</td>\n",
       "    </tr>\n",
       "    <tr>\n",
       "      <th>14</th>\n",
       "      <td>2589</td>\n",
       "      <td>Saturday</td>\n",
       "      <td>INTERJET</td>\n",
       "      <td>GUADALAJARA</td>\n",
       "      <td>Canada/Mexico</td>\n",
       "      <td>Medium</td>\n",
       "      <td>Gates 1-12</td>\n",
       "      <td>2018-12-31</td>\n",
       "      <td>155.0</td>\n",
       "      <td>Somewhat clean</td>\n",
       "      <td>Somewhat safe</td>\n",
       "      <td>Somewhat satsified</td>\n",
       "    </tr>\n",
       "  </tbody>\n",
       "</table>\n",
       "</div>"
      ],
      "text/plain": [
       "      id       day     airline        destination    dest_region dest_size  \\\n",
       "1    373    Friday      ALASKA  SAN JOSE DEL CABO  Canada/Mexico     Small   \n",
       "2   2820  Thursday       DELTA        LOS ANGELES        West US       Hub   \n",
       "3   1157   Tuesday   SOUTHWEST        LOS ANGELES        West US       Hub   \n",
       "8   2592  Saturday  AEROMEXICO        MEXICO CITY  Canada/Mexico       Hub   \n",
       "14  2589  Saturday    INTERJET        GUADALAJARA  Canada/Mexico    Medium   \n",
       "\n",
       "   boarding_area   dept_time  wait_min     cleanliness         safety  \\\n",
       "1    Gates 50-59  2018-12-31     135.0           Clean      Very safe   \n",
       "2    Gates 40-48  2018-12-31      70.0         Average  Somewhat safe   \n",
       "3    Gates 20-39  2018-12-31     190.0           Clean      Very safe   \n",
       "8     Gates 1-12  2018-12-31     215.0  Somewhat clean      Very safe   \n",
       "14    Gates 1-12  2018-12-31     155.0  Somewhat clean  Somewhat safe   \n",
       "\n",
       "          satisfaction  \n",
       "1       Very satisfied  \n",
       "2              Neutral  \n",
       "3   Somewhat satsified  \n",
       "8              Neutral  \n",
       "14  Somewhat satsified  "
      ]
     },
     "execution_count": 51,
     "metadata": {},
     "output_type": "execute_result"
    }
   ],
   "source": [
    "air_dest = airlines[dest_length > 10]\n",
    "air_dest.head()"
   ]
  },
  {
   "cell_type": "code",
   "execution_count": 50,
   "id": "f76e4026",
   "metadata": {},
   "outputs": [
    {
     "data": {
      "text/plain": [
       "2477"
      ]
     },
     "execution_count": 50,
     "metadata": {},
     "output_type": "execute_result"
    }
   ],
   "source": [
    "airlines['destination'].count()"
   ]
  },
  {
   "cell_type": "code",
   "execution_count": 49,
   "id": "d9b0874e",
   "metadata": {},
   "outputs": [
    {
     "data": {
      "text/plain": [
       "945"
      ]
     },
     "execution_count": 49,
     "metadata": {},
     "output_type": "execute_result"
    }
   ],
   "source": [
    "air_dest['destination'].count()"
   ]
  },
  {
   "cell_type": "code",
   "execution_count": null,
   "id": "da7f3def",
   "metadata": {},
   "outputs": [],
   "source": []
  }
 ],
 "metadata": {
  "kernelspec": {
   "display_name": "Python 3 (ipykernel)",
   "language": "python",
   "name": "python3"
  },
  "language_info": {
   "codemirror_mode": {
    "name": "ipython",
    "version": 3
   },
   "file_extension": ".py",
   "mimetype": "text/x-python",
   "name": "python",
   "nbconvert_exporter": "python",
   "pygments_lexer": "ipython3",
   "version": "3.9.12"
  }
 },
 "nbformat": 4,
 "nbformat_minor": 5
}
