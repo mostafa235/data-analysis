{
 "cells": [
  {
   "cell_type": "markdown",
   "id": "959a9801",
   "metadata": {},
   "source": [
    "## Two-Sample Tests of Hypothesis: Independent Samples (Z-test)"
   ]
  },
  {
   "cell_type": "markdown",
   "id": "135dedd1",
   "metadata": {},
   "source": [
    "Customer Type Standard\n",
    "Sample Mean  5.50 minutes\n",
    "Deviation  0.40 minutes\n",
    "Sample Size 50\n",
    "Customer Type Fast Lane\n",
    "Sample Mean  5.30 minutes\n",
    "Deviation 0.30 minutes\n",
    "Sample Size  100\n",
    "\n",
    "To solve the problem using SciPy, we will perform an independent samples z-test to compare the mean checkout times for the Standard and Fast Lane customer types. Here are the steps to solve it:\n",
    "\n",
    "### Step 1: State the null hypothesis and the alternative hypothesis:\n",
    "- Null hypothesis (H0): The mean checkout times for the two groups are equal.\n",
    "- Alternative hypothesis (Ha): The mean checkout time is larger for those using the Standard method.\n",
    "\n",
    "### Step 2: Select the level of significance: \n",
    "- Let's choose a significance level (α) of 0.01.\n",
    "\n",
    "### Step 3: Determine the test statistic:\n",
    "Since we have the sample means, sample standard deviations, and sample sizes for both groups, we can use the independent samples z-test.\n",
    "\n",
    "### Step 4: Formulate a decision rule:\n",
    "Based on the alternative hypothesis, we will use a one-tailed test. If the calculated t-statistic is greater than the critical value from the t-distribution for the given significance level and degrees of freedom, we will reject the null hypothesis.\n",
    "\n",
    "### Step 5: Perform the z-test and make the decision:\n",
    "Let's calculate the z-statistic and p-value using SciPy:"
   ]
  },
  {
   "cell_type": "markdown",
   "id": "e527607c",
   "metadata": {},
   "source": [
    "Certainly! Let's break down the equation used to calculate the z-statistic in the context of comparing the mean checkout times for the Standard and Fast Lane customer types:\n",
    "\n",
    "## z = (Xs - Xf) / sqrt((s^2 / ns) + (f^2 / nf))\n",
    "\n",
    "- Xs: Sample mean of the Standard customer type.\n",
    "- Xf: Sample mean of the Fast Lane customer type.\n",
    "- s: Sample standard deviation of the Standard customer type.\n",
    "- ns: Sample size of the Standard customer type.\n",
    "- f: Sample standard deviation of the Fast Lane customer type.\n",
    "- nf: Sample size of the Fast Lane customer type.\n",
    "\n",
    "Explanation:\n",
    "1. (Xs - Xf): This part represents the difference in sample means between the Standard and Fast Lane customer types. It measures the extent of the difference in mean checkout times between the two groups.\n",
    "\n",
    "2. sqrt((s^2 / ns) + (f^2 / nf)): This part represents the standard error of the difference in means. It accounts for the variability in the sample means and their associated sample sizes.\n",
    "\n",
    "   - s^2 / ns: This term represents the variance of the Standard customer type divided by the sample size of the Standard customer type. It reflects the variability of the data within the Standard group.\n",
    "   - f^2 / nf: This term represents the variance of the Fast Lane customer type divided by the sample size of the Fast Lane customer type. It reflects the variability of the data within the Fast Lane group.\n",
    "\n",
    "   By dividing the variances by their respective sample sizes and summing them, we calculate the combined variance of the mean difference.\n",
    "\n",
    "### Taking the square root of the combined variance gives us the standard error, which represents the standard deviation of the mean difference.\n",
    "\n",
    "The z-statistic measures the number of standard deviations the sample mean difference is away from the hypothesized population mean difference of zero. It quantifies how unusual or significant the observed difference in sample means is, under the assumption of equal population means.\n",
    "\n",
    "The calculated z-statistic is then compared to critical values from the standard normal distribution to determine the significance of the observed difference."
   ]
  },
  {
   "cell_type": "markdown",
   "id": "865040be",
   "metadata": {},
   "source": [
    "### Right-tailed test"
   ]
  },
  {
   "cell_type": "code",
   "execution_count": 7,
   "id": "7e99ceff",
   "metadata": {},
   "outputs": [
    {
     "name": "stdout",
     "output_type": "stream",
     "text": [
      "Reject the null hypothesis. The mean checkout time is larger for those using the Standard method.\n"
     ]
    }
   ],
   "source": [
    "import scipy.stats as stats\n",
    "\n",
    "# Sample data\n",
    "mean_std = 5.50\n",
    "std_std = 0.40\n",
    "n_std = 50\n",
    "\n",
    "mean_fast = 5.30\n",
    "std_fast = 0.30\n",
    "n_fast = 100\n",
    "\n",
    "# Calculating the z-statistic\n",
    "mean_diff = mean_std - mean_fast\n",
    "std_error = ((std_std**2 / n_std) + (std_fast**2 / n_fast))**0.5\n",
    "z_statistic = mean_diff / std_error\n",
    "\n",
    "# Calculating the p-value\n",
    "p_value = 1 - stats.norm.cdf(z_statistic)\n",
    "\n",
    "# Decision\n",
    "alpha = 0.01\n",
    "\n",
    "if p_value < alpha:\n",
    "    print(\"Reject the null hypothesis. The mean checkout time is larger for those using the Standard method.\")\n",
    "else:\n",
    "    print(\"Fail to reject the null hypothesis. There is no sufficient evidence to conclude a significant difference.\")\n"
   ]
  },
  {
   "cell_type": "markdown",
   "id": "351888ea",
   "metadata": {},
   "source": [
    "### Step 6: Make a conclusion:\n",
    "Based on the z-test, if the p-value is less than the significance level (0.01), we reject the null hypothesis. This indicates that there is sufficient evidence to conclude that the mean checkout time is larger for customers using the Standard method compared to the Fast Lane method. If the p-value is greater than the significance level, we fail to reject the null hypothesis and do not have enough evidence to suggest a significant difference.\n"
   ]
  },
  {
   "cell_type": "code",
   "execution_count": null,
   "id": "50ae0496",
   "metadata": {},
   "outputs": [],
   "source": []
  },
  {
   "cell_type": "markdown",
   "id": "4fceb29f",
   "metadata": {},
   "source": [
    "Certainly! Here are two additional examples, one using a left-tailed test with the t-statistic and the other using a two-tailed test with the z-statistic:\n",
    "\n",
    "Example 1: Left-Tailed Test with t-Statistic\n",
    "\n",
    "Hypotheses:\n",
    "\n",
    "Null hypothesis (H0): The mean weight loss using Diet A is greater than or equal to the mean weight loss using Diet B.\n",
    "Alternative hypothesis (Ha): The mean weight loss using Diet A is less than the mean weight loss using Diet B.\n",
    "Sample data:\n",
    "\n",
    "Diet A: nA = 30, XA = 2.5, sA = 1.2\n",
    "Diet B: nB = 35, XB = 3.0, sB = 1.0"
   ]
  },
  {
   "cell_type": "markdown",
   "id": "87367ae4",
   "metadata": {},
   "source": [
    "Certainly! Here are two additional examples using the z-statistic for two-sample tests of hypothesis with independent samples, one with a left-tailed test and the other with a two-tailed test:\n",
    "\n",
    "### Example 1: Left-Tailed Test\n",
    "- Null Hypothesis (H0): The mean heights of Group A and Group B are equal.\n",
    "- Alternative Hypothesis (Ha): The mean height of Group A is smaller than the mean height of Group B."
   ]
  },
  {
   "cell_type": "code",
   "execution_count": 1,
   "id": "98ae55a9",
   "metadata": {},
   "outputs": [
    {
     "name": "stdout",
     "output_type": "stream",
     "text": [
      "Reject the null hypothesis. The mean height of Group A is smaller than the mean height of Group B.\n"
     ]
    }
   ],
   "source": [
    "import scipy.stats as stats\n",
    "\n",
    "# Sample data\n",
    "mean_a = 65.2\n",
    "std_a = 2.5\n",
    "n_a = 50\n",
    "\n",
    "mean_b = 68.5\n",
    "std_b = 3.1\n",
    "n_b = 60\n",
    "\n",
    "# Calculating the z-statistic\n",
    "mean_diff = mean_a - mean_b\n",
    "std_error = ((std_a**2 / n_a) + (std_b**2 / n_b))**0.5\n",
    "z_statistic = mean_diff / std_error\n",
    "\n",
    "# Calculating the p-value (left-tailed test)\n",
    "p_value = stats.norm.cdf(z_statistic)\n",
    "\n",
    "# Decision\n",
    "alpha = 0.05\n",
    "\n",
    "if p_value < alpha:\n",
    "    print(\"Reject the null hypothesis. The mean height of Group A is smaller than the mean height of Group B.\")\n",
    "else:\n",
    "    print(\"Fail to reject the null hypothesis. There is no sufficient evidence to conclude a significant difference.\")\n"
   ]
  },
  {
   "cell_type": "code",
   "execution_count": null,
   "id": "45b52388",
   "metadata": {},
   "outputs": [],
   "source": []
  },
  {
   "cell_type": "markdown",
   "id": "5d5d2812",
   "metadata": {},
   "source": [
    "### Example 2: Two-Tailed Test\n",
    "- Null Hypothesis (H0): The mean scores of Group X and Group Y are equal.\n",
    "- Alternative Hypothesis (Ha): The mean scores of Group X and Group Y are not equal."
   ]
  },
  {
   "cell_type": "code",
   "execution_count": 2,
   "id": "0f391f5c",
   "metadata": {},
   "outputs": [
    {
     "name": "stdout",
     "output_type": "stream",
     "text": [
      "Reject the null hypothesis. The mean scores of Group X and Group Y are significantly different.\n"
     ]
    }
   ],
   "source": [
    "import scipy.stats as stats\n",
    "\n",
    "# Sample data\n",
    "mean_x = 85.7\n",
    "std_x = 6.2\n",
    "n_x = 70\n",
    "\n",
    "mean_y = 89.5\n",
    "std_y = 5.9\n",
    "n_y = 80\n",
    "\n",
    "# Calculating the z-statistic\n",
    "mean_diff = mean_x - mean_y\n",
    "std_error = ((std_x**2 / n_x) + (std_y**2 / n_y))**0.5\n",
    "z_statistic = mean_diff / std_error\n",
    "\n",
    "# Calculating the p-value (two-tailed test)\n",
    "p_value = 2 * (1 - stats.norm.cdf(abs(z_statistic)))\n",
    "\n",
    "# Decision\n",
    "alpha = 0.05\n",
    "\n",
    "if p_value < alpha:\n",
    "    print(\"Reject the null hypothesis. The mean scores of Group X and Group Y are significantly different.\")\n",
    "else:\n",
    "    print(\"Fail to reject the null hypothesis. There is no sufficient evidence to conclude a significant difference.\")"
   ]
  },
  {
   "cell_type": "code",
   "execution_count": null,
   "id": "c8fc52d7",
   "metadata": {},
   "outputs": [],
   "source": []
  },
  {
   "cell_type": "markdown",
   "id": "5235ad24",
   "metadata": {},
   "source": [
    "# Two-Sample Tests of Hypothesis: Dependent Samples"
   ]
  },
  {
   "cell_type": "markdown",
   "id": "1d90baab",
   "metadata": {},
   "source": [
    "Two-sample tests of hypothesis for dependent samples, also known as paired or matched samples, are used when comparing the means or proportions of two related variables. These variables are measured on the same subjects or entities, often before and after an intervention or treatment. The steps involved in conducting a two-sample test of hypothesis for dependent samples are as follows:\n",
    "\n",
    "Step 1: State the null hypothesis (H0) and the alternative hypothesis (Ha):\n",
    "- H0: There is no difference between the means/proportions of the two dependent samples.\n",
    "- Ha: There is a difference between the means/proportions of the two dependent samples.\n",
    "\n",
    "Step 2: Select the level of significance (α) to determine the critical value(s) or the rejection region.\n",
    "\n",
    "Step 3: Collect the sample data:\n",
    "- Sample 1: Measurements/observations before the intervention (or the first condition).\n",
    "- Sample 2: Measurements/observations after the intervention (or the second condition).\n",
    "\n",
    "Step 4: Calculate the differences between the paired observations:\n",
    "- Calculate the difference between each pair of observations: d = x2 - x1, where x2 is the measurement/observation after the intervention, and x1 is the measurement/observation before the intervention.\n",
    "\n",
    "Step 5: Calculate the test statistic:\n",
    "- The test statistic depends on the type of data being analyzed. For example, if the data is continuous and follows a normal distribution, the paired t-test can be used.\n",
    "\n",
    "Step 6: Determine the degrees of freedom (df) for the t-distribution.\n",
    "\n",
    "Step 7: Determine the critical value(s) or the rejection region based on the chosen significance level and the degrees of freedom.\n",
    "\n",
    "Step 8: Compare the test statistic with the critical value(s) or evaluate if it falls within the rejection region.\n",
    "\n",
    "Step 9: Make a decision:\n",
    "- If the test statistic falls within the rejection region or the p-value is less than the chosen significance level (α), reject the null hypothesis.\n",
    "- If the test statistic does not fall within the rejection region or the p-value is greater than or equal to the chosen significance level (α), fail to reject the null hypothesis.\n",
    "\n",
    "Step 10: Interpret the result in the context of the research question and the specific alternative hypothesis.\n",
    "\n",
    "To conduct a two-sample test of hypothesis for dependent samples in practice, you can use statistical software packages like scipy in Python. The specific test to use may vary based on the nature of the data and the research question at hand."
   ]
  },
  {
   "cell_type": "markdown",
   "id": "d78465e2",
   "metadata": {},
   "source": [
    "The equation for the paired t-test, which is used to test the mean difference between two dependent samples, is as follows:\n",
    "\n",
    "t = (x̄d - μd) / (sd / √n)\n",
    "\n",
    "Where:\n",
    "- t is the test statistic for the paired t-test.\n",
    "- x̄d is the mean of the differences between the paired observations.\n",
    "- μd is the hypothesized mean difference under the null hypothesis.\n",
    "- sd is the standard deviation of the differences between the paired observations.\n",
    "- n is the number of paired observations.\n",
    "\n",
    "The test statistic t follows a t-distribution with (n - 1) degrees of freedom. The p-value can be calculated by comparing the calculated t-value with the t-distribution.\n",
    "\n",
    "It's important to note that the paired t-test assumes that the differences between the paired observations are normally distributed and that the paired observations are independent of each other."
   ]
  },
  {
   "cell_type": "markdown",
   "id": "14a25264",
   "metadata": {},
   "source": [
    "To solve this example using a paired t-test, follow these steps:\n",
    "\n",
    "Step 1: State the null and alternative hypotheses:\n",
    "- Null hypothesis (H0): There is no difference in the appraised values between Schadek and Bowyer.\n",
    "- Alternative hypothesis (Ha): There is a difference in the appraised values between Schadek and Bowyer.\n",
    "\n",
    "Step 2: Set the significance level (α) = 0.05.\n",
    "\n",
    "Step 3: Collect the sample data:\n",
    "- Schadek: [235, 210, 231, 242, 205, 230, 231, 210, 225, 249]\n",
    "- Bowyer: [228, 205, 219, 240, 198, 223, 227, 215, 222, 245]\n",
    "- Number of paired observations (n) = 10\n",
    "\n",
    "Step 4: Calculate the differences between the paired observations:\n",
    "- Create a new list or array to store the differences, let's call it `differences`.\n",
    "- Calculate the difference for each pair: `differences = Schadek - Bowyer`.\n",
    "\n",
    "Step 5: Calculate the test statistic:\n",
    "- Calculate the mean of the differences: `mean_diff = np.mean(differences)`.\n",
    "- Calculate the standard deviation of the differences: `std_diff = np.std(differences, ddof=1)`.\n",
    "- Calculate the standard error of the mean difference: `se = std_diff / np.sqrt(n)`.\n",
    "- Calculate the t-score: `t_score = mean_diff / se`.\n",
    "\n",
    "Step 6: Determine the degrees of freedom:\n",
    "- Degrees of freedom (df) = n - 1.\n",
    "\n",
    "Step 7: Determine the critical value(s) or rejection region:\n",
    "- For a two-tailed test at α = 0.05, the critical values are obtained by using the t-distribution and the degrees of freedom (df = 9). You can look up the critical values in a t-table or use the `stats.t.ppf()` function in scipy.\n",
    "\n",
    "Step 8: Compare the test statistic with the critical value(s) or evaluate if it falls within the rejection region:\n",
    "- If the absolute value of the t-score exceeds the critical value(s) or falls outside the rejection region, reject the null hypothesis.\n",
    "- If the absolute value of the t-score does not exceed the critical value(s) or falls within the rejection region, fail to reject the null hypothesis.\n",
    "\n",
    "Step 9: Calculate the p-value:\n",
    "- Calculate the p-value associated with the t-score using the t-distribution and the cumulative distribution function (CDF). For a two-tailed test, the p-value is two times the area in the tails of the t-distribution. You can use the `stats.t.cdf()` function in scipy to calculate the p-value.\n",
    "\n",
    "Step 10: Make a decision and interpret the result:\n",
    "- If the p-value is less than the chosen significance level (0.05), reject the null hypothesis. There is evidence to suggest a significant difference in the appraised values between Schadek and Bowyer.\n",
    "- If the p-value is greater than or equal to the chosen significance level (0.05), fail to reject the null hypothesis. There is not enough evidence to suggest a significant difference in the appraised values between Schadek and Bowyer.\n",
    "\n",
    "Please note that I will provide you with the Python code to solve this example in the next response."
   ]
  },
  {
   "cell_type": "code",
   "execution_count": 6,
   "id": "164047d1",
   "metadata": {},
   "outputs": [
    {
     "name": "stdout",
     "output_type": "stream",
     "text": [
      "differences is [ 7  5 12  2  7  7  4 -5  3  4] \n",
      "\n",
      "mean_diff = 4.6 \n",
      "\n",
      "std_diff = 4.402019738458447 \n",
      "\n",
      "std_error = 1.39204086785474 \n",
      "\n",
      "t_score = 3.304500684012972 \n",
      "\n",
      "Test statistic (t-score) = 3.304500684012972\n",
      "Critical value = 2.2621571627409915\n",
      "p-value = 0.009163900170900297\n",
      "Reject the null hypothesis. There is a significant difference in the appraised values.\n"
     ]
    }
   ],
   "source": [
    "import numpy as np\n",
    "from scipy import stats\n",
    "\n",
    "# Sample data\n",
    "Schadek = np.array([235, 210, 231, 242, 205, 230, 231, 210, 225, 249])\n",
    "Bowyer = np.array([228, 205, 219, 240, 198, 223, 227, 215, 222, 245])\n",
    "n = 10\n",
    "\n",
    "# Calculate the differences\n",
    "differences = Schadek - Bowyer\n",
    "print(\"differences is\" , differences,'\\n')\n",
    "\n",
    "# Calculate the test statistic\n",
    "mean_diff = np.mean(differences)\n",
    "std_diff = np.std(differences, ddof=1)\n",
    "std_error = std_diff / np.sqrt(n)\n",
    "t_score = mean_diff / std_error\n",
    "\n",
    "print(\"mean_diff =\" , mean_diff,'\\n')\n",
    "print(\"std_diff =\" , std_diff,'\\n')\n",
    "print(\"std_error =\" , std_error,'\\n')\n",
    "print(\"t_score =\" , t_score,'\\n')\n",
    "\n",
    "# Degrees of freedom\n",
    "df = n - 1\n",
    "\n",
    "# Calculate the critical value\n",
    "alpha = 0.05\n",
    "critical_value = stats.t.ppf(1 - alpha/2, df)\n",
    "\n",
    "# Calculate the p-value\n",
    "p_value = 2 * (1 - stats.t.cdf(np.abs(t_score), df))\n",
    "\n",
    "# Print the calculated values\n",
    "print(\"Test statistic (t-score) =\", t_score)\n",
    "print(\"Critical value =\", critical_value)\n",
    "print(\"p-value =\", p_value)\n",
    "\n",
    "if p_value < alpha:\n",
    "    print(\"Reject the null hypothesis. There is a significant difference in the appraised values.\")\n",
    "else:\n",
    "    print(\"Fail to reject the null hypothesis. There is no significant difference in the appraised values.\")"
   ]
  },
  {
   "cell_type": "code",
   "execution_count": null,
   "id": "c5d42dc2",
   "metadata": {},
   "outputs": [],
   "source": []
  }
 ],
 "metadata": {
  "kernelspec": {
   "display_name": "Python 3 (ipykernel)",
   "language": "python",
   "name": "python3"
  },
  "language_info": {
   "codemirror_mode": {
    "name": "ipython",
    "version": 3
   },
   "file_extension": ".py",
   "mimetype": "text/x-python",
   "name": "python",
   "nbconvert_exporter": "python",
   "pygments_lexer": "ipython3",
   "version": "3.9.12"
  }
 },
 "nbformat": 4,
 "nbformat_minor": 5
}
