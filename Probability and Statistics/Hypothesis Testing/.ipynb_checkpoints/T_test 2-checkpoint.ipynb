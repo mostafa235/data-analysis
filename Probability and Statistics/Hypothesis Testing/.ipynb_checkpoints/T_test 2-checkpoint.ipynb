{
 "cells": [
  {
   "cell_type": "markdown",
   "id": "c042cf8f",
   "metadata": {},
   "source": [
    "Here are a couple of examples using the t-distribution where the population standard deviation is unknown:\n",
    "\n",
    "Example 1: One-tailed Test with Unknown Population Standard Deviation\n",
    "Let's assume you have a sample mean of 65, a population mean of 60, a sample standard deviation of 8, and a sample size of 50. We want to test if the sample mean is significantly greater than the population mean using a one-tailed test with a significance level of 0.05.\n",
    "\n",
    "\n",
    "\n",
    "### In this example, the null hypothesis (H₀) states that the sample mean is equal to or less than the population mean. The alternative hypothesis (H₁) suggests that the sample mean is significantly greater than the population mean.\n",
    "\n",
    "### The t-distribution is used because the population standard deviation is unknown. The degrees of freedom are calculated as the sample size minus one."
   ]
  },
  {
   "cell_type": "code",
   "execution_count": 2,
   "id": "2f8eeb43",
   "metadata": {},
   "outputs": [],
   "source": [
    "from scipy.stats import t\n",
    "import numpy as np"
   ]
  },
  {
   "cell_type": "code",
   "execution_count": 3,
   "id": "12708aca",
   "metadata": {},
   "outputs": [
    {
     "name": "stdout",
     "output_type": "stream",
     "text": [
      "One-tailed p-value = 2.7379145128625382e-05 \n",
      " alpha = 0.05\n",
      "Reject the null hypothesis\n"
     ]
    }
   ],
   "source": [
    "sample_mean = 65\n",
    "pop_mean = 60\n",
    "sample_std = 8\n",
    "n = 50\n",
    "alpha = 0.05\n",
    "\n",
    "# Calculate the t-score\n",
    "t_score = (sample_mean - pop_mean) / (sample_std / np.sqrt(n))\n",
    "\n",
    "# Degrees of freedom\n",
    "df = n - 1\n",
    "\n",
    "# Calculate the p-value for the one-tailed test\n",
    "p_value = 1 - t.cdf(t_score, df)\n",
    "\n",
    "# Print the p-value\n",
    "print(\"One-tailed p-value =\", p_value, '\\n', \"alpha =\", alpha)\n",
    "\n",
    "if p_value > alpha:\n",
    "    print(\"Don't reject the null hypothesis\")\n",
    "else:\n",
    "    print(\"Reject the null hypothesis\")"
   ]
  },
  {
   "cell_type": "markdown",
   "id": "88a7aa9d",
   "metadata": {},
   "source": [
    "To draw a conclusion, compare the calculated p-value (let's assume it's 0.025) with the significance level (alpha) of 0.05. If the p-value is less than the significance level, reject the null hypothesis. Otherwise, do not reject the null hypothesis."
   ]
  },
  {
   "cell_type": "code",
   "execution_count": null,
   "id": "17155d0c",
   "metadata": {},
   "outputs": [],
   "source": []
  },
  {
   "cell_type": "markdown",
   "id": "ca7a5edd",
   "metadata": {},
   "source": [
    "Here's an example that reverses the direction of the one-tailed test from Example 1. We want to test if the sample mean is significantly less than the population mean using a one-tailed test with a significance level of 0.05. The setup is the same as before:"
   ]
  },
  {
   "cell_type": "code",
   "execution_count": 5,
   "id": "bd582759",
   "metadata": {},
   "outputs": [
    {
     "name": "stdout",
     "output_type": "stream",
     "text": [
      "One-tailed p-value = 0.9999726208548714 \n",
      " alpha = 0.05\n",
      "Don't reject the null hypothesis\n"
     ]
    }
   ],
   "source": [
    "sample_mean = 65\n",
    "pop_mean = 60\n",
    "sample_std = 8\n",
    "n = 50\n",
    "alpha = 0.05\n",
    "\n",
    "# Calculate the t-score\n",
    "t_score = (sample_mean - pop_mean) / (sample_std / np.sqrt(n))\n",
    "\n",
    "# Degrees of freedom\n",
    "df = n - 1\n",
    "\n",
    "# Calculate the p-value for the one-tailed test\n",
    "p_value = t.cdf(t_score, df)\n",
    "\n",
    "# Print the p-value\n",
    "print(\"One-tailed p-value =\", p_value, '\\n', \"alpha =\", alpha)\n",
    "\n",
    "if p_value > alpha:\n",
    "    print(\"Don't reject the null hypothesis\")\n",
    "else:\n",
    "    print(\"Reject the null hypothesis\")\n"
   ]
  },
  {
   "cell_type": "markdown",
   "id": "79b084f8",
   "metadata": {},
   "source": [
    "### In this example, we want to determine if the sample mean is significantly less than the population mean. The null hypothesis (H₀) assumes that the sample mean is equal to or greater than the population mean, while the alternative hypothesis (H₁) suggests that the sample mean is significantly less than the population mean.\n",
    "\n",
    "### By using the t-distribution and calculating the one-tailed p-value (assuming it's 0.025), we can compare it to the significance level (alpha) of 0.05. If the p-value is less than the significance level, we reject the null hypothesis and conclude that the sample mean is significantly less than the population mean. Otherwise, we fail to reject the null hypothesis."
   ]
  },
  {
   "cell_type": "code",
   "execution_count": null,
   "id": "7072466d",
   "metadata": {},
   "outputs": [],
   "source": []
  },
  {
   "cell_type": "markdown",
   "id": "fbb76a99",
   "metadata": {},
   "source": [
    "Example 2: Two-tailed Test with Unknown Population Standard Deviation\n",
    "Consider a sample mean of 55, a population mean of 50, a sample standard deviation of 6, and a sample size of 40. We want to test if the sample mean is significantly different from the population mean using a two-tailed test with a significance level of 0.05."
   ]
  },
  {
   "cell_type": "code",
   "execution_count": 6,
   "id": "a2797ad7",
   "metadata": {},
   "outputs": [
    {
     "name": "stdout",
     "output_type": "stream",
     "text": [
      "Two-tailed p-value = 5.317480391786589e-06 \n",
      " alpha = 0.05\n",
      "Reject the null hypothesis\n"
     ]
    }
   ],
   "source": [
    "sample_mean = 55\n",
    "pop_mean = 50\n",
    "sample_std = 6\n",
    "n = 40\n",
    "alpha = 0.05\n",
    "\n",
    "# Calculate the t-score\n",
    "t_score = (sample_mean - pop_mean) / (sample_std / np.sqrt(n))\n",
    "\n",
    "# Degrees of freedom\n",
    "df = n - 1\n",
    "\n",
    "# Calculate the p-value for the two-tailed test\n",
    "p_value = 2 * (1 - t.cdf(abs(t_score), df))\n",
    "\n",
    "# Print the p-value\n",
    "print(\"Two-tailed p-value =\", p_value, '\\n', \"alpha =\", alpha)\n",
    "\n",
    "# Compare the p-value to the adjusted significance level\n",
    "if p_value >= alpha:\n",
    "    print(\"Don't reject the null hypothesis\")\n",
    "else:\n",
    "    print(\"Reject the null hypothesis\")"
   ]
  },
  {
   "cell_type": "markdown",
   "id": "b00aacdc",
   "metadata": {},
   "source": [
    "In this example, the null hypothesis (H₀) assumes that the sample mean is equal to the population mean. The alternative hypothesis (H₁) suggests that the sample mean is significantly different from the population mean.\n",
    "\n",
    "The t-distribution is used since the population standard deviation is unknown. The degrees of freedom are calculated as the sample size minus one.\n",
    "\n",
    "To draw a conclusion, compare the calculated p-value (let's assume it's 0.03) with the significance level (alpha) of 0.05. If the p-value is less than the significance level, reject the null hypothesis. Otherwise, do not reject the null hypothesis.\n"
   ]
  }
 ],
 "metadata": {
  "kernelspec": {
   "display_name": "Python 3 (ipykernel)",
   "language": "python",
   "name": "python3"
  },
  "language_info": {
   "codemirror_mode": {
    "name": "ipython",
    "version": 3
   },
   "file_extension": ".py",
   "mimetype": "text/x-python",
   "name": "python",
   "nbconvert_exporter": "python",
   "pygments_lexer": "ipython3",
   "version": "3.9.12"
  }
 },
 "nbformat": 4,
 "nbformat_minor": 5
}
