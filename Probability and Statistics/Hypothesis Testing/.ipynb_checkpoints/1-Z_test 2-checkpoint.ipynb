{
 "cells": [
  {
   "cell_type": "markdown",
   "id": "0de3a2af",
   "metadata": {},
   "source": [
    "The p-value is a statistical measure that helps determine the strength of evidence against the null hypothesis in a hypothesis test. It quantifies the probability of obtaining the observed sample data or more extreme data if the null hypothesis were true.\n",
    "\n",
    "In hypothesis testing, the null hypothesis represents a statement of no effect or no difference, while the alternative hypothesis represents the opposite, suggesting there is an effect or difference. The p-value helps us decide whether the observed data provides enough evidence to reject the null hypothesis in favor of the alternative hypothesis.\n",
    "\n",
    "Here's a general interpretation of the p-value:\n",
    "\n",
    "- If the p-value is small (typically below the chosen significance level, often denoted as alpha), it suggests that the observed data is unlikely to occur by chance alone assuming the null hypothesis is true. In this case, we reject the null hypothesis in favor of the alternative hypothesis.\n",
    "\n",
    "- If the p-value is large (typically greater than the chosen significance level), it suggests that the observed data is reasonably likely to occur by chance alone assuming the null hypothesis is true. In this case, we fail to reject the null hypothesis, meaning there is not enough evidence to support the alternative hypothesis.\n",
    "\n",
    "It's important to note that the p-value itself does not provide information about the size or importance of the observed effect. It only indicates the strength of evidence against the null hypothesis.\n",
    "\n",
    "The chosen significance level (alpha) is a threshold set by the researcher before conducting the test. It determines the criteria for rejecting or failing to reject the null hypothesis. Commonly used significance levels are 0.05 (5%) and 0.01 (1%).\n",
    "\n",
    "It's crucial to interpret the p-value in the context of the specific hypothesis test and consider other relevant factors such as effect size, sample size, and the underlying assumptions of the statistical test."
   ]
  },
  {
   "cell_type": "code",
   "execution_count": null,
   "id": "55bff0c4",
   "metadata": {},
   "outputs": [],
   "source": []
  },
  {
   "cell_type": "code",
   "execution_count": 1,
   "id": "2d573a7e",
   "metadata": {},
   "outputs": [],
   "source": [
    "import numpy as np\n",
    "import scipy.stats as stats "
   ]
  },
  {
   "cell_type": "code",
   "execution_count": 19,
   "id": "fe59ea4f",
   "metadata": {},
   "outputs": [],
   "source": [
    "hyp_mean = 200\n",
    "x_bar = 203.5\n",
    "pop_var = 16\n",
    "n = 50"
   ]
  },
  {
   "cell_type": "code",
   "execution_count": null,
   "id": "4920d0dd",
   "metadata": {},
   "outputs": [],
   "source": []
  },
  {
   "cell_type": "code",
   "execution_count": 20,
   "id": "08ce0af4",
   "metadata": {},
   "outputs": [
    {
     "data": {
      "text/plain": [
       "0.005"
      ]
     },
     "execution_count": 20,
     "metadata": {},
     "output_type": "execute_result"
    }
   ],
   "source": [
    "alpha = 0.01 / 2\n",
    "alpha"
   ]
  },
  {
   "cell_type": "code",
   "execution_count": 21,
   "id": "b962da2b",
   "metadata": {},
   "outputs": [
    {
     "data": {
      "text/plain": [
       "1.5467960838455728"
      ]
     },
     "execution_count": 21,
     "metadata": {},
     "output_type": "execute_result"
    }
   ],
   "source": [
    "z_calc = (x_bar - hyp_mean) / (pop_var / np.sqrt(n))\n",
    "z_calc"
   ]
  },
  {
   "cell_type": "code",
   "execution_count": 30,
   "id": "458021fa",
   "metadata": {},
   "outputs": [
    {
     "data": {
      "text/plain": [
       "0.995"
      ]
     },
     "execution_count": 30,
     "metadata": {},
     "output_type": "execute_result"
    }
   ],
   "source": [
    "confidence_level = 1 - alpha\n",
    "confidence_level"
   ]
  },
  {
   "cell_type": "code",
   "execution_count": 31,
   "id": "36b76da5",
   "metadata": {},
   "outputs": [
    {
     "data": {
      "text/plain": [
       "2.5758293035489004"
      ]
     },
     "execution_count": 31,
     "metadata": {},
     "output_type": "execute_result"
    }
   ],
   "source": [
    "z_critical = norm.ppf(1 - alpha)\n",
    "z_critical"
   ]
  },
  {
   "cell_type": "code",
   "execution_count": 34,
   "id": "e081bb5d",
   "metadata": {},
   "outputs": [
    {
     "name": "stdout",
     "output_type": "stream",
     "text": [
      "fail to reject null hypothesis\n"
     ]
    }
   ],
   "source": [
    "if z_calc < z_critical:\n",
    "    print(\"fail to reject null hypothesis\")\n",
    "else:\n",
    "    print(\"reject null hypothesis\")"
   ]
  },
  {
   "cell_type": "code",
   "execution_count": null,
   "id": "32989083",
   "metadata": {},
   "outputs": [],
   "source": []
  },
  {
   "cell_type": "markdown",
   "id": "9e2331f5",
   "metadata": {},
   "source": [
    "### To calculate the p-value using SciPy in one-tailed and two-tailed tests, you can utilize the scipy.stats module and the norm or t functions depending on the distribution assumption (normal or t-distribution). Here are examples for both types of tests:\n",
    "\n",
    "### One-tailed Test Example: \n",
    "### Right-tailed test\n",
    "### Let's assume you have a sample mean of 52, a population mean of 50, a population standard deviation of 5, and a sample size of 30. We want to test if the sample mean is significantly greater than the population mean using a one-tailed test with a significance level of 0.05."
   ]
  },
  {
   "cell_type": "markdown",
   "id": "8dbd5fd2",
   "metadata": {},
   "source": [
    "### In Example 1, the null hypothesis (H₀) can be stated as follows:\n",
    "\n",
    "### H₀: The sample mean is equal to or less than the population mean.\n",
    "\n",
    "### In other words, the null hypothesis assumes that there is no significant difference between the sample mean and the population mean. The alternative hypothesis (H₁) for this example would be:\n",
    "\n",
    "### H₁: The sample mean is significantly greater than the population mean.\n",
    "\n",
    "### The hypothesis test is conducted to assess the evidence against the null hypothesis and determine if the sample mean provides enough support to reject it in favor of the alternative hypothesis."
   ]
  },
  {
   "cell_type": "code",
   "execution_count": 4,
   "id": "06e00f95",
   "metadata": {},
   "outputs": [],
   "source": [
    "from scipy.stats import norm\n",
    "import numpy as np"
   ]
  },
  {
   "cell_type": "code",
   "execution_count": 10,
   "id": "1e1c40e2",
   "metadata": {},
   "outputs": [
    {
     "name": "stdout",
     "output_type": "stream",
     "text": [
      "One-tailed p-value = 0.014229868458155326 \n",
      " alpha = 0.05\n",
      "reject null hypothesis\n"
     ]
    }
   ],
   "source": [
    "sample_mean = 52\n",
    "pop_mean = 50\n",
    "pop_std = 5\n",
    "n = 30\n",
    "alpha = 0.05\n",
    "\n",
    "# Calculate the Z-score\n",
    "z = (sample_mean - pop_mean) / (pop_std / np.sqrt(n))\n",
    "\n",
    "# Calculate the p-value for the one-tailed test\n",
    "p_value = 1 - norm.cdf(z)\n",
    "\n",
    "# Print the p-value\n",
    "print(\"One-tailed p-value =\", p_value ,'\\n', \"alpha =\" , alpha )\n",
    "\n",
    "if p_value > alpha:\n",
    "    print(\"Don't reject null hypothesis\")\n",
    "else:\n",
    "    print(\"reject null hypothesis\")\n"
   ]
  },
  {
   "cell_type": "markdown",
   "id": "ebf6f4e0",
   "metadata": {},
   "source": [
    "### In Example 1, we performed a one-tailed test to determine if the sample mean is significantly greater than the population mean. Let's assume the calculated p-value is 0.02. \n",
    "\n",
    "### To draw a conclusion, we compare the p-value to the significance level (alpha) that was set at 0.05. \n",
    "\n",
    "### Since the calculated p-value (0.02) is less than the significance level (0.05), we have sufficient evidence to reject the null hypothesis. Therefore, we can conclude that the sample mean is significantly greater than the population mean at a 0.05 level of significance."
   ]
  },
  {
   "cell_type": "code",
   "execution_count": null,
   "id": "726a047a",
   "metadata": {},
   "outputs": [],
   "source": []
  },
  {
   "cell_type": "markdown",
   "id": "7f529557",
   "metadata": {},
   "source": [
    "### Left-tailed test\n",
    "### Ex2 : Here's another example where we want to test if the sample mean is significantly smaller than the population mean using a one-tailed test with a significance level of 0.05.\n",
    "\n",
    "### Let's assume you have a sample mean of 32, a population mean of 35, a population standard deviation of 4, and a sample size of 50"
   ]
  },
  {
   "cell_type": "code",
   "execution_count": 13,
   "id": "0b7af548",
   "metadata": {},
   "outputs": [
    {
     "name": "stdout",
     "output_type": "stream",
     "text": [
      "One-tailed p-value = 5.6863628284898115e-08 \n",
      " alpha = 0.05\n",
      "reject null hypothesis\n"
     ]
    }
   ],
   "source": [
    "from scipy.stats import norm\n",
    "\n",
    "sample_mean = 32\n",
    "pop_mean = 35\n",
    "pop_std = 4\n",
    "n = 50\n",
    "alpha = 0.05\n",
    "\n",
    "# Calculate the Z-score\n",
    "z = (sample_mean - pop_mean) / (pop_std / np.sqrt(n))\n",
    "\n",
    "# Calculate the p-value for the one-tailed test\n",
    "p_value = norm.cdf(z)\n",
    "\n",
    "# Print the p-value\n",
    "print(\"One-tailed p-value =\", p_value ,'\\n', \"alpha =\" , alpha )\n",
    "\n",
    "if p_value > alpha:\n",
    "    print(\"Don't reject null hypothesis\")\n",
    "else:\n",
    "    print(\"reject null hypothesis\")\n"
   ]
  },
  {
   "cell_type": "markdown",
   "id": "dbc021a7",
   "metadata": {},
   "source": [
    "### Null hypothesis (H₀):\n",
    "The sample mean is equal to or greater than the population mean.\n",
    "## H₀: μ ≥ μ₀\n",
    "\n",
    "### Alternative hypothesis (H₁):\n",
    "The sample mean is significantly smaller than the population mean.\n",
    "## H₁: μ < μ₀\n",
    "\n",
    "In this case, the null hypothesis assumes that there is no significant difference, or the sample mean is equal to or greater than the population mean. The alternative hypothesis suggests that the sample mean is significantly smaller, indicating a directional difference between the sample and population means.\n",
    "\n",
    "The hypothesis test is performed to assess the evidence against the null hypothesis and determine if there is sufficient statistical evidence to reject it in favor of the alternative hypothesis."
   ]
  },
  {
   "cell_type": "markdown",
   "id": "42523e59",
   "metadata": {},
   "source": [
    "To draw a conclusion, we need to compare the p-value (let's assume it's 0.03) obtained from the hypothesis test to the significance level (alpha) set at 0.05.\n",
    "\n",
    "In the given example, since the calculated p-value (0.03) is less than the significance level (0.05), we have sufficient evidence to reject the null hypothesis. Therefore, we can conclude that the sample mean is significantly smaller than the population mean at a 0.05 level of significance.\n",
    "\n",
    "In other words, based on the statistical analysis, there is evidence to support the claim that the sample mean of 32 is significantly smaller than the population mean of 35."
   ]
  },
  {
   "cell_type": "code",
   "execution_count": null,
   "id": "dadfd2b7",
   "metadata": {},
   "outputs": [],
   "source": []
  },
  {
   "cell_type": "markdown",
   "id": "3ec08e15",
   "metadata": {},
   "source": [
    "### EX3 : Two-tailed Test Example:\n",
    "### Consider a sample mean of 80, a population mean of 75, a population standard deviation of 8, and a sample size of 40. We want to test if the sample mean is significantly different from the population mean using a two-tailed test with a significance level of 0.05"
   ]
  },
  {
   "cell_type": "code",
   "execution_count": 20,
   "id": "3277a83c",
   "metadata": {},
   "outputs": [
    {
     "name": "stdout",
     "output_type": "stream",
     "text": [
      "Two-tailed p-value = 7.72267955053696e-05 \n",
      " alpha = 0.05\n",
      "Reject the null hypothesis\n"
     ]
    }
   ],
   "source": [
    "from scipy.stats import norm\n",
    "\n",
    "sample_mean = 80\n",
    "pop_mean = 75\n",
    "pop_std = 8\n",
    "n = 40\n",
    "alpha = 0.05\n",
    "\n",
    "# Calculate the Z-score\n",
    "z = (sample_mean - pop_mean) / (pop_std / np.sqrt(n))\n",
    "\n",
    "# Calculate the p-value for the two-tailed test\n",
    "p_value = 2 * (1 - norm.cdf(abs(z)))\n",
    "\n",
    "# Print the p-value\n",
    "print(\"Two-tailed p-value =\", p_value ,'\\n', \"alpha =\" , alpha )\n",
    "\n",
    "# Compare the p-value to the adjusted significance level\n",
    "if p_value >= alpha / 2:\n",
    "    print(\"Don't reject the null hypothesis\")\n",
    "else:\n",
    "    print(\"Reject the null hypothesis\")"
   ]
  },
  {
   "cell_type": "markdown",
   "id": "50a5d742",
   "metadata": {},
   "source": [
    "The sample mean is equal to the population mean.\n",
    "## H₀: μ = μ₀\n",
    "\n",
    "Alternative hypothesis (H₁):\n",
    "The sample mean is significantly different from the population mean.\n",
    "## H₁: μ ≠ μ₀\n",
    "\n",
    "### In this case, the null hypothesis assumes that there is no significant difference between the sample mean and the population mean. The alternative hypothesis suggests that the sample mean is significantly different, indicating a two-sided difference between the sample and population means.\n",
    "\n",
    "### The hypothesis test is performed to assess the evidence against the null hypothesis and determine if there is sufficient statistical evidence to reject it in favor of the alternative hypothesis."
   ]
  },
  {
   "cell_type": "markdown",
   "id": "9876680a",
   "metadata": {},
   "source": [
    "To draw a conclusion, we need to compare the p-value (let's assume it's 0.03) obtained from the hypothesis test to the significance level (alpha) set at 0.05.\n",
    "\n",
    "In the given example, since the calculated p-value (0.03) is less than the significance level (0.05), we have sufficient evidence to reject the null hypothesis. Therefore, we can conclude that the sample mean is significantly different from the population mean at a 0.05 level of significance.\n",
    "\n",
    "In other words, based on the statistical analysis, there is evidence to support the claim that the sample mean of 80 is significantly different from the population mean of 75."
   ]
  },
  {
   "cell_type": "code",
   "execution_count": null,
   "id": "1059bd65",
   "metadata": {},
   "outputs": [],
   "source": []
  }
 ],
 "metadata": {
  "kernelspec": {
   "display_name": "Python 3 (ipykernel)",
   "language": "python",
   "name": "python3"
  },
  "language_info": {
   "codemirror_mode": {
    "name": "ipython",
    "version": 3
   },
   "file_extension": ".py",
   "mimetype": "text/x-python",
   "name": "python",
   "nbconvert_exporter": "python",
   "pygments_lexer": "ipython3",
   "version": "3.9.12"
  }
 },
 "nbformat": 4,
 "nbformat_minor": 5
}
