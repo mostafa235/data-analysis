{
 "cells": [
  {
   "cell_type": "markdown",
   "id": "7e384d2a",
   "metadata": {},
   "source": [
    "## Z-Test"
   ]
  },
  {
   "cell_type": "markdown",
   "id": "3135461b",
   "metadata": {},
   "source": [
    "### Certainly! Here's an example of a two-sample test for proportions:\n",
    "\n",
    "Question: Is there a significant difference in the proportion of customers who purchased a product between two different marketing strategies, Strategy A and Strategy B?\n",
    "\n",
    "### Null Hypothesis (H0): The proportions of customers who purchased a product are equal for Strategy A and Strategy B.\n",
    "### Alternative Hypothesis (Ha): The proportions of customers who purchased a product are different for Strategy A and Strategy B.\n",
    "\n",
    "Let's say we collected data from 200 customers for each strategy, and the results are as follows:\n",
    "\n",
    "Strategy A: \n",
    "- Number of customers who purchased: 110\n",
    "- Sample size: 200\n",
    "\n",
    "Strategy B: \n",
    "- Number of customers who purchased: 130\n",
    "- Sample size: 200\n",
    "\n",
    "Now let's perform the two-sample test for proportions using the z-test:\n",
    "\n",
    "1. State the null hypothesis (H0) and the alternative hypothesis (Ha):\n",
    "   - H0: The proportions of customers who purchased a product are equal for Strategy A and Strategy B.\n",
    "   - Ha: The proportions of customers who purchased a product are different for Strategy A and Strategy B.\n",
    "\n",
    "2. Select the significance level (α) to determine the critical value(s) or the rejection region. Let's assume α = 0.05 for a 95% confidence level.\n",
    "\n",
    "3. Collect the sample data from the two groups:\n",
    "   - Group A: Number of customers who purchased (x1) = 110, Sample size (n1) = 200.\n",
    "   - Group B: Number of customers who purchased (x2) = 130, Sample size (n2) = 200.\n",
    "\n",
    "4. Calculate the sample proportions:\n",
    "   - p1 = x1 / n1 = 110 / 200 = 0.55\n",
    "   - p2 = x2 / n2 = 130 / 200 = 0.65\n",
    "\n",
    "5. Calculate the standard error of the difference in proportions:\n",
    "   - SE = sqrt((p1 * (1 - p1) / n1) + (p2 * (1 - p2) / n2))\n",
    "   - SE = sqrt((0.55 * 0.45 / 200) + (0.65 * 0.35 / 200)) = 0.048\n",
    "\n",
    "6. Calculate the test statistic (z-score):\n",
    "   - z = (p1 - p2) / SE = (0.55 - 0.65) / 0.048 = -2.083\n",
    "\n",
    "7. Determine the critical value(s) or the rejection region based on the chosen significance level and the type of test (two-tailed):\n",
    "   - For a two-tailed test at α = 0.05, the critical z-values are -1.96 and 1.96.\n",
    "\n",
    "8. Compare the test statistic with the critical value(s) or evaluate if it falls within the rejection region:\n",
    "   - Since -2.083 falls outside the range of -1.96 to 1.96, we can reject the null hypothesis.\n",
    "\n",
    "9. Make a decision:\n",
    "   - Reject the null hypothesis. There is a significant difference in the proportion of customers who purchased a product between Strategy A and Strategy B.\n",
    "\n",
    "10. Interpret the result in the context of the research question and the specific alternative hypothesis:\n",
    "   - There is evidence to suggest that the marketing strategies, Strategy A and Strategy B, have different impacts on customer purchasing behavior. Strategy B appears to be more effective in generating product purchases compared to Strategy A.\n",
    "\n",
    "Please note that the above example is for illustrative purposes, and actual statistical analysis should consider factors such as sample representativeness, random sampling, and other assumptions."
   ]
  },
  {
   "cell_type": "code",
   "execution_count": 10,
   "id": "ee86a9dc",
   "metadata": {},
   "outputs": [
    {
     "name": "stdout",
     "output_type": "stream",
     "text": [
      "Test Statistic (z-score): -2.3495561349012988\n",
      "p-value: 0.018795809724082124\n"
     ]
    }
   ],
   "source": [
    "import scipy.stats as stats\n",
    "import numpy as np\n",
    "\n",
    "# Sample data\n",
    "x1 = 19\n",
    "n1 = 100\n",
    "x2 = 62\n",
    "n2 = 200\n",
    "\n",
    "# Calculate the sample proportions\n",
    "p1 = x1 / n1\n",
    "p2 = x2 / n2\n",
    "\n",
    "# Calculate the standard errors\n",
    "se1 = np.sqrt(p1 * (1 - p1) / n1)\n",
    "se2 = np.sqrt(p2 * (1 - p2) / n2)\n",
    "SE = np.sqrt((p1 * (1 - p1) / n1) + (p2 * (1 - p2) / n2))\n",
    "\n",
    "# Calculate the test statistic (z-score)\n",
    "z_statistic = (p1 - p2) / SE\n",
    "\n",
    "# Calculate the p-value\n",
    "p_value = 2 * (1 - stats.norm.cdf(np.abs(z_statistic)))\n",
    "\n",
    "# Print the test statistic and p-value\n",
    "print(\"Test Statistic (z-score):\", z_statistic)\n",
    "print(\"p-value:\", p_value)\n"
   ]
  },
  {
   "cell_type": "markdown",
   "id": "f465216b",
   "metadata": {},
   "source": [
    "## T-test (UNKNOWN POP VARIANCE)"
   ]
  },
  {
   "cell_type": "code",
   "execution_count": 4,
   "id": "2b2d811b",
   "metadata": {},
   "outputs": [
    {
     "name": "stdout",
     "output_type": "stream",
     "text": [
      "Pooled Sample Variance: 6.1571605414285715\n",
      "t-score: -0.6007634523671481\n",
      "p-value: 0.5628192055793457\n"
     ]
    }
   ],
   "source": [
    "import numpy as np\n",
    "import scipy.stats as stats\n",
    "\n",
    "# Given data\n",
    "sample_mean1 = 4\n",
    "sample_mean2 = 5\n",
    "sample_std1 = 2.9155\n",
    "sample_std2 = 2.0976\n",
    "df = 9\n",
    "n1 =4\n",
    "n2 = 5\n",
    "\n",
    "# Calculate pooled sample variance\n",
    "\n",
    "squared_std1 = sample_std1 ** 2\n",
    "squared_std2 = sample_std2 ** 2\n",
    "pooled_variance = ((n1 - 1) * squared_std1 + (n2 - 1) * squared_std2) / (n1 + n2 - 2)\n",
    "\n",
    "# Calculate t-score\n",
    "t_score = (sample_mean1 - sample_mean2) / np.sqrt(pooled_variance * (1/n1 + 1/n2))\n",
    "\n",
    "# Calculate p-value\n",
    "p_value = 2 * (1 - stats.t.cdf(np.abs(t_score), df))\n",
    "\n",
    "# Print the calculated values\n",
    "print(\"Pooled Sample Variance:\", pooled_variance)\n",
    "print(\"t-score:\", t_score)\n",
    "print(\"p-value:\", p_value)\n"
   ]
  },
  {
   "cell_type": "code",
   "execution_count": null,
   "id": "eeb1242d",
   "metadata": {},
   "outputs": [],
   "source": []
  }
 ],
 "metadata": {
  "kernelspec": {
   "display_name": "Python 3 (ipykernel)",
   "language": "python",
   "name": "python3"
  },
  "language_info": {
   "codemirror_mode": {
    "name": "ipython",
    "version": 3
   },
   "file_extension": ".py",
   "mimetype": "text/x-python",
   "name": "python",
   "nbconvert_exporter": "python",
   "pygments_lexer": "ipython3",
   "version": "3.9.12"
  }
 },
 "nbformat": 4,
 "nbformat_minor": 5
}
