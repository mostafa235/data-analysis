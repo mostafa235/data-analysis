{
 "cells": [
  {
   "cell_type": "code",
   "execution_count": 1,
   "id": "2054b888",
   "metadata": {},
   "outputs": [],
   "source": [
    "import pandas as pd\n",
    "import numpy as np"
   ]
  },
  {
   "cell_type": "code",
   "execution_count": 2,
   "id": "07c59e25",
   "metadata": {},
   "outputs": [
    {
     "data": {
      "text/html": [
       "<div>\n",
       "<style scoped>\n",
       "    .dataframe tbody tr th:only-of-type {\n",
       "        vertical-align: middle;\n",
       "    }\n",
       "\n",
       "    .dataframe tbody tr th {\n",
       "        vertical-align: top;\n",
       "    }\n",
       "\n",
       "    .dataframe thead th {\n",
       "        text-align: right;\n",
       "    }\n",
       "</style>\n",
       "<table border=\"1\" class=\"dataframe\">\n",
       "  <thead>\n",
       "    <tr style=\"text-align: right;\">\n",
       "      <th></th>\n",
       "      <th>product</th>\n",
       "      <th>client</th>\n",
       "      <th>status</th>\n",
       "      <th>amount</th>\n",
       "      <th>num_users</th>\n",
       "    </tr>\n",
       "  </thead>\n",
       "  <tbody>\n",
       "    <tr>\n",
       "      <th>1</th>\n",
       "      <td>Product F</td>\n",
       "      <td>Current</td>\n",
       "      <td>Won</td>\n",
       "      <td>7389.52</td>\n",
       "      <td>19</td>\n",
       "    </tr>\n",
       "    <tr>\n",
       "      <th>2</th>\n",
       "      <td>Product C</td>\n",
       "      <td>New</td>\n",
       "      <td>Won</td>\n",
       "      <td>4493.01</td>\n",
       "      <td>43</td>\n",
       "    </tr>\n",
       "    <tr>\n",
       "      <th>3</th>\n",
       "      <td>Product B</td>\n",
       "      <td>New</td>\n",
       "      <td>Won</td>\n",
       "      <td>5738.09</td>\n",
       "      <td>87</td>\n",
       "    </tr>\n",
       "    <tr>\n",
       "      <th>4</th>\n",
       "      <td>Product I</td>\n",
       "      <td>Current</td>\n",
       "      <td>Won</td>\n",
       "      <td>2591.24</td>\n",
       "      <td>83</td>\n",
       "    </tr>\n",
       "    <tr>\n",
       "      <th>5</th>\n",
       "      <td>Product E</td>\n",
       "      <td>Current</td>\n",
       "      <td>Won</td>\n",
       "      <td>6622.97</td>\n",
       "      <td>17</td>\n",
       "    </tr>\n",
       "  </tbody>\n",
       "</table>\n",
       "</div>"
      ],
      "text/plain": [
       "     product   client status   amount  num_users\n",
       "1  Product F  Current    Won  7389.52         19\n",
       "2  Product C      New    Won  4493.01         43\n",
       "3  Product B      New    Won  5738.09         87\n",
       "4  Product I  Current    Won  2591.24         83\n",
       "5  Product E  Current    Won  6622.97         17"
      ]
     },
     "execution_count": 2,
     "metadata": {},
     "output_type": "execute_result"
    }
   ],
   "source": [
    "amir_deals = pd.read_csv('J:/Data science/datacamp/Introduction to Statistics in Python/amir_deals.csv',\n",
    "                         index_col='Unnamed: 0')\n",
    "amir_deals.head()"
   ]
  },
  {
   "cell_type": "code",
   "execution_count": 3,
   "id": "7256b5b9",
   "metadata": {},
   "outputs": [
    {
     "data": {
      "text/plain": [
       "Product B    62\n",
       "Product D    40\n",
       "Product A    23\n",
       "Product C    15\n",
       "Product F    11\n",
       "Product H     8\n",
       "Product I     7\n",
       "Product E     5\n",
       "Product N     3\n",
       "Product G     2\n",
       "Product J     2\n",
       "Name: product, dtype: int64"
      ]
     },
     "execution_count": 3,
     "metadata": {},
     "output_type": "execute_result"
    }
   ],
   "source": [
    "counts = amir_deals['product'].value_counts()\n",
    "counts"
   ]
  },
  {
   "cell_type": "code",
   "execution_count": 4,
   "id": "a7db5cb0",
   "metadata": {},
   "outputs": [
    {
     "data": {
      "text/plain": [
       "178"
      ]
     },
     "execution_count": 4,
     "metadata": {},
     "output_type": "execute_result"
    }
   ],
   "source": [
    "amir_deals.shape[0]"
   ]
  },
  {
   "cell_type": "code",
   "execution_count": 5,
   "id": "f86128cb",
   "metadata": {},
   "outputs": [
    {
     "data": {
      "text/plain": [
       "(178, 5)"
      ]
     },
     "execution_count": 5,
     "metadata": {},
     "output_type": "execute_result"
    }
   ],
   "source": [
    "amir_deals.shape"
   ]
  },
  {
   "cell_type": "code",
   "execution_count": 6,
   "id": "d491438e",
   "metadata": {},
   "outputs": [
    {
     "name": "stdout",
     "output_type": "stream",
     "text": [
      "Product B    0.348315\n",
      "Product D    0.224719\n",
      "Product A    0.129213\n",
      "Product C    0.084270\n",
      "Product F    0.061798\n",
      "Product H    0.044944\n",
      "Product I    0.039326\n",
      "Product E    0.028090\n",
      "Product N    0.016854\n",
      "Product G    0.011236\n",
      "Product J    0.011236\n",
      "Name: product, dtype: float64\n"
     ]
    }
   ],
   "source": [
    "probs = counts / amir_deals.shape[0]\n",
    "print(probs)"
   ]
  },
  {
   "cell_type": "code",
   "execution_count": 7,
   "id": "cc811aaa",
   "metadata": {},
   "outputs": [
    {
     "data": {
      "text/plain": [
       "0.34831460674157305"
      ]
     },
     "execution_count": 7,
     "metadata": {},
     "output_type": "execute_result"
    }
   ],
   "source": [
    "62/178"
   ]
  },
  {
   "cell_type": "code",
   "execution_count": 8,
   "id": "efc2eda3",
   "metadata": {},
   "outputs": [
    {
     "data": {
      "text/html": [
       "<div>\n",
       "<style scoped>\n",
       "    .dataframe tbody tr th:only-of-type {\n",
       "        vertical-align: middle;\n",
       "    }\n",
       "\n",
       "    .dataframe tbody tr th {\n",
       "        vertical-align: top;\n",
       "    }\n",
       "\n",
       "    .dataframe thead th {\n",
       "        text-align: right;\n",
       "    }\n",
       "</style>\n",
       "<table border=\"1\" class=\"dataframe\">\n",
       "  <thead>\n",
       "    <tr style=\"text-align: right;\">\n",
       "      <th></th>\n",
       "      <th>product</th>\n",
       "      <th>client</th>\n",
       "      <th>status</th>\n",
       "      <th>amount</th>\n",
       "      <th>num_users</th>\n",
       "    </tr>\n",
       "  </thead>\n",
       "  <tbody>\n",
       "    <tr>\n",
       "      <th>128</th>\n",
       "      <td>Product B</td>\n",
       "      <td>Current</td>\n",
       "      <td>Won</td>\n",
       "      <td>2070.25</td>\n",
       "      <td>7</td>\n",
       "    </tr>\n",
       "    <tr>\n",
       "      <th>149</th>\n",
       "      <td>Product D</td>\n",
       "      <td>Current</td>\n",
       "      <td>Won</td>\n",
       "      <td>3485.48</td>\n",
       "      <td>52</td>\n",
       "    </tr>\n",
       "    <tr>\n",
       "      <th>78</th>\n",
       "      <td>Product B</td>\n",
       "      <td>Current</td>\n",
       "      <td>Won</td>\n",
       "      <td>6252.30</td>\n",
       "      <td>27</td>\n",
       "    </tr>\n",
       "    <tr>\n",
       "      <th>105</th>\n",
       "      <td>Product D</td>\n",
       "      <td>Current</td>\n",
       "      <td>Won</td>\n",
       "      <td>4110.98</td>\n",
       "      <td>39</td>\n",
       "    </tr>\n",
       "    <tr>\n",
       "      <th>167</th>\n",
       "      <td>Product C</td>\n",
       "      <td>New</td>\n",
       "      <td>Lost</td>\n",
       "      <td>3779.86</td>\n",
       "      <td>11</td>\n",
       "    </tr>\n",
       "  </tbody>\n",
       "</table>\n",
       "</div>"
      ],
      "text/plain": [
       "       product   client status   amount  num_users\n",
       "128  Product B  Current    Won  2070.25          7\n",
       "149  Product D  Current    Won  3485.48         52\n",
       "78   Product B  Current    Won  6252.30         27\n",
       "105  Product D  Current    Won  4110.98         39\n",
       "167  Product C      New   Lost  3779.86         11"
      ]
     },
     "execution_count": 8,
     "metadata": {},
     "output_type": "execute_result"
    }
   ],
   "source": [
    "np.random.seed(24)\n",
    "sample_without_replacement = amir_deals.sample(5 , replace=False)\n",
    "sample_without_replacement"
   ]
  },
  {
   "cell_type": "code",
   "execution_count": 9,
   "id": "0f6fd7ee",
   "metadata": {},
   "outputs": [
    {
     "data": {
      "text/html": [
       "<div>\n",
       "<style scoped>\n",
       "    .dataframe tbody tr th:only-of-type {\n",
       "        vertical-align: middle;\n",
       "    }\n",
       "\n",
       "    .dataframe tbody tr th {\n",
       "        vertical-align: top;\n",
       "    }\n",
       "\n",
       "    .dataframe thead th {\n",
       "        text-align: right;\n",
       "    }\n",
       "</style>\n",
       "<table border=\"1\" class=\"dataframe\">\n",
       "  <thead>\n",
       "    <tr style=\"text-align: right;\">\n",
       "      <th></th>\n",
       "      <th>product</th>\n",
       "      <th>client</th>\n",
       "      <th>status</th>\n",
       "      <th>amount</th>\n",
       "      <th>num_users</th>\n",
       "    </tr>\n",
       "  </thead>\n",
       "  <tbody>\n",
       "    <tr>\n",
       "      <th>134</th>\n",
       "      <td>Product D</td>\n",
       "      <td>Current</td>\n",
       "      <td>Won</td>\n",
       "      <td>5992.86</td>\n",
       "      <td>98</td>\n",
       "    </tr>\n",
       "    <tr>\n",
       "      <th>102</th>\n",
       "      <td>Product H</td>\n",
       "      <td>Current</td>\n",
       "      <td>Won</td>\n",
       "      <td>5116.34</td>\n",
       "      <td>63</td>\n",
       "    </tr>\n",
       "    <tr>\n",
       "      <th>111</th>\n",
       "      <td>Product B</td>\n",
       "      <td>Current</td>\n",
       "      <td>Won</td>\n",
       "      <td>696.88</td>\n",
       "      <td>44</td>\n",
       "    </tr>\n",
       "    <tr>\n",
       "      <th>50</th>\n",
       "      <td>Product B</td>\n",
       "      <td>Current</td>\n",
       "      <td>Won</td>\n",
       "      <td>3488.36</td>\n",
       "      <td>79</td>\n",
       "    </tr>\n",
       "    <tr>\n",
       "      <th>57</th>\n",
       "      <td>Product D</td>\n",
       "      <td>Current</td>\n",
       "      <td>Won</td>\n",
       "      <td>6820.84</td>\n",
       "      <td>42</td>\n",
       "    </tr>\n",
       "  </tbody>\n",
       "</table>\n",
       "</div>"
      ],
      "text/plain": [
       "       product   client status   amount  num_users\n",
       "134  Product D  Current    Won  5992.86         98\n",
       "102  Product H  Current    Won  5116.34         63\n",
       "111  Product B  Current    Won   696.88         44\n",
       "50   Product B  Current    Won  3488.36         79\n",
       "57   Product D  Current    Won  6820.84         42"
      ]
     },
     "execution_count": 9,
     "metadata": {},
     "output_type": "execute_result"
    }
   ],
   "source": [
    "sample_with_replacement = amir_deals.sample(5 , replace=True)\n",
    "sample_with_replacement"
   ]
  },
  {
   "cell_type": "code",
   "execution_count": 10,
   "id": "08504f99",
   "metadata": {},
   "outputs": [
    {
     "data": {
      "text/html": [
       "<div>\n",
       "<style scoped>\n",
       "    .dataframe tbody tr th:only-of-type {\n",
       "        vertical-align: middle;\n",
       "    }\n",
       "\n",
       "    .dataframe tbody tr th {\n",
       "        vertical-align: top;\n",
       "    }\n",
       "\n",
       "    .dataframe thead th {\n",
       "        text-align: right;\n",
       "    }\n",
       "</style>\n",
       "<table border=\"1\" class=\"dataframe\">\n",
       "  <thead>\n",
       "    <tr style=\"text-align: right;\">\n",
       "      <th></th>\n",
       "      <th>country</th>\n",
       "      <th>food_category</th>\n",
       "      <th>consumption</th>\n",
       "      <th>co2_emission</th>\n",
       "    </tr>\n",
       "  </thead>\n",
       "  <tbody>\n",
       "    <tr>\n",
       "      <th>1</th>\n",
       "      <td>Argentina</td>\n",
       "      <td>pork</td>\n",
       "      <td>10.51</td>\n",
       "      <td>37.20</td>\n",
       "    </tr>\n",
       "    <tr>\n",
       "      <th>2</th>\n",
       "      <td>Argentina</td>\n",
       "      <td>poultry</td>\n",
       "      <td>38.66</td>\n",
       "      <td>41.53</td>\n",
       "    </tr>\n",
       "    <tr>\n",
       "      <th>3</th>\n",
       "      <td>Argentina</td>\n",
       "      <td>beef</td>\n",
       "      <td>55.48</td>\n",
       "      <td>1712.00</td>\n",
       "    </tr>\n",
       "    <tr>\n",
       "      <th>4</th>\n",
       "      <td>Argentina</td>\n",
       "      <td>lamb_goat</td>\n",
       "      <td>1.56</td>\n",
       "      <td>54.63</td>\n",
       "    </tr>\n",
       "    <tr>\n",
       "      <th>5</th>\n",
       "      <td>Argentina</td>\n",
       "      <td>fish</td>\n",
       "      <td>4.36</td>\n",
       "      <td>6.96</td>\n",
       "    </tr>\n",
       "  </tbody>\n",
       "</table>\n",
       "</div>"
      ],
      "text/plain": [
       "     country food_category  consumption  co2_emission\n",
       "1  Argentina          pork        10.51         37.20\n",
       "2  Argentina       poultry        38.66         41.53\n",
       "3  Argentina          beef        55.48       1712.00\n",
       "4  Argentina     lamb_goat         1.56         54.63\n",
       "5  Argentina          fish         4.36          6.96"
      ]
     },
     "execution_count": 10,
     "metadata": {},
     "output_type": "execute_result"
    }
   ],
   "source": [
    "restaurant_groups = pd.read_csv('J:/Data science/datacamp/Introduction to Statistics in Python/food_consumption (1).csv',\n",
    "                         index_col='Unnamed: 0')\n",
    "restaurant_groups.head()"
   ]
  },
  {
   "cell_type": "markdown",
   "id": "55efb7bf",
   "metadata": {},
   "source": [
    "In Python, we can simulate this by importing binom from scipy-dot-stats and using the binom-dot-rvs function, which takes in the number of coins we want to flip, the probability of heads or success, and an argument called size, which is number of trials. size is a named argument, so we'll need to explicitly specify that the third argument corresponds to size, or we'll get incorrect results. This call will return a 1, which we'll count as a head, or a 0, which we'll count as tails. We can use binom-dot-rvs 1, 0-point-5, size equals 1 to flip 1 coin, with a 50% probability of heads, 1 time."
   ]
  },
  {
   "cell_type": "markdown",
   "id": "15f9f45f",
   "metadata": {},
   "source": [
    "#### Binomial distribution\n",
    "The binomial distribution describes the probability of the number of successes in a sequence of independent trials. In other words, it can tell us the probability of getting some number of heads in a sequence of coin flips. Note that this is a discrete distribution since we're working with a countable outcome. The binomial distribution can be described using two parameters, n and p.\n",
    "### n represents the total number of trials being performed, and p is the probability of success. n and p are also the third and second arguments of binom-dot-rvs. Here's what the distribution looks like for 10 coins. We have the biggest chance of getting 5 heads total, and a much smaller chance of getting 0 heads or 10 heads."
   ]
  },
  {
   "cell_type": "markdown",
   "id": "91b05ca5",
   "metadata": {},
   "source": [
    "### binom.rvs(# of coins, probability of heads/success, size=# of trials)"
   ]
  },
  {
   "cell_type": "code",
   "execution_count": 11,
   "id": "15e72cfa",
   "metadata": {},
   "outputs": [],
   "source": [
    "import numpy as np\n",
    "from scipy.stats import binom"
   ]
  },
  {
   "cell_type": "code",
   "execution_count": 12,
   "id": "2766769c",
   "metadata": {},
   "outputs": [],
   "source": [
    "np.random.seed(10)"
   ]
  },
  {
   "cell_type": "markdown",
   "id": "e1612b94",
   "metadata": {},
   "source": [
    "Simulate 1 deal worked on by Amir, who wins 30% of the deals he works on"
   ]
  },
  {
   "cell_type": "code",
   "execution_count": 13,
   "id": "0fbe11f4",
   "metadata": {},
   "outputs": [
    {
     "name": "stdout",
     "output_type": "stream",
     "text": [
      "[1]\n"
     ]
    }
   ],
   "source": [
    "print(binom.rvs(1, 0.3, size=1))"
   ]
  },
  {
   "cell_type": "markdown",
   "id": "da5411f4",
   "metadata": {},
   "source": [
    "Simulate a typical week of Amir's deals, or one week of 3 deals."
   ]
  },
  {
   "cell_type": "code",
   "execution_count": 14,
   "id": "e62263e8",
   "metadata": {},
   "outputs": [
    {
     "name": "stdout",
     "output_type": "stream",
     "text": [
      "[0]\n"
     ]
    }
   ],
   "source": [
    "print(binom.rvs(3, 0.3 , size = 1))"
   ]
  },
  {
   "cell_type": "markdown",
   "id": "6eba11dc",
   "metadata": {},
   "source": [
    "Simulate a year's worth of Amir's deals, or 52 weeks of 3 deals each, and store in deals."
   ]
  },
  {
   "cell_type": "code",
   "execution_count": 15,
   "id": "c26948d1",
   "metadata": {},
   "outputs": [
    {
     "name": "stdout",
     "output_type": "stream",
     "text": [
      "[1 1 1 0 0 1 0 0 1 2 0 1 2 1 1 0 2 1 1 0 1 1 1 1 1 1 1 1 2 1 2 0 0 0 0 2 0\n",
      " 1 1 2 0 2 1 1 0 2 0 0 1 0 2 0]\n",
      "0.8461538461538461\n"
     ]
    }
   ],
   "source": [
    "deals = binom.rvs(3,.3,size=52)\n",
    "print(deals)\n",
    "# Print mean deals won per week\n",
    "print(np.mean(deals))"
   ]
  },
  {
   "cell_type": "code",
   "execution_count": 16,
   "id": "8c1f46d3",
   "metadata": {},
   "outputs": [
    {
     "name": "stdout",
     "output_type": "stream",
     "text": [
      "[1]\n"
     ]
    }
   ],
   "source": [
    "print(binom.rvs(5, .2 , size=1))"
   ]
  },
  {
   "cell_type": "code",
   "execution_count": 17,
   "id": "42dd919c",
   "metadata": {},
   "outputs": [
    {
     "name": "stdout",
     "output_type": "stream",
     "text": [
      "[1 1 0]\n"
     ]
    }
   ],
   "source": [
    "print(binom.rvs(1, .5 , size=3))"
   ]
  },
  {
   "cell_type": "markdown",
   "id": "88881107",
   "metadata": {},
   "source": [
    "### What's the probability of 7 heads?\n",
    "To get the probability of getting 7 heads out of 10 coins, we can use binom-dot-pmf.        \n",
    "The first argument is the number of heads or successes. The second argument is the number of trials, n, and the third is the probability of success, p. If we flip 10 coins, there's about a 12% chance that exactly 7 of them will be heads."
   ]
  },
  {
   "cell_type": "markdown",
   "id": "b4d01eda",
   "metadata": {},
   "source": [
    "### What's the probability of 7 or fewer heads?\n",
    "binom-dot-cdf gives the probability of getting a number of successes less than or equal to the first argument. The probability of getting 7 or fewer heads out of 10 coins is about 95%"
   ]
  },
  {
   "cell_type": "markdown",
   "id": "770e9af4",
   "metadata": {},
   "source": [
    "### What's the probability of more than 7 heads?\n",
    "We can take 1 minus the probability of getting 7 or fewer heads to get the probability of a number of successes greater than the first argument."
   ]
  },
  {
   "cell_type": "markdown",
   "id": "1d9fe7b5",
   "metadata": {},
   "source": [
    "### Expected value\n",
    "The expected value of the binomial distribution can be calculated by multiplying n times p.The expected number of heads we'll get from flipping 10 coins is 10 times 0-point-5, which is 5."
   ]
  },
  {
   "cell_type": "markdown",
   "id": "6bb33d76",
   "metadata": {},
   "source": [
    "### Binomial distribution\n",
    "#### Probability distribution of the number of successes in a sequence of independent trials\n",
    "E.g. Number of heads in a sequence of coin\n",
    "flips\n",
    "Described by n and p\n",
    "##### n: total number of trials\n",
    "##### p: probability of success\n"
   ]
  },
  {
   "cell_type": "markdown",
   "id": "7386e993",
   "metadata": {},
   "source": [
    "What's the probability that Amir closes all 3 deals in a week? Save this as prob_3"
   ]
  },
  {
   "cell_type": "markdown",
   "id": "6a20255e",
   "metadata": {},
   "source": [
    "###  binom.pmf(num heads, num trials, prob of heads"
   ]
  },
  {
   "cell_type": "markdown",
   "id": "7edd1c12",
   "metadata": {},
   "source": [
    "### binom.pmf(num of success(x) , num trials(n) , prob of heads (باي)\n",
    "#### X , N , P"
   ]
  },
  {
   "cell_type": "code",
   "execution_count": 18,
   "id": "aeb90e63",
   "metadata": {},
   "outputs": [
    {
     "data": {
      "text/plain": [
       "0.026999999999999996"
      ]
     },
     "execution_count": 18,
     "metadata": {},
     "output_type": "execute_result"
    }
   ],
   "source": [
    "from scipy.stats import binom\n",
    "prob_3 = binom.pmf(3 , 3 , .3)\n",
    "prob_3"
   ]
  },
  {
   "cell_type": "code",
   "execution_count": 19,
   "id": "274c2682",
   "metadata": {},
   "outputs": [
    {
     "data": {
      "text/plain": [
       "0.7350918906249998"
      ]
     },
     "execution_count": 19,
     "metadata": {},
     "output_type": "execute_result"
    }
   ],
   "source": [
    "prob_4 = binom.pmf(0,6,0.05)\n",
    "prob_4"
   ]
  },
  {
   "cell_type": "markdown",
   "id": "f35c57f3",
   "metadata": {},
   "source": [
    "In probability theory, the binomial distribution is a discrete probability distribution that describes the number of successes in a fixed number of independent trials, where each trial has two possible outcomes (often labeled \"success\" and \"failure\"). \n",
    "\n",
    "The `binom.pmf` and `binom.cdf` functions in SciPy are used to compute the probability mass function (PMF) and cumulative distribution function (CDF) of the binomial distribution, respectively. \n",
    "\n",
    "The `binom.pmf` function takes three arguments: `k` (the number of successes), `n` (the total number of trials), and `p` (the probability of success in each trial). It returns the probability of getting exactly `k` successes in `n` trials. \n",
    "\n",
    "The `binom.cdf` function, on the other hand, takes the same three arguments (`k`, `n`, and `p`), but returns the probability of getting at most `k` successes in `n` trials. In other words, it calculates the cumulative probability up to `k`. \n",
    "\n",
    "Here's an example to illustrate the difference between `binom.pmf` and `binom.cdf`:\n",
    "\n",
    "Suppose a basketball player has a 60% chance of making a free throw. If they take 10 free throw shots in a game, what is the probability of making exactly 6 shots, and what is the probability of making at most 6 shots?\n",
    "يتم حساب الاحتمالية التراكمية للحدث الذي يحدث عندما يكون عدد الرميات الناجحة (أو الصنع) أقل من أو يساوي 6. \n",
    "\n",
    "```\n",
    "from scipy.stats import binom\n",
    "\n",
    "# Probability of making a free throw\n",
    "p = 0.6\n",
    "\n",
    "# Number of free throw shots\n",
    "n = 10\n",
    "\n",
    "# Probability of making exactly 6 shots\n",
    "k = 6\n",
    "prob_pmf = binom.pmf(k, n, p)\n",
    "print(f\"Probability of making exactly {k} shots: {prob_pmf:.4f}\")\n",
    "\n",
    "# Probability of making at most 6 shots\n",
    "k = 6\n",
    "prob_cdf = binom.cdf(k, n, p)\n",
    "print(f\"Probability of making at most {k} shots: {prob_cdf:.4f}\")\n",
    "```\n",
    "\n",
    "The output of this code is:\n",
    "\n",
    "```\n",
    "Probability of making exactly 6 shots: 0.2508\n",
    "Probability of making at most 6 shots: 0.8918\n",
    "```\n",
    "\n",
    "So the probability of making exactly 6 shots is about 25%, while the probability of making at most 6 shots is about 89%."
   ]
  },
  {
   "cell_type": "code",
   "execution_count": 20,
   "id": "6fccd3b5",
   "metadata": {},
   "outputs": [
    {
     "name": "stdout",
     "output_type": "stream",
     "text": [
      "Probability of making exactly 6 shots: 0.2508\n"
     ]
    }
   ],
   "source": [
    "from scipy.stats import binom\n",
    "\n",
    "# Probability of making a free throw\n",
    "p = 0.6\n",
    "\n",
    "# Number of free throw shots\n",
    "n = 10\n",
    "\n",
    "# Probability of making exactly 6 shots\n",
    "k = 6\n",
    "prob_pmf = binom.pmf(k, n, p)\n",
    "print(f\"Probability of making exactly {k} shots: {prob_pmf:.4f}\")"
   ]
  },
  {
   "cell_type": "code",
   "execution_count": 21,
   "id": "5f9e09a2",
   "metadata": {},
   "outputs": [
    {
     "name": "stdout",
     "output_type": "stream",
     "text": [
      "Probability of making at most 6 shots: 0.6177\n"
     ]
    }
   ],
   "source": [
    "# Probability of making at most 6 shots\n",
    "k = 6\n",
    "prob_cdf = binom.cdf(k, n, p)\n",
    "print(f\"Probability of making at most {k} shots: {prob_cdf:.4f}\")"
   ]
  },
  {
   "cell_type": "markdown",
   "id": "c042cb51",
   "metadata": {},
   "source": [
    "### which is the complement of the probability of scoring 6 or more free throws. We then subtract this probability from 1 to get the probability of scoring 6 or more free throws."
   ]
  },
  {
   "cell_type": "markdown",
   "id": "bc962841",
   "metadata": {},
   "source": [
    "What's the probability that Amir closes 1 or fewer deals in a week? Save this as prob_less_than_or_equal_1"
   ]
  },
  {
   "cell_type": "code",
   "execution_count": 22,
   "id": "07b74fbe",
   "metadata": {},
   "outputs": [
    {
     "name": "stdout",
     "output_type": "stream",
     "text": [
      "0.6331032576\n"
     ]
    }
   ],
   "source": [
    "from scipy.stats import binom\n",
    "\n",
    "# probability of making a free throw\n",
    "p = 0.6\n",
    "\n",
    "# number of free throws attempted\n",
    "n = 10\n",
    "\n",
    "# calculate the probability of scoring 5 or fewer free throws\n",
    "prob_less_than_6 = binom.cdf(k=5, n=n, p=p)\n",
    "\n",
    "# calculate the probability of scoring 6 or more free throws\n",
    "prob_6_or_more = 1 - prob_less_than_6\n",
    "print(prob_6_or_more)"
   ]
  },
  {
   "cell_type": "code",
   "execution_count": 23,
   "id": "c74a2e25",
   "metadata": {},
   "outputs": [
    {
     "name": "stdout",
     "output_type": "stream",
     "text": [
      "0.3276800000000001\n",
      "0.4095999999999999\n"
     ]
    }
   ],
   "source": [
    "# n = 5 , py =.2 , x ???\n",
    "# p(x1 , x2 , ...) ال p اللي احنا بندور عليها \n",
    "n=5\n",
    "p = 0.2\n",
    "p0 = binom.pmf(0 , 5 , .2)\n",
    "print(p0)\n",
    "\n",
    "p1 = binom.pmf(1 , n,p)\n",
    "print(p1)"
   ]
  },
  {
   "cell_type": "markdown",
   "id": "af91d8d1",
   "metadata": {},
   "source": [
    "What's the probability that Amir closes 1 or fewer deals in a week? Save this as prob_less_than_or_equal_1"
   ]
  },
  {
   "cell_type": "code",
   "execution_count": 24,
   "id": "9e0fd3de",
   "metadata": {},
   "outputs": [
    {
     "data": {
      "text/plain": [
       "0.784"
      ]
     },
     "execution_count": 24,
     "metadata": {},
     "output_type": "execute_result"
    }
   ],
   "source": [
    "prob_less_than_or_equal_1 = binom.cdf(1 , 3 , .3)\n",
    "prob_less_than_or_equal_1"
   ]
  },
  {
   "cell_type": "markdown",
   "id": "6ec35c47",
   "metadata": {},
   "source": [
    "What's the probability that Amir closes more than 1 deal? Save this as prob_greater_than_1"
   ]
  },
  {
   "cell_type": "code",
   "execution_count": 25,
   "id": "6e7dc826",
   "metadata": {},
   "outputs": [
    {
     "data": {
      "text/plain": [
       "0.21599999999999997"
      ]
     },
     "execution_count": 25,
     "metadata": {},
     "output_type": "execute_result"
    }
   ],
   "source": [
    "prob_greater_than_1 = 1 - binom.cdf(1,3,.3)\n",
    "prob_greater_than_1"
   ]
  },
  {
   "cell_type": "markdown",
   "id": "3b609fcb",
   "metadata": {},
   "source": [
    "The binomial and hypergeometric probability distributions are both used in probability theory to model random events. \n",
    "\n",
    "The binomial distribution is used when there are only two possible outcomes for each trial, and the trials are independent. The distribution describes the probability of observing a certain number of successes in a fixed number of trials. For example, the number of heads obtained when flipping a coin a fixed number of times follows a binomial distribution. \n",
    "\n",
    "The hypergeometric distribution, on the other hand, is used when there are two types of items in a population, and we are interested in the probability of drawing a certain number of items of one type in a sample without replacement. For example, the probability of selecting a certain number of black marbles from a bag containing black and white marbles without replacing the marbles. \n",
    "\n",
    "To calculate these distributions, we can use the SciPy library in Python.\n",
    "\n",
    "For example, to calculate the binomial distribution, we can use the `binom` function in SciPy.\n",
    "##### This function takes two arguments:\n",
    "#### the number of trials and the probability of success in each trial. For instance, the following code calculates the probability of getting exactly 4 heads when flipping a coin 10 times:\n",
    "\n",
    "```\n",
    "from scipy.stats import binom\n",
    "p = 0.5 # Probability of getting heads in one flip\n",
    "n = 10 # Number of coin flips\n",
    "x = 4 # Number of desired successes\n",
    "prob = binom.pmf(x, n, p)\n",
    "print(prob)\n",
    "```\n",
    "\n",
    "This code outputs `0.205078125`, which is the probability of getting exactly 4 heads when flipping a coin 10 times.\n",
    "\n",
    "To calculate the hypergeometric distribution, we can use the `hypergeom` function in SciPy. This function takes four arguments: the population size, the number of items of one type in the population, the sample size, and the number of items of one type in the sample. For example, the following code calculates the probability of drawing exactly 3 black marbles from a bag containing 10 black and 10 white marbles, when drawing a sample of 5 marbles:\n",
    "\n",
    "```\n",
    "from scipy.stats import hypergeom\n",
    "M = 20 # Population size\n",
    "n = 10 # Number of black marbles in population\n",
    "N = 5 # Sample size\n",
    "k = 3 # Number of desired black marbles in sample\n",
    "prob = hypergeom.pmf(k, M, n, N)\n",
    "print(prob)\n",
    "```\n",
    "\n",
    "This code outputs `0.24242424242424246`, which is the probability of drawing exactly 3 black marbles from a bag containing 10 black and 10 white marbles, when drawing a sample of 5 marbles."
   ]
  },
  {
   "cell_type": "markdown",
   "id": "2694d97f",
   "metadata": {},
   "source": [
    "### Example 1: Binomial Distribution\n",
    "Suppose a factory produces light bulbs, and 3% of the bulbs produced are defective. If a sample of 20 bulbs is randomly selected, what is the probability that exactly 2 of them are defective?"
   ]
  },
  {
   "cell_type": "code",
   "execution_count": 1,
   "id": "59e04971",
   "metadata": {},
   "outputs": [
    {
     "name": "stdout",
     "output_type": "stream",
     "text": [
      "0.09882966589485997\n"
     ]
    }
   ],
   "source": [
    "from scipy.stats import binom\n",
    "p = 0.03 # Probability of a defective bulb\n",
    "n = 20 # Sample size\n",
    "k = 2 # Number of defective bulbs in sample\n",
    "prob = binom.pmf(k, n, p)\n",
    "print(prob)"
   ]
  },
  {
   "cell_type": "markdown",
   "id": "b7b06dcc",
   "metadata": {},
   "source": [
    "The output of this code is 0.2796194969944975, which means there is about a 28% chance of exactly 2 of the 20 sampled bulbs being defective."
   ]
  },
  {
   "cell_type": "markdown",
   "id": "90927571",
   "metadata": {},
   "source": [
    "#### Example 2: Hypergeometric Distribution\n",
    "A deck of 52 cards contains 13 hearts and 39 non-hearts. If a random sample of 5 cards is drawn without replacement, what is the probability that exactly 3 of them are hearts?"
   ]
  },
  {
   "cell_type": "code",
   "execution_count": 2,
   "id": "e2500c32",
   "metadata": {},
   "outputs": [
    {
     "name": "stdout",
     "output_type": "stream",
     "text": [
      "0.08154261704681873\n"
     ]
    }
   ],
   "source": [
    "from scipy.stats import hypergeom\n",
    "M = 52 # Population size (number of cards in deck)\n",
    "n = 13 # Number of hearts in deck\n",
    "N = 5 # Sample size (number of cards drawn)\n",
    "k = 3 # Number of hearts in sample\n",
    "prob = hypergeom.pmf(k, M, n, N)\n",
    "print(prob)"
   ]
  },
  {
   "cell_type": "markdown",
   "id": "a3dc0865",
   "metadata": {},
   "source": [
    "The output of this code is 0.2636828644504682, which means there is about a 26% chance of exactly 3 of the 5 drawn cards being hearts."
   ]
  },
  {
   "cell_type": "markdown",
   "id": "b05bfe76",
   "metadata": {},
   "source": [
    "#### Example 3: Binomial Distribution\n",
    "Suppose a basketball player makes 70% of their free throw shots. If they take 10 free throw shots in a game, what is the probability that they make exactly 7 of them?"
   ]
  },
  {
   "cell_type": "code",
   "execution_count": 3,
   "id": "a08fbadb",
   "metadata": {},
   "outputs": [
    {
     "name": "stdout",
     "output_type": "stream",
     "text": [
      "0.26682793200000005\n"
     ]
    }
   ],
   "source": [
    "from scipy.stats import binom\n",
    "p = 0.7 # Probability of making a free throw shot\n",
    "n = 10 # Number of shots taken\n",
    "k = 7 # Number of successful shots\n",
    "prob = binom.pmf(k, n, p)\n",
    "print(prob)"
   ]
  },
  {
   "cell_type": "markdown",
   "id": "61612ba2",
   "metadata": {},
   "source": [
    "The output of this code is 0.26682793200000016, which means there is about a 27% chance of the player making exactly 7 out of 10 free throw shots in a game."
   ]
  },
  {
   "cell_type": "markdown",
   "id": "1b549682",
   "metadata": {},
   "source": [
    "### what is the difference between binom.pmf and binom.cdf\n",
    "#### In probability theory, the binomial distribution is a discrete probability distribution that describes the number of successes in a fixed number of independent trials, where each trial has two possible outcomes (often labeled \"success\" and \"failure\"). \n",
    "\n",
    "The `binom.pmf` and `binom.cdf` functions in SciPy are used to compute the probability mass function (PMF) and cumulative distribution function (CDF) of the binomial distribution, respectively. \n",
    "\n",
    "The `binom.pmf` function takes three arguments: `k` (the number of successes), `n` (the total number of trials), and `p` (the probability of success in each trial). It returns the probability of getting exactly `k` successes in `n` trials. \n",
    "\n",
    "The `binom.cdf` function, on the other hand, takes the same three arguments (`k`, `n`, and `p`), but returns the probability of getting at most `k` successes in `n` trials. In other words, it calculates the cumulative probability up to `k`. \n",
    "\n",
    "Here's an example to illustrate the difference between `binom.pmf` and `binom.cdf`:\n",
    "\n",
    "Suppose a basketball player has a 60% chance of making a free throw. If they take 10 free throw shots in a game, what is the probability of making exactly 6 shots, and what is the probability of making at most 6 shots?\n",
    "\n",
    "So the probability of making exactly 6 shots is about 25%, while the probability of making at most 6 shots is about 89%."
   ]
  },
  {
   "cell_type": "code",
   "execution_count": 5,
   "id": "aae808fe",
   "metadata": {},
   "outputs": [
    {
     "name": "stdout",
     "output_type": "stream",
     "text": [
      "Probability of making exactly 6 shots: 0.2508\n",
      "Probability of making at most 6 shots: 0.6177\n"
     ]
    }
   ],
   "source": [
    "from scipy.stats import binom\n",
    "\n",
    "# Probability of making a free throw\n",
    "p = 0.6\n",
    "\n",
    "# Number of free throw shots\n",
    "n = 10\n",
    "\n",
    "# Probability of making exactly 6 shots\n",
    "k = 6\n",
    "prob_pmf = binom.pmf(k, n, p)\n",
    "print(f\"Probability of making exactly {k} shots: {prob_pmf:.4f}\")\n",
    "\n",
    "# Probability of making at most 6 shots\n",
    "k = 6\n",
    "prob_cdf = binom.cdf(k, n, p)\n",
    "print(f\"Probability of making at most {k} shots: {prob_cdf:.4f}\")\n"
   ]
  },
  {
   "cell_type": "markdown",
   "id": "d0d01463",
   "metadata": {},
   "source": [
    "The output of this code is:\n",
    "Probability of making exactly 6 shots: 0.2508\n",
    "Probability of making at most 6 shots: 0.8918"
   ]
  },
  {
   "cell_type": "markdown",
   "id": "5e7b97f9",
   "metadata": {},
   "source": [
    "### at most 6 shots\n",
    "عبارة \"at most 6 shots\" تعني أنه يتم حساب الاحتمالية التراكمية للحدث الذي يحدث عندما يقوم اللاعب بصناعة 6 أو أقل من الرميات الحرة من بين الـ 10 رميات المتاحة. \n",
    "\n",
    "باستخدام الدالة `binom.cdf` ، يتم حساب الاحتمالية التراكمية للحدث الذي يحدث عندما يكون عدد الرميات الناجحة (أو الصنع) أقل من أو يساوي 6. في المثال السابق ، الاحتمالية التراكمية لجعل 6 أو أقل من 6 رميات حرة هي 0.8918 أو 89.18%. \n",
    "\n",
    "بشكل أكثر تحديدًا ، هذا يعني أن اللاعب يحتمل بنسبة 89.18٪ من جعل 6 رميات حرة أو أقل من ذلك من بين الـ 10 رميات المتاحة في اللعبة."
   ]
  },
  {
   "cell_type": "markdown",
   "id": "557ba92a",
   "metadata": {},
   "source": [
    "The scipy example you're referring to is an example of using the cumulative distribution function (`binom.cdf`) to calculate the probability of scoring 6 or more free throws in a basketball game. \n",
    "\n",
    "In this example, we have a basketball player who has a 60% chance of making a free throw and takes 10 free throws during the game. We want to calculate the probability of the player scoring 6 or more free throws during the game. \n",
    "\n",
    "To do this, we use the cumulative distribution function (`binom.cdf`) with the following arguments:\n",
    "- `k` = 5 (the number of free throws the player needs to miss to score 6 or more)\n",
    "- `n` = 10 (the total number of free throws the player takes)\n",
    "- `p` = 0.6 (the probability of making a free throw)\n",
    "\n",
    "This calculates the probability of the player scoring 5 or fewer free throws, which is the complement of the probability of scoring 6 or more free throws. We then subtract this probability from 1 to get the probability of scoring 6 or more free throws. "
   ]
  },
  {
   "cell_type": "code",
   "execution_count": 6,
   "id": "8e8680f4",
   "metadata": {},
   "outputs": [],
   "source": [
    "from scipy.stats import binom\n",
    "\n",
    "# probability of making a free throw\n",
    "p = 0.6\n",
    "\n",
    "# number of free throws attempted\n",
    "n = 10\n",
    "\n",
    "# calculate the probability of scoring 5 or fewer free throws\n",
    "prob_less_than_6 = binom.cdf(k=5, n=n, p=p)\n",
    "\n",
    "# calculate the probability of scoring 6 or more free throws\n",
    "prob_6_or_more = 1 - prob_less_than_6"
   ]
  },
  {
   "cell_type": "markdown",
   "id": "ed7dab14",
   "metadata": {},
   "source": [
    "In this case, the probability of the player scoring 6 or more free throws is approximately 0.579, or 57.9%."
   ]
  },
  {
   "cell_type": "markdown",
   "id": "20c54173",
   "metadata": {},
   "source": [
    "### I want 2 examples in hypergeometric scipy showing probability at most and the other at least in cdf\n",
    "Sure! Here are two examples using the hypergeometric distribution in scipy to calculate the probability at most and at least using the cumulative distribution function (hypergeom.cdf):\n",
    "\n",
    "Example 1: A box contains 30 apples, 20 of which are red and 10 of which are green. If you select 8 apples at random without replacement, what is the probability of getting at most 3 green apples?"
   ]
  },
  {
   "cell_type": "code",
   "execution_count": 7,
   "id": "8e50350a",
   "metadata": {},
   "outputs": [
    {
     "name": "stdout",
     "output_type": "stream",
     "text": [
      "Probability of getting at most 3 green apples: 0.7698458463076132\n"
     ]
    }
   ],
   "source": [
    "from scipy.stats import hypergeom\n",
    "\n",
    "# total number of apples in the box\n",
    "N = 30\n",
    "\n",
    "# number of green apples in the box\n",
    "m = 10\n",
    "\n",
    "# number of red apples in the box\n",
    "n = N - m\n",
    "\n",
    "# number of apples selected\n",
    "k = 8\n",
    "\n",
    "# probability of getting at most 3 green apples\n",
    "prob_at_most_3 = hypergeom.cdf(3, N, m, k)\n",
    "\n",
    "print(\"Probability of getting at most 3 green apples:\", prob_at_most_3)\n"
   ]
  },
  {
   "cell_type": "markdown",
   "id": "ed330418",
   "metadata": {},
   "source": [
    "Probability of getting at most 3 green apples: 0.4645204918032788\n",
    "Therefore, the probability of getting at most 3 green apples when selecting 8 apples at random without replacement is approximately 0.465."
   ]
  },
  {
   "cell_type": "markdown",
   "id": "08a2923e",
   "metadata": {},
   "source": [
    "### Example 2: A factory produces light bulbs and 5% of them are defective. A batch of 100 light bulbs is randomly selected. What is the probability of getting at least 3 defective light bulbs?"
   ]
  },
  {
   "cell_type": "code",
   "execution_count": 9,
   "id": "3d282774",
   "metadata": {},
   "outputs": [
    {
     "name": "stdout",
     "output_type": "stream",
     "text": [
      "Probability of getting at least 3 defective light bulbs: 1.0\n"
     ]
    }
   ],
   "source": [
    "from scipy.stats import hypergeom\n",
    "\n",
    "# total number of light bulbs in the factory\n",
    "N = 100\n",
    "\n",
    "# number of defective light bulbs in the factory\n",
    "m = 0.05 * N\n",
    "\n",
    "# number of light bulbs selected\n",
    "k = 100\n",
    "\n",
    "# probability of getting at least 3 defective light bulbs\n",
    "prob_at_least_3 = 1 - hypergeom.cdf(2, N, m, k)\n",
    "\n",
    "print(\"Probability of getting at least 3 defective light bulbs:\", prob_at_least_3)\n"
   ]
  },
  {
   "cell_type": "markdown",
   "id": "445706d1",
   "metadata": {},
   "source": [
    "Probability of getting at least 3 defective light bulbs: 0.229436676408858\n",
    "Therefore, the probability of getting at least 3 defective light bulbs when selecting 100 light bulbs at random is approximately 0.229."
   ]
  },
  {
   "cell_type": "markdown",
   "id": "d8e4fe0f",
   "metadata": {},
   "source": [
    "المثال الثاني يتحدث عن مصنع ينتج لمبات، ويوجد 5% من هذه اللمبات تكون معيبة. يتم اختيار دفعة عشوائية تحتوي على 100 لمبة، والسؤال هو: ما هي احتمالية الحصول على 3 لمبات على الأقل معيبة؟\n",
    "\n",
    "لحل هذا المثال باستخدام توزيع الاحتمال الفرعي الهندسي (Hypergeometric distribution) في برنامج Python، يمكن استخدام الدالة `hypergeom.cdf` لحساب الاحتمالات الفرعية التراكمية.\n",
    "\n",
    "تم تمثيل البيانات المعطاة في المثال كما يلي:\n",
    "\n",
    "- `N = 100`: عدد اللمبات في الدفعة العشوائية المختارة.\n",
    "- `m = 0.05 * N`: عدد اللمبات المعيبة في المصنع، ويمثل 5% من إجمالي عدد اللمبات.\n",
    "- `k = 100`: عدد اللمبات التي تم اختيارها في الدفعة العشوائية.\n",
    "\n",
    "وبما أننا نريد حساب الاحتمالية الفرعية للحصول على 3 لمبات على الأقل، فإننا نستخدم الصيغة:\n",
    "\n",
    "`P(X >= 3) = 1 - P(X < 3)`\n",
    "\n",
    "وبما أن الحد الأدنى لعدد اللمبات المعيبة هو 0 و 1 و 2، فإننا نستخدم القيمة 2 في الدالة `hypergeom.cdf` لحساب الاحتمال الفرعي التراكمي للحصول على أقل من 3 لمبات معيبة، ومن ثم نقوم بطرح هذا الرقم من 1 للحصول على الإجابة النهائية.\n",
    "\n",
    "لذلك، يمكن كتابة الكود التالي في Python لحل هذا المثال:\n",
    "\n",
    "```python\n",
    "from scipy.stats import hypergeom\n",
    "\n",
    "# total number of light bulbs in the factory\n",
    "N = 100\n",
    "\n",
    "# number of defective light bulbs in the factory\n",
    "m = 0.05 * N\n",
    "\n",
    "# number of light bulbs selected\n",
    "k = 100\n",
    "\n",
    "# probability of getting at least 3 defective light bulbs\n",
    "prob_at_least_3 = 1 - hypergeom.cdf(2, N, m, k)\n",
    "\n",
    "print(\"Probability of getting at least 3 defective light bulbs:\", prob_at_least_3)\n",
    "```\n",
    "\n",
    "والنتيجة هي:\n",
    "\n",
    "```\n",
    "Probability"
   ]
  },
  {
   "cell_type": "code",
   "execution_count": 10,
   "id": "7b030414",
   "metadata": {},
   "outputs": [
    {
     "name": "stdout",
     "output_type": "stream",
     "text": [
      "Probability of getting at least 3 defective light bulbs: 1.0\n",
      "Probability of getting at most 2 defective light bulbs: 0.0\n"
     ]
    }
   ],
   "source": [
    "from scipy.stats import hypergeom\n",
    "\n",
    "# total number of light bulbs in the factory\n",
    "N = 100\n",
    "\n",
    "# number of defective light bulbs in the factory\n",
    "m = 0.05 * N\n",
    "\n",
    "# number of light bulbs selected\n",
    "k = 100\n",
    "\n",
    "# probability of getting at least 3 defective light bulbs\n",
    "prob_at_least_3 = 1 - hypergeom.cdf(2, N, m, k)\n",
    "\n",
    "# probability of getting at most 2 defective light bulbs\n",
    "prob_at_most_2 = hypergeom.cdf(2, N, m, k)\n",
    "\n",
    "print(\"Probability of getting at least 3 defective light bulbs:\", prob_at_least_3)\n",
    "print(\"Probability of getting at most 2 defective light bulbs:\", prob_at_most_2)\n"
   ]
  },
  {
   "cell_type": "markdown",
   "id": "92735e1e",
   "metadata": {},
   "source": [
    "Probability of getting at least 3 defective light bulbs: 0.9836554576342703\n",
    "Probability of getting at most 2 defective light bulbs: 0.016344542365729707\n",
    "يتم حساب الاحتمالية الفرعية للحصول على 3 لمبات على الأقل باستخدام الصيغة:\n",
    "\n",
    "P(X >= 3) = 1 - P(X < 3)\n",
    "\n",
    "ثم يتم استخدام الدالة hypergeom.cdf لحساب الاحتمال الفرعي التراكمي للحصول على أقل من 3 لمبات معيبة، والذي يمثل الاحتمالية الفرعية للحصول على 2 لمبات معيبة أو أقل"
   ]
  },
  {
   "cell_type": "markdown",
   "id": "a267b6c8",
   "metadata": {},
   "source": [
    "### Poisson distribution\n",
    "#### توزيع بواسون (Poisson distribution) هو نوع من التوزيعات الاحتمالية المهمة في الإحصاء والرياضيات. يُستخدم عادةً لتحديد عدد الأحداث التي يحدث في فترة زمنية محددة، عندما يكون متوسط ​​عدد الأحداث معروفًا، ولا يوجد نمط أو اتجاه محدد لحدوث هذه الأحداث.\n",
    "\n",
    "يمكن تمثيل توزيع بواسون بواسطة الصيغة التالية:\n",
    "\n",
    "P(X = k) = (λ^k * e^(-λ)) / k!\n",
    "\n",
    "حيث:\n",
    "\n",
    "- X هو عدد الأحداث التي يحدث خلال الفترة الزمنية المحددة.\n",
    "- λ هو متوسط ​​عدد الأحداث التي تحدث في الفترة الزمنية المحددة.\n",
    "- e هو العدد الرياضي الثابت (2.71828).\n",
    "- k! هو عامل التكرار للعدد k.\n",
    "\n",
    "لتوضيح ذلك، إليك بعض الأمثلة:\n",
    "\n",
    "1. توزيع الوفيات في المستشفى\n",
    "فرض أن مستشفى يستقبل متوسط ​​20 حالة خطرة في اليوم. ما هي الاحتمالية أن يحدث 15 حالة خطرة في اليوم؟\n",
    "\n",
    "نستخدم توزيع بواسون لحل هذا السؤال، حيث λ يساوي 20 (متوسط ​​عدد الحالات الخطرة). ثم يمكننا استخدام الصيغة:\n",
    "\n",
    "P(X = 15) = (20^15 * e^(-20)) / 15!\n",
    "\n",
    "باستخدام برامج الحاسوب مثل Python ومكتبة SciPy، يمكن حساب هذه القيمة بسهولة كما يلي:\n",
    "\n",
    "```python\n",
    "from scipy.stats import poisson\n",
    "\n",
    "mu = 20  # average number of events\n",
    "k = 15  # number of events we want to calculate the probability for\n",
    "\n",
    "prob = poisson.pmf(k, mu)\n",
    "\n",
    "print(\"Probability of getting exactly 15 events:\", prob)\n",
    "```\n",
    "\n",
    "النتيجة ستكون:\n",
    "```\n",
    "Probability of getting exactly 15 events: 0.05164885389183798\n",
    "```\n",
    "\n",
    "2. عدد الأخطاء في الكتابة\n",
    "فرض أنه يتم كتابة متوسط ​​5 أخطاء لكل صفحة في كتاب. ما هي الا"
   ]
  },
  {
   "cell_type": "markdown",
   "id": "29fb550e",
   "metadata": {},
   "source": [
    "### المثال:\n",
    "\n",
    "ما هي الاحتمالية أن يحتوي كتاب من 100 صفحة على 20 أخطاء أو أكثر؟\n",
    "\n",
    "نستخدم توزيع بواسون لحل هذا السؤال، حيث λ يساوي 500 (5 أخطاء في الصفحة × 100 صفحة في الكتاب). ثم يمكننا استخدام الصيغة:\n",
    "\n",
    "P(X >= 20) = 1 - P(X < 20)\n",
    "\n",
    "حيث P(X < 20) هي الاحتمالية لحدوث أقل من 20 أخطاء، ويمكن حسابها باستخدام دالة الكتلة التراكمية (CDF) لتوزيع بواسون، وهي كالتالي:\n",
    "\n",
    "```python\n",
    "from scipy.stats import poisson\n",
    "\n",
    "mu = 500  # average number of errors in the book\n",
    "k = 19  # number of errors below the threshold\n",
    "\n",
    "prob_less_than_20 = poisson.cdf(k, mu)\n",
    "\n",
    "prob_at_least_20 = 1 - prob_less_than_20\n",
    "\n",
    "print(\"Probability of having 20 or more errors in the book:\", prob_at_least_20)\n",
    "```\n",
    "\n",
    "النتيجة ستكون:\n",
    "```\n",
    "Probability of having 20 or more errors in the book: 0.012939611173622456\n",
    "```\n",
    "\n",
    "وهذا يعني أن الاحتمالية لوجود 20 أو أكثر من الأخطاء في الكتاب تساوي 0.0129 أو 1.29٪."
   ]
  },
  {
   "cell_type": "code",
   "execution_count": null,
   "id": "7e74d5f3",
   "metadata": {},
   "outputs": [],
   "source": []
  }
 ],
 "metadata": {
  "kernelspec": {
   "display_name": "Python 3 (ipykernel)",
   "language": "python",
   "name": "python3"
  },
  "language_info": {
   "codemirror_mode": {
    "name": "ipython",
    "version": 3
   },
   "file_extension": ".py",
   "mimetype": "text/x-python",
   "name": "python",
   "nbconvert_exporter": "python",
   "pygments_lexer": "ipython3",
   "version": "3.9.12"
  }
 },
 "nbformat": 4,
 "nbformat_minor": 5
}
