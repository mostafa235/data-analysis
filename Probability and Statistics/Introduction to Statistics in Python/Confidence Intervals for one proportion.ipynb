{
 "cells": [
  {
   "cell_type": "markdown",
   "id": "40ebb4f3",
   "metadata": {},
   "source": [
    "### To calculate a confidence interval for a population proportion, you can use the following formula:\n",
    "\n",
    "## Confidence Interval = (p̂ - E, p̂ + E)\n",
    "\n",
    "where:\n",
    "### - p̂ is the sample proportion (the number of successes divided by the sample size).\n",
    "### - E is the margin of error, which depends on the desired level of confidence.\n",
    "\n",
    "### The margin of error (E) can be calculated using the formula:\n",
    "\n",
    "## E = z * sqrt((p̂ * (1 - p̂)) / n)\n",
    "\n",
    "where:\n",
    "### - z is the z-score corresponding to the desired level of confidence. For example, if you want a 95% confidence level, the z-score would be approximately 1.96.\n",
    "### - n is the sample size.\n",
    "\n",
    "Once you have calculated the margin of error (E), you can substitute it into the confidence interval formula to get the lower and upper bounds of the interval.\n",
    "\n",
    "Note that this formula assumes that the sample size is large enough (typically n * p̂ >= 10 and n * (1 - p̂) >= 10) for the normal approximation to hold. If the sample size is small or the proportion is close to 0 or 1, you may need to use specialized methods such as the Wilson score interval or the Agresti-Coull interval.\n",
    "\n",
    "Keep in mind that the confidence interval gives you a range of plausible values for the population proportion. It provides an estimate of the true population proportion with a certain level of confidence."
   ]
  },
  {
   "cell_type": "markdown",
   "id": "1a744bde",
   "metadata": {},
   "source": [
    "### Certainly! Let's assume you have a sample of 200 individuals, and you want to calculate a 95% confidence interval for the population proportion of individuals who prefer chocolate ice cream. In your sample, you found that 140 individuals prefer chocolate ice cream."
   ]
  },
  {
   "cell_type": "code",
   "execution_count": 1,
   "id": "135e6bd4",
   "metadata": {},
   "outputs": [
    {
     "name": "stdout",
     "output_type": "stream",
     "text": [
      "Sample Proportion: 0.7000\n",
      "Margin of Error: 0.0635\n",
      "Confidence Interval: [0.6365, 0.7635]\n"
     ]
    }
   ],
   "source": [
    "from scipy.stats import norm\n",
    "import math\n",
    "\n",
    "n = 200  # Sample size\n",
    "x = 140  # Number of individuals who prefer chocolate ice cream\n",
    "confidence_level = 0.95  # Confidence level\n",
    "\n",
    "p_hat = x / n\n",
    "z = norm.ppf(1 - (1 - confidence_level) / 2)\n",
    "margin_of_error = z * math.sqrt((p_hat * (1 - p_hat)) / n)\n",
    "lower_bound = p_hat - margin_of_error\n",
    "upper_bound = p_hat + margin_of_error\n",
    "\n",
    "print(\"Sample Proportion: {:.4f}\".format(p_hat))\n",
    "print(\"Margin of Error: {:.4f}\".format(margin_of_error))\n",
    "print(\"Confidence Interval: [{:.4f}, {:.4f}]\".format(lower_bound, upper_bound))"
   ]
  },
  {
   "cell_type": "markdown",
   "id": "8404f1d9",
   "metadata": {},
   "source": [
    "### When you run this code, it will output the sample proportion, margin of error, and the confidence interval for the population proportion."
   ]
  },
  {
   "cell_type": "code",
   "execution_count": null,
   "id": "d735700a",
   "metadata": {},
   "outputs": [],
   "source": []
  }
 ],
 "metadata": {
  "kernelspec": {
   "display_name": "Python 3 (ipykernel)",
   "language": "python",
   "name": "python3"
  },
  "language_info": {
   "codemirror_mode": {
    "name": "ipython",
    "version": 3
   },
   "file_extension": ".py",
   "mimetype": "text/x-python",
   "name": "python",
   "nbconvert_exporter": "python",
   "pygments_lexer": "ipython3",
   "version": "3.9.12"
  }
 },
 "nbformat": 4,
 "nbformat_minor": 5
}
