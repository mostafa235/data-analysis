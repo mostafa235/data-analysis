{
 "cells": [
  {
   "cell_type": "code",
   "execution_count": 1,
   "id": "a30457bb",
   "metadata": {},
   "outputs": [],
   "source": [
    "import numpy as np\n",
    "import pandas as pd\n",
    "from scipy.stats import norm"
   ]
  },
  {
   "cell_type": "markdown",
   "id": "f4ad98d7",
   "metadata": {},
   "source": [
    "What percent of women are shorter than 154 cm?"
   ]
  },
  {
   "cell_type": "code",
   "execution_count": 3,
   "id": "4fa72128",
   "metadata": {},
   "outputs": [
    {
     "name": "stdout",
     "output_type": "stream",
     "text": [
      "prob less than 154 is 0.15865525393145707\n"
     ]
    }
   ],
   "source": [
    "z = 154\n",
    "mu = 161\n",
    "s = 7\n",
    "p = norm.cdf(z,mu,s)\n",
    "print(\"prob less than 154 is\" , p)"
   ]
  },
  {
   "cell_type": "markdown",
   "id": "49e5b2a7",
   "metadata": {},
   "source": [
    "What percent of women are taller than 154 cm"
   ]
  },
  {
   "cell_type": "code",
   "execution_count": 7,
   "id": "06b686b2",
   "metadata": {},
   "outputs": [
    {
     "name": "stdout",
     "output_type": "stream",
     "text": [
      "prob more than 154 is 0.8413447460685429\n"
     ]
    }
   ],
   "source": [
    "p2 = 1 - norm.cdf(z,mu,s)\n",
    "print(\"prob more than 154 is\" , p2)"
   ]
  },
  {
   "cell_type": "markdown",
   "id": "36e290c7",
   "metadata": {},
   "source": [
    "between 154-157 cm?"
   ]
  },
  {
   "cell_type": "code",
   "execution_count": 8,
   "id": "68fe9cca",
   "metadata": {},
   "outputs": [
    {
     "data": {
      "text/plain": [
       "0.1251993291672192"
      ]
     },
     "execution_count": 8,
     "metadata": {},
     "output_type": "execute_result"
    }
   ],
   "source": [
    "p3 = norm.cdf(157,mu,s) - norm.cdf(154,mu,s)\n",
    "p3"
   ]
  },
  {
   "cell_type": "markdown",
   "id": "e3f552d6",
   "metadata": {},
   "source": [
    "What height are 90% of women shorter than?"
   ]
  },
  {
   "cell_type": "code",
   "execution_count": 9,
   "id": "65a51880",
   "metadata": {},
   "outputs": [
    {
     "data": {
      "text/plain": [
       "169.9708609588122"
      ]
     },
     "execution_count": 9,
     "metadata": {},
     "output_type": "execute_result"
    }
   ],
   "source": [
    "p4 = norm.ppf(.9 , 161 ,s )\n",
    "p4"
   ]
  },
  {
   "cell_type": "markdown",
   "id": "5ec0356f",
   "metadata": {},
   "source": [
    "What height are 90% of women taller than"
   ]
  },
  {
   "cell_type": "code",
   "execution_count": 10,
   "id": "34cd1e04",
   "metadata": {},
   "outputs": [
    {
     "data": {
      "text/plain": [
       "152.0291390411878"
      ]
     },
     "execution_count": 10,
     "metadata": {},
     "output_type": "execute_result"
    }
   ],
   "source": [
    "p5 = norm.ppf((1-.9) , mu ,s)\n",
    "p5"
   ]
  },
  {
   "cell_type": "code",
   "execution_count": null,
   "id": "48d720fc",
   "metadata": {},
   "outputs": [],
   "source": []
  }
 ],
 "metadata": {
  "kernelspec": {
   "display_name": "Python 3 (ipykernel)",
   "language": "python",
   "name": "python3"
  },
  "language_info": {
   "codemirror_mode": {
    "name": "ipython",
    "version": 3
   },
   "file_extension": ".py",
   "mimetype": "text/x-python",
   "name": "python",
   "nbconvert_exporter": "python",
   "pygments_lexer": "ipython3",
   "version": "3.9.12"
  }
 },
 "nbformat": 4,
 "nbformat_minor": 5
}
