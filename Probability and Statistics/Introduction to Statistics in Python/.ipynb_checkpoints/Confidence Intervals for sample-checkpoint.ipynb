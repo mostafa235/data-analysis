{
 "cells": [
  {
   "cell_type": "markdown",
   "id": "971f10fb",
   "metadata": {},
   "source": [
    "Based on the given information, we can conduct a hypothesis test to assess the governor's chances of reelection. Here's how we can approach the problem:\n",
    "\n",
    "1. Define the null hypothesis (H0) and the alternative hypothesis (H1):\n",
    "   - Null hypothesis (H0): The population proportion is 0.80 or larger.\n",
    "   - Alternative hypothesis (H1): The proportion is less than 0.80.\n",
    "\n",
    "2. Determine the level of significance. In this case, the level of significance is set at 0.05, which means we are willing to accept a 5% chance of making a Type I error (rejecting a true null hypothesis).\n",
    "\n",
    "3. Choose the appropriate test statistic. Since the sample size is large and we are comparing proportions, we can use the z-test statistic. The formula for the z-test statistic is:\n",
    "\n",
    "   ![z-test statistic formula](https://latex.codecogs.com/png.latex?%5Cdpi%7B120%7D%20z%20%3D%20%5Cfrac%7B%5Chat%7Bp%7D%20-%20p%7D%7B%5Csqrt%7B%5Cfrac%7Bp%20%281-p%29%7D%7Bn%7D%7D%7D)\n",
    "\n",
    "   Where:\n",
    "   - ![phat](https://latex.codecogs.com/png.latex?%5Cdpi%7B120%7D%20%5Chat%7Bp%7D) is the sample proportion (0.775)\n",
    "   - p is the hypothesized proportion (0.80)\n",
    "   - n is the sample size (2,000)\n",
    "\n",
    "4. Calculate the z-test statistic:\n",
    "   - ![z-test statistic calculation](https://latex.codecogs.com/png.latex?%5Cdpi%7B120%7D%20z%20%3D%20%5Cfrac%7B0.775%20-%200.80%7D%7B%5Csqrt%7B%5Cfrac%7B0.80%281-0.80%29%7D%7B2000%7D%7D%7D)\n",
    "\n",
    "5. Make a decision and interpret the result:\n",
    "   - Compare the calculated z-test statistic to the critical z-value from the standard normal distribution at the chosen level of significance (0.05). If the calculated z-test statistic is less than the critical z-value, we reject the null hypothesis; otherwise, we fail to reject the null hypothesis.\n",
    "   - Additionally, calculate the p-value associated with the calculated z-test statistic. If the p-value is less than the chosen level of significance (0.05), we reject the null hypothesis.\n",
    "\n",
    "Please note that I have assumed the given information provides all the necessary data and calculations required to proceed with the hypothesis test. If any other relevant information or specific data points are missing, please provide them, and I can assist further in performing the hypothesis test."
   ]
  },
  {
   "cell_type": "code",
   "execution_count": null,
   "id": "c87bdb7f",
   "metadata": {},
   "outputs": [],
   "source": []
  },
  {
   "cell_type": "markdown",
   "id": "859b2ad6",
   "metadata": {},
   "source": [
    "## Case 1: Population standard deviation is known\n",
    "If the population standard deviation is known, we can use the norm.interval() function. The formula for computing the confidence interval in this case is:"
   ]
  },
  {
   "cell_type": "markdown",
   "id": "4019340b",
   "metadata": {},
   "source": [
    "confidence_interval = stats.norm.interval(confidence_level, loc=sample_mean, scale=population_std_dev / np.sqrt(sample_size))\n",
    "\n",
    "Where:\n",
    "\n",
    "confidence_level is the desired confidence level, such as 0.95 for a 95% confidence level.\n",
    "sample_mean is the mean of the sample data.\n",
    "population_std_dev is the known population standard deviation.\n",
    "sample_size is the size of the sample data"
   ]
  },
  {
   "cell_type": "code",
   "execution_count": 1,
   "id": "2bd88ec7",
   "metadata": {},
   "outputs": [],
   "source": [
    "import numpy as np\n",
    "import scipy.stats as stats"
   ]
  },
  {
   "cell_type": "code",
   "execution_count": 2,
   "id": "ba8efb6f",
   "metadata": {},
   "outputs": [],
   "source": [
    "conf_level = 0.95\n",
    "sample_data = [10,12,15,14,16,18,11,13]\n",
    "sample_mean = np.mean(sample_data)\n",
    "pop_std = 2.5\n",
    "sample_size = len(sample_data)"
   ]
  },
  {
   "cell_type": "code",
   "execution_count": 3,
   "id": "4e723d16",
   "metadata": {},
   "outputs": [
    {
     "data": {
      "text/plain": [
       "13.625"
      ]
     },
     "execution_count": 3,
     "metadata": {},
     "output_type": "execute_result"
    }
   ],
   "source": [
    "sample_mean"
   ]
  },
  {
   "cell_type": "code",
   "execution_count": 4,
   "id": "25ae9e2c",
   "metadata": {},
   "outputs": [
    {
     "data": {
      "text/plain": [
       "(11.892620219562904, 15.357379780437096)"
      ]
     },
     "execution_count": 4,
     "metadata": {},
     "output_type": "execute_result"
    }
   ],
   "source": [
    "conf_interval = stats.norm.interval(conf_level,loc=sample_mean ,\n",
    "                                    scale = pop_std / np.sqrt(sample_size))\n",
    "conf_interval"
   ]
  },
  {
   "cell_type": "code",
   "execution_count": 13,
   "id": "1c95fa93",
   "metadata": {},
   "outputs": [
    {
     "data": {
      "text/plain": [
       "1.7323797804370962"
      ]
     },
     "execution_count": 13,
     "metadata": {},
     "output_type": "execute_result"
    }
   ],
   "source": [
    "lower_bound = conf_interval[0]\n",
    "upper_bound = conf_interval[1]\n",
    "\n",
    "margin_of_error = abs(upper_bound - sample_mean)\n",
    "margin_of_error"
   ]
  },
  {
   "cell_type": "code",
   "execution_count": 15,
   "id": "d7f3b104",
   "metadata": {},
   "outputs": [
    {
     "data": {
      "text/plain": [
       "15.357379780437096"
      ]
     },
     "execution_count": 15,
     "metadata": {},
     "output_type": "execute_result"
    }
   ],
   "source": [
    "sample_mean+margin_of_error"
   ]
  },
  {
   "cell_type": "code",
   "execution_count": 16,
   "id": "fbf02937",
   "metadata": {},
   "outputs": [
    {
     "data": {
      "text/plain": [
       "11.892620219562904"
      ]
     },
     "execution_count": 16,
     "metadata": {},
     "output_type": "execute_result"
    }
   ],
   "source": [
    "sample_mean-margin_of_error"
   ]
  },
  {
   "cell_type": "code",
   "execution_count": 12,
   "id": "107001bb",
   "metadata": {},
   "outputs": [
    {
     "data": {
      "text/plain": [
       "1.7323797804370962"
      ]
     },
     "execution_count": 12,
     "metadata": {},
     "output_type": "execute_result"
    }
   ],
   "source": [
    "# margin_of_error = abs(conf_interval[0] - sample_mean)\n",
    "# margin_of_error\n",
    "# or\n",
    "margin_of_error = abs(conf_interval[1] - sample_mean)\n",
    "margin_of_error"
   ]
  },
  {
   "cell_type": "code",
   "execution_count": 10,
   "id": "61dfc1cf",
   "metadata": {},
   "outputs": [
    {
     "name": "stdout",
     "output_type": "stream",
     "text": [
      "15.357379780437096\n"
     ]
    }
   ],
   "source": [
    "print(13.625 + 1.7323797804370962) "
   ]
  },
  {
   "cell_type": "markdown",
   "id": "941955c7",
   "metadata": {},
   "source": [
    "## Case 2: Population standard deviation is unknown\n",
    "If the population standard deviation is unknown, we can use the t.interval() function. The formula for computing the confidence interval in this case is:\n",
    "#### confidence_interval = stats.t.interval(confidence_level, df=sample_size - 1, loc=sample_mean, scale=stats.sem(sample_data))\n",
    "\n",
    "Where:\n",
    "\n",
    "confidence_level is the desired confidence level, such as 0.95 for a 95% confidence level.\n",
    "sample_mean is the mean of the sample data.\n",
    "sample_size is the size of the sample data.\n",
    "stats.sem(sample_data) calculates the standard error of the mean."
   ]
  },
  {
   "cell_type": "code",
   "execution_count": 6,
   "id": "43df86a8",
   "metadata": {},
   "outputs": [
    {
     "data": {
      "text/plain": [
       "(11.393434800405768, 15.856565199594232)"
      ]
     },
     "execution_count": 6,
     "metadata": {},
     "output_type": "execute_result"
    }
   ],
   "source": [
    "conf_level = 0.95\n",
    "sample_data = [10,12,15,14,16,18,11,13]\n",
    "sample_mean = np.mean(sample_data)\n",
    "sample_size = len(sample_data)\n",
    "\n",
    "conf_interval = stats.t.interval(conf_level , df = sample_size-1,\n",
    "                                 loc = sample_mean,\n",
    "                                 scale = stats.sem(sample_data))\n",
    "conf_interval"
   ]
  },
  {
   "cell_type": "code",
   "execution_count": null,
   "id": "c020b40f",
   "metadata": {},
   "outputs": [],
   "source": []
  },
  {
   "cell_type": "code",
   "execution_count": 7,
   "id": "484a0ba5",
   "metadata": {},
   "outputs": [
    {
     "data": {
      "text/plain": [
       "(45.16887961448081, 45.671120385519195)"
      ]
     },
     "execution_count": 7,
     "metadata": {},
     "output_type": "execute_result"
    }
   ],
   "source": [
    "sample_size = 256\n",
    "sample_mean = 45.42\n",
    "pop_std = 2.05\n",
    "conf_level = 0.95\n",
    "\n",
    "conf_interval = stats.norm.interval(conf_level, loc = sample_mean,\n",
    "                                   scale = pop_std/np.sqrt(sample_size))\n",
    "conf_interval"
   ]
  },
  {
   "cell_type": "code",
   "execution_count": null,
   "id": "88a8cdc5",
   "metadata": {},
   "outputs": [],
   "source": []
  },
  {
   "cell_type": "code",
   "execution_count": 9,
   "id": "62746124",
   "metadata": {},
   "outputs": [
    {
     "name": "stdout",
     "output_type": "stream",
     "text": [
      "45.16887961448081 \n",
      " 45.671120385519195\n",
      "0.2511203855191937\n"
     ]
    }
   ],
   "source": [
    "import numpy as np\n",
    "from scipy import stats\n",
    "\n",
    "sample_size = 256\n",
    "sample_mean = 45.42\n",
    "pop_std = 2.05\n",
    "conf_level = 0.95\n",
    "\n",
    "conf_interval = stats.norm.interval(conf_level, loc=sample_mean,\n",
    "                                    scale=pop_std / np.sqrt(sample_size))\n",
    "\n",
    "lower_bound = conf_interval[0]\n",
    "upper_bound = conf_interval[1]\n",
    "print(lower_bound , '\\n' , upper_bound)\n",
    "\n",
    "margin_of_error = abs(upper_bound - sample_mean)\n",
    "print(margin_of_error)\n"
   ]
  },
  {
   "cell_type": "code",
   "execution_count": null,
   "id": "b5de7403",
   "metadata": {},
   "outputs": [],
   "source": []
  },
  {
   "cell_type": "code",
   "execution_count": 3,
   "id": "15104490",
   "metadata": {},
   "outputs": [
    {
     "data": {
      "text/plain": [
       "(12.06347227066809, 12.93652772933191)"
      ]
     },
     "execution_count": 3,
     "metadata": {},
     "output_type": "execute_result"
    }
   ],
   "source": [
    "n = 100\n",
    "x = 12.5\n",
    "s = 2.2\n",
    "c = .95\n",
    "\n",
    "conf_interval = stats.t.interval(c , df=n-1 , loc=x,\n",
    "                                 scale = s / np.sqrt(n))\n",
    "conf_interval"
   ]
  },
  {
   "cell_type": "code",
   "execution_count": null,
   "id": "df95bd51",
   "metadata": {},
   "outputs": [],
   "source": []
  },
  {
   "cell_type": "code",
   "execution_count": 1,
   "id": "c0988872",
   "metadata": {},
   "outputs": [
    {
     "name": "stdout",
     "output_type": "stream",
     "text": [
      "Sample Proportion: 0.7000\n",
      "Margin of Error: 0.0635\n",
      "Confidence Interval: [0.6365, 0.7635]\n"
     ]
    }
   ],
   "source": [
    "from scipy.stats import norm\n",
    "import math\n",
    "\n",
    "n = 200  # Sample size\n",
    "x = 140  # Number of individuals who prefer chocolate ice cream\n",
    "confidence_level = 0.95  # Confidence level\n",
    "\n",
    "p_hat = x / n\n",
    "z = norm.ppf(1 - (1 - confidence_level) / 2)\n",
    "margin_of_error = z * math.sqrt((p_hat * (1 - p_hat)) / n)\n",
    "lower_bound = p_hat - margin_of_error\n",
    "upper_bound = p_hat + margin_of_error\n",
    "\n",
    "print(\"Sample Proportion: {:.4f}\".format(p_hat))\n",
    "print(\"Margin of Error: {:.4f}\".format(margin_of_error))\n",
    "print(\"Confidence Interval: [{:.4f}, {:.4f}]\".format(lower_bound, upper_bound))\n"
   ]
  },
  {
   "cell_type": "code",
   "execution_count": null,
   "id": "f4816b7f",
   "metadata": {},
   "outputs": [],
   "source": []
  }
 ],
 "metadata": {
  "kernelspec": {
   "display_name": "Python 3 (ipykernel)",
   "language": "python",
   "name": "python3"
  },
  "language_info": {
   "codemirror_mode": {
    "name": "ipython",
    "version": 3
   },
   "file_extension": ".py",
   "mimetype": "text/x-python",
   "name": "python",
   "nbconvert_exporter": "python",
   "pygments_lexer": "ipython3",
   "version": "3.9.12"
  }
 },
 "nbformat": 4,
 "nbformat_minor": 5
}
