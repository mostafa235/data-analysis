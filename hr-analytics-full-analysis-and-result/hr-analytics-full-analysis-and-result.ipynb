{
 "cells": [
  {
   "cell_type": "markdown",
   "metadata": {
    "id": "r6khbtLcpnQ1"
   },
   "source": [
    "# <center> HR ANALYTICS  </center>\n",
    "\n",
    "##### MADE BY - Ashutosh Sahay\n"
   ]
  },
  {
   "cell_type": "markdown",
   "metadata": {},
   "source": [
    "# <center> TABLE OF CONTENTS </center>"
   ]
  },
  {
   "cell_type": "markdown",
   "metadata": {},
   "source": [
    "<h4>\n",
    "<ol>\n",
    "    <li> Loading required libraries and datasets<br>\n",
    "    <br><li> Preprocessing \n",
    "        <ol>\n",
    "            <li> Basic Preprocessing\n",
    "            <li> Splitting the datasets\n",
    "        </ol>\n",
    "        <br>\n",
    "    <li> EDA <br>\n",
    "   <br><li> Feature Engineering<br>\n",
    "   <br><li> Feature Selection\n",
    "        <ol> \n",
    "            <li> Forward Selection\n",
    "            <li> Backward Selection\n",
    "            <li> Recursive Elimination\n",
    "            <li> Tree Based Selection\n",
    "            <li> Feature Scaling\n",
    "         </ol><br>\n",
    "    <br> <li> Model Training\n",
    "         <ol> \n",
    "            <li> Logistic Regression Classification\n",
    "            <li> Decision Trees\n",
    "            <li> Random Forest\n",
    "            <li> XGBoost\n",
    "            <li> KNN\n",
    "         </ol><br> \n",
    "     <li> Hyperparameter Tuning <br> \n",
    "    <br>  <li> Predictions on Test Set \n",
    " </ol>\n",
    "    </h4>"
   ]
  },
  {
   "cell_type": "markdown",
   "metadata": {},
   "source": [
    "<br>\n",
    "\n",
    "# <center> ----- Loading required libraries and datasets ----- </center>\n",
    "\n",
    "<br>"
   ]
  },
  {
   "cell_type": "code",
   "execution_count": 80,
   "metadata": {
    "execution": {
     "iopub.execute_input": "2021-08-15T13:13:09.938811Z",
     "iopub.status.busy": "2021-08-15T13:13:09.938401Z",
     "iopub.status.idle": "2021-08-15T13:13:09.947957Z",
     "shell.execute_reply": "2021-08-15T13:13:09.946905Z",
     "shell.execute_reply.started": "2021-08-15T13:13:09.938777Z"
    }
   },
   "outputs": [
    {
     "name": "stdout",
     "output_type": "stream",
     "text": [
      "/kaggle/input/hranalysis/train.csv\n",
      "/kaggle/input/hranalysis/test.csv\n"
     ]
    }
   ],
   "source": [
    "# This Python 3 environment comes with many helpful analytics libraries installed\n",
    "# It is defined by the kaggle/python Docker image: https://github.com/kaggle/docker-python\n",
    "# For example, here's several helpful packages to load\n",
    "\n",
    "import numpy as np # linear algebra\n",
    "import pandas as pd # data processing, CSV file I/O (e.g. pd.read_csv)\n",
    "\n",
    "# Input data files are available in the read-only \"../input/\" directory\n",
    "# For example, running this (by clicking run or pressing Shift+Enter) will list all files under the input directory\n",
    "\n",
    "import os\n",
    "for dirname, _, filenames in os.walk('/kaggle/input'):\n",
    "    for filename in filenames:\n",
    "        print(os.path.join(dirname, filename))\n",
    "\n",
    "# You can write up to 20GB to the current directory (/kaggle/working/) that gets preserved as output when you create a version using \"Save & Run All\" \n",
    "# You can also write temporary files to /kaggle/temp/, but they won't be saved outside of the current session"
   ]
  },
  {
   "cell_type": "code",
   "execution_count": 81,
   "metadata": {
    "execution": {
     "iopub.execute_input": "2021-08-15T13:13:09.959056Z",
     "iopub.status.busy": "2021-08-15T13:13:09.958677Z",
     "iopub.status.idle": "2021-08-15T13:13:09.967944Z",
     "shell.execute_reply": "2021-08-15T13:13:09.966815Z",
     "shell.execute_reply.started": "2021-08-15T13:13:09.959022Z"
    },
    "id": "lM11WAJIpnQ_"
   },
   "outputs": [],
   "source": [
    "#Importing the required libraries\n",
    "import pandas as pd\n",
    "import numpy as np\n",
    "import matplotlib.pyplot as plt\n",
    "import seaborn as sns\n",
    "\n",
    "# For splitting \n",
    "from collections import Counter\n",
    "from sklearn.model_selection import train_test_split\n",
    "\n",
    "# For Feature Selection\n",
    "from mlxtend.feature_selection import SequentialFeatureSelector\n",
    "from sklearn.feature_selection import RFECV\n",
    "\n",
    "# Modeling & Accuracy Metrics\n",
    "from sklearn.linear_model import LogisticRegression\n",
    "from sklearn.svm import SVC\n",
    "from sklearn.neighbors import KNeighborsClassifier\n",
    "from sklearn.tree import DecisionTreeClassifier\n",
    "from sklearn.ensemble import RandomForestClassifier\n",
    "from xgboost import XGBClassifier\n",
    "from sklearn.metrics import classification_report, confusion_matrix\n",
    "from sklearn.preprocessing import StandardScaler\n",
    "from sklearn.preprocessing import MinMaxScaler\n",
    "\n",
    "# For HyperParameter Tuning\n",
    "from sklearn.model_selection import RandomizedSearchCV\n",
    "\n",
    "import warnings\n",
    "warnings.filterwarnings('ignore')"
   ]
  },
  {
   "cell_type": "code",
   "execution_count": 82,
   "metadata": {
    "execution": {
     "iopub.execute_input": "2021-08-15T13:13:10.007793Z",
     "iopub.status.busy": "2021-08-15T13:13:10.007273Z",
     "iopub.status.idle": "2021-08-15T13:13:10.119150Z",
     "shell.execute_reply": "2021-08-15T13:13:10.118320Z",
     "shell.execute_reply.started": "2021-08-15T13:13:10.007759Z"
    },
    "id": "fOqPD3e_pnRB",
    "outputId": "f55e2f89-0eb9-4011-8c72-b93d8e2f0184"
   },
   "outputs": [
    {
     "data": {
      "text/html": [
       "<div>\n",
       "<style scoped>\n",
       "    .dataframe tbody tr th:only-of-type {\n",
       "        vertical-align: middle;\n",
       "    }\n",
       "\n",
       "    .dataframe tbody tr th {\n",
       "        vertical-align: top;\n",
       "    }\n",
       "\n",
       "    .dataframe thead th {\n",
       "        text-align: right;\n",
       "    }\n",
       "</style>\n",
       "<table border=\"1\" class=\"dataframe\">\n",
       "  <thead>\n",
       "    <tr style=\"text-align: right;\">\n",
       "      <th></th>\n",
       "      <th>employee_id</th>\n",
       "      <th>department</th>\n",
       "      <th>region</th>\n",
       "      <th>education</th>\n",
       "      <th>gender</th>\n",
       "      <th>recruitment_channel</th>\n",
       "      <th>no_of_trainings</th>\n",
       "      <th>age</th>\n",
       "      <th>previous_year_rating</th>\n",
       "      <th>length_of_service</th>\n",
       "      <th>KPIs_met &gt;80%</th>\n",
       "      <th>awards_won?</th>\n",
       "      <th>avg_training_score</th>\n",
       "      <th>is_promoted</th>\n",
       "    </tr>\n",
       "  </thead>\n",
       "  <tbody>\n",
       "    <tr>\n",
       "      <th>0</th>\n",
       "      <td>65438</td>\n",
       "      <td>Sales &amp; Marketing</td>\n",
       "      <td>region_7</td>\n",
       "      <td>Master's &amp; above</td>\n",
       "      <td>f</td>\n",
       "      <td>sourcing</td>\n",
       "      <td>1</td>\n",
       "      <td>35</td>\n",
       "      <td>5.0</td>\n",
       "      <td>8</td>\n",
       "      <td>1</td>\n",
       "      <td>0</td>\n",
       "      <td>49</td>\n",
       "      <td>0</td>\n",
       "    </tr>\n",
       "    <tr>\n",
       "      <th>1</th>\n",
       "      <td>65141</td>\n",
       "      <td>Operations</td>\n",
       "      <td>region_22</td>\n",
       "      <td>Bachelor's</td>\n",
       "      <td>m</td>\n",
       "      <td>other</td>\n",
       "      <td>1</td>\n",
       "      <td>30</td>\n",
       "      <td>5.0</td>\n",
       "      <td>4</td>\n",
       "      <td>0</td>\n",
       "      <td>0</td>\n",
       "      <td>60</td>\n",
       "      <td>0</td>\n",
       "    </tr>\n",
       "    <tr>\n",
       "      <th>2</th>\n",
       "      <td>7513</td>\n",
       "      <td>Sales &amp; Marketing</td>\n",
       "      <td>region_19</td>\n",
       "      <td>Bachelor's</td>\n",
       "      <td>m</td>\n",
       "      <td>sourcing</td>\n",
       "      <td>1</td>\n",
       "      <td>34</td>\n",
       "      <td>3.0</td>\n",
       "      <td>7</td>\n",
       "      <td>0</td>\n",
       "      <td>0</td>\n",
       "      <td>50</td>\n",
       "      <td>0</td>\n",
       "    </tr>\n",
       "    <tr>\n",
       "      <th>3</th>\n",
       "      <td>2542</td>\n",
       "      <td>Sales &amp; Marketing</td>\n",
       "      <td>region_23</td>\n",
       "      <td>Bachelor's</td>\n",
       "      <td>m</td>\n",
       "      <td>other</td>\n",
       "      <td>2</td>\n",
       "      <td>39</td>\n",
       "      <td>1.0</td>\n",
       "      <td>10</td>\n",
       "      <td>0</td>\n",
       "      <td>0</td>\n",
       "      <td>50</td>\n",
       "      <td>0</td>\n",
       "    </tr>\n",
       "    <tr>\n",
       "      <th>4</th>\n",
       "      <td>48945</td>\n",
       "      <td>Technology</td>\n",
       "      <td>region_26</td>\n",
       "      <td>Bachelor's</td>\n",
       "      <td>m</td>\n",
       "      <td>other</td>\n",
       "      <td>1</td>\n",
       "      <td>45</td>\n",
       "      <td>3.0</td>\n",
       "      <td>2</td>\n",
       "      <td>0</td>\n",
       "      <td>0</td>\n",
       "      <td>73</td>\n",
       "      <td>0</td>\n",
       "    </tr>\n",
       "  </tbody>\n",
       "</table>\n",
       "</div>"
      ],
      "text/plain": [
       "   employee_id         department     region         education gender  \\\n",
       "0        65438  Sales & Marketing   region_7  Master's & above      f   \n",
       "1        65141         Operations  region_22        Bachelor's      m   \n",
       "2         7513  Sales & Marketing  region_19        Bachelor's      m   \n",
       "3         2542  Sales & Marketing  region_23        Bachelor's      m   \n",
       "4        48945         Technology  region_26        Bachelor's      m   \n",
       "\n",
       "  recruitment_channel  no_of_trainings  age  previous_year_rating  \\\n",
       "0            sourcing                1   35                   5.0   \n",
       "1               other                1   30                   5.0   \n",
       "2            sourcing                1   34                   3.0   \n",
       "3               other                2   39                   1.0   \n",
       "4               other                1   45                   3.0   \n",
       "\n",
       "   length_of_service  KPIs_met >80%  awards_won?  avg_training_score  \\\n",
       "0                  8              1            0                  49   \n",
       "1                  4              0            0                  60   \n",
       "2                  7              0            0                  50   \n",
       "3                 10              0            0                  50   \n",
       "4                  2              0            0                  73   \n",
       "\n",
       "   is_promoted  \n",
       "0            0  \n",
       "1            0  \n",
       "2            0  \n",
       "3            0  \n",
       "4            0  "
      ]
     },
     "execution_count": 82,
     "metadata": {},
     "output_type": "execute_result"
    }
   ],
   "source": [
    "#Reading Train data set\n",
    "dftrain = pd.read_csv(\"/kaggle/input/hranalysis/train.csv\")\n",
    "dftrain.head()"
   ]
  },
  {
   "cell_type": "code",
   "execution_count": 83,
   "metadata": {
    "execution": {
     "iopub.execute_input": "2021-08-15T13:13:10.120717Z",
     "iopub.status.busy": "2021-08-15T13:13:10.120323Z",
     "iopub.status.idle": "2021-08-15T13:13:10.178543Z",
     "shell.execute_reply": "2021-08-15T13:13:10.177589Z",
     "shell.execute_reply.started": "2021-08-15T13:13:10.120686Z"
    },
    "id": "0OelYNUzpnRC",
    "outputId": "bebb9be6-da3c-4af7-df27-4efe73781596"
   },
   "outputs": [
    {
     "data": {
      "text/html": [
       "<div>\n",
       "<style scoped>\n",
       "    .dataframe tbody tr th:only-of-type {\n",
       "        vertical-align: middle;\n",
       "    }\n",
       "\n",
       "    .dataframe tbody tr th {\n",
       "        vertical-align: top;\n",
       "    }\n",
       "\n",
       "    .dataframe thead th {\n",
       "        text-align: right;\n",
       "    }\n",
       "</style>\n",
       "<table border=\"1\" class=\"dataframe\">\n",
       "  <thead>\n",
       "    <tr style=\"text-align: right;\">\n",
       "      <th></th>\n",
       "      <th>employee_id</th>\n",
       "      <th>department</th>\n",
       "      <th>region</th>\n",
       "      <th>education</th>\n",
       "      <th>gender</th>\n",
       "      <th>recruitment_channel</th>\n",
       "      <th>no_of_trainings</th>\n",
       "      <th>age</th>\n",
       "      <th>previous_year_rating</th>\n",
       "      <th>length_of_service</th>\n",
       "      <th>KPIs_met &gt;80%</th>\n",
       "      <th>awards_won?</th>\n",
       "      <th>avg_training_score</th>\n",
       "    </tr>\n",
       "  </thead>\n",
       "  <tbody>\n",
       "    <tr>\n",
       "      <th>0</th>\n",
       "      <td>8724</td>\n",
       "      <td>Technology</td>\n",
       "      <td>region_26</td>\n",
       "      <td>Bachelor's</td>\n",
       "      <td>m</td>\n",
       "      <td>sourcing</td>\n",
       "      <td>1</td>\n",
       "      <td>24</td>\n",
       "      <td>NaN</td>\n",
       "      <td>1</td>\n",
       "      <td>1</td>\n",
       "      <td>0</td>\n",
       "      <td>77</td>\n",
       "    </tr>\n",
       "    <tr>\n",
       "      <th>1</th>\n",
       "      <td>74430</td>\n",
       "      <td>HR</td>\n",
       "      <td>region_4</td>\n",
       "      <td>Bachelor's</td>\n",
       "      <td>f</td>\n",
       "      <td>other</td>\n",
       "      <td>1</td>\n",
       "      <td>31</td>\n",
       "      <td>3.0</td>\n",
       "      <td>5</td>\n",
       "      <td>0</td>\n",
       "      <td>0</td>\n",
       "      <td>51</td>\n",
       "    </tr>\n",
       "    <tr>\n",
       "      <th>2</th>\n",
       "      <td>72255</td>\n",
       "      <td>Sales &amp; Marketing</td>\n",
       "      <td>region_13</td>\n",
       "      <td>Bachelor's</td>\n",
       "      <td>m</td>\n",
       "      <td>other</td>\n",
       "      <td>1</td>\n",
       "      <td>31</td>\n",
       "      <td>1.0</td>\n",
       "      <td>4</td>\n",
       "      <td>0</td>\n",
       "      <td>0</td>\n",
       "      <td>47</td>\n",
       "    </tr>\n",
       "    <tr>\n",
       "      <th>3</th>\n",
       "      <td>38562</td>\n",
       "      <td>Procurement</td>\n",
       "      <td>region_2</td>\n",
       "      <td>Bachelor's</td>\n",
       "      <td>f</td>\n",
       "      <td>other</td>\n",
       "      <td>3</td>\n",
       "      <td>31</td>\n",
       "      <td>2.0</td>\n",
       "      <td>9</td>\n",
       "      <td>0</td>\n",
       "      <td>0</td>\n",
       "      <td>65</td>\n",
       "    </tr>\n",
       "    <tr>\n",
       "      <th>4</th>\n",
       "      <td>64486</td>\n",
       "      <td>Finance</td>\n",
       "      <td>region_29</td>\n",
       "      <td>Bachelor's</td>\n",
       "      <td>m</td>\n",
       "      <td>sourcing</td>\n",
       "      <td>1</td>\n",
       "      <td>30</td>\n",
       "      <td>4.0</td>\n",
       "      <td>7</td>\n",
       "      <td>0</td>\n",
       "      <td>0</td>\n",
       "      <td>61</td>\n",
       "    </tr>\n",
       "  </tbody>\n",
       "</table>\n",
       "</div>"
      ],
      "text/plain": [
       "   employee_id         department     region   education gender  \\\n",
       "0         8724         Technology  region_26  Bachelor's      m   \n",
       "1        74430                 HR   region_4  Bachelor's      f   \n",
       "2        72255  Sales & Marketing  region_13  Bachelor's      m   \n",
       "3        38562        Procurement   region_2  Bachelor's      f   \n",
       "4        64486            Finance  region_29  Bachelor's      m   \n",
       "\n",
       "  recruitment_channel  no_of_trainings  age  previous_year_rating  \\\n",
       "0            sourcing                1   24                   NaN   \n",
       "1               other                1   31                   3.0   \n",
       "2               other                1   31                   1.0   \n",
       "3               other                3   31                   2.0   \n",
       "4            sourcing                1   30                   4.0   \n",
       "\n",
       "   length_of_service  KPIs_met >80%  awards_won?  avg_training_score  \n",
       "0                  1              1            0                  77  \n",
       "1                  5              0            0                  51  \n",
       "2                  4              0            0                  47  \n",
       "3                  9              0            0                  65  \n",
       "4                  7              0            0                  61  "
      ]
     },
     "execution_count": 83,
     "metadata": {},
     "output_type": "execute_result"
    }
   ],
   "source": [
    "#Reading Test data set\n",
    "test=pd.read_csv(\"/kaggle/input/hranalysis/test.csv\")\n",
    "test.head()"
   ]
  },
  {
   "cell_type": "code",
   "execution_count": 84,
   "metadata": {
    "execution": {
     "iopub.execute_input": "2021-08-15T13:13:10.181177Z",
     "iopub.status.busy": "2021-08-15T13:13:10.180759Z",
     "iopub.status.idle": "2021-08-15T13:13:10.187232Z",
     "shell.execute_reply": "2021-08-15T13:13:10.186459Z",
     "shell.execute_reply.started": "2021-08-15T13:13:10.181134Z"
    },
    "id": "RrisJE3lpnRD",
    "outputId": "99c2f537-cb29-49c9-846a-4c67668d10da"
   },
   "outputs": [
    {
     "name": "stdout",
     "output_type": "stream",
     "text": [
      "Original Train Set Shape :  (54808, 14)\n",
      "Test Set Shape :   (23490, 13)\n"
     ]
    }
   ],
   "source": [
    "#Shapes of both the data sets\n",
    "print(\"Original Train Set Shape : \",dftrain.shape)\n",
    "print(\"Test Set Shape :  \",test.shape)"
   ]
  },
  {
   "cell_type": "markdown",
   "metadata": {
    "id": "TWhQHBNapnRE"
   },
   "source": [
    "<br>\n",
    "\n",
    "# <center> ----- PREPROCESSING ----- </center>\n",
    "\n",
    "<br>"
   ]
  },
  {
   "cell_type": "markdown",
   "metadata": {},
   "source": [
    "***1. Preprocessing lets us to clean data and remove any inconsistencies like null value, duplicate values etc to make further model bulding process hassle free***"
   ]
  },
  {
   "cell_type": "code",
   "execution_count": 85,
   "metadata": {
    "execution": {
     "iopub.execute_input": "2021-08-15T13:13:10.188942Z",
     "iopub.status.busy": "2021-08-15T13:13:10.188475Z",
     "iopub.status.idle": "2021-08-15T13:13:10.252267Z",
     "shell.execute_reply": "2021-08-15T13:13:10.251546Z",
     "shell.execute_reply.started": "2021-08-15T13:13:10.188906Z"
    },
    "id": "j3BS-yH0pnRE",
    "outputId": "e3674873-c924-4cd0-af59-bb2022ebc29c"
   },
   "outputs": [
    {
     "data": {
      "text/html": [
       "<div>\n",
       "<style scoped>\n",
       "    .dataframe tbody tr th:only-of-type {\n",
       "        vertical-align: middle;\n",
       "    }\n",
       "\n",
       "    .dataframe tbody tr th {\n",
       "        vertical-align: top;\n",
       "    }\n",
       "\n",
       "    .dataframe thead th {\n",
       "        text-align: right;\n",
       "    }\n",
       "</style>\n",
       "<table border=\"1\" class=\"dataframe\">\n",
       "  <thead>\n",
       "    <tr style=\"text-align: right;\">\n",
       "      <th></th>\n",
       "      <th>employee_id</th>\n",
       "      <th>no_of_trainings</th>\n",
       "      <th>age</th>\n",
       "      <th>previous_year_rating</th>\n",
       "      <th>length_of_service</th>\n",
       "      <th>KPIs_met &gt;80%</th>\n",
       "      <th>awards_won?</th>\n",
       "      <th>avg_training_score</th>\n",
       "      <th>is_promoted</th>\n",
       "    </tr>\n",
       "  </thead>\n",
       "  <tbody>\n",
       "    <tr>\n",
       "      <th>count</th>\n",
       "      <td>54808.000000</td>\n",
       "      <td>54808.000000</td>\n",
       "      <td>54808.000000</td>\n",
       "      <td>50684.000000</td>\n",
       "      <td>54808.000000</td>\n",
       "      <td>54808.000000</td>\n",
       "      <td>54808.000000</td>\n",
       "      <td>54808.000000</td>\n",
       "      <td>54808.000000</td>\n",
       "    </tr>\n",
       "    <tr>\n",
       "      <th>mean</th>\n",
       "      <td>39195.830627</td>\n",
       "      <td>1.253011</td>\n",
       "      <td>34.803915</td>\n",
       "      <td>3.329256</td>\n",
       "      <td>5.865512</td>\n",
       "      <td>0.351974</td>\n",
       "      <td>0.023172</td>\n",
       "      <td>63.386750</td>\n",
       "      <td>0.085170</td>\n",
       "    </tr>\n",
       "    <tr>\n",
       "      <th>std</th>\n",
       "      <td>22586.581449</td>\n",
       "      <td>0.609264</td>\n",
       "      <td>7.660169</td>\n",
       "      <td>1.259993</td>\n",
       "      <td>4.265094</td>\n",
       "      <td>0.477590</td>\n",
       "      <td>0.150450</td>\n",
       "      <td>13.371559</td>\n",
       "      <td>0.279137</td>\n",
       "    </tr>\n",
       "    <tr>\n",
       "      <th>min</th>\n",
       "      <td>1.000000</td>\n",
       "      <td>1.000000</td>\n",
       "      <td>20.000000</td>\n",
       "      <td>1.000000</td>\n",
       "      <td>1.000000</td>\n",
       "      <td>0.000000</td>\n",
       "      <td>0.000000</td>\n",
       "      <td>39.000000</td>\n",
       "      <td>0.000000</td>\n",
       "    </tr>\n",
       "    <tr>\n",
       "      <th>25%</th>\n",
       "      <td>19669.750000</td>\n",
       "      <td>1.000000</td>\n",
       "      <td>29.000000</td>\n",
       "      <td>3.000000</td>\n",
       "      <td>3.000000</td>\n",
       "      <td>0.000000</td>\n",
       "      <td>0.000000</td>\n",
       "      <td>51.000000</td>\n",
       "      <td>0.000000</td>\n",
       "    </tr>\n",
       "    <tr>\n",
       "      <th>50%</th>\n",
       "      <td>39225.500000</td>\n",
       "      <td>1.000000</td>\n",
       "      <td>33.000000</td>\n",
       "      <td>3.000000</td>\n",
       "      <td>5.000000</td>\n",
       "      <td>0.000000</td>\n",
       "      <td>0.000000</td>\n",
       "      <td>60.000000</td>\n",
       "      <td>0.000000</td>\n",
       "    </tr>\n",
       "    <tr>\n",
       "      <th>75%</th>\n",
       "      <td>58730.500000</td>\n",
       "      <td>1.000000</td>\n",
       "      <td>39.000000</td>\n",
       "      <td>4.000000</td>\n",
       "      <td>7.000000</td>\n",
       "      <td>1.000000</td>\n",
       "      <td>0.000000</td>\n",
       "      <td>76.000000</td>\n",
       "      <td>0.000000</td>\n",
       "    </tr>\n",
       "    <tr>\n",
       "      <th>max</th>\n",
       "      <td>78298.000000</td>\n",
       "      <td>10.000000</td>\n",
       "      <td>60.000000</td>\n",
       "      <td>5.000000</td>\n",
       "      <td>37.000000</td>\n",
       "      <td>1.000000</td>\n",
       "      <td>1.000000</td>\n",
       "      <td>99.000000</td>\n",
       "      <td>1.000000</td>\n",
       "    </tr>\n",
       "  </tbody>\n",
       "</table>\n",
       "</div>"
      ],
      "text/plain": [
       "        employee_id  no_of_trainings           age  previous_year_rating  \\\n",
       "count  54808.000000     54808.000000  54808.000000          50684.000000   \n",
       "mean   39195.830627         1.253011     34.803915              3.329256   \n",
       "std    22586.581449         0.609264      7.660169              1.259993   \n",
       "min        1.000000         1.000000     20.000000              1.000000   \n",
       "25%    19669.750000         1.000000     29.000000              3.000000   \n",
       "50%    39225.500000         1.000000     33.000000              3.000000   \n",
       "75%    58730.500000         1.000000     39.000000              4.000000   \n",
       "max    78298.000000        10.000000     60.000000              5.000000   \n",
       "\n",
       "       length_of_service  KPIs_met >80%   awards_won?  avg_training_score  \\\n",
       "count       54808.000000   54808.000000  54808.000000        54808.000000   \n",
       "mean            5.865512       0.351974      0.023172           63.386750   \n",
       "std             4.265094       0.477590      0.150450           13.371559   \n",
       "min             1.000000       0.000000      0.000000           39.000000   \n",
       "25%             3.000000       0.000000      0.000000           51.000000   \n",
       "50%             5.000000       0.000000      0.000000           60.000000   \n",
       "75%             7.000000       1.000000      0.000000           76.000000   \n",
       "max            37.000000       1.000000      1.000000           99.000000   \n",
       "\n",
       "        is_promoted  \n",
       "count  54808.000000  \n",
       "mean       0.085170  \n",
       "std        0.279137  \n",
       "min        0.000000  \n",
       "25%        0.000000  \n",
       "50%        0.000000  \n",
       "75%        0.000000  \n",
       "max        1.000000  "
      ]
     },
     "execution_count": 85,
     "metadata": {},
     "output_type": "execute_result"
    }
   ],
   "source": [
    "dftrain.describe()"
   ]
  },
  {
   "cell_type": "markdown",
   "metadata": {
    "id": "r4QT7wBFpnRF"
   },
   "source": [
    "***This shows a summary of numerical columns***"
   ]
  },
  {
   "cell_type": "code",
   "execution_count": 86,
   "metadata": {
    "execution": {
     "iopub.execute_input": "2021-08-15T13:13:10.253995Z",
     "iopub.status.busy": "2021-08-15T13:13:10.253599Z",
     "iopub.status.idle": "2021-08-15T13:13:10.301169Z",
     "shell.execute_reply": "2021-08-15T13:13:10.300137Z",
     "shell.execute_reply.started": "2021-08-15T13:13:10.253955Z"
    }
   },
   "outputs": [
    {
     "data": {
      "text/plain": [
       "(0, 14)"
      ]
     },
     "execution_count": 86,
     "metadata": {},
     "output_type": "execute_result"
    }
   ],
   "source": [
    "#checking for duplicate rows\n",
    "dupl=dftrain[dftrain.duplicated()]\n",
    "dupl.shape"
   ]
  },
  {
   "cell_type": "markdown",
   "metadata": {},
   "source": [
    "***There are no duplicate rows in the dataframe***"
   ]
  },
  {
   "cell_type": "code",
   "execution_count": 87,
   "metadata": {
    "execution": {
     "iopub.execute_input": "2021-08-15T13:13:10.302969Z",
     "iopub.status.busy": "2021-08-15T13:13:10.302691Z",
     "iopub.status.idle": "2021-08-15T13:13:10.311239Z",
     "shell.execute_reply": "2021-08-15T13:13:10.310303Z",
     "shell.execute_reply.started": "2021-08-15T13:13:10.302943Z"
    },
    "id": "nT4DIz2PpnRF",
    "outputId": "ad91aa8d-4b83-47d9-b974-faa1b71a1948"
   },
   "outputs": [
    {
     "data": {
      "text/plain": [
       "employee_id               int64\n",
       "department               object\n",
       "region                   object\n",
       "education                object\n",
       "gender                   object\n",
       "recruitment_channel      object\n",
       "no_of_trainings           int64\n",
       "age                       int64\n",
       "previous_year_rating    float64\n",
       "length_of_service         int64\n",
       "KPIs_met >80%             int64\n",
       "awards_won?               int64\n",
       "avg_training_score        int64\n",
       "is_promoted               int64\n",
       "dtype: object"
      ]
     },
     "execution_count": 87,
     "metadata": {},
     "output_type": "execute_result"
    }
   ],
   "source": [
    "#Data types of features\n",
    "dftrain.dtypes"
   ]
  },
  {
   "cell_type": "markdown",
   "metadata": {},
   "source": [
    "**TOTAL FEATURES - 14<br>\n",
    "    Categorical Features - 5<br>\n",
    "    Numerical Featues - 9<br>**"
   ]
  },
  {
   "cell_type": "code",
   "execution_count": 88,
   "metadata": {
    "execution": {
     "iopub.execute_input": "2021-08-15T13:13:10.313074Z",
     "iopub.status.busy": "2021-08-15T13:13:10.312695Z",
     "iopub.status.idle": "2021-08-15T13:13:10.392111Z",
     "shell.execute_reply": "2021-08-15T13:13:10.391438Z",
     "shell.execute_reply.started": "2021-08-15T13:13:10.313043Z"
    },
    "id": "T9MBsAZspnRG",
    "outputId": "7840b9b0-aad7-4637-efee-c138cd2537f2"
   },
   "outputs": [
    {
     "data": {
      "text/plain": [
       "employee_id             54808\n",
       "department                  9\n",
       "region                     34\n",
       "education                   3\n",
       "gender                      2\n",
       "recruitment_channel         3\n",
       "no_of_trainings            10\n",
       "age                        41\n",
       "previous_year_rating        5\n",
       "length_of_service          35\n",
       "KPIs_met >80%               2\n",
       "awards_won?                 2\n",
       "avg_training_score         61\n",
       "is_promoted                 2\n",
       "dtype: int64"
      ]
     },
     "execution_count": 88,
     "metadata": {},
     "output_type": "execute_result"
    }
   ],
   "source": [
    "#Unique values summary of total data set\n",
    "dftrain.nunique()"
   ]
  },
  {
   "cell_type": "markdown",
   "metadata": {},
   "source": [
    "***None of the columns have unique value =1 ; this means there are no constant columns***"
   ]
  },
  {
   "cell_type": "code",
   "execution_count": 89,
   "metadata": {
    "execution": {
     "iopub.execute_input": "2021-08-15T13:13:10.394917Z",
     "iopub.status.busy": "2021-08-15T13:13:10.394254Z",
     "iopub.status.idle": "2021-08-15T13:13:10.431221Z",
     "shell.execute_reply": "2021-08-15T13:13:10.430222Z",
     "shell.execute_reply.started": "2021-08-15T13:13:10.394869Z"
    },
    "id": "uEIojydQpnRH",
    "outputId": "e0b89cd3-3359-4743-d5a4-949ea209204e"
   },
   "outputs": [
    {
     "data": {
      "text/plain": [
       "employee_id                0\n",
       "department                 0\n",
       "region                     0\n",
       "education               2409\n",
       "gender                     0\n",
       "recruitment_channel        0\n",
       "no_of_trainings            0\n",
       "age                        0\n",
       "previous_year_rating    4124\n",
       "length_of_service          0\n",
       "KPIs_met >80%              0\n",
       "awards_won?                0\n",
       "avg_training_score         0\n",
       "is_promoted                0\n",
       "dtype: int64"
      ]
     },
     "execution_count": 89,
     "metadata": {},
     "output_type": "execute_result"
    }
   ],
   "source": [
    "#Null values summary of total data set\n",
    "dftrain.isnull().sum()"
   ]
  },
  {
   "cell_type": "markdown",
   "metadata": {
    "id": "a3k35CnjpnRI"
   },
   "source": [
    "   ***i) Since 'education' is a categorical feature here and it also signifies whether the person has obtained a particular level of education or not, we cannot impute the null values as we can't assign an education level to a person on our own. The person may or may not have achieved the assigned level and this will result in an inaccurate analysis***"
   ]
  },
  {
   "cell_type": "markdown",
   "metadata": {
    "id": "c9QhEr3apnRI"
   },
   "source": [
    "***ii) On the other hand, 'previous_year_rating' is a numerical feature and it signifies the rating of the employee in the previous year. The NULL value in this column indicates that the employee has been a part of the company for LESS THAN 1 YEAR and does not have a previous year score. Hence we can inmpute these null values with 0*** "
   ]
  },
  {
   "cell_type": "code",
   "execution_count": 90,
   "metadata": {
    "execution": {
     "iopub.execute_input": "2021-08-15T13:13:10.433042Z",
     "iopub.status.busy": "2021-08-15T13:13:10.432743Z",
     "iopub.status.idle": "2021-08-15T13:13:10.441368Z",
     "shell.execute_reply": "2021-08-15T13:13:10.440369Z",
     "shell.execute_reply.started": "2021-08-15T13:13:10.433014Z"
    },
    "id": "Dm27tBcTpnRJ",
    "outputId": "7c735808-7bcc-40ac-cab6-a890c10a7bfd"
   },
   "outputs": [
    {
     "data": {
      "text/plain": [
       "0"
      ]
     },
     "execution_count": 90,
     "metadata": {},
     "output_type": "execute_result"
    }
   ],
   "source": [
    "dftrain['previous_year_rating'].fillna(0,inplace=True)\n",
    "dftrain['previous_year_rating'].isnull().sum()"
   ]
  },
  {
   "cell_type": "markdown",
   "metadata": {
    "id": "QuM07UpCpnRK"
   },
   "source": [
    "***No null value remaining in 'previous_year_rating'***"
   ]
  },
  {
   "cell_type": "code",
   "execution_count": 91,
   "metadata": {
    "execution": {
     "iopub.execute_input": "2021-08-15T13:13:10.442744Z",
     "iopub.status.busy": "2021-08-15T13:13:10.442449Z",
     "iopub.status.idle": "2021-08-15T13:13:10.458584Z",
     "shell.execute_reply": "2021-08-15T13:13:10.457528Z",
     "shell.execute_reply.started": "2021-08-15T13:13:10.442715Z"
    },
    "id": "_DZpUs5SpnRL",
    "outputId": "6cd2e447-8ef5-466c-ac60-8d682c7b5b35"
   },
   "outputs": [
    {
     "data": {
      "text/plain": [
       "(4668, 14)"
      ]
     },
     "execution_count": 91,
     "metadata": {},
     "output_type": "execute_result"
    }
   ],
   "source": [
    "dftrain[dftrain['is_promoted']==1].shape"
   ]
  },
  {
   "cell_type": "markdown",
   "metadata": {
    "id": "Zqq2cLs7pnRL"
   },
   "source": [
    "***There are 4668 records where the value of target variable i.e, 'is_promoted' is 1.***"
   ]
  },
  {
   "cell_type": "code",
   "execution_count": 92,
   "metadata": {
    "execution": {
     "iopub.execute_input": "2021-08-15T13:13:10.460051Z",
     "iopub.status.busy": "2021-08-15T13:13:10.459749Z",
     "iopub.status.idle": "2021-08-15T13:13:10.475877Z",
     "shell.execute_reply": "2021-08-15T13:13:10.474846Z",
     "shell.execute_reply.started": "2021-08-15T13:13:10.460025Z"
    },
    "id": "BqYNwT40pnRM",
    "outputId": "4a187e3b-a780-4870-f24d-222e3ef24697"
   },
   "outputs": [
    {
     "data": {
      "text/plain": [
       "122"
      ]
     },
     "execution_count": 92,
     "metadata": {},
     "output_type": "execute_result"
    }
   ],
   "source": [
    "dftrain[dftrain.education.isnull()].is_promoted.sum()"
   ]
  },
  {
   "cell_type": "markdown",
   "metadata": {
    "id": "ZzSKwXiNpnRM"
   },
   "source": [
    "***Since out of 54808 records in the train set, 2409 records(4.39% of 54808) have NULL in education and out of those 2409 records, 122 records(2.6% of 4668) have 'is_promoted' value as 1. So we can drop these records as they won't bring a significant change in our predictions in the future.***"
   ]
  },
  {
   "cell_type": "code",
   "execution_count": 93,
   "metadata": {
    "execution": {
     "iopub.execute_input": "2021-08-15T13:13:10.477204Z",
     "iopub.status.busy": "2021-08-15T13:13:10.476918Z",
     "iopub.status.idle": "2021-08-15T13:13:10.523060Z",
     "shell.execute_reply": "2021-08-15T13:13:10.521976Z",
     "shell.execute_reply.started": "2021-08-15T13:13:10.477175Z"
    },
    "id": "YLL4ycTQpnRN",
    "outputId": "de01bab3-c6d8-4ba5-8583-aca6a5fc2b5d"
   },
   "outputs": [
    {
     "data": {
      "text/plain": [
       "(52399, 14)"
      ]
     },
     "execution_count": 93,
     "metadata": {},
     "output_type": "execute_result"
    }
   ],
   "source": [
    "#Dropping records with education=NULL\n",
    "dftrain=dftrain.dropna()\n",
    "dftrain.shape #2409 records dropped"
   ]
  },
  {
   "cell_type": "code",
   "execution_count": 94,
   "metadata": {
    "execution": {
     "iopub.execute_input": "2021-08-15T13:13:10.525353Z",
     "iopub.status.busy": "2021-08-15T13:13:10.525042Z",
     "iopub.status.idle": "2021-08-15T13:13:10.561909Z",
     "shell.execute_reply": "2021-08-15T13:13:10.560872Z",
     "shell.execute_reply.started": "2021-08-15T13:13:10.525322Z"
    },
    "id": "dKg92X_kpnRO",
    "outputId": "59008916-11af-4e7b-8646-7ddf1f349fa7"
   },
   "outputs": [
    {
     "data": {
      "text/plain": [
       "employee_id             0\n",
       "department              0\n",
       "region                  0\n",
       "education               0\n",
       "gender                  0\n",
       "recruitment_channel     0\n",
       "no_of_trainings         0\n",
       "age                     0\n",
       "previous_year_rating    0\n",
       "length_of_service       0\n",
       "KPIs_met >80%           0\n",
       "awards_won?             0\n",
       "avg_training_score      0\n",
       "is_promoted             0\n",
       "dtype: int64"
      ]
     },
     "execution_count": 94,
     "metadata": {},
     "output_type": "execute_result"
    }
   ],
   "source": [
    "dftrain.isnull().sum()"
   ]
  },
  {
   "cell_type": "markdown",
   "metadata": {
    "id": "jL3NjbQ_pnRO"
   },
   "source": [
    "***FOR TEST SET***"
   ]
  },
  {
   "cell_type": "code",
   "execution_count": 95,
   "metadata": {
    "execution": {
     "iopub.execute_input": "2021-08-15T13:13:10.563767Z",
     "iopub.status.busy": "2021-08-15T13:13:10.563457Z",
     "iopub.status.idle": "2021-08-15T13:13:10.587926Z",
     "shell.execute_reply": "2021-08-15T13:13:10.586563Z",
     "shell.execute_reply.started": "2021-08-15T13:13:10.563739Z"
    },
    "id": "OAi5BvbipnRP",
    "outputId": "745f48b2-eafe-4ac3-b388-26eeb3aa4b8a"
   },
   "outputs": [
    {
     "data": {
      "text/plain": [
       "employee_id                0\n",
       "department                 0\n",
       "region                     0\n",
       "education               1034\n",
       "gender                     0\n",
       "recruitment_channel        0\n",
       "no_of_trainings            0\n",
       "age                        0\n",
       "previous_year_rating    1812\n",
       "length_of_service          0\n",
       "KPIs_met >80%              0\n",
       "awards_won?                0\n",
       "avg_training_score         0\n",
       "dtype: int64"
      ]
     },
     "execution_count": 95,
     "metadata": {},
     "output_type": "execute_result"
    }
   ],
   "source": [
    "test.isnull().sum()"
   ]
  },
  {
   "cell_type": "code",
   "execution_count": 96,
   "metadata": {
    "execution": {
     "iopub.execute_input": "2021-08-15T13:13:10.589991Z",
     "iopub.status.busy": "2021-08-15T13:13:10.589540Z",
     "iopub.status.idle": "2021-08-15T13:13:10.600681Z",
     "shell.execute_reply": "2021-08-15T13:13:10.599645Z",
     "shell.execute_reply.started": "2021-08-15T13:13:10.589946Z"
    },
    "id": "iHGswIV8pnRQ"
   },
   "outputs": [
    {
     "data": {
      "text/plain": [
       "0"
      ]
     },
     "execution_count": 96,
     "metadata": {},
     "output_type": "execute_result"
    }
   ],
   "source": [
    "test['previous_year_rating'].fillna(0,inplace=True)\n",
    "test['previous_year_rating'].isnull().sum()"
   ]
  },
  {
   "cell_type": "code",
   "execution_count": 97,
   "metadata": {
    "execution": {
     "iopub.execute_input": "2021-08-15T13:13:10.602272Z",
     "iopub.status.busy": "2021-08-15T13:13:10.601768Z",
     "iopub.status.idle": "2021-08-15T13:13:10.628754Z",
     "shell.execute_reply": "2021-08-15T13:13:10.627957Z",
     "shell.execute_reply.started": "2021-08-15T13:13:10.602240Z"
    },
    "id": "j9ctU8TxpnRQ"
   },
   "outputs": [
    {
     "data": {
      "text/plain": [
       "(22456, 13)"
      ]
     },
     "execution_count": 97,
     "metadata": {},
     "output_type": "execute_result"
    }
   ],
   "source": [
    "#Dropping records with education=NULL\n",
    "test=test.dropna()\n",
    "test.shape #1034 records dropped"
   ]
  },
  {
   "cell_type": "markdown",
   "metadata": {
    "id": "uzK_6cGqpnRQ"
   },
   "source": [
    "### Splitting the dataset"
   ]
  },
  {
   "cell_type": "markdown",
   "metadata": {},
   "source": [
    "It is desirable to split the dataset in such a way that preserves the same proportions of examples in each class as observed in the original dataset."
   ]
  },
  {
   "cell_type": "code",
   "execution_count": 98,
   "metadata": {
    "execution": {
     "iopub.execute_input": "2021-08-15T13:13:10.630732Z",
     "iopub.status.busy": "2021-08-15T13:13:10.630287Z",
     "iopub.status.idle": "2021-08-15T13:13:10.684111Z",
     "shell.execute_reply": "2021-08-15T13:13:10.683045Z",
     "shell.execute_reply.started": "2021-08-15T13:13:10.630700Z"
    },
    "id": "RKupe3xLpnRR"
   },
   "outputs": [],
   "source": [
    "#Splitting dataset into train set and validation set\n",
    "train,val=train_test_split(dftrain,test_size=0.30,random_state=1,stratify=dftrain.is_promoted)"
   ]
  },
  {
   "cell_type": "code",
   "execution_count": 99,
   "metadata": {
    "execution": {
     "iopub.execute_input": "2021-08-15T13:13:10.685859Z",
     "iopub.status.busy": "2021-08-15T13:13:10.685405Z",
     "iopub.status.idle": "2021-08-15T13:13:10.717149Z",
     "shell.execute_reply": "2021-08-15T13:13:10.715842Z",
     "shell.execute_reply.started": "2021-08-15T13:13:10.685828Z"
    },
    "id": "_ajqT__MpnRR"
   },
   "outputs": [
    {
     "name": "stdout",
     "output_type": "stream",
     "text": [
      "After Splitting: \n",
      "\n",
      "Train set shape : \t (36679, 14)\n",
      "Validation set shape : \t (15720, 14)\n",
      "\n",
      "Target Variable in Original Data :\t Counter({0: 47853, 1: 4546})\n",
      "Target Variable in Train Data : \t Counter({0: 33497, 1: 3182})\n",
      "Target Variable in Validation Data :\t Counter({0: 14356, 1: 1364})\n"
     ]
    }
   ],
   "source": [
    "print(\"After Splitting: \\n\")\n",
    "print(\"Train set shape : \\t\",train.shape)\n",
    "print(\"Validation set shape : \\t\",val.shape)\n",
    "print(\"\\nTarget Variable in Original Data :\\t\",Counter(dftrain.is_promoted))\n",
    "print(\"Target Variable in Train Data : \\t\",Counter(train.is_promoted))\n",
    "print(\"Target Variable in Validation Data :\\t\",Counter(val.is_promoted))\n"
   ]
  },
  {
   "cell_type": "code",
   "execution_count": 100,
   "metadata": {
    "execution": {
     "iopub.execute_input": "2021-08-15T13:13:10.718855Z",
     "iopub.status.busy": "2021-08-15T13:13:10.718553Z",
     "iopub.status.idle": "2021-08-15T13:13:10.741233Z",
     "shell.execute_reply": "2021-08-15T13:13:10.739934Z",
     "shell.execute_reply.started": "2021-08-15T13:13:10.718826Z"
    }
   },
   "outputs": [],
   "source": [
    "#Further splitting Validation set in Val1 and Val2 set for better analysis\n",
    "val1,val2=train_test_split(val,test_size=0.50,random_state=1,stratify=val.is_promoted)"
   ]
  },
  {
   "cell_type": "code",
   "execution_count": 101,
   "metadata": {
    "execution": {
     "iopub.execute_input": "2021-08-15T13:13:10.743139Z",
     "iopub.status.busy": "2021-08-15T13:13:10.742812Z",
     "iopub.status.idle": "2021-08-15T13:13:10.759875Z",
     "shell.execute_reply": "2021-08-15T13:13:10.758534Z",
     "shell.execute_reply.started": "2021-08-15T13:13:10.743109Z"
    }
   },
   "outputs": [
    {
     "name": "stdout",
     "output_type": "stream",
     "text": [
      "After Further Splitting: \n",
      "\n",
      "Validation set shape : \t (15720, 14)\n",
      "Val1 set shape : \t (7860, 14)\n",
      "Val2 set shape : \t (7860, 14)\n",
      "\n",
      "Target Variable in Validation Data: \t Counter({0: 14356, 1: 1364})\n",
      "Target Variable in Val1 Data :  \t Counter({0: 7178, 1: 682})\n",
      "Target Variable in Val2 Data :  \t Counter({0: 7178, 1: 682})\n"
     ]
    }
   ],
   "source": [
    "print(\"After Further Splitting: \\n\")\n",
    "print(\"Validation set shape : \\t\",val.shape)\n",
    "print(\"Val1 set shape : \\t\",val1.shape)\n",
    "print(\"Val2 set shape : \\t\",val2.shape)\n",
    "\n",
    "\n",
    "print(\"\\nTarget Variable in Validation Data: \\t\",Counter(val.is_promoted))\n",
    "print(\"Target Variable in Val1 Data :  \\t\",Counter(val1.is_promoted))\n",
    "print(\"Target Variable in Val2 Data :  \\t\",Counter(val2.is_promoted))"
   ]
  },
  {
   "cell_type": "markdown",
   "metadata": {},
   "source": [
    "***There is no class ratio imbalance after splitting so stratified splitting has worked successfully***"
   ]
  },
  {
   "cell_type": "code",
   "execution_count": 102,
   "metadata": {
    "execution": {
     "iopub.execute_input": "2021-08-15T13:13:10.761734Z",
     "iopub.status.busy": "2021-08-15T13:13:10.761377Z",
     "iopub.status.idle": "2021-08-15T13:13:10.781587Z",
     "shell.execute_reply": "2021-08-15T13:13:10.780186Z",
     "shell.execute_reply.started": "2021-08-15T13:13:10.761700Z"
    }
   },
   "outputs": [
    {
     "name": "stdout",
     "output_type": "stream",
     "text": [
      "train : (36679, 14)\n",
      "xtrain : (36679, 13)\n",
      "ytrain : (36679,)\n"
     ]
    }
   ],
   "source": [
    "x_train=train.drop('is_promoted',axis=1)\n",
    "y_train = train.is_promoted\n",
    "print(\"train :\",train.shape)\n",
    "print(\"xtrain :\",x_train.shape)\n",
    "print(\"ytrain :\",y_train.shape)"
   ]
  },
  {
   "cell_type": "code",
   "execution_count": 103,
   "metadata": {
    "execution": {
     "iopub.execute_input": "2021-08-15T13:13:10.784261Z",
     "iopub.status.busy": "2021-08-15T13:13:10.783953Z",
     "iopub.status.idle": "2021-08-15T13:13:10.794379Z",
     "shell.execute_reply": "2021-08-15T13:13:10.793240Z",
     "shell.execute_reply.started": "2021-08-15T13:13:10.784232Z"
    }
   },
   "outputs": [
    {
     "name": "stdout",
     "output_type": "stream",
     "text": [
      "val1 : (7860, 14)\n",
      "xval1 : (7860, 13)\n",
      "yval1 : (7860,)\n"
     ]
    }
   ],
   "source": [
    "x_val1=val1.drop('is_promoted',axis=1)\n",
    "y_val1 = val1.is_promoted\n",
    "print(\"val1 :\",val1.shape)\n",
    "print(\"xval1 :\",x_val1.shape)\n",
    "print(\"yval1 :\",y_val1.shape)"
   ]
  },
  {
   "cell_type": "code",
   "execution_count": 104,
   "metadata": {
    "execution": {
     "iopub.execute_input": "2021-08-15T13:13:10.796463Z",
     "iopub.status.busy": "2021-08-15T13:13:10.796069Z",
     "iopub.status.idle": "2021-08-15T13:13:10.810143Z",
     "shell.execute_reply": "2021-08-15T13:13:10.809003Z",
     "shell.execute_reply.started": "2021-08-15T13:13:10.796407Z"
    }
   },
   "outputs": [
    {
     "name": "stdout",
     "output_type": "stream",
     "text": [
      "val1 : (7860, 14)\n",
      "xval1 : (7860, 13)\n",
      "yval1 : (7860,)\n"
     ]
    }
   ],
   "source": [
    "x_val2=val2.drop('is_promoted',axis=1)\n",
    "y_val2 = val2.is_promoted\n",
    "print(\"val1 :\",val2.shape)\n",
    "print(\"xval1 :\",x_val2.shape)\n",
    "print(\"yval1 :\",y_val2.shape)"
   ]
  },
  {
   "cell_type": "code",
   "execution_count": 105,
   "metadata": {
    "execution": {
     "iopub.execute_input": "2021-08-15T13:13:10.812300Z",
     "iopub.status.busy": "2021-08-15T13:13:10.811819Z",
     "iopub.status.idle": "2021-08-15T13:13:10.822490Z",
     "shell.execute_reply": "2021-08-15T13:13:10.821337Z",
     "shell.execute_reply.started": "2021-08-15T13:13:10.812263Z"
    }
   },
   "outputs": [
    {
     "name": "stdout",
     "output_type": "stream",
     "text": [
      "x_test : (22456, 13)\n"
     ]
    }
   ],
   "source": [
    "x_test=test\n",
    "print(\"x_test :\",x_test.shape)"
   ]
  },
  {
   "cell_type": "markdown",
   "metadata": {},
   "source": [
    "***All the required datasets have been created, moving on to EDA.....***"
   ]
  },
  {
   "cell_type": "markdown",
   "metadata": {
    "id": "vjhWv4uOpnRR"
   },
   "source": [
    "# <center>----- EXPLORATORY DATA ANALYSIS (EDA) -----</center> "
   ]
  },
  {
   "cell_type": "markdown",
   "metadata": {},
   "source": [
    "***1. EDA helps us to detect patterns and trends which might be useful in drawing insights***\n",
    "\n",
    "***2. EDA is always done on the \"train\" dataset and not on Validation/Test sets because it will lead to data leakage and would be inappropriate***\n"
   ]
  },
  {
   "cell_type": "markdown",
   "metadata": {
    "id": "LQd2zTq9pnRS"
   },
   "source": [
    "## 1.) EDA BASED ON DEPARTMENT"
   ]
  },
  {
   "cell_type": "code",
   "execution_count": 106,
   "metadata": {
    "execution": {
     "iopub.execute_input": "2021-08-15T13:13:10.824095Z",
     "iopub.status.busy": "2021-08-15T13:13:10.823557Z",
     "iopub.status.idle": "2021-08-15T13:13:11.145216Z",
     "shell.execute_reply": "2021-08-15T13:13:11.144061Z",
     "shell.execute_reply.started": "2021-08-15T13:13:10.824039Z"
    },
    "id": "xIgWP2tYpnRS",
    "outputId": "e8e93ccf-69e8-4bc8-ec7b-6db9b25f036c"
   },
   "outputs": [
    {
     "data": {
      "image/png": "[encoded data removed]",
      "text/plain": [
       "<Figure size 1008x576 with 1 Axes>"
      ]
     },
     "metadata": {
      "needs_background": "light"
     },
     "output_type": "display_data"
    }
   ],
   "source": [
    "plt.figure(figsize=(14,8))\n",
    "sns.countplot(x='department',hue='is_promoted',data=train)\n",
    "plt.title('Department-wise Promotion Count')\n",
    "plt.xlabel('Department')\n",
    "plt.ylabel('Employees')\n",
    "plt.show()"
   ]
  },
  {
   "cell_type": "code",
   "execution_count": 107,
   "metadata": {
    "execution": {
     "iopub.execute_input": "2021-08-15T13:13:11.147104Z",
     "iopub.status.busy": "2021-08-15T13:13:11.146781Z",
     "iopub.status.idle": "2021-08-15T13:13:11.340153Z",
     "shell.execute_reply": "2021-08-15T13:13:11.337819Z",
     "shell.execute_reply.started": "2021-08-15T13:13:11.147074Z"
    },
    "id": "NeUYkJ7xpnRS",
    "outputId": "e98f3730-1c20-4572-91af-3ba0cd30ef93"
   },
   "outputs": [
    {
     "data": {
      "image/png": "[encoded data removed]",
      "text/plain": [
       "<Figure size 864x432 with 1 Axes>"
      ]
     },
     "metadata": {
      "needs_background": "light"
     },
     "output_type": "display_data"
    }
   ],
   "source": [
    "x=train.groupby(['department','is_promoted'])['is_promoted'].count().unstack().fillna(0) #we can also use crosstab function\n",
    "                                                                                        #here as well\n",
    "x['%']=x[1]/(x[0]+x[1]) #calculation of promotion %\n",
    "plt.figure(figsize=(12,6))\n",
    "plt.plot(x['%'],color='goldenrod', linewidth=2.5)\n",
    "plt.grid(color = 'black', linestyle = '-', linewidth = 0.5)\n",
    "plt.title('Department wise Promotion Rates')\n",
    "plt.xlabel('Department')\n",
    "plt.ylabel('% of employees promoted')\n",
    "plt.show()"
   ]
  },
  {
   "cell_type": "markdown",
   "metadata": {
    "id": "aTotutErpnRT"
   },
   "source": [
    "<b>Insights drawn from the above plots:\n",
    "1. Technology Dept. has the highest promotion rate across all deparments.\n",
    "2. Legal Dept. has the lowest promotion rate across all departments.\n",
    "3. Top 3 Departments to work in on the basis of Promotions are : Technology, Procurement, Analysis</b>"
   ]
  },
  {
   "cell_type": "markdown",
   "metadata": {
    "id": "zcYCHdLqpnRT"
   },
   "source": [
    "## 2.) EDA BASED ON REGION"
   ]
  },
  {
   "cell_type": "code",
   "execution_count": 108,
   "metadata": {
    "execution": {
     "iopub.execute_input": "2021-08-15T13:13:11.346046Z",
     "iopub.status.busy": "2021-08-15T13:13:11.345728Z",
     "iopub.status.idle": "2021-08-15T13:13:11.764093Z",
     "shell.execute_reply": "2021-08-15T13:13:11.762858Z",
     "shell.execute_reply.started": "2021-08-15T13:13:11.346017Z"
    },
    "id": "prmHbwT_pnRU",
    "outputId": "e7c7f93e-0c90-4409-be43-133f828296fa"
   },
   "outputs": [
    {
     "data": {
      "image/png": "[encoded data removed]",
      "text/plain": [
       "<Figure size 1440x720 with 1 Axes>"
      ]
     },
     "metadata": {
      "needs_background": "light"
     },
     "output_type": "display_data"
    }
   ],
   "source": [
    "y=train.groupby(['region','is_promoted'])['is_promoted'].count().unstack().fillna(0)\n",
    "y['%']=y[1]/(y[0]+y[1])#calculation of promotion %\n",
    "y=y.sort_values('%',ascending=False) #sorting by promotion rate to get insights easily\n",
    "plt.figure(figsize=(20,10))\n",
    "plt.plot(y['%'],color='coral', linewidth=2.5)\n",
    "plt.grid(color = 'black', linestyle = '-', linewidth = 0.5)\n",
    "plt.title('Region wise Promotion Rates')\n",
    "plt.xlabel('Region')\n",
    "plt.xticks(rotation=75)\n",
    "plt.ylabel('% of employees promoted')\n",
    "plt.show()"
   ]
  },
  {
   "cell_type": "markdown",
   "metadata": {
    "id": "EBFPE2m2pnRU"
   },
   "source": [
    "<b>Insights drawn from the above plot:\n",
    "1. Top 3 Regions in terms of Promotion Rates : Region_4, Region_25, Region_17.\n",
    "    > Employees in these regions are working hard and are getting rewarded for the same.\n",
    "2.Bottom 3 Regions in terms of Promotion Rates: Region_18, Region_24, Region_34. \n",
    "    > The management should have a discussion with the employees of these regions to figure out a new strategy to increase productivity and employee satisfaction. </b>\n",
    "\n"
   ]
  },
  {
   "cell_type": "markdown",
   "metadata": {
    "id": "ooFDoOTXpnRV"
   },
   "source": [
    "## 3.) EDA BASED ON EDUCATION & GENDER"
   ]
  },
  {
   "cell_type": "code",
   "execution_count": 109,
   "metadata": {
    "execution": {
     "iopub.execute_input": "2021-08-15T13:13:11.766704Z",
     "iopub.status.busy": "2021-08-15T13:13:11.766353Z",
     "iopub.status.idle": "2021-08-15T13:13:11.995722Z",
     "shell.execute_reply": "2021-08-15T13:13:11.994662Z",
     "shell.execute_reply.started": "2021-08-15T13:13:11.766673Z"
    },
    "id": "DlKeUPB7pnRW",
    "outputId": "118d91bb-bc3d-4c89-c1f4-36dc9d85cc3f"
   },
   "outputs": [
    {
     "data": {
      "image/png": "[encoded data removed]",
      "text/plain": [
       "<Figure size 1008x576 with 1 Axes>"
      ]
     },
     "metadata": {
      "needs_background": "light"
     },
     "output_type": "display_data"
    }
   ],
   "source": [
    "plt.figure(figsize=(14,8))\n",
    "sns.countplot(x='education',hue='is_promoted',data=train)\n",
    "plt.title('Education-wise Promotion Count')\n",
    "plt.xlabel('Education Level')\n",
    "plt.ylabel('Employees')\n",
    "plt.show()"
   ]
  },
  {
   "cell_type": "markdown",
   "metadata": {
    "id": "8MWDMkX_pnRW"
   },
   "source": [
    "<b>Insights drawn from the above plot:\n",
    "1. Almost 2/3 rd of the workforce holds a Bachelor's Degree or equivalent.\n",
    "2. Employees with just Secondary Level Education have also been hired.\n",
    "  > Indicates that the company focuses on skill rather than degree.\n"
   ]
  },
  {
   "cell_type": "code",
   "execution_count": 110,
   "metadata": {
    "execution": {
     "iopub.execute_input": "2021-08-15T13:13:11.997689Z",
     "iopub.status.busy": "2021-08-15T13:13:11.997302Z",
     "iopub.status.idle": "2021-08-15T13:13:12.117586Z",
     "shell.execute_reply": "2021-08-15T13:13:12.116498Z",
     "shell.execute_reply.started": "2021-08-15T13:13:11.997655Z"
    },
    "id": "Ug9uZSaGpnRW",
    "outputId": "54f7231b-823a-4ac4-f7df-26a21b66cf79"
   },
   "outputs": [
    {
     "data": {
      "image/png": "[encoded data removed]",
      "text/plain": [
       "<Figure size 432x288 with 1 Axes>"
      ]
     },
     "metadata": {},
     "output_type": "display_data"
    }
   ],
   "source": [
    "labels = 'f','m'\n",
    "sizes = list(train.groupby('gender')['gender'].count())\n",
    "explode=(0.1,0)\n",
    "fig1, ax1 = plt.subplots()\n",
    "ax1.pie(sizes,explode=explode,labels=labels, autopct='%1.1f%%',\n",
    "        shadow=True, startangle=90)\n",
    "ax1.axis('equal')  \n",
    "plt.title(\"Gender Distribution of workforce\")\n",
    "plt.show()"
   ]
  },
  {
   "cell_type": "markdown",
   "metadata": {
    "id": "3gUYnDI2pnRX"
   },
   "source": [
    "<b>Insights drawn from the above plot:\n",
    "1. There is a huge difference between the number of male employees and and female employees. 70% of the workforce is made up of male employees.\n",
    "    > The management should take some steps to bridge this gap and promote gender equality. \n"
   ]
  },
  {
   "cell_type": "code",
   "execution_count": 111,
   "metadata": {
    "execution": {
     "iopub.execute_input": "2021-08-15T13:13:12.119607Z",
     "iopub.status.busy": "2021-08-15T13:13:12.119171Z",
     "iopub.status.idle": "2021-08-15T13:13:12.351830Z",
     "shell.execute_reply": "2021-08-15T13:13:12.350702Z",
     "shell.execute_reply.started": "2021-08-15T13:13:12.119564Z"
    }
   },
   "outputs": [
    {
     "data": {
      "text/plain": [
       "Text(0.5, 1.0, 'Gender wise Distribution of employees getting promoted or not')"
      ]
     },
     "execution_count": 111,
     "metadata": {},
     "output_type": "execute_result"
    },
    {
     "data": {
      "image/png": "[encoded data removed]",
      "text/plain": [
       "<Figure size 1440x576 with 1 Axes>"
      ]
     },
     "metadata": {
      "needs_background": "light"
     },
     "output_type": "display_data"
    }
   ],
   "source": [
    "y=train.groupby(['gender','is_promoted'])['is_promoted'].count().unstack().fillna(0)\n",
    "y1=y.div(y.sum(1).astype('float'), axis = 0)\n",
    "y1.plot(kind = 'bar', stacked = True, figsize = (20, 8), color = ['orange', 'lightblue'])\n",
    "plt.xlabel('Gender')\n",
    "plt.ylabel('% of employees getting promoted(or not)')\n",
    "plt.title(\"Gender wise Distribution of employees getting promoted or not\")"
   ]
  },
  {
   "cell_type": "markdown",
   "metadata": {},
   "source": [
    "<b>Insights drawn from the above plot:\n",
    "1. No disparity in promotions of males and females.\n",
    "    \n",
    "Moving on to a combined analysis of education and gender."
   ]
  },
  {
   "cell_type": "code",
   "execution_count": 112,
   "metadata": {
    "execution": {
     "iopub.execute_input": "2021-08-15T13:13:12.353955Z",
     "iopub.status.busy": "2021-08-15T13:13:12.353533Z",
     "iopub.status.idle": "2021-08-15T13:13:12.550507Z",
     "shell.execute_reply": "2021-08-15T13:13:12.549244Z",
     "shell.execute_reply.started": "2021-08-15T13:13:12.353912Z"
    },
    "id": "md7CC47CpnRY",
    "outputId": "4c5e397e-daf3-4f23-e46c-ba0e82213bba"
   },
   "outputs": [
    {
     "data": {
      "image/png": "[encoded data removed]",
      "text/plain": [
       "<Figure size 864x432 with 1 Axes>"
      ]
     },
     "metadata": {
      "needs_background": "light"
     },
     "output_type": "display_data"
    }
   ],
   "source": [
    "z=train.groupby(['gender','education','is_promoted'])['is_promoted'].count().unstack().fillna(0)\n",
    "z['%']=z[1]/(z[0] + z[1])#calculation of promotion %\n",
    "plt.figure(figsize=(12,6))\n",
    "z['%'].plot.bar()\n",
    "plt.title('Gender & Education Level-wise Promotion Rate')\n",
    "plt.xlabel('Gender & Education Level')\n",
    "plt.ylabel('% of employees promoted')\n",
    "plt.show()"
   ]
  },
  {
   "cell_type": "markdown",
   "metadata": {
    "id": "WB_QSSK_pnRY"
   },
   "source": [
    "<b>Insights drawn from the above plot:\n",
    "1. Female employees with 'Masters & above' education level have the highest rate of getting promoted in the entire company.\n",
    "  >The company can use this fact to attract more female employees to work for the company \n",
    "\n",
    "2. Among the male employees, those with 'Bachelor's' education level have the least chance of getting promoted due to high competition.\n",
    "  > Employees should upskill themselves to beat the competition\n",
    "\n",
    "   "
   ]
  },
  {
   "cell_type": "markdown",
   "metadata": {
    "id": "FUxs1qkypnRZ"
   },
   "source": [
    "## 4.) EDA BASED ON RECRUITMENT CHANNEL"
   ]
  },
  {
   "cell_type": "code",
   "execution_count": 113,
   "metadata": {
    "execution": {
     "iopub.execute_input": "2021-08-15T13:13:12.552635Z",
     "iopub.status.busy": "2021-08-15T13:13:12.552199Z",
     "iopub.status.idle": "2021-08-15T13:13:12.673323Z",
     "shell.execute_reply": "2021-08-15T13:13:12.672062Z",
     "shell.execute_reply.started": "2021-08-15T13:13:12.552591Z"
    },
    "id": "U1NB6LCBpnRZ",
    "outputId": "423abd3b-01ae-4111-f040-1ce578fa9931"
   },
   "outputs": [
    {
     "data": {
      "image/png": "[encoded data removed]",
      "text/plain": [
       "<Figure size 504x504 with 1 Axes>"
      ]
     },
     "metadata": {},
     "output_type": "display_data"
    }
   ],
   "source": [
    "labels='Other','Referred','Sourcing'\n",
    "sizes = list(train.groupby('recruitment_channel')['recruitment_channel'].count())\n",
    "explode=(0.035,0.05,0.035)\n",
    "plt.figure(figsize=(7,7))\n",
    "plt.pie(sizes,explode=explode,labels=labels, autopct='%1.1f%%',\n",
    "        shadow=False, startangle=90)\n",
    "plt.title(\"Contribution of Recruiment Channels in hiring of employees\")\n",
    "plt.show()"
   ]
  },
  {
   "cell_type": "markdown",
   "metadata": {
    "id": "sjx2DJN1pnRa"
   },
   "source": [
    "<b>Insights drawn from the above plot:\n",
    "1. 55.5% of employees have been hired through other channels\n",
    "2. 2.2% employees hired through referrals\n",
    "  > Indicates that only a handful of people are given referrals\n",
    "3. 42.3% employees hired through sourcing"
   ]
  },
  {
   "cell_type": "code",
   "execution_count": 114,
   "metadata": {
    "execution": {
     "iopub.execute_input": "2021-08-15T13:13:12.675438Z",
     "iopub.status.busy": "2021-08-15T13:13:12.674942Z",
     "iopub.status.idle": "2021-08-15T13:13:12.837159Z",
     "shell.execute_reply": "2021-08-15T13:13:12.836186Z",
     "shell.execute_reply.started": "2021-08-15T13:13:12.675373Z"
    },
    "id": "p30xjunppnRa",
    "outputId": "d9cccb0d-0d76-45ea-ee3d-3d9d1695d02b"
   },
   "outputs": [
    {
     "data": {
      "image/png": "[encoded data removed]",
      "text/plain": [
       "<Figure size 504x504 with 1 Axes>"
      ]
     },
     "metadata": {
      "needs_background": "light"
     },
     "output_type": "display_data"
    }
   ],
   "source": [
    "z=train.groupby(['recruitment_channel','is_promoted'])['is_promoted'].count().unstack().fillna(0)\n",
    "z['%']=z[1]/(z[0] + z[1])#calculation of promotion %\n",
    "plt.figure(figsize=(7,7))\n",
    "z['%'].plot.bar()\n",
    "plt.title('Recruitment Channel wise Promotion Rate')\n",
    "plt.xlabel('Recruitment Channel')\n",
    "plt.ylabel('% of employees promoted')\n",
    "plt.show()"
   ]
  },
  {
   "cell_type": "markdown",
   "metadata": {
    "id": "amRzeiXUpnRa"
   },
   "source": [
    "<b>Insights drawn from the above plot:\n",
    "1. Even though number of employees hired through referrals is the least, the promotion rate is the highest for them.\n",
    "    > This indicates that employees only give referrals to those people who are expected to excel at their work after getting selected"
   ]
  },
  {
   "cell_type": "markdown",
   "metadata": {
    "id": "XWmzoAOxpnRb"
   },
   "source": [
    "## 5.) EDA BASED ON NO. OF TRAININGS"
   ]
  },
  {
   "cell_type": "code",
   "execution_count": 115,
   "metadata": {
    "execution": {
     "iopub.execute_input": "2021-08-15T13:13:12.838763Z",
     "iopub.status.busy": "2021-08-15T13:13:12.838446Z",
     "iopub.status.idle": "2021-08-15T13:13:12.998968Z",
     "shell.execute_reply": "2021-08-15T13:13:12.997919Z",
     "shell.execute_reply.started": "2021-08-15T13:13:12.838734Z"
    },
    "id": "MzJpJZi3pnRb",
    "outputId": "1524057c-f47d-43f7-bcf6-50052a5de345"
   },
   "outputs": [
    {
     "data": {
      "image/png": "[encoded data removed]",
      "text/plain": [
       "<Figure size 576x576 with 1 Axes>"
      ]
     },
     "metadata": {
      "needs_background": "light"
     },
     "output_type": "display_data"
    }
   ],
   "source": [
    "x=train.groupby(['no_of_trainings'])['is_promoted'].value_counts().unstack().fillna(0)\n",
    "x['%']=x[1]/(x[0] + x[1])#calculation of promotion %\n",
    "plt.figure(figsize=(8,8))\n",
    "plt.plot(x['%'],color='coral', linewidth=2.5)\n",
    "plt.grid(color = 'black', linestyle = '-', linewidth = 0.5)\n",
    "plt.title('No. of trainings vs Promotions')\n",
    "plt.xlabel('No. of trainings')\n",
    "plt.ylabel('% of employees promoted')\n",
    "plt.show()"
   ]
  },
  {
   "cell_type": "markdown",
   "metadata": {
    "id": "R0KxXnf2pnRc"
   },
   "source": [
    "<b>Insights drawn from the above plot:\n",
    "1. Promotion rates decline with an increase in number of trainings done.\n",
    "    > Promotions and No. of Trainings done may be considered as negatively correlated\n",
    "   "
   ]
  },
  {
   "cell_type": "markdown",
   "metadata": {
    "id": "Jt8VCBlWpnRc"
   },
   "source": [
    "## 6.) EDA BASED ON AGE"
   ]
  },
  {
   "cell_type": "code",
   "execution_count": 116,
   "metadata": {
    "execution": {
     "iopub.execute_input": "2021-08-15T13:13:13.001132Z",
     "iopub.status.busy": "2021-08-15T13:13:13.000724Z",
     "iopub.status.idle": "2021-08-15T13:13:13.342991Z",
     "shell.execute_reply": "2021-08-15T13:13:13.341901Z",
     "shell.execute_reply.started": "2021-08-15T13:13:13.001090Z"
    },
    "id": "DZM3giU3pnRc",
    "outputId": "426d80db-b811-416e-ed95-f886ad3abfa5"
   },
   "outputs": [
    {
     "data": {
      "image/png": "[encoded data removed]",
      "text/plain": [
       "<Figure size 720x504 with 1 Axes>"
      ]
     },
     "metadata": {
      "needs_background": "light"
     },
     "output_type": "display_data"
    }
   ],
   "source": [
    "plt.figure(figsize=(10,7))\n",
    "sns.histplot(train.age,color='coral')\n",
    "plt.title(\"Age Distribution of Employees\")\n",
    "plt.show()"
   ]
  },
  {
   "cell_type": "markdown",
   "metadata": {
    "id": "5QSvDi6dpnRd"
   },
   "source": [
    "<b>Insights drawn from the above plot:\n",
    "1. The age group of 30-35 has the most number of employees as compared to any other age groups.\n",
    "  > Signifies that even after gaining moderate amount of experience in the industry, employees prefer to work for this company.\n",
    "  "
   ]
  },
  {
   "cell_type": "code",
   "execution_count": 117,
   "metadata": {
    "execution": {
     "iopub.execute_input": "2021-08-15T13:13:13.344589Z",
     "iopub.status.busy": "2021-08-15T13:13:13.344244Z",
     "iopub.status.idle": "2021-08-15T13:13:14.303657Z",
     "shell.execute_reply": "2021-08-15T13:13:14.302631Z",
     "shell.execute_reply.started": "2021-08-15T13:13:13.344558Z"
    },
    "id": "TxHhxF1rYxLr",
    "outputId": "fa67f43c-6b57-43e9-8581-00ddf0ec73c5"
   },
   "outputs": [
    {
     "data": {
      "text/plain": [
       "Text(0.5, 1.0, 'Age wise Distribution of employees getting promoted or not')"
      ]
     },
     "execution_count": 117,
     "metadata": {},
     "output_type": "execute_result"
    },
    {
     "data": {
      "image/png": "[encoded data removed]",
      "text/plain": [
       "<Figure size 1440x576 with 1 Axes>"
      ]
     },
     "metadata": {
      "needs_background": "light"
     },
     "output_type": "display_data"
    }
   ],
   "source": [
    "y=train.groupby(['age','is_promoted'])['is_promoted'].count().unstack().fillna(0)\n",
    "y1=y.div(y.sum(1).astype('float'), axis = 0)\n",
    "y1.plot(kind = 'bar', stacked = True, figsize = (20, 8), color = ['lightcoral', 'green'])\n",
    "plt.xlabel('AGE')\n",
    "plt.ylabel('% of employees getting promoted(or not)')\n",
    "plt.title(\"Age wise Distribution of employees getting promoted or not\")\n"
   ]
  },
  {
   "cell_type": "markdown",
   "metadata": {
    "id": "LNLRmdA9x8RP"
   },
   "source": [
    "<b>Insights drawn from the above plot:\n",
    "1. Almost an even distribution of promotions throughout all ages\n",
    "2. Even the freshers and the veterans are getting equal shares in promotions\n",
    "  > This shows that the company really values the work done by employee regardless of age and experience."
   ]
  },
  {
   "cell_type": "markdown",
   "metadata": {
    "id": "IogeqRXXyq5Y"
   },
   "source": [
    "## 7.) EDA BASED ON PREVIOUS YEAR RATING"
   ]
  },
  {
   "cell_type": "code",
   "execution_count": 118,
   "metadata": {
    "execution": {
     "iopub.execute_input": "2021-08-15T13:13:14.305096Z",
     "iopub.status.busy": "2021-08-15T13:13:14.304826Z",
     "iopub.status.idle": "2021-08-15T13:13:14.488570Z",
     "shell.execute_reply": "2021-08-15T13:13:14.487301Z",
     "shell.execute_reply.started": "2021-08-15T13:13:14.305070Z"
    },
    "id": "mdGVP-gmpnRd",
    "outputId": "8757dab8-99ef-47b7-8ad5-968e2cd5c517"
   },
   "outputs": [
    {
     "data": {
      "image/png": "[encoded data removed]",
      "text/plain": [
       "<Figure size 720x576 with 1 Axes>"
      ]
     },
     "metadata": {
      "needs_background": "light"
     },
     "output_type": "display_data"
    }
   ],
   "source": [
    "z=train.groupby(['previous_year_rating','is_promoted'])['is_promoted'].count().unstack().fillna(0)\n",
    "z['%']=z[1]/(z[0] + z[1])#calculation of promotion %\n",
    "plt.figure(figsize=(10,8))\n",
    "plt.plot(z['%'],color='coral', linewidth=2.5)\n",
    "plt.grid(color = 'black', linestyle = '-', linewidth = 0.5)\n",
    "plt.title('Previous Year Ratings vs Promotions')\n",
    "plt.xlabel('Previous Year Ratings')\n",
    "plt.ylabel('% of employees promoted')\n",
    "plt.show()"
   ]
  },
  {
   "cell_type": "markdown",
   "metadata": {
    "id": "Unm91Kev2yN6"
   },
   "source": [
    "<b>Insights drawn from the above plot:\n",
    "1. As expected , as the ratings increase from 1 to 5 , the % of employees getting  promoted also increases.\n",
    "  > Employees should work hard to get a good rating in order to get promoted.\n",
    "\n",
    "NOTE - NOT TAKING RATING = 0 INTO CONSIDERATION\n"
   ]
  },
  {
   "cell_type": "markdown",
   "metadata": {
    "id": "nVN_yu8XA_Zu"
   },
   "source": [
    "## 8.) EDA BASED ON KPIs MET > 80%"
   ]
  },
  {
   "cell_type": "code",
   "execution_count": 119,
   "metadata": {
    "execution": {
     "iopub.execute_input": "2021-08-15T13:13:14.491836Z",
     "iopub.status.busy": "2021-08-15T13:13:14.491517Z",
     "iopub.status.idle": "2021-08-15T13:13:14.510223Z",
     "shell.execute_reply": "2021-08-15T13:13:14.509073Z",
     "shell.execute_reply.started": "2021-08-15T13:13:14.491805Z"
    },
    "id": "UoHjP1hPpnRd",
    "outputId": "b1cae1f3-08fb-4aa5-ad81-10a9a6b40e8e"
   },
   "outputs": [
    {
     "data": {
      "text/html": [
       "<div>\n",
       "<style scoped>\n",
       "    .dataframe tbody tr th:only-of-type {\n",
       "        vertical-align: middle;\n",
       "    }\n",
       "\n",
       "    .dataframe tbody tr th {\n",
       "        vertical-align: top;\n",
       "    }\n",
       "\n",
       "    .dataframe thead th {\n",
       "        text-align: right;\n",
       "    }\n",
       "</style>\n",
       "<table border=\"1\" class=\"dataframe\">\n",
       "  <thead>\n",
       "    <tr style=\"text-align: right;\">\n",
       "      <th>is_promoted</th>\n",
       "      <th>0</th>\n",
       "      <th>1</th>\n",
       "      <th>%</th>\n",
       "    </tr>\n",
       "    <tr>\n",
       "      <th>KPIs_met &gt;80%</th>\n",
       "      <th></th>\n",
       "      <th></th>\n",
       "      <th></th>\n",
       "    </tr>\n",
       "  </thead>\n",
       "  <tbody>\n",
       "    <tr>\n",
       "      <th>0</th>\n",
       "      <td>22686</td>\n",
       "      <td>958</td>\n",
       "      <td>0.040518</td>\n",
       "    </tr>\n",
       "    <tr>\n",
       "      <th>1</th>\n",
       "      <td>10811</td>\n",
       "      <td>2224</td>\n",
       "      <td>0.170618</td>\n",
       "    </tr>\n",
       "  </tbody>\n",
       "</table>\n",
       "</div>"
      ],
      "text/plain": [
       "is_promoted        0     1         %\n",
       "KPIs_met >80%                       \n",
       "0              22686   958  0.040518\n",
       "1              10811  2224  0.170618"
      ]
     },
     "execution_count": 119,
     "metadata": {},
     "output_type": "execute_result"
    }
   ],
   "source": [
    "z=train.groupby(['KPIs_met >80%','is_promoted'])['is_promoted'].count().unstack().fillna(0)\n",
    "z['%']=z[1]/(z[0]+z[1])#calculation of promotion %\n",
    "z"
   ]
  },
  {
   "cell_type": "code",
   "execution_count": 120,
   "metadata": {
    "execution": {
     "iopub.execute_input": "2021-08-15T13:13:14.512011Z",
     "iopub.status.busy": "2021-08-15T13:13:14.511611Z",
     "iopub.status.idle": "2021-08-15T13:13:15.085907Z",
     "shell.execute_reply": "2021-08-15T13:13:15.084883Z",
     "shell.execute_reply.started": "2021-08-15T13:13:14.511969Z"
    },
    "id": "wlvDW4nSpnRd",
    "outputId": "aa11ef27-8fb1-465a-f8e3-3b53687513bf"
   },
   "outputs": [
    {
     "data": {
      "text/plain": [
       "Text(0, 0.5, 'Promotion %')"
      ]
     },
     "execution_count": 120,
     "metadata": {},
     "output_type": "execute_result"
    },
    {
     "data": {
      "image/png": "[encoded data removed]",
      "text/plain": [
       "<Figure size 432x288 with 1 Axes>"
      ]
     },
     "metadata": {
      "needs_background": "light"
     },
     "output_type": "display_data"
    }
   ],
   "source": [
    "sns.barplot(x=train['KPIs_met >80%'],y=train['is_promoted'])\n",
    "plt.title(\"Promotions vs KPIs Met >80%\")\n",
    "plt.ylabel(\"Promotion %\")"
   ]
  },
  {
   "cell_type": "markdown",
   "metadata": {
    "id": "LjFfwWSOWv7d"
   },
   "source": [
    "<b>Insights drawn from the above plot:\n",
    "1. Employees whose KPIs Met is > 80% have a very high chance of getting promoted with respect to those who have < 80%."
   ]
  },
  {
   "cell_type": "markdown",
   "metadata": {
    "id": "MZKxSgOXYofA"
   },
   "source": [
    "## 9.) EDA BASED ON AWARDS WON"
   ]
  },
  {
   "cell_type": "code",
   "execution_count": 121,
   "metadata": {
    "execution": {
     "iopub.execute_input": "2021-08-15T13:13:15.090248Z",
     "iopub.status.busy": "2021-08-15T13:13:15.089931Z",
     "iopub.status.idle": "2021-08-15T13:13:15.108612Z",
     "shell.execute_reply": "2021-08-15T13:13:15.107622Z",
     "shell.execute_reply.started": "2021-08-15T13:13:15.090216Z"
    },
    "id": "YHDEP1np744u",
    "outputId": "c44fd432-49f1-44b2-af46-623c018222c3"
   },
   "outputs": [
    {
     "data": {
      "text/html": [
       "<div>\n",
       "<style scoped>\n",
       "    .dataframe tbody tr th:only-of-type {\n",
       "        vertical-align: middle;\n",
       "    }\n",
       "\n",
       "    .dataframe tbody tr th {\n",
       "        vertical-align: top;\n",
       "    }\n",
       "\n",
       "    .dataframe thead th {\n",
       "        text-align: right;\n",
       "    }\n",
       "</style>\n",
       "<table border=\"1\" class=\"dataframe\">\n",
       "  <thead>\n",
       "    <tr style=\"text-align: right;\">\n",
       "      <th>is_promoted</th>\n",
       "      <th>0</th>\n",
       "      <th>1</th>\n",
       "      <th>%</th>\n",
       "    </tr>\n",
       "    <tr>\n",
       "      <th>awards_won?</th>\n",
       "      <th></th>\n",
       "      <th></th>\n",
       "      <th></th>\n",
       "    </tr>\n",
       "  </thead>\n",
       "  <tbody>\n",
       "    <tr>\n",
       "      <th>0</th>\n",
       "      <td>33038</td>\n",
       "      <td>2788</td>\n",
       "      <td>0.077821</td>\n",
       "    </tr>\n",
       "    <tr>\n",
       "      <th>1</th>\n",
       "      <td>459</td>\n",
       "      <td>394</td>\n",
       "      <td>0.461899</td>\n",
       "    </tr>\n",
       "  </tbody>\n",
       "</table>\n",
       "</div>"
      ],
      "text/plain": [
       "is_promoted      0     1         %\n",
       "awards_won?                       \n",
       "0            33038  2788  0.077821\n",
       "1              459   394  0.461899"
      ]
     },
     "execution_count": 121,
     "metadata": {},
     "output_type": "execute_result"
    }
   ],
   "source": [
    "x=train.groupby(['awards_won?','is_promoted'])['is_promoted'].count().unstack().fillna(0)\n",
    "x['%']=x[1]/(x[0]+x[1])#calculation of promotion %\n",
    "x"
   ]
  },
  {
   "cell_type": "code",
   "execution_count": 122,
   "metadata": {
    "execution": {
     "iopub.execute_input": "2021-08-15T13:13:15.111373Z",
     "iopub.status.busy": "2021-08-15T13:13:15.111063Z",
     "iopub.status.idle": "2021-08-15T13:13:15.689906Z",
     "shell.execute_reply": "2021-08-15T13:13:15.688958Z",
     "shell.execute_reply.started": "2021-08-15T13:13:15.111341Z"
    },
    "id": "CtRohGlJYy1H",
    "outputId": "fb90b647-3950-4504-e0a7-aee6c6cf79cb"
   },
   "outputs": [
    {
     "data": {
      "text/plain": [
       "Text(0.5, 0, 'Awards Won ?')"
      ]
     },
     "execution_count": 122,
     "metadata": {},
     "output_type": "execute_result"
    },
    {
     "data": {
      "image/png": "[encoded data removed]",
      "text/plain": [
       "<Figure size 432x288 with 1 Axes>"
      ]
     },
     "metadata": {
      "needs_background": "light"
     },
     "output_type": "display_data"
    }
   ],
   "source": [
    "sns.barplot(x=train['awards_won?'],y=train['is_promoted'])\n",
    "plt.title(\"Promotions vs Awards Won\")\n",
    "plt.ylabel(\"Promotion %\")\n",
    "plt.xlabel('Awards Won ?')"
   ]
  },
  {
   "cell_type": "markdown",
   "metadata": {
    "id": "fLOvsGwCZTVM"
   },
   "source": [
    "<b>Insights drawn from the above plot:\n",
    "1. Very high chance of getting promoted if the employee has won an award.\n",
    "  > Company checks whether the employee has won an award or not while promoting so employees should keep in mind to give their best performance."
   ]
  },
  {
   "cell_type": "markdown",
   "metadata": {
    "id": "fzbHslF5dToF"
   },
   "source": [
    "## 10. EDA BASED ON AVG TRAINING SCORE"
   ]
  },
  {
   "cell_type": "code",
   "execution_count": 123,
   "metadata": {
    "execution": {
     "iopub.execute_input": "2021-08-15T13:13:15.692025Z",
     "iopub.status.busy": "2021-08-15T13:13:15.691616Z",
     "iopub.status.idle": "2021-08-15T13:13:16.927541Z",
     "shell.execute_reply": "2021-08-15T13:13:16.926502Z",
     "shell.execute_reply.started": "2021-08-15T13:13:15.691982Z"
    },
    "id": "jg56_0mdZGdI",
    "outputId": "ff60b492-a6f5-4f27-c4fc-e7235db8fdb8"
   },
   "outputs": [
    {
     "data": {
      "text/plain": [
       "Text(0.5, 1.0, 'Avg Training Score wise Distribution of employees getting promoted or not')"
      ]
     },
     "execution_count": 123,
     "metadata": {},
     "output_type": "execute_result"
    },
    {
     "data": {
      "image/png": "[encoded data removed]",
      "text/plain": [
       "<Figure size 1440x576 with 1 Axes>"
      ]
     },
     "metadata": {
      "needs_background": "light"
     },
     "output_type": "display_data"
    }
   ],
   "source": [
    "y=train.groupby(['avg_training_score','is_promoted'])['is_promoted'].count().unstack().fillna(0)\n",
    "y1=y.div(y.sum(1).astype('float'), axis = 0)\n",
    "y1.plot(kind = 'bar', stacked = True, figsize = (20, 8), color = ['lightcoral', 'lightblue'])\n",
    "plt.xlabel('Training Score')\n",
    "plt.ylabel('% of employees getting promoted(or not)')\n",
    "plt.title(\"Avg Training Score wise Distribution of employees getting promoted or not\")"
   ]
  },
  {
   "cell_type": "markdown",
   "metadata": {
    "id": "gIJkYGaqf2ZI"
   },
   "source": [
    "<b>Insights drawn from the above plot:\n",
    "1. As avg training score increases, chances of promotion increases highly."
   ]
  },
  {
   "cell_type": "markdown",
   "metadata": {
    "id": "uQwnifuzdq_0"
   },
   "source": [
    "### Correlation Matrix"
   ]
  },
  {
   "cell_type": "code",
   "execution_count": 124,
   "metadata": {
    "execution": {
     "iopub.execute_input": "2021-08-15T13:13:16.928962Z",
     "iopub.status.busy": "2021-08-15T13:13:16.928699Z",
     "iopub.status.idle": "2021-08-15T13:13:16.960181Z",
     "shell.execute_reply": "2021-08-15T13:13:16.959191Z",
     "shell.execute_reply.started": "2021-08-15T13:13:16.928938Z"
    },
    "id": "n37QiOSYoEUl"
   },
   "outputs": [
    {
     "data": {
      "text/html": [
       "<div>\n",
       "<style scoped>\n",
       "    .dataframe tbody tr th:only-of-type {\n",
       "        vertical-align: middle;\n",
       "    }\n",
       "\n",
       "    .dataframe tbody tr th {\n",
       "        vertical-align: top;\n",
       "    }\n",
       "\n",
       "    .dataframe thead th {\n",
       "        text-align: right;\n",
       "    }\n",
       "</style>\n",
       "<table border=\"1\" class=\"dataframe\">\n",
       "  <thead>\n",
       "    <tr style=\"text-align: right;\">\n",
       "      <th></th>\n",
       "      <th>employee_id</th>\n",
       "      <th>no_of_trainings</th>\n",
       "      <th>age</th>\n",
       "      <th>previous_year_rating</th>\n",
       "      <th>length_of_service</th>\n",
       "      <th>KPIs_met &gt;80%</th>\n",
       "      <th>awards_won?</th>\n",
       "      <th>avg_training_score</th>\n",
       "      <th>is_promoted</th>\n",
       "    </tr>\n",
       "  </thead>\n",
       "  <tbody>\n",
       "    <tr>\n",
       "      <th>employee_id</th>\n",
       "      <td>1.000000</td>\n",
       "      <td>-0.002969</td>\n",
       "      <td>0.001107</td>\n",
       "      <td>0.003175</td>\n",
       "      <td>-0.000901</td>\n",
       "      <td>-0.005690</td>\n",
       "      <td>0.003104</td>\n",
       "      <td>0.001617</td>\n",
       "      <td>0.000024</td>\n",
       "    </tr>\n",
       "    <tr>\n",
       "      <th>no_of_trainings</th>\n",
       "      <td>-0.002969</td>\n",
       "      <td>1.000000</td>\n",
       "      <td>-0.082078</td>\n",
       "      <td>-0.061411</td>\n",
       "      <td>-0.054231</td>\n",
       "      <td>-0.045487</td>\n",
       "      <td>-0.002281</td>\n",
       "      <td>0.044142</td>\n",
       "      <td>-0.027855</td>\n",
       "    </tr>\n",
       "    <tr>\n",
       "      <th>age</th>\n",
       "      <td>0.001107</td>\n",
       "      <td>-0.082078</td>\n",
       "      <td>1.000000</td>\n",
       "      <td>0.168735</td>\n",
       "      <td>0.654266</td>\n",
       "      <td>-0.034039</td>\n",
       "      <td>-0.004359</td>\n",
       "      <td>-0.065065</td>\n",
       "      <td>-0.017386</td>\n",
       "    </tr>\n",
       "    <tr>\n",
       "      <th>previous_year_rating</th>\n",
       "      <td>0.003175</td>\n",
       "      <td>-0.061411</td>\n",
       "      <td>0.168735</td>\n",
       "      <td>1.000000</td>\n",
       "      <td>0.181587</td>\n",
       "      <td>0.278644</td>\n",
       "      <td>0.022082</td>\n",
       "      <td>0.047982</td>\n",
       "      <td>0.131316</td>\n",
       "    </tr>\n",
       "    <tr>\n",
       "      <th>length_of_service</th>\n",
       "      <td>-0.000901</td>\n",
       "      <td>-0.054231</td>\n",
       "      <td>0.654266</td>\n",
       "      <td>0.181587</td>\n",
       "      <td>1.000000</td>\n",
       "      <td>-0.084030</td>\n",
       "      <td>-0.035825</td>\n",
       "      <td>-0.044579</td>\n",
       "      <td>-0.011849</td>\n",
       "    </tr>\n",
       "    <tr>\n",
       "      <th>KPIs_met &gt;80%</th>\n",
       "      <td>-0.005690</td>\n",
       "      <td>-0.045487</td>\n",
       "      <td>-0.034039</td>\n",
       "      <td>0.278644</td>\n",
       "      <td>-0.084030</td>\n",
       "      <td>1.000000</td>\n",
       "      <td>0.093300</td>\n",
       "      <td>0.068091</td>\n",
       "      <td>0.221228</td>\n",
       "    </tr>\n",
       "    <tr>\n",
       "      <th>awards_won?</th>\n",
       "      <td>0.003104</td>\n",
       "      <td>-0.002281</td>\n",
       "      <td>-0.004359</td>\n",
       "      <td>0.022082</td>\n",
       "      <td>-0.035825</td>\n",
       "      <td>0.093300</td>\n",
       "      <td>1.000000</td>\n",
       "      <td>0.079564</td>\n",
       "      <td>0.205656</td>\n",
       "    </tr>\n",
       "    <tr>\n",
       "      <th>avg_training_score</th>\n",
       "      <td>0.001617</td>\n",
       "      <td>0.044142</td>\n",
       "      <td>-0.065065</td>\n",
       "      <td>0.047982</td>\n",
       "      <td>-0.044579</td>\n",
       "      <td>0.068091</td>\n",
       "      <td>0.079564</td>\n",
       "      <td>1.000000</td>\n",
       "      <td>0.179652</td>\n",
       "    </tr>\n",
       "    <tr>\n",
       "      <th>is_promoted</th>\n",
       "      <td>0.000024</td>\n",
       "      <td>-0.027855</td>\n",
       "      <td>-0.017386</td>\n",
       "      <td>0.131316</td>\n",
       "      <td>-0.011849</td>\n",
       "      <td>0.221228</td>\n",
       "      <td>0.205656</td>\n",
       "      <td>0.179652</td>\n",
       "      <td>1.000000</td>\n",
       "    </tr>\n",
       "  </tbody>\n",
       "</table>\n",
       "</div>"
      ],
      "text/plain": [
       "                      employee_id  no_of_trainings       age  \\\n",
       "employee_id              1.000000        -0.002969  0.001107   \n",
       "no_of_trainings         -0.002969         1.000000 -0.082078   \n",
       "age                      0.001107        -0.082078  1.000000   \n",
       "previous_year_rating     0.003175        -0.061411  0.168735   \n",
       "length_of_service       -0.000901        -0.054231  0.654266   \n",
       "KPIs_met >80%           -0.005690        -0.045487 -0.034039   \n",
       "awards_won?              0.003104        -0.002281 -0.004359   \n",
       "avg_training_score       0.001617         0.044142 -0.065065   \n",
       "is_promoted              0.000024        -0.027855 -0.017386   \n",
       "\n",
       "                      previous_year_rating  length_of_service  KPIs_met >80%  \\\n",
       "employee_id                       0.003175          -0.000901      -0.005690   \n",
       "no_of_trainings                  -0.061411          -0.054231      -0.045487   \n",
       "age                               0.168735           0.654266      -0.034039   \n",
       "previous_year_rating              1.000000           0.181587       0.278644   \n",
       "length_of_service                 0.181587           1.000000      -0.084030   \n",
       "KPIs_met >80%                     0.278644          -0.084030       1.000000   \n",
       "awards_won?                       0.022082          -0.035825       0.093300   \n",
       "avg_training_score                0.047982          -0.044579       0.068091   \n",
       "is_promoted                       0.131316          -0.011849       0.221228   \n",
       "\n",
       "                      awards_won?  avg_training_score  is_promoted  \n",
       "employee_id              0.003104            0.001617     0.000024  \n",
       "no_of_trainings         -0.002281            0.044142    -0.027855  \n",
       "age                     -0.004359           -0.065065    -0.017386  \n",
       "previous_year_rating     0.022082            0.047982     0.131316  \n",
       "length_of_service       -0.035825           -0.044579    -0.011849  \n",
       "KPIs_met >80%            0.093300            0.068091     0.221228  \n",
       "awards_won?              1.000000            0.079564     0.205656  \n",
       "avg_training_score       0.079564            1.000000     0.179652  \n",
       "is_promoted              0.205656            0.179652     1.000000  "
      ]
     },
     "execution_count": 124,
     "metadata": {},
     "output_type": "execute_result"
    }
   ],
   "source": [
    "train.corr()"
   ]
  },
  {
   "cell_type": "code",
   "execution_count": 125,
   "metadata": {
    "execution": {
     "iopub.execute_input": "2021-08-15T13:13:16.961771Z",
     "iopub.status.busy": "2021-08-15T13:13:16.961487Z",
     "iopub.status.idle": "2021-08-15T13:13:17.658647Z",
     "shell.execute_reply": "2021-08-15T13:13:17.657662Z",
     "shell.execute_reply.started": "2021-08-15T13:13:16.961745Z"
    },
    "id": "RWYvV_OtoESp",
    "outputId": "57f06d95-8128-495b-b45a-23a2ba2d64f7"
   },
   "outputs": [
    {
     "data": {
      "image/png": "[encoded data removed]",
      "text/plain": [
       "<Figure size 792x576 with 2 Axes>"
      ]
     },
     "metadata": {
      "needs_background": "light"
     },
     "output_type": "display_data"
    }
   ],
   "source": [
    "plt.figure(figsize=(11,8))\n",
    "sns.heatmap(train.corr(),annot=True)\n",
    "plt.show()"
   ]
  },
  {
   "cell_type": "markdown",
   "metadata": {
    "id": "-OVviCWDoEO8"
   },
   "source": [
    "#### Out of all the numerical columns, ''previous_year_rating'', ''KPIs_met>80%'',''awards_won?'' & ''avg_training_score'' seem to be more correlated to the target feature than the others"
   ]
  },
  {
   "cell_type": "markdown",
   "metadata": {
    "id": "-ImeW4wroEMd"
   },
   "source": [
    "# <center> ----- FEATURE ENGINEERING ----- </center>"
   ]
  },
  {
   "cell_type": "code",
   "execution_count": 126,
   "metadata": {
    "execution": {
     "iopub.execute_input": "2021-08-15T13:13:17.660028Z",
     "iopub.status.busy": "2021-08-15T13:13:17.659751Z",
     "iopub.status.idle": "2021-08-15T13:13:17.711913Z",
     "shell.execute_reply": "2021-08-15T13:13:17.710851Z",
     "shell.execute_reply.started": "2021-08-15T13:13:17.660002Z"
    }
   },
   "outputs": [
    {
     "data": {
      "text/plain": [
       "department              9\n",
       "region                 34\n",
       "education               3\n",
       "gender                  2\n",
       "recruitment_channel     3\n",
       "dtype: int64"
      ]
     },
     "execution_count": 126,
     "metadata": {},
     "output_type": "execute_result"
    }
   ],
   "source": [
    "train[train.select_dtypes(include=['object']).columns.tolist()].nunique()\n"
   ]
  },
  {
   "cell_type": "markdown",
   "metadata": {},
   "source": [
    "*The columns having less number of categories can be One Hot Encoded. Other columns can be Target encoded*"
   ]
  },
  {
   "cell_type": "markdown",
   "metadata": {
    "id": "VH3z-DayoEKg"
   },
   "source": [
    "**Performing One Hot Encoding**"
   ]
  },
  {
   "cell_type": "code",
   "execution_count": 127,
   "metadata": {
    "execution": {
     "iopub.execute_input": "2021-08-15T13:13:17.713840Z",
     "iopub.status.busy": "2021-08-15T13:13:17.713429Z",
     "iopub.status.idle": "2021-08-15T13:13:17.745559Z",
     "shell.execute_reply": "2021-08-15T13:13:17.744460Z",
     "shell.execute_reply.started": "2021-08-15T13:13:17.713798Z"
    },
    "id": "Upbxb_JyoEGp"
   },
   "outputs": [],
   "source": [
    "# ONE HOT ENCODING \"education\" column across all datasets\n",
    "\n",
    "\n",
    "dummy1=pd.get_dummies(x_train['education'])\n",
    "x_train=x_train.join(dummy1)\n",
    "\n",
    "dummy2=pd.get_dummies(x_val1['education'])\n",
    "x_val1=x_val1.join(dummy2)\n",
    "\n",
    "dummy3=pd.get_dummies(x_val2['education'])\n",
    "x_val2=x_val2.join(dummy3)\n",
    "\n",
    "dummy4=pd.get_dummies(x_test['education'])\n",
    "x_test=x_test.join(dummy4)"
   ]
  },
  {
   "cell_type": "code",
   "execution_count": 128,
   "metadata": {
    "execution": {
     "iopub.execute_input": "2021-08-15T13:13:17.747798Z",
     "iopub.status.busy": "2021-08-15T13:13:17.747345Z",
     "iopub.status.idle": "2021-08-15T13:13:17.767208Z",
     "shell.execute_reply": "2021-08-15T13:13:17.766172Z",
     "shell.execute_reply.started": "2021-08-15T13:13:17.747753Z"
    }
   },
   "outputs": [],
   "source": [
    "# Education has been encoded so we can drop it\n",
    "\n",
    "x_train.drop('education',axis=1,inplace=True)\n",
    "x_val1.drop('education',axis=1,inplace=True)\n",
    "x_val2.drop('education',axis=1,inplace=True)\n",
    "x_test.drop('education',axis=1,inplace=True)\n"
   ]
  },
  {
   "cell_type": "code",
   "execution_count": 129,
   "metadata": {
    "execution": {
     "iopub.execute_input": "2021-08-15T13:13:17.769257Z",
     "iopub.status.busy": "2021-08-15T13:13:17.768847Z",
     "iopub.status.idle": "2021-08-15T13:13:17.788758Z",
     "shell.execute_reply": "2021-08-15T13:13:17.787819Z",
     "shell.execute_reply.started": "2021-08-15T13:13:17.769224Z"
    }
   },
   "outputs": [
    {
     "data": {
      "text/html": [
       "<div>\n",
       "<style scoped>\n",
       "    .dataframe tbody tr th:only-of-type {\n",
       "        vertical-align: middle;\n",
       "    }\n",
       "\n",
       "    .dataframe tbody tr th {\n",
       "        vertical-align: top;\n",
       "    }\n",
       "\n",
       "    .dataframe thead th {\n",
       "        text-align: right;\n",
       "    }\n",
       "</style>\n",
       "<table border=\"1\" class=\"dataframe\">\n",
       "  <thead>\n",
       "    <tr style=\"text-align: right;\">\n",
       "      <th></th>\n",
       "      <th>employee_id</th>\n",
       "      <th>department</th>\n",
       "      <th>region</th>\n",
       "      <th>gender</th>\n",
       "      <th>recruitment_channel</th>\n",
       "      <th>no_of_trainings</th>\n",
       "      <th>age</th>\n",
       "      <th>previous_year_rating</th>\n",
       "      <th>length_of_service</th>\n",
       "      <th>KPIs_met &gt;80%</th>\n",
       "      <th>awards_won?</th>\n",
       "      <th>avg_training_score</th>\n",
       "      <th>Bachelor's</th>\n",
       "      <th>Below Secondary</th>\n",
       "      <th>Master's &amp; above</th>\n",
       "    </tr>\n",
       "  </thead>\n",
       "  <tbody>\n",
       "    <tr>\n",
       "      <th>770</th>\n",
       "      <td>26952</td>\n",
       "      <td>Analytics</td>\n",
       "      <td>region_13</td>\n",
       "      <td>m</td>\n",
       "      <td>other</td>\n",
       "      <td>1</td>\n",
       "      <td>34</td>\n",
       "      <td>2.0</td>\n",
       "      <td>6</td>\n",
       "      <td>0</td>\n",
       "      <td>0</td>\n",
       "      <td>86</td>\n",
       "      <td>0</td>\n",
       "      <td>0</td>\n",
       "      <td>1</td>\n",
       "    </tr>\n",
       "    <tr>\n",
       "      <th>5419</th>\n",
       "      <td>68849</td>\n",
       "      <td>Sales &amp; Marketing</td>\n",
       "      <td>region_22</td>\n",
       "      <td>f</td>\n",
       "      <td>sourcing</td>\n",
       "      <td>1</td>\n",
       "      <td>36</td>\n",
       "      <td>3.0</td>\n",
       "      <td>5</td>\n",
       "      <td>0</td>\n",
       "      <td>0</td>\n",
       "      <td>47</td>\n",
       "      <td>1</td>\n",
       "      <td>0</td>\n",
       "      <td>0</td>\n",
       "    </tr>\n",
       "    <tr>\n",
       "      <th>36583</th>\n",
       "      <td>49809</td>\n",
       "      <td>Operations</td>\n",
       "      <td>region_7</td>\n",
       "      <td>f</td>\n",
       "      <td>other</td>\n",
       "      <td>1</td>\n",
       "      <td>32</td>\n",
       "      <td>3.0</td>\n",
       "      <td>7</td>\n",
       "      <td>0</td>\n",
       "      <td>0</td>\n",
       "      <td>59</td>\n",
       "      <td>1</td>\n",
       "      <td>0</td>\n",
       "      <td>0</td>\n",
       "    </tr>\n",
       "    <tr>\n",
       "      <th>51379</th>\n",
       "      <td>8384</td>\n",
       "      <td>HR</td>\n",
       "      <td>region_20</td>\n",
       "      <td>f</td>\n",
       "      <td>other</td>\n",
       "      <td>1</td>\n",
       "      <td>35</td>\n",
       "      <td>3.0</td>\n",
       "      <td>5</td>\n",
       "      <td>0</td>\n",
       "      <td>0</td>\n",
       "      <td>51</td>\n",
       "      <td>0</td>\n",
       "      <td>0</td>\n",
       "      <td>1</td>\n",
       "    </tr>\n",
       "    <tr>\n",
       "      <th>23322</th>\n",
       "      <td>35781</td>\n",
       "      <td>HR</td>\n",
       "      <td>region_13</td>\n",
       "      <td>m</td>\n",
       "      <td>other</td>\n",
       "      <td>1</td>\n",
       "      <td>39</td>\n",
       "      <td>3.0</td>\n",
       "      <td>11</td>\n",
       "      <td>0</td>\n",
       "      <td>0</td>\n",
       "      <td>49</td>\n",
       "      <td>1</td>\n",
       "      <td>0</td>\n",
       "      <td>0</td>\n",
       "    </tr>\n",
       "  </tbody>\n",
       "</table>\n",
       "</div>"
      ],
      "text/plain": [
       "       employee_id         department     region gender recruitment_channel  \\\n",
       "770          26952          Analytics  region_13      m               other   \n",
       "5419         68849  Sales & Marketing  region_22      f            sourcing   \n",
       "36583        49809         Operations   region_7      f               other   \n",
       "51379         8384                 HR  region_20      f               other   \n",
       "23322        35781                 HR  region_13      m               other   \n",
       "\n",
       "       no_of_trainings  age  previous_year_rating  length_of_service  \\\n",
       "770                  1   34                   2.0                  6   \n",
       "5419                 1   36                   3.0                  5   \n",
       "36583                1   32                   3.0                  7   \n",
       "51379                1   35                   3.0                  5   \n",
       "23322                1   39                   3.0                 11   \n",
       "\n",
       "       KPIs_met >80%  awards_won?  avg_training_score  Bachelor's  \\\n",
       "770                0            0                  86           0   \n",
       "5419               0            0                  47           1   \n",
       "36583              0            0                  59           1   \n",
       "51379              0            0                  51           0   \n",
       "23322              0            0                  49           1   \n",
       "\n",
       "       Below Secondary  Master's & above  \n",
       "770                  0                 1  \n",
       "5419                 0                 0  \n",
       "36583                0                 0  \n",
       "51379                0                 1  \n",
       "23322                0                 0  "
      ]
     },
     "execution_count": 129,
     "metadata": {},
     "output_type": "execute_result"
    }
   ],
   "source": [
    "x_train.head()\n",
    "#x_val1.head()\n",
    "#x_val2.head()"
   ]
  },
  {
   "cell_type": "code",
   "execution_count": 130,
   "metadata": {
    "execution": {
     "iopub.execute_input": "2021-08-15T13:13:17.790476Z",
     "iopub.status.busy": "2021-08-15T13:13:17.790089Z",
     "iopub.status.idle": "2021-08-15T13:13:17.821350Z",
     "shell.execute_reply": "2021-08-15T13:13:17.820397Z",
     "shell.execute_reply.started": "2021-08-15T13:13:17.790436Z"
    }
   },
   "outputs": [],
   "source": [
    "# ONE HOT ENCODING \"gender\" column across all datasets\n",
    "\n",
    "\n",
    "dummy1=pd.get_dummies(x_train['gender'])\n",
    "x_train=x_train.join(dummy1)\n",
    "\n",
    "dummy2=pd.get_dummies(x_val1['gender'])\n",
    "x_val1=x_val1.join(dummy2)\n",
    "\n",
    "dummy3=pd.get_dummies(x_val2['gender'])\n",
    "x_val2=x_val2.join(dummy3)\n",
    "\n",
    "dummy4=pd.get_dummies(x_test['gender'])\n",
    "x_test=x_test.join(dummy4)"
   ]
  },
  {
   "cell_type": "code",
   "execution_count": 131,
   "metadata": {
    "execution": {
     "iopub.execute_input": "2021-08-15T13:13:17.823242Z",
     "iopub.status.busy": "2021-08-15T13:13:17.822857Z",
     "iopub.status.idle": "2021-08-15T13:13:17.839707Z",
     "shell.execute_reply": "2021-08-15T13:13:17.838603Z",
     "shell.execute_reply.started": "2021-08-15T13:13:17.823202Z"
    }
   },
   "outputs": [],
   "source": [
    "# Gender has been encoded so we can drop it\n",
    "\n",
    "x_train.drop('gender',axis=1,inplace=True)\n",
    "x_val1.drop('gender',axis=1,inplace=True)\n",
    "x_val2.drop('gender',axis=1,inplace=True)\n",
    "x_test.drop('gender',axis=1,inplace=True)\n"
   ]
  },
  {
   "cell_type": "code",
   "execution_count": 132,
   "metadata": {
    "execution": {
     "iopub.execute_input": "2021-08-15T13:13:17.841100Z",
     "iopub.status.busy": "2021-08-15T13:13:17.840830Z",
     "iopub.status.idle": "2021-08-15T13:13:17.860922Z",
     "shell.execute_reply": "2021-08-15T13:13:17.859852Z",
     "shell.execute_reply.started": "2021-08-15T13:13:17.841074Z"
    }
   },
   "outputs": [
    {
     "data": {
      "text/html": [
       "<div>\n",
       "<style scoped>\n",
       "    .dataframe tbody tr th:only-of-type {\n",
       "        vertical-align: middle;\n",
       "    }\n",
       "\n",
       "    .dataframe tbody tr th {\n",
       "        vertical-align: top;\n",
       "    }\n",
       "\n",
       "    .dataframe thead th {\n",
       "        text-align: right;\n",
       "    }\n",
       "</style>\n",
       "<table border=\"1\" class=\"dataframe\">\n",
       "  <thead>\n",
       "    <tr style=\"text-align: right;\">\n",
       "      <th></th>\n",
       "      <th>employee_id</th>\n",
       "      <th>department</th>\n",
       "      <th>region</th>\n",
       "      <th>recruitment_channel</th>\n",
       "      <th>no_of_trainings</th>\n",
       "      <th>age</th>\n",
       "      <th>previous_year_rating</th>\n",
       "      <th>length_of_service</th>\n",
       "      <th>KPIs_met &gt;80%</th>\n",
       "      <th>awards_won?</th>\n",
       "      <th>avg_training_score</th>\n",
       "      <th>Bachelor's</th>\n",
       "      <th>Below Secondary</th>\n",
       "      <th>Master's &amp; above</th>\n",
       "      <th>f</th>\n",
       "      <th>m</th>\n",
       "    </tr>\n",
       "  </thead>\n",
       "  <tbody>\n",
       "    <tr>\n",
       "      <th>770</th>\n",
       "      <td>26952</td>\n",
       "      <td>Analytics</td>\n",
       "      <td>region_13</td>\n",
       "      <td>other</td>\n",
       "      <td>1</td>\n",
       "      <td>34</td>\n",
       "      <td>2.0</td>\n",
       "      <td>6</td>\n",
       "      <td>0</td>\n",
       "      <td>0</td>\n",
       "      <td>86</td>\n",
       "      <td>0</td>\n",
       "      <td>0</td>\n",
       "      <td>1</td>\n",
       "      <td>0</td>\n",
       "      <td>1</td>\n",
       "    </tr>\n",
       "    <tr>\n",
       "      <th>5419</th>\n",
       "      <td>68849</td>\n",
       "      <td>Sales &amp; Marketing</td>\n",
       "      <td>region_22</td>\n",
       "      <td>sourcing</td>\n",
       "      <td>1</td>\n",
       "      <td>36</td>\n",
       "      <td>3.0</td>\n",
       "      <td>5</td>\n",
       "      <td>0</td>\n",
       "      <td>0</td>\n",
       "      <td>47</td>\n",
       "      <td>1</td>\n",
       "      <td>0</td>\n",
       "      <td>0</td>\n",
       "      <td>1</td>\n",
       "      <td>0</td>\n",
       "    </tr>\n",
       "    <tr>\n",
       "      <th>36583</th>\n",
       "      <td>49809</td>\n",
       "      <td>Operations</td>\n",
       "      <td>region_7</td>\n",
       "      <td>other</td>\n",
       "      <td>1</td>\n",
       "      <td>32</td>\n",
       "      <td>3.0</td>\n",
       "      <td>7</td>\n",
       "      <td>0</td>\n",
       "      <td>0</td>\n",
       "      <td>59</td>\n",
       "      <td>1</td>\n",
       "      <td>0</td>\n",
       "      <td>0</td>\n",
       "      <td>1</td>\n",
       "      <td>0</td>\n",
       "    </tr>\n",
       "    <tr>\n",
       "      <th>51379</th>\n",
       "      <td>8384</td>\n",
       "      <td>HR</td>\n",
       "      <td>region_20</td>\n",
       "      <td>other</td>\n",
       "      <td>1</td>\n",
       "      <td>35</td>\n",
       "      <td>3.0</td>\n",
       "      <td>5</td>\n",
       "      <td>0</td>\n",
       "      <td>0</td>\n",
       "      <td>51</td>\n",
       "      <td>0</td>\n",
       "      <td>0</td>\n",
       "      <td>1</td>\n",
       "      <td>1</td>\n",
       "      <td>0</td>\n",
       "    </tr>\n",
       "    <tr>\n",
       "      <th>23322</th>\n",
       "      <td>35781</td>\n",
       "      <td>HR</td>\n",
       "      <td>region_13</td>\n",
       "      <td>other</td>\n",
       "      <td>1</td>\n",
       "      <td>39</td>\n",
       "      <td>3.0</td>\n",
       "      <td>11</td>\n",
       "      <td>0</td>\n",
       "      <td>0</td>\n",
       "      <td>49</td>\n",
       "      <td>1</td>\n",
       "      <td>0</td>\n",
       "      <td>0</td>\n",
       "      <td>0</td>\n",
       "      <td>1</td>\n",
       "    </tr>\n",
       "  </tbody>\n",
       "</table>\n",
       "</div>"
      ],
      "text/plain": [
       "       employee_id         department     region recruitment_channel  \\\n",
       "770          26952          Analytics  region_13               other   \n",
       "5419         68849  Sales & Marketing  region_22            sourcing   \n",
       "36583        49809         Operations   region_7               other   \n",
       "51379         8384                 HR  region_20               other   \n",
       "23322        35781                 HR  region_13               other   \n",
       "\n",
       "       no_of_trainings  age  previous_year_rating  length_of_service  \\\n",
       "770                  1   34                   2.0                  6   \n",
       "5419                 1   36                   3.0                  5   \n",
       "36583                1   32                   3.0                  7   \n",
       "51379                1   35                   3.0                  5   \n",
       "23322                1   39                   3.0                 11   \n",
       "\n",
       "       KPIs_met >80%  awards_won?  avg_training_score  Bachelor's  \\\n",
       "770                0            0                  86           0   \n",
       "5419               0            0                  47           1   \n",
       "36583              0            0                  59           1   \n",
       "51379              0            0                  51           0   \n",
       "23322              0            0                  49           1   \n",
       "\n",
       "       Below Secondary  Master's & above  f  m  \n",
       "770                  0                 1  0  1  \n",
       "5419                 0                 0  1  0  \n",
       "36583                0                 0  1  0  \n",
       "51379                0                 1  1  0  \n",
       "23322                0                 0  0  1  "
      ]
     },
     "execution_count": 132,
     "metadata": {},
     "output_type": "execute_result"
    }
   ],
   "source": [
    "x_train.head()\n",
    "#x_val1.head()\n",
    "#x_val2.head()"
   ]
  },
  {
   "cell_type": "code",
   "execution_count": 133,
   "metadata": {
    "execution": {
     "iopub.execute_input": "2021-08-15T13:13:17.863356Z",
     "iopub.status.busy": "2021-08-15T13:13:17.862750Z",
     "iopub.status.idle": "2021-08-15T13:13:17.892100Z",
     "shell.execute_reply": "2021-08-15T13:13:17.891180Z",
     "shell.execute_reply.started": "2021-08-15T13:13:17.863310Z"
    }
   },
   "outputs": [],
   "source": [
    "# ONE HOT ENCODING \"recruitment_channel\" column across all datasets\n",
    "\n",
    "\n",
    "dummy1=pd.get_dummies(x_train['recruitment_channel'])\n",
    "x_train=x_train.join(dummy1)\n",
    "\n",
    "dummy2=pd.get_dummies(x_val1['recruitment_channel'])\n",
    "x_val1=x_val1.join(dummy2)\n",
    "\n",
    "dummy3=pd.get_dummies(x_val2['recruitment_channel'])\n",
    "x_val2=x_val2.join(dummy3)\n",
    "\n",
    "dummy4=pd.get_dummies(x_test['recruitment_channel'])\n",
    "x_test=x_test.join(dummy4)"
   ]
  },
  {
   "cell_type": "code",
   "execution_count": 134,
   "metadata": {
    "execution": {
     "iopub.execute_input": "2021-08-15T13:13:17.893914Z",
     "iopub.status.busy": "2021-08-15T13:13:17.893327Z",
     "iopub.status.idle": "2021-08-15T13:13:17.912577Z",
     "shell.execute_reply": "2021-08-15T13:13:17.911526Z",
     "shell.execute_reply.started": "2021-08-15T13:13:17.893870Z"
    }
   },
   "outputs": [],
   "source": [
    "# Recruitment Channel has been encoded so we can drop it\n",
    "\n",
    "x_train.drop('recruitment_channel',axis=1,inplace=True)\n",
    "x_val1.drop('recruitment_channel',axis=1,inplace=True)\n",
    "x_val2.drop('recruitment_channel',axis=1,inplace=True)\n",
    "x_test.drop('recruitment_channel',axis=1,inplace=True)\n"
   ]
  },
  {
   "cell_type": "code",
   "execution_count": 135,
   "metadata": {
    "execution": {
     "iopub.execute_input": "2021-08-15T13:13:17.914249Z",
     "iopub.status.busy": "2021-08-15T13:13:17.913953Z",
     "iopub.status.idle": "2021-08-15T13:13:17.932606Z",
     "shell.execute_reply": "2021-08-15T13:13:17.931618Z",
     "shell.execute_reply.started": "2021-08-15T13:13:17.914221Z"
    }
   },
   "outputs": [
    {
     "data": {
      "text/html": [
       "<div>\n",
       "<style scoped>\n",
       "    .dataframe tbody tr th:only-of-type {\n",
       "        vertical-align: middle;\n",
       "    }\n",
       "\n",
       "    .dataframe tbody tr th {\n",
       "        vertical-align: top;\n",
       "    }\n",
       "\n",
       "    .dataframe thead th {\n",
       "        text-align: right;\n",
       "    }\n",
       "</style>\n",
       "<table border=\"1\" class=\"dataframe\">\n",
       "  <thead>\n",
       "    <tr style=\"text-align: right;\">\n",
       "      <th></th>\n",
       "      <th>employee_id</th>\n",
       "      <th>department</th>\n",
       "      <th>region</th>\n",
       "      <th>no_of_trainings</th>\n",
       "      <th>age</th>\n",
       "      <th>previous_year_rating</th>\n",
       "      <th>length_of_service</th>\n",
       "      <th>KPIs_met &gt;80%</th>\n",
       "      <th>awards_won?</th>\n",
       "      <th>avg_training_score</th>\n",
       "      <th>Bachelor's</th>\n",
       "      <th>Below Secondary</th>\n",
       "      <th>Master's &amp; above</th>\n",
       "      <th>f</th>\n",
       "      <th>m</th>\n",
       "      <th>other</th>\n",
       "      <th>referred</th>\n",
       "      <th>sourcing</th>\n",
       "    </tr>\n",
       "  </thead>\n",
       "  <tbody>\n",
       "    <tr>\n",
       "      <th>770</th>\n",
       "      <td>26952</td>\n",
       "      <td>Analytics</td>\n",
       "      <td>region_13</td>\n",
       "      <td>1</td>\n",
       "      <td>34</td>\n",
       "      <td>2.0</td>\n",
       "      <td>6</td>\n",
       "      <td>0</td>\n",
       "      <td>0</td>\n",
       "      <td>86</td>\n",
       "      <td>0</td>\n",
       "      <td>0</td>\n",
       "      <td>1</td>\n",
       "      <td>0</td>\n",
       "      <td>1</td>\n",
       "      <td>1</td>\n",
       "      <td>0</td>\n",
       "      <td>0</td>\n",
       "    </tr>\n",
       "    <tr>\n",
       "      <th>5419</th>\n",
       "      <td>68849</td>\n",
       "      <td>Sales &amp; Marketing</td>\n",
       "      <td>region_22</td>\n",
       "      <td>1</td>\n",
       "      <td>36</td>\n",
       "      <td>3.0</td>\n",
       "      <td>5</td>\n",
       "      <td>0</td>\n",
       "      <td>0</td>\n",
       "      <td>47</td>\n",
       "      <td>1</td>\n",
       "      <td>0</td>\n",
       "      <td>0</td>\n",
       "      <td>1</td>\n",
       "      <td>0</td>\n",
       "      <td>0</td>\n",
       "      <td>0</td>\n",
       "      <td>1</td>\n",
       "    </tr>\n",
       "    <tr>\n",
       "      <th>36583</th>\n",
       "      <td>49809</td>\n",
       "      <td>Operations</td>\n",
       "      <td>region_7</td>\n",
       "      <td>1</td>\n",
       "      <td>32</td>\n",
       "      <td>3.0</td>\n",
       "      <td>7</td>\n",
       "      <td>0</td>\n",
       "      <td>0</td>\n",
       "      <td>59</td>\n",
       "      <td>1</td>\n",
       "      <td>0</td>\n",
       "      <td>0</td>\n",
       "      <td>1</td>\n",
       "      <td>0</td>\n",
       "      <td>1</td>\n",
       "      <td>0</td>\n",
       "      <td>0</td>\n",
       "    </tr>\n",
       "    <tr>\n",
       "      <th>51379</th>\n",
       "      <td>8384</td>\n",
       "      <td>HR</td>\n",
       "      <td>region_20</td>\n",
       "      <td>1</td>\n",
       "      <td>35</td>\n",
       "      <td>3.0</td>\n",
       "      <td>5</td>\n",
       "      <td>0</td>\n",
       "      <td>0</td>\n",
       "      <td>51</td>\n",
       "      <td>0</td>\n",
       "      <td>0</td>\n",
       "      <td>1</td>\n",
       "      <td>1</td>\n",
       "      <td>0</td>\n",
       "      <td>1</td>\n",
       "      <td>0</td>\n",
       "      <td>0</td>\n",
       "    </tr>\n",
       "    <tr>\n",
       "      <th>23322</th>\n",
       "      <td>35781</td>\n",
       "      <td>HR</td>\n",
       "      <td>region_13</td>\n",
       "      <td>1</td>\n",
       "      <td>39</td>\n",
       "      <td>3.0</td>\n",
       "      <td>11</td>\n",
       "      <td>0</td>\n",
       "      <td>0</td>\n",
       "      <td>49</td>\n",
       "      <td>1</td>\n",
       "      <td>0</td>\n",
       "      <td>0</td>\n",
       "      <td>0</td>\n",
       "      <td>1</td>\n",
       "      <td>1</td>\n",
       "      <td>0</td>\n",
       "      <td>0</td>\n",
       "    </tr>\n",
       "  </tbody>\n",
       "</table>\n",
       "</div>"
      ],
      "text/plain": [
       "       employee_id         department     region  no_of_trainings  age  \\\n",
       "770          26952          Analytics  region_13                1   34   \n",
       "5419         68849  Sales & Marketing  region_22                1   36   \n",
       "36583        49809         Operations   region_7                1   32   \n",
       "51379         8384                 HR  region_20                1   35   \n",
       "23322        35781                 HR  region_13                1   39   \n",
       "\n",
       "       previous_year_rating  length_of_service  KPIs_met >80%  awards_won?  \\\n",
       "770                     2.0                  6              0            0   \n",
       "5419                    3.0                  5              0            0   \n",
       "36583                   3.0                  7              0            0   \n",
       "51379                   3.0                  5              0            0   \n",
       "23322                   3.0                 11              0            0   \n",
       "\n",
       "       avg_training_score  Bachelor's  Below Secondary  Master's & above  f  \\\n",
       "770                    86           0                0                 1  0   \n",
       "5419                   47           1                0                 0  1   \n",
       "36583                  59           1                0                 0  1   \n",
       "51379                  51           0                0                 1  1   \n",
       "23322                  49           1                0                 0  0   \n",
       "\n",
       "       m  other  referred  sourcing  \n",
       "770    1      1         0         0  \n",
       "5419   0      0         0         1  \n",
       "36583  0      1         0         0  \n",
       "51379  0      1         0         0  \n",
       "23322  1      1         0         0  "
      ]
     },
     "execution_count": 135,
     "metadata": {},
     "output_type": "execute_result"
    }
   ],
   "source": [
    "x_train.head()\n",
    "#x_val1.head()\n",
    "#x_val2.head()"
   ]
  },
  {
   "cell_type": "markdown",
   "metadata": {},
   "source": [
    " **Performing Target Encoding**"
   ]
  },
  {
   "cell_type": "code",
   "execution_count": 136,
   "metadata": {
    "execution": {
     "iopub.execute_input": "2021-08-15T13:13:17.934277Z",
     "iopub.status.busy": "2021-08-15T13:13:17.933986Z",
     "iopub.status.idle": "2021-08-15T13:13:17.945947Z",
     "shell.execute_reply": "2021-08-15T13:13:17.944742Z",
     "shell.execute_reply.started": "2021-08-15T13:13:17.934250Z"
    }
   },
   "outputs": [],
   "source": [
    "#Target Encoding Department\n",
    "x_train['target'] = y_train\n",
    "target_mapper = x_train.groupby('department')['target'].mean().to_dict()"
   ]
  },
  {
   "cell_type": "code",
   "execution_count": 137,
   "metadata": {
    "execution": {
     "iopub.execute_input": "2021-08-15T13:13:17.949861Z",
     "iopub.status.busy": "2021-08-15T13:13:17.949327Z",
     "iopub.status.idle": "2021-08-15T13:13:17.968322Z",
     "shell.execute_reply": "2021-08-15T13:13:17.967078Z",
     "shell.execute_reply.started": "2021-08-15T13:13:17.949828Z"
    }
   },
   "outputs": [],
   "source": [
    "#mapping to all datasets\n",
    "x_train['dept_enc'] = x_train['department'].map(target_mapper)\n",
    "x_val1['dept_enc'] = x_val1['department'].map(target_mapper)\n",
    "x_val2['dept_enc'] = x_val2['department'].map(target_mapper)\n",
    "x_test['dept_enc'] = x_test['department'].map(target_mapper)"
   ]
  },
  {
   "cell_type": "code",
   "execution_count": 138,
   "metadata": {
    "execution": {
     "iopub.execute_input": "2021-08-15T13:13:17.971141Z",
     "iopub.status.busy": "2021-08-15T13:13:17.970591Z",
     "iopub.status.idle": "2021-08-15T13:13:17.987531Z",
     "shell.execute_reply": "2021-08-15T13:13:17.986515Z",
     "shell.execute_reply.started": "2021-08-15T13:13:17.971096Z"
    }
   },
   "outputs": [],
   "source": [
    "x_train.drop('target',axis=1,inplace=True) #dropping temporary column"
   ]
  },
  {
   "cell_type": "code",
   "execution_count": 139,
   "metadata": {
    "execution": {
     "iopub.execute_input": "2021-08-15T13:13:17.989473Z",
     "iopub.status.busy": "2021-08-15T13:13:17.989027Z",
     "iopub.status.idle": "2021-08-15T13:13:18.005459Z",
     "shell.execute_reply": "2021-08-15T13:13:18.004441Z",
     "shell.execute_reply.started": "2021-08-15T13:13:17.989409Z"
    }
   },
   "outputs": [],
   "source": [
    "# Department has been encoded so we can drop it\n",
    "\n",
    "x_train.drop('department',axis=1,inplace=True)\n",
    "x_val1.drop('department',axis=1,inplace=True)\n",
    "x_val2.drop('department',axis=1,inplace=True)\n",
    "x_test.drop('department',axis=1,inplace=True)\n"
   ]
  },
  {
   "cell_type": "code",
   "execution_count": 140,
   "metadata": {
    "execution": {
     "iopub.execute_input": "2021-08-15T13:13:18.007702Z",
     "iopub.status.busy": "2021-08-15T13:13:18.006831Z",
     "iopub.status.idle": "2021-08-15T13:13:18.029069Z",
     "shell.execute_reply": "2021-08-15T13:13:18.028046Z",
     "shell.execute_reply.started": "2021-08-15T13:13:18.007653Z"
    }
   },
   "outputs": [
    {
     "data": {
      "text/html": [
       "<div>\n",
       "<style scoped>\n",
       "    .dataframe tbody tr th:only-of-type {\n",
       "        vertical-align: middle;\n",
       "    }\n",
       "\n",
       "    .dataframe tbody tr th {\n",
       "        vertical-align: top;\n",
       "    }\n",
       "\n",
       "    .dataframe thead th {\n",
       "        text-align: right;\n",
       "    }\n",
       "</style>\n",
       "<table border=\"1\" class=\"dataframe\">\n",
       "  <thead>\n",
       "    <tr style=\"text-align: right;\">\n",
       "      <th></th>\n",
       "      <th>employee_id</th>\n",
       "      <th>region</th>\n",
       "      <th>no_of_trainings</th>\n",
       "      <th>age</th>\n",
       "      <th>previous_year_rating</th>\n",
       "      <th>length_of_service</th>\n",
       "      <th>KPIs_met &gt;80%</th>\n",
       "      <th>awards_won?</th>\n",
       "      <th>avg_training_score</th>\n",
       "      <th>Bachelor's</th>\n",
       "      <th>Below Secondary</th>\n",
       "      <th>Master's &amp; above</th>\n",
       "      <th>f</th>\n",
       "      <th>m</th>\n",
       "      <th>other</th>\n",
       "      <th>referred</th>\n",
       "      <th>sourcing</th>\n",
       "      <th>dept_enc</th>\n",
       "    </tr>\n",
       "  </thead>\n",
       "  <tbody>\n",
       "    <tr>\n",
       "      <th>770</th>\n",
       "      <td>26952</td>\n",
       "      <td>region_13</td>\n",
       "      <td>1</td>\n",
       "      <td>34</td>\n",
       "      <td>2.0</td>\n",
       "      <td>6</td>\n",
       "      <td>0</td>\n",
       "      <td>0</td>\n",
       "      <td>86</td>\n",
       "      <td>0</td>\n",
       "      <td>0</td>\n",
       "      <td>1</td>\n",
       "      <td>0</td>\n",
       "      <td>1</td>\n",
       "      <td>1</td>\n",
       "      <td>0</td>\n",
       "      <td>0</td>\n",
       "      <td>0.094779</td>\n",
       "    </tr>\n",
       "    <tr>\n",
       "      <th>5419</th>\n",
       "      <td>68849</td>\n",
       "      <td>region_22</td>\n",
       "      <td>1</td>\n",
       "      <td>36</td>\n",
       "      <td>3.0</td>\n",
       "      <td>5</td>\n",
       "      <td>0</td>\n",
       "      <td>0</td>\n",
       "      <td>47</td>\n",
       "      <td>1</td>\n",
       "      <td>0</td>\n",
       "      <td>0</td>\n",
       "      <td>1</td>\n",
       "      <td>0</td>\n",
       "      <td>0</td>\n",
       "      <td>0</td>\n",
       "      <td>1</td>\n",
       "      <td>0.075091</td>\n",
       "    </tr>\n",
       "    <tr>\n",
       "      <th>36583</th>\n",
       "      <td>49809</td>\n",
       "      <td>region_7</td>\n",
       "      <td>1</td>\n",
       "      <td>32</td>\n",
       "      <td>3.0</td>\n",
       "      <td>7</td>\n",
       "      <td>0</td>\n",
       "      <td>0</td>\n",
       "      <td>59</td>\n",
       "      <td>1</td>\n",
       "      <td>0</td>\n",
       "      <td>0</td>\n",
       "      <td>1</td>\n",
       "      <td>0</td>\n",
       "      <td>1</td>\n",
       "      <td>0</td>\n",
       "      <td>0</td>\n",
       "      <td>0.091683</td>\n",
       "    </tr>\n",
       "    <tr>\n",
       "      <th>51379</th>\n",
       "      <td>8384</td>\n",
       "      <td>region_20</td>\n",
       "      <td>1</td>\n",
       "      <td>35</td>\n",
       "      <td>3.0</td>\n",
       "      <td>5</td>\n",
       "      <td>0</td>\n",
       "      <td>0</td>\n",
       "      <td>51</td>\n",
       "      <td>0</td>\n",
       "      <td>0</td>\n",
       "      <td>1</td>\n",
       "      <td>1</td>\n",
       "      <td>0</td>\n",
       "      <td>1</td>\n",
       "      <td>0</td>\n",
       "      <td>0</td>\n",
       "      <td>0.058752</td>\n",
       "    </tr>\n",
       "    <tr>\n",
       "      <th>23322</th>\n",
       "      <td>35781</td>\n",
       "      <td>region_13</td>\n",
       "      <td>1</td>\n",
       "      <td>39</td>\n",
       "      <td>3.0</td>\n",
       "      <td>11</td>\n",
       "      <td>0</td>\n",
       "      <td>0</td>\n",
       "      <td>49</td>\n",
       "      <td>1</td>\n",
       "      <td>0</td>\n",
       "      <td>0</td>\n",
       "      <td>0</td>\n",
       "      <td>1</td>\n",
       "      <td>1</td>\n",
       "      <td>0</td>\n",
       "      <td>0</td>\n",
       "      <td>0.058752</td>\n",
       "    </tr>\n",
       "  </tbody>\n",
       "</table>\n",
       "</div>"
      ],
      "text/plain": [
       "       employee_id     region  no_of_trainings  age  previous_year_rating  \\\n",
       "770          26952  region_13                1   34                   2.0   \n",
       "5419         68849  region_22                1   36                   3.0   \n",
       "36583        49809   region_7                1   32                   3.0   \n",
       "51379         8384  region_20                1   35                   3.0   \n",
       "23322        35781  region_13                1   39                   3.0   \n",
       "\n",
       "       length_of_service  KPIs_met >80%  awards_won?  avg_training_score  \\\n",
       "770                    6              0            0                  86   \n",
       "5419                   5              0            0                  47   \n",
       "36583                  7              0            0                  59   \n",
       "51379                  5              0            0                  51   \n",
       "23322                 11              0            0                  49   \n",
       "\n",
       "       Bachelor's  Below Secondary  Master's & above  f  m  other  referred  \\\n",
       "770             0                0                 1  0  1      1         0   \n",
       "5419            1                0                 0  1  0      0         0   \n",
       "36583           1                0                 0  1  0      1         0   \n",
       "51379           0                0                 1  1  0      1         0   \n",
       "23322           1                0                 0  0  1      1         0   \n",
       "\n",
       "       sourcing  dept_enc  \n",
       "770           0  0.094779  \n",
       "5419          1  0.075091  \n",
       "36583         0  0.091683  \n",
       "51379         0  0.058752  \n",
       "23322         0  0.058752  "
      ]
     },
     "execution_count": 140,
     "metadata": {},
     "output_type": "execute_result"
    }
   ],
   "source": [
    "x_train.head()"
   ]
  },
  {
   "cell_type": "code",
   "execution_count": 141,
   "metadata": {
    "execution": {
     "iopub.execute_input": "2021-08-15T13:13:18.030659Z",
     "iopub.status.busy": "2021-08-15T13:13:18.030354Z",
     "iopub.status.idle": "2021-08-15T13:13:18.043709Z",
     "shell.execute_reply": "2021-08-15T13:13:18.042626Z",
     "shell.execute_reply.started": "2021-08-15T13:13:18.030629Z"
    }
   },
   "outputs": [],
   "source": [
    "#Target Encoding Region\n",
    "x_train['target'] = y_train\n",
    "target_mapper = x_train.groupby('region')['target'].mean().to_dict()"
   ]
  },
  {
   "cell_type": "code",
   "execution_count": 142,
   "metadata": {
    "execution": {
     "iopub.execute_input": "2021-08-15T13:13:18.045457Z",
     "iopub.status.busy": "2021-08-15T13:13:18.045011Z",
     "iopub.status.idle": "2021-08-15T13:13:18.065329Z",
     "shell.execute_reply": "2021-08-15T13:13:18.064467Z",
     "shell.execute_reply.started": "2021-08-15T13:13:18.045397Z"
    }
   },
   "outputs": [],
   "source": [
    "#mapping to all datasets\n",
    "x_train['region_enc'] = x_train['region'].map(target_mapper)\n",
    "x_val1['region_enc'] = x_val1['region'].map(target_mapper)\n",
    "x_val2['region_enc'] = x_val2['region'].map(target_mapper)\n",
    "x_test['region_enc'] = x_test['region'].map(target_mapper)"
   ]
  },
  {
   "cell_type": "code",
   "execution_count": 143,
   "metadata": {
    "execution": {
     "iopub.execute_input": "2021-08-15T13:13:18.067140Z",
     "iopub.status.busy": "2021-08-15T13:13:18.066574Z",
     "iopub.status.idle": "2021-08-15T13:13:18.082506Z",
     "shell.execute_reply": "2021-08-15T13:13:18.081612Z",
     "shell.execute_reply.started": "2021-08-15T13:13:18.067092Z"
    }
   },
   "outputs": [],
   "source": [
    "x_train.drop('target',axis=1,inplace=True) #dropping temporary column"
   ]
  },
  {
   "cell_type": "code",
   "execution_count": 144,
   "metadata": {
    "execution": {
     "iopub.execute_input": "2021-08-15T13:13:18.084262Z",
     "iopub.status.busy": "2021-08-15T13:13:18.083811Z",
     "iopub.status.idle": "2021-08-15T13:13:18.097775Z",
     "shell.execute_reply": "2021-08-15T13:13:18.096734Z",
     "shell.execute_reply.started": "2021-08-15T13:13:18.084215Z"
    }
   },
   "outputs": [],
   "source": [
    "# Department has been encoded so we can drop it\n",
    "\n",
    "x_train.drop('region',axis=1,inplace=True)\n",
    "x_val1.drop('region',axis=1,inplace=True)\n",
    "x_val2.drop('region',axis=1,inplace=True)\n",
    "x_test.drop('region',axis=1,inplace=True)\n"
   ]
  },
  {
   "cell_type": "code",
   "execution_count": 145,
   "metadata": {
    "execution": {
     "iopub.execute_input": "2021-08-15T13:13:18.099320Z",
     "iopub.status.busy": "2021-08-15T13:13:18.099026Z",
     "iopub.status.idle": "2021-08-15T13:13:18.120932Z",
     "shell.execute_reply": "2021-08-15T13:13:18.119680Z",
     "shell.execute_reply.started": "2021-08-15T13:13:18.099292Z"
    }
   },
   "outputs": [
    {
     "data": {
      "text/html": [
       "<div>\n",
       "<style scoped>\n",
       "    .dataframe tbody tr th:only-of-type {\n",
       "        vertical-align: middle;\n",
       "    }\n",
       "\n",
       "    .dataframe tbody tr th {\n",
       "        vertical-align: top;\n",
       "    }\n",
       "\n",
       "    .dataframe thead th {\n",
       "        text-align: right;\n",
       "    }\n",
       "</style>\n",
       "<table border=\"1\" class=\"dataframe\">\n",
       "  <thead>\n",
       "    <tr style=\"text-align: right;\">\n",
       "      <th></th>\n",
       "      <th>employee_id</th>\n",
       "      <th>no_of_trainings</th>\n",
       "      <th>age</th>\n",
       "      <th>previous_year_rating</th>\n",
       "      <th>length_of_service</th>\n",
       "      <th>KPIs_met &gt;80%</th>\n",
       "      <th>awards_won?</th>\n",
       "      <th>avg_training_score</th>\n",
       "      <th>Bachelor's</th>\n",
       "      <th>Below Secondary</th>\n",
       "      <th>Master's &amp; above</th>\n",
       "      <th>f</th>\n",
       "      <th>m</th>\n",
       "      <th>other</th>\n",
       "      <th>referred</th>\n",
       "      <th>sourcing</th>\n",
       "      <th>dept_enc</th>\n",
       "      <th>region_enc</th>\n",
       "    </tr>\n",
       "  </thead>\n",
       "  <tbody>\n",
       "    <tr>\n",
       "      <th>770</th>\n",
       "      <td>26952</td>\n",
       "      <td>1</td>\n",
       "      <td>34</td>\n",
       "      <td>2.0</td>\n",
       "      <td>6</td>\n",
       "      <td>0</td>\n",
       "      <td>0</td>\n",
       "      <td>86</td>\n",
       "      <td>0</td>\n",
       "      <td>0</td>\n",
       "      <td>1</td>\n",
       "      <td>0</td>\n",
       "      <td>1</td>\n",
       "      <td>1</td>\n",
       "      <td>0</td>\n",
       "      <td>0</td>\n",
       "      <td>0.094779</td>\n",
       "      <td>0.088154</td>\n",
       "    </tr>\n",
       "    <tr>\n",
       "      <th>5419</th>\n",
       "      <td>68849</td>\n",
       "      <td>1</td>\n",
       "      <td>36</td>\n",
       "      <td>3.0</td>\n",
       "      <td>5</td>\n",
       "      <td>0</td>\n",
       "      <td>0</td>\n",
       "      <td>47</td>\n",
       "      <td>1</td>\n",
       "      <td>0</td>\n",
       "      <td>0</td>\n",
       "      <td>1</td>\n",
       "      <td>0</td>\n",
       "      <td>0</td>\n",
       "      <td>0</td>\n",
       "      <td>1</td>\n",
       "      <td>0.075091</td>\n",
       "      <td>0.113043</td>\n",
       "    </tr>\n",
       "    <tr>\n",
       "      <th>36583</th>\n",
       "      <td>49809</td>\n",
       "      <td>1</td>\n",
       "      <td>32</td>\n",
       "      <td>3.0</td>\n",
       "      <td>7</td>\n",
       "      <td>0</td>\n",
       "      <td>0</td>\n",
       "      <td>59</td>\n",
       "      <td>1</td>\n",
       "      <td>0</td>\n",
       "      <td>0</td>\n",
       "      <td>1</td>\n",
       "      <td>0</td>\n",
       "      <td>1</td>\n",
       "      <td>0</td>\n",
       "      <td>0</td>\n",
       "      <td>0.091683</td>\n",
       "      <td>0.114391</td>\n",
       "    </tr>\n",
       "    <tr>\n",
       "      <th>51379</th>\n",
       "      <td>8384</td>\n",
       "      <td>1</td>\n",
       "      <td>35</td>\n",
       "      <td>3.0</td>\n",
       "      <td>5</td>\n",
       "      <td>0</td>\n",
       "      <td>0</td>\n",
       "      <td>51</td>\n",
       "      <td>0</td>\n",
       "      <td>0</td>\n",
       "      <td>1</td>\n",
       "      <td>1</td>\n",
       "      <td>0</td>\n",
       "      <td>1</td>\n",
       "      <td>0</td>\n",
       "      <td>0</td>\n",
       "      <td>0.058752</td>\n",
       "      <td>0.063492</td>\n",
       "    </tr>\n",
       "    <tr>\n",
       "      <th>23322</th>\n",
       "      <td>35781</td>\n",
       "      <td>1</td>\n",
       "      <td>39</td>\n",
       "      <td>3.0</td>\n",
       "      <td>11</td>\n",
       "      <td>0</td>\n",
       "      <td>0</td>\n",
       "      <td>49</td>\n",
       "      <td>1</td>\n",
       "      <td>0</td>\n",
       "      <td>0</td>\n",
       "      <td>0</td>\n",
       "      <td>1</td>\n",
       "      <td>1</td>\n",
       "      <td>0</td>\n",
       "      <td>0</td>\n",
       "      <td>0.058752</td>\n",
       "      <td>0.088154</td>\n",
       "    </tr>\n",
       "  </tbody>\n",
       "</table>\n",
       "</div>"
      ],
      "text/plain": [
       "       employee_id  no_of_trainings  age  previous_year_rating  \\\n",
       "770          26952                1   34                   2.0   \n",
       "5419         68849                1   36                   3.0   \n",
       "36583        49809                1   32                   3.0   \n",
       "51379         8384                1   35                   3.0   \n",
       "23322        35781                1   39                   3.0   \n",
       "\n",
       "       length_of_service  KPIs_met >80%  awards_won?  avg_training_score  \\\n",
       "770                    6              0            0                  86   \n",
       "5419                   5              0            0                  47   \n",
       "36583                  7              0            0                  59   \n",
       "51379                  5              0            0                  51   \n",
       "23322                 11              0            0                  49   \n",
       "\n",
       "       Bachelor's  Below Secondary  Master's & above  f  m  other  referred  \\\n",
       "770             0                0                 1  0  1      1         0   \n",
       "5419            1                0                 0  1  0      0         0   \n",
       "36583           1                0                 0  1  0      1         0   \n",
       "51379           0                0                 1  1  0      1         0   \n",
       "23322           1                0                 0  0  1      1         0   \n",
       "\n",
       "       sourcing  dept_enc  region_enc  \n",
       "770           0  0.094779    0.088154  \n",
       "5419          1  0.075091    0.113043  \n",
       "36583         0  0.091683    0.114391  \n",
       "51379         0  0.058752    0.063492  \n",
       "23322         0  0.058752    0.088154  "
      ]
     },
     "execution_count": 145,
     "metadata": {},
     "output_type": "execute_result"
    }
   ],
   "source": [
    "x_train.head()"
   ]
  },
  {
   "cell_type": "code",
   "execution_count": 146,
   "metadata": {
    "execution": {
     "iopub.execute_input": "2021-08-15T13:13:18.123100Z",
     "iopub.status.busy": "2021-08-15T13:13:18.122613Z",
     "iopub.status.idle": "2021-08-15T13:13:18.140001Z",
     "shell.execute_reply": "2021-08-15T13:13:18.138638Z",
     "shell.execute_reply.started": "2021-08-15T13:13:18.123058Z"
    }
   },
   "outputs": [],
   "source": [
    "# Dropping employee_id column\n",
    "\n",
    "x_train.drop('employee_id',axis=1,inplace=True)\n",
    "x_val1.drop('employee_id',axis=1,inplace=True)\n",
    "x_val2.drop('employee_id',axis=1,inplace=True)\n",
    "x_test.drop('employee_id',axis=1,inplace=True)\n"
   ]
  },
  {
   "cell_type": "code",
   "execution_count": 147,
   "metadata": {
    "execution": {
     "iopub.execute_input": "2021-08-15T13:13:18.142178Z",
     "iopub.status.busy": "2021-08-15T13:13:18.141559Z",
     "iopub.status.idle": "2021-08-15T13:13:18.162821Z",
     "shell.execute_reply": "2021-08-15T13:13:18.161819Z",
     "shell.execute_reply.started": "2021-08-15T13:13:18.142109Z"
    }
   },
   "outputs": [
    {
     "data": {
      "text/html": [
       "<div>\n",
       "<style scoped>\n",
       "    .dataframe tbody tr th:only-of-type {\n",
       "        vertical-align: middle;\n",
       "    }\n",
       "\n",
       "    .dataframe tbody tr th {\n",
       "        vertical-align: top;\n",
       "    }\n",
       "\n",
       "    .dataframe thead th {\n",
       "        text-align: right;\n",
       "    }\n",
       "</style>\n",
       "<table border=\"1\" class=\"dataframe\">\n",
       "  <thead>\n",
       "    <tr style=\"text-align: right;\">\n",
       "      <th></th>\n",
       "      <th>no_of_trainings</th>\n",
       "      <th>age</th>\n",
       "      <th>previous_year_rating</th>\n",
       "      <th>length_of_service</th>\n",
       "      <th>KPIs_met &gt;80%</th>\n",
       "      <th>awards_won?</th>\n",
       "      <th>avg_training_score</th>\n",
       "      <th>Bachelor's</th>\n",
       "      <th>Below Secondary</th>\n",
       "      <th>Master's &amp; above</th>\n",
       "      <th>f</th>\n",
       "      <th>m</th>\n",
       "      <th>other</th>\n",
       "      <th>referred</th>\n",
       "      <th>sourcing</th>\n",
       "      <th>dept_enc</th>\n",
       "      <th>region_enc</th>\n",
       "    </tr>\n",
       "  </thead>\n",
       "  <tbody>\n",
       "    <tr>\n",
       "      <th>770</th>\n",
       "      <td>1</td>\n",
       "      <td>34</td>\n",
       "      <td>2.0</td>\n",
       "      <td>6</td>\n",
       "      <td>0</td>\n",
       "      <td>0</td>\n",
       "      <td>86</td>\n",
       "      <td>0</td>\n",
       "      <td>0</td>\n",
       "      <td>1</td>\n",
       "      <td>0</td>\n",
       "      <td>1</td>\n",
       "      <td>1</td>\n",
       "      <td>0</td>\n",
       "      <td>0</td>\n",
       "      <td>0.094779</td>\n",
       "      <td>0.088154</td>\n",
       "    </tr>\n",
       "    <tr>\n",
       "      <th>5419</th>\n",
       "      <td>1</td>\n",
       "      <td>36</td>\n",
       "      <td>3.0</td>\n",
       "      <td>5</td>\n",
       "      <td>0</td>\n",
       "      <td>0</td>\n",
       "      <td>47</td>\n",
       "      <td>1</td>\n",
       "      <td>0</td>\n",
       "      <td>0</td>\n",
       "      <td>1</td>\n",
       "      <td>0</td>\n",
       "      <td>0</td>\n",
       "      <td>0</td>\n",
       "      <td>1</td>\n",
       "      <td>0.075091</td>\n",
       "      <td>0.113043</td>\n",
       "    </tr>\n",
       "    <tr>\n",
       "      <th>36583</th>\n",
       "      <td>1</td>\n",
       "      <td>32</td>\n",
       "      <td>3.0</td>\n",
       "      <td>7</td>\n",
       "      <td>0</td>\n",
       "      <td>0</td>\n",
       "      <td>59</td>\n",
       "      <td>1</td>\n",
       "      <td>0</td>\n",
       "      <td>0</td>\n",
       "      <td>1</td>\n",
       "      <td>0</td>\n",
       "      <td>1</td>\n",
       "      <td>0</td>\n",
       "      <td>0</td>\n",
       "      <td>0.091683</td>\n",
       "      <td>0.114391</td>\n",
       "    </tr>\n",
       "    <tr>\n",
       "      <th>51379</th>\n",
       "      <td>1</td>\n",
       "      <td>35</td>\n",
       "      <td>3.0</td>\n",
       "      <td>5</td>\n",
       "      <td>0</td>\n",
       "      <td>0</td>\n",
       "      <td>51</td>\n",
       "      <td>0</td>\n",
       "      <td>0</td>\n",
       "      <td>1</td>\n",
       "      <td>1</td>\n",
       "      <td>0</td>\n",
       "      <td>1</td>\n",
       "      <td>0</td>\n",
       "      <td>0</td>\n",
       "      <td>0.058752</td>\n",
       "      <td>0.063492</td>\n",
       "    </tr>\n",
       "    <tr>\n",
       "      <th>23322</th>\n",
       "      <td>1</td>\n",
       "      <td>39</td>\n",
       "      <td>3.0</td>\n",
       "      <td>11</td>\n",
       "      <td>0</td>\n",
       "      <td>0</td>\n",
       "      <td>49</td>\n",
       "      <td>1</td>\n",
       "      <td>0</td>\n",
       "      <td>0</td>\n",
       "      <td>0</td>\n",
       "      <td>1</td>\n",
       "      <td>1</td>\n",
       "      <td>0</td>\n",
       "      <td>0</td>\n",
       "      <td>0.058752</td>\n",
       "      <td>0.088154</td>\n",
       "    </tr>\n",
       "  </tbody>\n",
       "</table>\n",
       "</div>"
      ],
      "text/plain": [
       "       no_of_trainings  age  previous_year_rating  length_of_service  \\\n",
       "770                  1   34                   2.0                  6   \n",
       "5419                 1   36                   3.0                  5   \n",
       "36583                1   32                   3.0                  7   \n",
       "51379                1   35                   3.0                  5   \n",
       "23322                1   39                   3.0                 11   \n",
       "\n",
       "       KPIs_met >80%  awards_won?  avg_training_score  Bachelor's  \\\n",
       "770                0            0                  86           0   \n",
       "5419               0            0                  47           1   \n",
       "36583              0            0                  59           1   \n",
       "51379              0            0                  51           0   \n",
       "23322              0            0                  49           1   \n",
       "\n",
       "       Below Secondary  Master's & above  f  m  other  referred  sourcing  \\\n",
       "770                  0                 1  0  1      1         0         0   \n",
       "5419                 0                 0  1  0      0         0         1   \n",
       "36583                0                 0  1  0      1         0         0   \n",
       "51379                0                 1  1  0      1         0         0   \n",
       "23322                0                 0  0  1      1         0         0   \n",
       "\n",
       "       dept_enc  region_enc  \n",
       "770    0.094779    0.088154  \n",
       "5419   0.075091    0.113043  \n",
       "36583  0.091683    0.114391  \n",
       "51379  0.058752    0.063492  \n",
       "23322  0.058752    0.088154  "
      ]
     },
     "execution_count": 147,
     "metadata": {},
     "output_type": "execute_result"
    }
   ],
   "source": [
    "x_train.head()\n",
    "#x_val1.head()\n",
    "#x_val2.head()"
   ]
  },
  {
   "cell_type": "code",
   "execution_count": 148,
   "metadata": {
    "execution": {
     "iopub.execute_input": "2021-08-15T13:13:18.164601Z",
     "iopub.status.busy": "2021-08-15T13:13:18.164175Z",
     "iopub.status.idle": "2021-08-15T13:13:18.174860Z",
     "shell.execute_reply": "2021-08-15T13:13:18.173646Z",
     "shell.execute_reply.started": "2021-08-15T13:13:18.164560Z"
    }
   },
   "outputs": [],
   "source": [
    "#x_train.isnull().sum()\n",
    "#x_val1.isnull().sum()\n",
    "#x_val2.isnull().sum()\n",
    "#x_test.isnull().sum()\n"
   ]
  },
  {
   "cell_type": "code",
   "execution_count": 149,
   "metadata": {
    "execution": {
     "iopub.execute_input": "2021-08-15T13:13:18.176892Z",
     "iopub.status.busy": "2021-08-15T13:13:18.176589Z",
     "iopub.status.idle": "2021-08-15T13:13:18.188595Z",
     "shell.execute_reply": "2021-08-15T13:13:18.187488Z",
     "shell.execute_reply.started": "2021-08-15T13:13:18.176866Z"
    }
   },
   "outputs": [
    {
     "name": "stdout",
     "output_type": "stream",
     "text": [
      "train: (36679, 17)\n",
      "val1: (7860, 17)\n",
      "val2: (7860, 17)\n"
     ]
    }
   ],
   "source": [
    "print(\"train:\",x_train.shape)\n",
    "print(\"val1:\",x_val1.shape)\n",
    "print(\"val2:\",x_val2.shape)"
   ]
  },
  {
   "cell_type": "markdown",
   "metadata": {},
   "source": [
    "*After performing FE we see that the number of features has not drastically gone up which is a good sign as excess features make the learning process slow*"
   ]
  },
  {
   "cell_type": "markdown",
   "metadata": {},
   "source": [
    "# <center> ----- FEATURE SELECTION ----- </center>"
   ]
  },
  {
   "cell_type": "markdown",
   "metadata": {},
   "source": [
    "### Forward Feature Selection"
   ]
  },
  {
   "cell_type": "code",
   "execution_count": 150,
   "metadata": {
    "execution": {
     "iopub.execute_input": "2021-08-15T13:13:18.190550Z",
     "iopub.status.busy": "2021-08-15T13:13:18.190090Z",
     "iopub.status.idle": "2021-08-15T13:13:18.199100Z",
     "shell.execute_reply": "2021-08-15T13:13:18.197810Z",
     "shell.execute_reply.started": "2021-08-15T13:13:18.190466Z"
    }
   },
   "outputs": [],
   "source": [
    "# create the SequentialFeatureSelector object, and configure the parameters.\n",
    "#sfs = SequentialFeatureSelector(RandomForestClassifier(), \n",
    "           #k_features=8, \n",
    "           #forward=True, \n",
    "           #floating=False,\n",
    "           #scoring='accuracy',\n",
    "           #cv=4)\n",
    "\n",
    "# fit the object to the training data.\n",
    "#sfs = sfs.fit(x_train, y_train)\n",
    "\n",
    "# the selected features.\n",
    "#selected_features = x_train.columns[list(sfs.k_feature_idx_)]\n",
    "\n",
    "#Constucting a list of selected featues and score\n",
    "#forward=pd.Series(list(selected_features)).to_frame().append(pd.Series(sfs.k_score_),ignore_index=True)\n",
    "#forward"
   ]
  },
  {
   "cell_type": "markdown",
   "metadata": {},
   "source": [
    "### Backward Feature Selection"
   ]
  },
  {
   "cell_type": "code",
   "execution_count": 151,
   "metadata": {
    "execution": {
     "iopub.execute_input": "2021-08-15T13:13:18.202189Z",
     "iopub.status.busy": "2021-08-15T13:13:18.201737Z",
     "iopub.status.idle": "2021-08-15T13:13:18.213316Z",
     "shell.execute_reply": "2021-08-15T13:13:18.212535Z",
     "shell.execute_reply.started": "2021-08-15T13:13:18.202145Z"
    }
   },
   "outputs": [],
   "source": [
    "# create theSequentialFeatureSelector object, and configure the parameters.\n",
    "#sbs = SequentialFeatureSelector(RandomForestClassifier(), \n",
    "           #k_features=8, \n",
    "           #forward=False, \n",
    "           #floating=False,\n",
    "           #scoring='accuracy',\n",
    "           #cv=5)\n",
    "\n",
    "# fit the object to our training data.\n",
    "#sbs = sbs.fit(x_train, y_train)\n",
    "\n",
    "# print the selected features. \n",
    "#selected_features = x_train.columns[list(sbs.k_feature_idx_)]\n",
    "\n",
    "#Constucting a list of selected featues and score\n",
    "#backward=pd.Series(list(selected_features)).to_frame().append(pd.Series(sbs.k_score_),ignore_index=True)\n",
    "#backward"
   ]
  },
  {
   "cell_type": "markdown",
   "metadata": {},
   "source": [
    "### Recursive Elimination of features with Cross Validation"
   ]
  },
  {
   "cell_type": "code",
   "execution_count": 152,
   "metadata": {
    "execution": {
     "iopub.execute_input": "2021-08-15T13:13:18.214946Z",
     "iopub.status.busy": "2021-08-15T13:13:18.214553Z",
     "iopub.status.idle": "2021-08-15T13:13:18.224196Z",
     "shell.execute_reply": "2021-08-15T13:13:18.223345Z",
     "shell.execute_reply.started": "2021-08-15T13:13:18.214907Z"
    }
   },
   "outputs": [],
   "source": [
    "# The \"accuracy\" scoring is proportional to the number of correct classifications\n",
    "#clfrf = RandomForestClassifier() \n",
    "#rfecv = RFECV(estimator=clfrf, step=1, cv=5,scoring='accuracy')   #5-fold cross-validation\n",
    "#rfecv = rfecv.fit(x_train, y_train)\n",
    "\n",
    "#print('Optimal number of features :', rfecv.n_features_)\n",
    "#print('Best features :', x_train.columns[rfecv.support_])"
   ]
  },
  {
   "cell_type": "code",
   "execution_count": 153,
   "metadata": {
    "execution": {
     "iopub.execute_input": "2021-08-15T13:13:18.226226Z",
     "iopub.status.busy": "2021-08-15T13:13:18.225809Z",
     "iopub.status.idle": "2021-08-15T13:13:18.237573Z",
     "shell.execute_reply": "2021-08-15T13:13:18.236405Z",
     "shell.execute_reply.started": "2021-08-15T13:13:18.226183Z"
    }
   },
   "outputs": [],
   "source": [
    "#plt.figure()\n",
    "#plt.xlabel(\"Number of features selected\")\n",
    "#plt.ylabel(\"Cross validation score of number of selected features\")\n",
    "#plt.plot(range(1, len(rfecv.grid_scores_) + 1), rfecv.grid_scores_)\n",
    "#plt.show()"
   ]
  },
  {
   "cell_type": "markdown",
   "metadata": {},
   "source": [
    "### Tree Based FS"
   ]
  },
  {
   "cell_type": "code",
   "execution_count": 154,
   "metadata": {
    "execution": {
     "iopub.execute_input": "2021-08-15T13:13:18.239684Z",
     "iopub.status.busy": "2021-08-15T13:13:18.239131Z",
     "iopub.status.idle": "2021-08-15T13:13:18.250487Z",
     "shell.execute_reply": "2021-08-15T13:13:18.249554Z",
     "shell.execute_reply.started": "2021-08-15T13:13:18.239637Z"
    }
   },
   "outputs": [],
   "source": [
    "def tree_based_feature_importance(x_train,y_train):\n",
    "    from sklearn.ensemble import RandomForestClassifier\n",
    "    # create the random forest model\n",
    "    model = RandomForestClassifier()\n",
    "\n",
    "    # fit the model to start training.\n",
    "    model.fit(x_train, y_train)\n",
    "\n",
    "    # get the importance of the resulting features.\n",
    "    importances = model.feature_importances_\n",
    "\n",
    "    # create a data frame for visualization.\n",
    "    final_df = pd.DataFrame({\"Features\": x_train.columns, \"Importances\":importances})\n",
    "    final_df.set_index('Importances')\n",
    "\n",
    "    # sort in descending order \n",
    "    final_df = final_df.sort_values('Importances',ascending=False)\n",
    "    \n",
    "    #visualising feature importance\n",
    "    pd.Series(model.feature_importances_, index=x_train.columns).nlargest(6).plot(kind='barh')  \n",
    "    return final_df"
   ]
  },
  {
   "cell_type": "code",
   "execution_count": 155,
   "metadata": {
    "execution": {
     "iopub.execute_input": "2021-08-15T13:13:18.252442Z",
     "iopub.status.busy": "2021-08-15T13:13:18.251928Z",
     "iopub.status.idle": "2021-08-15T13:13:22.032722Z",
     "shell.execute_reply": "2021-08-15T13:13:22.031626Z",
     "shell.execute_reply.started": "2021-08-15T13:13:18.252380Z"
    }
   },
   "outputs": [
    {
     "data": {
      "image/png": "[encoded data removed]",
      "text/plain": [
       "<Figure size 432x288 with 1 Axes>"
      ]
     },
     "metadata": {
      "needs_background": "light"
     },
     "output_type": "display_data"
    }
   ],
   "source": [
    "feature_importance=tree_based_feature_importance(x_train,y_train)"
   ]
  },
  {
   "cell_type": "code",
   "execution_count": 156,
   "metadata": {
    "execution": {
     "iopub.execute_input": "2021-08-15T13:13:22.034299Z",
     "iopub.status.busy": "2021-08-15T13:13:22.033997Z",
     "iopub.status.idle": "2021-08-15T13:13:22.046981Z",
     "shell.execute_reply": "2021-08-15T13:13:22.045970Z",
     "shell.execute_reply.started": "2021-08-15T13:13:22.034264Z"
    }
   },
   "outputs": [
    {
     "data": {
      "text/html": [
       "<div>\n",
       "<style scoped>\n",
       "    .dataframe tbody tr th:only-of-type {\n",
       "        vertical-align: middle;\n",
       "    }\n",
       "\n",
       "    .dataframe tbody tr th {\n",
       "        vertical-align: top;\n",
       "    }\n",
       "\n",
       "    .dataframe thead th {\n",
       "        text-align: right;\n",
       "    }\n",
       "</style>\n",
       "<table border=\"1\" class=\"dataframe\">\n",
       "  <thead>\n",
       "    <tr style=\"text-align: right;\">\n",
       "      <th></th>\n",
       "      <th>Features</th>\n",
       "      <th>Importances</th>\n",
       "    </tr>\n",
       "  </thead>\n",
       "  <tbody>\n",
       "    <tr>\n",
       "      <th>6</th>\n",
       "      <td>avg_training_score</td>\n",
       "      <td>0.288021</td>\n",
       "    </tr>\n",
       "    <tr>\n",
       "      <th>1</th>\n",
       "      <td>age</td>\n",
       "      <td>0.138914</td>\n",
       "    </tr>\n",
       "    <tr>\n",
       "      <th>16</th>\n",
       "      <td>region_enc</td>\n",
       "      <td>0.115969</td>\n",
       "    </tr>\n",
       "    <tr>\n",
       "      <th>3</th>\n",
       "      <td>length_of_service</td>\n",
       "      <td>0.107630</td>\n",
       "    </tr>\n",
       "    <tr>\n",
       "      <th>15</th>\n",
       "      <td>dept_enc</td>\n",
       "      <td>0.100835</td>\n",
       "    </tr>\n",
       "    <tr>\n",
       "      <th>2</th>\n",
       "      <td>previous_year_rating</td>\n",
       "      <td>0.062355</td>\n",
       "    </tr>\n",
       "    <tr>\n",
       "      <th>4</th>\n",
       "      <td>KPIs_met &gt;80%</td>\n",
       "      <td>0.047375</td>\n",
       "    </tr>\n",
       "    <tr>\n",
       "      <th>5</th>\n",
       "      <td>awards_won?</td>\n",
       "      <td>0.033486</td>\n",
       "    </tr>\n",
       "    <tr>\n",
       "      <th>0</th>\n",
       "      <td>no_of_trainings</td>\n",
       "      <td>0.024031</td>\n",
       "    </tr>\n",
       "    <tr>\n",
       "      <th>12</th>\n",
       "      <td>other</td>\n",
       "      <td>0.014820</td>\n",
       "    </tr>\n",
       "    <tr>\n",
       "      <th>14</th>\n",
       "      <td>sourcing</td>\n",
       "      <td>0.014608</td>\n",
       "    </tr>\n",
       "    <tr>\n",
       "      <th>11</th>\n",
       "      <td>m</td>\n",
       "      <td>0.013537</td>\n",
       "    </tr>\n",
       "    <tr>\n",
       "      <th>10</th>\n",
       "      <td>f</td>\n",
       "      <td>0.013271</td>\n",
       "    </tr>\n",
       "    <tr>\n",
       "      <th>7</th>\n",
       "      <td>Bachelor's</td>\n",
       "      <td>0.009507</td>\n",
       "    </tr>\n",
       "    <tr>\n",
       "      <th>9</th>\n",
       "      <td>Master's &amp; above</td>\n",
       "      <td>0.008977</td>\n",
       "    </tr>\n",
       "    <tr>\n",
       "      <th>13</th>\n",
       "      <td>referred</td>\n",
       "      <td>0.004969</td>\n",
       "    </tr>\n",
       "    <tr>\n",
       "      <th>8</th>\n",
       "      <td>Below Secondary</td>\n",
       "      <td>0.001694</td>\n",
       "    </tr>\n",
       "  </tbody>\n",
       "</table>\n",
       "</div>"
      ],
      "text/plain": [
       "                Features  Importances\n",
       "6     avg_training_score     0.288021\n",
       "1                    age     0.138914\n",
       "16            region_enc     0.115969\n",
       "3      length_of_service     0.107630\n",
       "15              dept_enc     0.100835\n",
       "2   previous_year_rating     0.062355\n",
       "4          KPIs_met >80%     0.047375\n",
       "5            awards_won?     0.033486\n",
       "0        no_of_trainings     0.024031\n",
       "12                 other     0.014820\n",
       "14              sourcing     0.014608\n",
       "11                     m     0.013537\n",
       "10                     f     0.013271\n",
       "7             Bachelor's     0.009507\n",
       "9       Master's & above     0.008977\n",
       "13              referred     0.004969\n",
       "8        Below Secondary     0.001694"
      ]
     },
     "metadata": {},
     "output_type": "display_data"
    }
   ],
   "source": [
    "display(feature_importance)"
   ]
  },
  {
   "cell_type": "markdown",
   "metadata": {},
   "source": [
    "***Analysing all the above results and filtering out unimportant features***"
   ]
  },
  {
   "cell_type": "code",
   "execution_count": 157,
   "metadata": {
    "execution": {
     "iopub.execute_input": "2021-08-15T13:13:22.048765Z",
     "iopub.status.busy": "2021-08-15T13:13:22.048356Z",
     "iopub.status.idle": "2021-08-15T13:13:22.068028Z",
     "shell.execute_reply": "2021-08-15T13:13:22.067242Z",
     "shell.execute_reply.started": "2021-08-15T13:13:22.048732Z"
    },
    "scrolled": true
   },
   "outputs": [
    {
     "data": {
      "text/html": [
       "<div>\n",
       "<style scoped>\n",
       "    .dataframe tbody tr th:only-of-type {\n",
       "        vertical-align: middle;\n",
       "    }\n",
       "\n",
       "    .dataframe tbody tr th {\n",
       "        vertical-align: top;\n",
       "    }\n",
       "\n",
       "    .dataframe thead th {\n",
       "        text-align: right;\n",
       "    }\n",
       "</style>\n",
       "<table border=\"1\" class=\"dataframe\">\n",
       "  <thead>\n",
       "    <tr style=\"text-align: right;\">\n",
       "      <th></th>\n",
       "      <th>avg_training_score</th>\n",
       "      <th>dept_enc</th>\n",
       "      <th>age</th>\n",
       "      <th>length_of_service</th>\n",
       "      <th>previous_year_rating</th>\n",
       "      <th>KPIs_met &gt;80%</th>\n",
       "      <th>no_of_trainings</th>\n",
       "      <th>awards_won?</th>\n",
       "    </tr>\n",
       "  </thead>\n",
       "  <tbody>\n",
       "    <tr>\n",
       "      <th>770</th>\n",
       "      <td>86</td>\n",
       "      <td>0.094779</td>\n",
       "      <td>34</td>\n",
       "      <td>6</td>\n",
       "      <td>2.0</td>\n",
       "      <td>0</td>\n",
       "      <td>1</td>\n",
       "      <td>0</td>\n",
       "    </tr>\n",
       "    <tr>\n",
       "      <th>5419</th>\n",
       "      <td>47</td>\n",
       "      <td>0.075091</td>\n",
       "      <td>36</td>\n",
       "      <td>5</td>\n",
       "      <td>3.0</td>\n",
       "      <td>0</td>\n",
       "      <td>1</td>\n",
       "      <td>0</td>\n",
       "    </tr>\n",
       "    <tr>\n",
       "      <th>36583</th>\n",
       "      <td>59</td>\n",
       "      <td>0.091683</td>\n",
       "      <td>32</td>\n",
       "      <td>7</td>\n",
       "      <td>3.0</td>\n",
       "      <td>0</td>\n",
       "      <td>1</td>\n",
       "      <td>0</td>\n",
       "    </tr>\n",
       "    <tr>\n",
       "      <th>51379</th>\n",
       "      <td>51</td>\n",
       "      <td>0.058752</td>\n",
       "      <td>35</td>\n",
       "      <td>5</td>\n",
       "      <td>3.0</td>\n",
       "      <td>0</td>\n",
       "      <td>1</td>\n",
       "      <td>0</td>\n",
       "    </tr>\n",
       "    <tr>\n",
       "      <th>23322</th>\n",
       "      <td>49</td>\n",
       "      <td>0.058752</td>\n",
       "      <td>39</td>\n",
       "      <td>11</td>\n",
       "      <td>3.0</td>\n",
       "      <td>0</td>\n",
       "      <td>1</td>\n",
       "      <td>0</td>\n",
       "    </tr>\n",
       "  </tbody>\n",
       "</table>\n",
       "</div>"
      ],
      "text/plain": [
       "       avg_training_score  dept_enc  age  length_of_service  \\\n",
       "770                    86  0.094779   34                  6   \n",
       "5419                   47  0.075091   36                  5   \n",
       "36583                  59  0.091683   32                  7   \n",
       "51379                  51  0.058752   35                  5   \n",
       "23322                  49  0.058752   39                 11   \n",
       "\n",
       "       previous_year_rating  KPIs_met >80%  no_of_trainings  awards_won?  \n",
       "770                     2.0              0                1            0  \n",
       "5419                    3.0              0                1            0  \n",
       "36583                   3.0              0                1            0  \n",
       "51379                   3.0              0                1            0  \n",
       "23322                   3.0              0                1            0  "
      ]
     },
     "execution_count": 157,
     "metadata": {},
     "output_type": "execute_result"
    }
   ],
   "source": [
    "# Making a list of selected features\n",
    "selected_features = ['avg_training_score','dept_enc','age',\n",
    "                     'length_of_service','previous_year_rating',\n",
    "                     'KPIs_met >80%','no_of_trainings','awards_won?']\n",
    "x_train[selected_features].head()"
   ]
  },
  {
   "cell_type": "code",
   "execution_count": 158,
   "metadata": {
    "execution": {
     "iopub.execute_input": "2021-08-15T13:13:22.069957Z",
     "iopub.status.busy": "2021-08-15T13:13:22.069571Z",
     "iopub.status.idle": "2021-08-15T13:13:22.085386Z",
     "shell.execute_reply": "2021-08-15T13:13:22.084428Z",
     "shell.execute_reply.started": "2021-08-15T13:13:22.069927Z"
    }
   },
   "outputs": [],
   "source": [
    "#Creating new datasets with just the selected features\n",
    "x_train_new=x_train[selected_features]\n",
    "x_val1_new=x_val1[selected_features]\n",
    "x_val2_new=x_val2[selected_features]\n",
    "x_test_new=x_test[selected_features]\n"
   ]
  },
  {
   "cell_type": "markdown",
   "metadata": {},
   "source": [
    "### Feature Scaling for better processing in models"
   ]
  },
  {
   "cell_type": "code",
   "execution_count": 159,
   "metadata": {
    "execution": {
     "iopub.execute_input": "2021-08-15T13:13:22.087407Z",
     "iopub.status.busy": "2021-08-15T13:13:22.087083Z",
     "iopub.status.idle": "2021-08-15T13:13:22.113290Z",
     "shell.execute_reply": "2021-08-15T13:13:22.112329Z",
     "shell.execute_reply.started": "2021-08-15T13:13:22.087376Z"
    }
   },
   "outputs": [
    {
     "data": {
      "text/plain": [
       "array([[0.78333333, 0.80341177, 0.35      , 0.13888889, 0.4       ,\n",
       "        0.        , 0.        , 0.        ],\n",
       "       [0.13333333, 0.44525002, 0.4       , 0.11111111, 0.6       ,\n",
       "        0.        , 0.        , 0.        ],\n",
       "       [0.33333333, 0.7470918 , 0.3       , 0.16666667, 0.6       ,\n",
       "        0.        , 0.        , 0.        ],\n",
       "       [0.2       , 0.14802191, 0.375     , 0.11111111, 0.6       ,\n",
       "        0.        , 0.        , 0.        ],\n",
       "       [0.16666667, 0.14802191, 0.475     , 0.27777778, 0.6       ,\n",
       "        0.        , 0.        , 0.        ]])"
      ]
     },
     "execution_count": 159,
     "metadata": {},
     "output_type": "execute_result"
    }
   ],
   "source": [
    "# # Using Standard Scaler\n",
    "\n",
    "# scaler = StandardScaler() # create an object\n",
    "# x_train_scaled = scaler.fit_transform(x_train_new) # fit the scaler to the train set, and then transform it\n",
    "\n",
    "# x_val1_scaled = scaler.transform(x_val1_new) # transform the val1 set\n",
    "# x_val2_scaled = scaler.transform(x_val2_new) # transform the val2 set\n",
    "# x_test_scaled = scaler.transform(x_test_new) # transform the test set\n",
    "# x_train\n",
    "\n",
    "# Using MinMax Scaler\n",
    "\n",
    "scaler = MinMaxScaler() # create an instance\n",
    "x_train_scaled = scaler.fit_transform(x_train_new) #  fit  the scaler to the train set and then transform it\n",
    "x_val1_scaled = scaler.transform(x_val1_new) # transform (scale) the val1 set\n",
    "x_val2_scaled = scaler.transform(x_val2_new) # transform (scale) the val2 set\n",
    "x_test_scaled = scaler.transform(x_test_new) # transform (scale) the test set\n",
    "\n",
    "\n",
    "x_train_scaled[:5]\n"
   ]
  },
  {
   "cell_type": "markdown",
   "metadata": {},
   "source": [
    "# <center> ----- MODEL TRAINING ----- </center>"
   ]
  },
  {
   "cell_type": "markdown",
   "metadata": {},
   "source": [
    "## 1. Logistic Regression Classifier\n"
   ]
  },
  {
   "cell_type": "code",
   "execution_count": 160,
   "metadata": {
    "execution": {
     "iopub.execute_input": "2021-08-15T13:13:22.119173Z",
     "iopub.status.busy": "2021-08-15T13:13:22.118855Z",
     "iopub.status.idle": "2021-08-15T13:13:22.698058Z",
     "shell.execute_reply": "2021-08-15T13:13:22.696928Z",
     "shell.execute_reply.started": "2021-08-15T13:13:22.119140Z"
    }
   },
   "outputs": [],
   "source": [
    "# Fitting Logistic Regression to the Training Set\n",
    "classifier = LogisticRegression()\n",
    "classifier.fit(x_train_scaled, y_train)\n",
    "# Predicting the Train Set Results\n",
    "y_pred = classifier.predict(x_train_scaled)\n",
    "# Classification Report\n",
    "reptrain=classification_report(y_train, y_pred, output_dict=True)\n",
    "reptrain = pd.DataFrame(reptrain).transpose()"
   ]
  },
  {
   "cell_type": "code",
   "execution_count": 161,
   "metadata": {
    "execution": {
     "iopub.execute_input": "2021-08-15T13:13:22.700500Z",
     "iopub.status.busy": "2021-08-15T13:13:22.700192Z",
     "iopub.status.idle": "2021-08-15T13:13:22.799498Z",
     "shell.execute_reply": "2021-08-15T13:13:22.798425Z",
     "shell.execute_reply.started": "2021-08-15T13:13:22.700472Z"
    }
   },
   "outputs": [
    {
     "data": {
      "text/html": [
       "<div>\n",
       "<style scoped>\n",
       "    .dataframe tbody tr th:only-of-type {\n",
       "        vertical-align: middle;\n",
       "    }\n",
       "\n",
       "    .dataframe tbody tr th {\n",
       "        vertical-align: top;\n",
       "    }\n",
       "\n",
       "    .dataframe thead th {\n",
       "        text-align: right;\n",
       "    }\n",
       "</style>\n",
       "<table border=\"1\" class=\"dataframe\">\n",
       "  <thead>\n",
       "    <tr style=\"text-align: right;\">\n",
       "      <th></th>\n",
       "      <th></th>\n",
       "      <th>precision</th>\n",
       "      <th>recall</th>\n",
       "      <th>f1-score</th>\n",
       "      <th>support</th>\n",
       "    </tr>\n",
       "  </thead>\n",
       "  <tbody>\n",
       "    <tr>\n",
       "      <th rowspan=\"3\" valign=\"top\">LGR - Train</th>\n",
       "      <th>0</th>\n",
       "      <td>0.92</td>\n",
       "      <td>0.99</td>\n",
       "      <td>0.96</td>\n",
       "      <td>33497.00</td>\n",
       "    </tr>\n",
       "    <tr>\n",
       "      <th>1</th>\n",
       "      <td>0.61</td>\n",
       "      <td>0.08</td>\n",
       "      <td>0.14</td>\n",
       "      <td>3182.00</td>\n",
       "    </tr>\n",
       "    <tr>\n",
       "      <th>accuracy</th>\n",
       "      <td>0.92</td>\n",
       "      <td>0.92</td>\n",
       "      <td>0.92</td>\n",
       "      <td>0.92</td>\n",
       "    </tr>\n",
       "    <tr>\n",
       "      <th rowspan=\"3\" valign=\"top\">LGR - Val1</th>\n",
       "      <th>0</th>\n",
       "      <td>0.92</td>\n",
       "      <td>0.99</td>\n",
       "      <td>0.95</td>\n",
       "      <td>7178.00</td>\n",
       "    </tr>\n",
       "    <tr>\n",
       "      <th>1</th>\n",
       "      <td>0.46</td>\n",
       "      <td>0.06</td>\n",
       "      <td>0.11</td>\n",
       "      <td>682.00</td>\n",
       "    </tr>\n",
       "    <tr>\n",
       "      <th>accuracy</th>\n",
       "      <td>0.91</td>\n",
       "      <td>0.91</td>\n",
       "      <td>0.91</td>\n",
       "      <td>0.91</td>\n",
       "    </tr>\n",
       "    <tr>\n",
       "      <th rowspan=\"3\" valign=\"top\">LGR - Val2</th>\n",
       "      <th>0</th>\n",
       "      <td>0.92</td>\n",
       "      <td>1.00</td>\n",
       "      <td>0.96</td>\n",
       "      <td>7178.00</td>\n",
       "    </tr>\n",
       "    <tr>\n",
       "      <th>1</th>\n",
       "      <td>0.57</td>\n",
       "      <td>0.07</td>\n",
       "      <td>0.12</td>\n",
       "      <td>682.00</td>\n",
       "    </tr>\n",
       "    <tr>\n",
       "      <th>accuracy</th>\n",
       "      <td>0.91</td>\n",
       "      <td>0.91</td>\n",
       "      <td>0.91</td>\n",
       "      <td>0.91</td>\n",
       "    </tr>\n",
       "  </tbody>\n",
       "</table>\n",
       "</div>"
      ],
      "text/plain": [
       "                      precision  recall  f1-score   support\n",
       "LGR - Train 0              0.92    0.99      0.96  33497.00\n",
       "            1              0.61    0.08      0.14   3182.00\n",
       "            accuracy       0.92    0.92      0.92      0.92\n",
       "LGR - Val1  0              0.92    0.99      0.95   7178.00\n",
       "            1              0.46    0.06      0.11    682.00\n",
       "            accuracy       0.91    0.91      0.91      0.91\n",
       "LGR - Val2  0              0.92    1.00      0.96   7178.00\n",
       "            1              0.57    0.07      0.12    682.00\n",
       "            accuracy       0.91    0.91      0.91      0.91"
      ]
     },
     "execution_count": 161,
     "metadata": {},
     "output_type": "execute_result"
    }
   ],
   "source": [
    "# Predicting the Val1 Set Results\n",
    "y_pred = classifier.predict(x_val1_scaled)\n",
    "# Classification Report\n",
    "repval1=classification_report(y_val1, y_pred, output_dict=True)\n",
    "repval1 = pd.DataFrame(repval1).transpose()\n",
    "\n",
    "# Predicting the Val2 Set Results\n",
    "y_pred = classifier.predict(x_val2_scaled)\n",
    "# Classification Report\n",
    "repval2=classification_report(y_val2, y_pred, output_dict=True)\n",
    "repval2 = pd.DataFrame(repval2).transpose()\n",
    "\n",
    "res = pd.concat([reptrain[:3],repval1[:3], repval2[:3]], keys=['LGR - Train','LGR - Val1','LGR - Val2']).round(2)\n",
    "res"
   ]
  },
  {
   "cell_type": "markdown",
   "metadata": {},
   "source": [
    "***Evaluation Report for Logistic Regression Classifier***"
   ]
  },
  {
   "cell_type": "markdown",
   "metadata": {},
   "source": [
    "## 2. Decision Tree Classifier"
   ]
  },
  {
   "cell_type": "code",
   "execution_count": 162,
   "metadata": {
    "execution": {
     "iopub.execute_input": "2021-08-15T13:13:22.802010Z",
     "iopub.status.busy": "2021-08-15T13:13:22.801246Z",
     "iopub.status.idle": "2021-08-15T13:13:22.978735Z",
     "shell.execute_reply": "2021-08-15T13:13:22.977680Z",
     "shell.execute_reply.started": "2021-08-15T13:13:22.801960Z"
    }
   },
   "outputs": [],
   "source": [
    "# Fitting Decision Tree Classifier to the Training Set\n",
    "classifier = DecisionTreeClassifier()\n",
    "classifier.fit(x_train_scaled, y_train)\n",
    "# Predicting the Train Set Results\n",
    "y_pred = classifier.predict(x_train_scaled)\n",
    "# Classification Report\n",
    "reptrain=classification_report(y_train, y_pred, output_dict=True)\n",
    "reptrain = pd.DataFrame(reptrain).transpose()"
   ]
  },
  {
   "cell_type": "code",
   "execution_count": 163,
   "metadata": {
    "execution": {
     "iopub.execute_input": "2021-08-15T13:13:22.980347Z",
     "iopub.status.busy": "2021-08-15T13:13:22.980039Z",
     "iopub.status.idle": "2021-08-15T13:13:23.039540Z",
     "shell.execute_reply": "2021-08-15T13:13:23.038220Z",
     "shell.execute_reply.started": "2021-08-15T13:13:22.980316Z"
    }
   },
   "outputs": [
    {
     "data": {
      "text/html": [
       "<div>\n",
       "<style scoped>\n",
       "    .dataframe tbody tr th:only-of-type {\n",
       "        vertical-align: middle;\n",
       "    }\n",
       "\n",
       "    .dataframe tbody tr th {\n",
       "        vertical-align: top;\n",
       "    }\n",
       "\n",
       "    .dataframe thead th {\n",
       "        text-align: right;\n",
       "    }\n",
       "</style>\n",
       "<table border=\"1\" class=\"dataframe\">\n",
       "  <thead>\n",
       "    <tr style=\"text-align: right;\">\n",
       "      <th></th>\n",
       "      <th></th>\n",
       "      <th>precision</th>\n",
       "      <th>recall</th>\n",
       "      <th>f1-score</th>\n",
       "      <th>support</th>\n",
       "    </tr>\n",
       "  </thead>\n",
       "  <tbody>\n",
       "    <tr>\n",
       "      <th rowspan=\"3\" valign=\"top\">DT - Train</th>\n",
       "      <th>0</th>\n",
       "      <td>0.99</td>\n",
       "      <td>1.00</td>\n",
       "      <td>0.99</td>\n",
       "      <td>33497.00</td>\n",
       "    </tr>\n",
       "    <tr>\n",
       "      <th>1</th>\n",
       "      <td>0.99</td>\n",
       "      <td>0.88</td>\n",
       "      <td>0.93</td>\n",
       "      <td>3182.00</td>\n",
       "    </tr>\n",
       "    <tr>\n",
       "      <th>accuracy</th>\n",
       "      <td>0.99</td>\n",
       "      <td>0.99</td>\n",
       "      <td>0.99</td>\n",
       "      <td>0.99</td>\n",
       "    </tr>\n",
       "    <tr>\n",
       "      <th rowspan=\"3\" valign=\"top\">DT - Val1</th>\n",
       "      <th>0</th>\n",
       "      <td>0.95</td>\n",
       "      <td>0.94</td>\n",
       "      <td>0.94</td>\n",
       "      <td>7178.00</td>\n",
       "    </tr>\n",
       "    <tr>\n",
       "      <th>1</th>\n",
       "      <td>0.41</td>\n",
       "      <td>0.43</td>\n",
       "      <td>0.42</td>\n",
       "      <td>682.00</td>\n",
       "    </tr>\n",
       "    <tr>\n",
       "      <th>accuracy</th>\n",
       "      <td>0.90</td>\n",
       "      <td>0.90</td>\n",
       "      <td>0.90</td>\n",
       "      <td>0.90</td>\n",
       "    </tr>\n",
       "    <tr>\n",
       "      <th rowspan=\"3\" valign=\"top\">DT - Val2</th>\n",
       "      <th>0</th>\n",
       "      <td>0.95</td>\n",
       "      <td>0.95</td>\n",
       "      <td>0.95</td>\n",
       "      <td>7178.00</td>\n",
       "    </tr>\n",
       "    <tr>\n",
       "      <th>1</th>\n",
       "      <td>0.43</td>\n",
       "      <td>0.43</td>\n",
       "      <td>0.43</td>\n",
       "      <td>682.00</td>\n",
       "    </tr>\n",
       "    <tr>\n",
       "      <th>accuracy</th>\n",
       "      <td>0.90</td>\n",
       "      <td>0.90</td>\n",
       "      <td>0.90</td>\n",
       "      <td>0.90</td>\n",
       "    </tr>\n",
       "  </tbody>\n",
       "</table>\n",
       "</div>"
      ],
      "text/plain": [
       "                     precision  recall  f1-score   support\n",
       "DT - Train 0              0.99    1.00      0.99  33497.00\n",
       "           1              0.99    0.88      0.93   3182.00\n",
       "           accuracy       0.99    0.99      0.99      0.99\n",
       "DT - Val1  0              0.95    0.94      0.94   7178.00\n",
       "           1              0.41    0.43      0.42    682.00\n",
       "           accuracy       0.90    0.90      0.90      0.90\n",
       "DT - Val2  0              0.95    0.95      0.95   7178.00\n",
       "           1              0.43    0.43      0.43    682.00\n",
       "           accuracy       0.90    0.90      0.90      0.90"
      ]
     },
     "execution_count": 163,
     "metadata": {},
     "output_type": "execute_result"
    }
   ],
   "source": [
    "# Predicting the Val1 Set Results\n",
    "y_pred = classifier.predict(x_val1_scaled)\n",
    "# Classification Report\n",
    "repval1=classification_report(y_val1, y_pred, output_dict=True)\n",
    "repval1 = pd.DataFrame(repval1).transpose()\n",
    "\n",
    "# Predicting the Val2 Set Results\n",
    "y_pred = classifier.predict(x_val2_scaled)\n",
    "# Classification Report\n",
    "repval2=classification_report(y_val2, y_pred, output_dict=True)\n",
    "repval2 = pd.DataFrame(repval2).transpose()\n",
    "\n",
    "res = pd.concat([reptrain[:3],repval1[:3], repval2[:3]], keys=['DT - Train','DT - Val1','DT - Val2']).round(2)\n",
    "res"
   ]
  },
  {
   "cell_type": "markdown",
   "metadata": {},
   "source": [
    "***Evaluation Report for Decision Tree Classifier***"
   ]
  },
  {
   "cell_type": "markdown",
   "metadata": {},
   "source": [
    "## 3. Random Forest Classifier"
   ]
  },
  {
   "cell_type": "code",
   "execution_count": 164,
   "metadata": {
    "execution": {
     "iopub.execute_input": "2021-08-15T13:13:23.041357Z",
     "iopub.status.busy": "2021-08-15T13:13:23.040976Z",
     "iopub.status.idle": "2021-08-15T13:13:26.252590Z",
     "shell.execute_reply": "2021-08-15T13:13:26.251587Z",
     "shell.execute_reply.started": "2021-08-15T13:13:23.041325Z"
    }
   },
   "outputs": [],
   "source": [
    "# Fitting Random Forest Classifier to the Training Set\n",
    "classifier = RandomForestClassifier()\n",
    "classifier.fit(x_train_scaled, y_train)\n",
    "# Predicting the Train Set Results\n",
    "y_pred = classifier.predict(x_train_scaled)\n",
    "# Classification Report\n",
    "reptrain=classification_report(y_train, y_pred, output_dict=True)\n",
    "reptrain = pd.DataFrame(reptrain).transpose()"
   ]
  },
  {
   "cell_type": "code",
   "execution_count": 165,
   "metadata": {
    "execution": {
     "iopub.execute_input": "2021-08-15T13:13:26.254702Z",
     "iopub.status.busy": "2021-08-15T13:13:26.254254Z",
     "iopub.status.idle": "2021-08-15T13:13:26.632410Z",
     "shell.execute_reply": "2021-08-15T13:13:26.631466Z",
     "shell.execute_reply.started": "2021-08-15T13:13:26.254654Z"
    }
   },
   "outputs": [
    {
     "data": {
      "text/html": [
       "<div>\n",
       "<style scoped>\n",
       "    .dataframe tbody tr th:only-of-type {\n",
       "        vertical-align: middle;\n",
       "    }\n",
       "\n",
       "    .dataframe tbody tr th {\n",
       "        vertical-align: top;\n",
       "    }\n",
       "\n",
       "    .dataframe thead th {\n",
       "        text-align: right;\n",
       "    }\n",
       "</style>\n",
       "<table border=\"1\" class=\"dataframe\">\n",
       "  <thead>\n",
       "    <tr style=\"text-align: right;\">\n",
       "      <th></th>\n",
       "      <th></th>\n",
       "      <th>precision</th>\n",
       "      <th>recall</th>\n",
       "      <th>f1-score</th>\n",
       "      <th>support</th>\n",
       "    </tr>\n",
       "  </thead>\n",
       "  <tbody>\n",
       "    <tr>\n",
       "      <th rowspan=\"3\" valign=\"top\">RF - Train</th>\n",
       "      <th>0</th>\n",
       "      <td>0.99</td>\n",
       "      <td>1.00</td>\n",
       "      <td>0.99</td>\n",
       "      <td>33497.00</td>\n",
       "    </tr>\n",
       "    <tr>\n",
       "      <th>1</th>\n",
       "      <td>0.97</td>\n",
       "      <td>0.90</td>\n",
       "      <td>0.94</td>\n",
       "      <td>3182.00</td>\n",
       "    </tr>\n",
       "    <tr>\n",
       "      <th>accuracy</th>\n",
       "      <td>0.99</td>\n",
       "      <td>0.99</td>\n",
       "      <td>0.99</td>\n",
       "      <td>0.99</td>\n",
       "    </tr>\n",
       "    <tr>\n",
       "      <th rowspan=\"3\" valign=\"top\">RF - Val1</th>\n",
       "      <th>0</th>\n",
       "      <td>0.94</td>\n",
       "      <td>0.98</td>\n",
       "      <td>0.96</td>\n",
       "      <td>7178.00</td>\n",
       "    </tr>\n",
       "    <tr>\n",
       "      <th>1</th>\n",
       "      <td>0.61</td>\n",
       "      <td>0.33</td>\n",
       "      <td>0.43</td>\n",
       "      <td>682.00</td>\n",
       "    </tr>\n",
       "    <tr>\n",
       "      <th>accuracy</th>\n",
       "      <td>0.92</td>\n",
       "      <td>0.92</td>\n",
       "      <td>0.92</td>\n",
       "      <td>0.92</td>\n",
       "    </tr>\n",
       "    <tr>\n",
       "      <th rowspan=\"3\" valign=\"top\">RF - Val2</th>\n",
       "      <th>0</th>\n",
       "      <td>0.94</td>\n",
       "      <td>0.98</td>\n",
       "      <td>0.96</td>\n",
       "      <td>7178.00</td>\n",
       "    </tr>\n",
       "    <tr>\n",
       "      <th>1</th>\n",
       "      <td>0.65</td>\n",
       "      <td>0.35</td>\n",
       "      <td>0.46</td>\n",
       "      <td>682.00</td>\n",
       "    </tr>\n",
       "    <tr>\n",
       "      <th>accuracy</th>\n",
       "      <td>0.93</td>\n",
       "      <td>0.93</td>\n",
       "      <td>0.93</td>\n",
       "      <td>0.93</td>\n",
       "    </tr>\n",
       "  </tbody>\n",
       "</table>\n",
       "</div>"
      ],
      "text/plain": [
       "                     precision  recall  f1-score   support\n",
       "RF - Train 0              0.99    1.00      0.99  33497.00\n",
       "           1              0.97    0.90      0.94   3182.00\n",
       "           accuracy       0.99    0.99      0.99      0.99\n",
       "RF - Val1  0              0.94    0.98      0.96   7178.00\n",
       "           1              0.61    0.33      0.43    682.00\n",
       "           accuracy       0.92    0.92      0.92      0.92\n",
       "RF - Val2  0              0.94    0.98      0.96   7178.00\n",
       "           1              0.65    0.35      0.46    682.00\n",
       "           accuracy       0.93    0.93      0.93      0.93"
      ]
     },
     "execution_count": 165,
     "metadata": {},
     "output_type": "execute_result"
    }
   ],
   "source": [
    "# Predicting the Val1 Set Results\n",
    "y_pred = classifier.predict(x_val1_scaled)\n",
    "# Classification Report\n",
    "repval1=classification_report(y_val1, y_pred, output_dict=True)\n",
    "repval1 = pd.DataFrame(repval1).transpose()\n",
    "\n",
    "# Predicting the Val2 Set Results\n",
    "y_pred = classifier.predict(x_val2_scaled)\n",
    "# Classification Report\n",
    "repval2=classification_report(y_val2, y_pred, output_dict=True)\n",
    "repval2 = pd.DataFrame(repval2).transpose()\n",
    "\n",
    "res = pd.concat([reptrain[:3],repval1[:3], repval2[:3]], keys=['RF - Train','RF - Val1','RF - Val2']).round(2)\n",
    "res"
   ]
  },
  {
   "cell_type": "markdown",
   "metadata": {},
   "source": [
    "***Evaluation Report for Random Forest Classifier***"
   ]
  },
  {
   "cell_type": "markdown",
   "metadata": {},
   "source": [
    "## 4. XGBoost Classifier"
   ]
  },
  {
   "cell_type": "code",
   "execution_count": 166,
   "metadata": {
    "execution": {
     "iopub.execute_input": "2021-08-15T13:13:26.633894Z",
     "iopub.status.busy": "2021-08-15T13:13:26.633634Z",
     "iopub.status.idle": "2021-08-15T13:13:27.800882Z",
     "shell.execute_reply": "2021-08-15T13:13:27.800065Z",
     "shell.execute_reply.started": "2021-08-15T13:13:26.633868Z"
    }
   },
   "outputs": [
    {
     "name": "stdout",
     "output_type": "stream",
     "text": [
      "[13:13:26] WARNING: ../src/learner.cc:1095: Starting in XGBoost 1.3.0, the default evaluation metric used with the objective 'binary:logistic' was changed from 'error' to 'logloss'. Explicitly set eval_metric if you'd like to restore the old behavior.\n"
     ]
    }
   ],
   "source": [
    "# Fitting XGBoost to the Training Set\n",
    "classifier = XGBClassifier()\n",
    "classifier.fit(x_train_scaled, y_train)\n",
    "# Predicting the Train Set Results\n",
    "y_pred = classifier.predict(x_train_scaled)\n",
    "# Classification Report\n",
    "reptrain=classification_report(y_train, y_pred, output_dict=True)\n",
    "reptrain = pd.DataFrame(reptrain).transpose()"
   ]
  },
  {
   "cell_type": "code",
   "execution_count": 167,
   "metadata": {
    "execution": {
     "iopub.execute_input": "2021-08-15T13:13:27.802701Z",
     "iopub.status.busy": "2021-08-15T13:13:27.802158Z",
     "iopub.status.idle": "2021-08-15T13:13:27.884805Z",
     "shell.execute_reply": "2021-08-15T13:13:27.883727Z",
     "shell.execute_reply.started": "2021-08-15T13:13:27.802667Z"
    }
   },
   "outputs": [
    {
     "data": {
      "text/html": [
       "<div>\n",
       "<style scoped>\n",
       "    .dataframe tbody tr th:only-of-type {\n",
       "        vertical-align: middle;\n",
       "    }\n",
       "\n",
       "    .dataframe tbody tr th {\n",
       "        vertical-align: top;\n",
       "    }\n",
       "\n",
       "    .dataframe thead th {\n",
       "        text-align: right;\n",
       "    }\n",
       "</style>\n",
       "<table border=\"1\" class=\"dataframe\">\n",
       "  <thead>\n",
       "    <tr style=\"text-align: right;\">\n",
       "      <th></th>\n",
       "      <th></th>\n",
       "      <th>precision</th>\n",
       "      <th>recall</th>\n",
       "      <th>f1-score</th>\n",
       "      <th>support</th>\n",
       "    </tr>\n",
       "  </thead>\n",
       "  <tbody>\n",
       "    <tr>\n",
       "      <th rowspan=\"3\" valign=\"top\">XGB - Train</th>\n",
       "      <th>0</th>\n",
       "      <td>0.95</td>\n",
       "      <td>1.00</td>\n",
       "      <td>0.97</td>\n",
       "      <td>33497.00</td>\n",
       "    </tr>\n",
       "    <tr>\n",
       "      <th>1</th>\n",
       "      <td>0.98</td>\n",
       "      <td>0.42</td>\n",
       "      <td>0.58</td>\n",
       "      <td>3182.00</td>\n",
       "    </tr>\n",
       "    <tr>\n",
       "      <th>accuracy</th>\n",
       "      <td>0.95</td>\n",
       "      <td>0.95</td>\n",
       "      <td>0.95</td>\n",
       "      <td>0.95</td>\n",
       "    </tr>\n",
       "    <tr>\n",
       "      <th rowspan=\"3\" valign=\"top\">XGB - Val1</th>\n",
       "      <th>0</th>\n",
       "      <td>0.94</td>\n",
       "      <td>0.99</td>\n",
       "      <td>0.97</td>\n",
       "      <td>7178.00</td>\n",
       "    </tr>\n",
       "    <tr>\n",
       "      <th>1</th>\n",
       "      <td>0.85</td>\n",
       "      <td>0.32</td>\n",
       "      <td>0.47</td>\n",
       "      <td>682.00</td>\n",
       "    </tr>\n",
       "    <tr>\n",
       "      <th>accuracy</th>\n",
       "      <td>0.94</td>\n",
       "      <td>0.94</td>\n",
       "      <td>0.94</td>\n",
       "      <td>0.94</td>\n",
       "    </tr>\n",
       "    <tr>\n",
       "      <th rowspan=\"3\" valign=\"top\">XGB - Val2</th>\n",
       "      <th>0</th>\n",
       "      <td>0.94</td>\n",
       "      <td>1.00</td>\n",
       "      <td>0.97</td>\n",
       "      <td>7178.00</td>\n",
       "    </tr>\n",
       "    <tr>\n",
       "      <th>1</th>\n",
       "      <td>0.89</td>\n",
       "      <td>0.37</td>\n",
       "      <td>0.52</td>\n",
       "      <td>682.00</td>\n",
       "    </tr>\n",
       "    <tr>\n",
       "      <th>accuracy</th>\n",
       "      <td>0.94</td>\n",
       "      <td>0.94</td>\n",
       "      <td>0.94</td>\n",
       "      <td>0.94</td>\n",
       "    </tr>\n",
       "  </tbody>\n",
       "</table>\n",
       "</div>"
      ],
      "text/plain": [
       "                      precision  recall  f1-score   support\n",
       "XGB - Train 0              0.95    1.00      0.97  33497.00\n",
       "            1              0.98    0.42      0.58   3182.00\n",
       "            accuracy       0.95    0.95      0.95      0.95\n",
       "XGB - Val1  0              0.94    0.99      0.97   7178.00\n",
       "            1              0.85    0.32      0.47    682.00\n",
       "            accuracy       0.94    0.94      0.94      0.94\n",
       "XGB - Val2  0              0.94    1.00      0.97   7178.00\n",
       "            1              0.89    0.37      0.52    682.00\n",
       "            accuracy       0.94    0.94      0.94      0.94"
      ]
     },
     "execution_count": 167,
     "metadata": {},
     "output_type": "execute_result"
    }
   ],
   "source": [
    "# Predicting the Val1 Set Results\n",
    "y_pred = classifier.predict(x_val1_scaled)\n",
    "# Classification Report\n",
    "repval1=classification_report(y_val1, y_pred, output_dict=True)\n",
    "repval1 = pd.DataFrame(repval1).transpose()\n",
    "\n",
    "# Predicting the Val2 Set Results\n",
    "y_pred = classifier.predict(x_val2_scaled)\n",
    "# Classification Report\n",
    "repval2=classification_report(y_val2, y_pred, output_dict=True)\n",
    "repval2 = pd.DataFrame(repval2).transpose()\n",
    "\n",
    "res = pd.concat([reptrain[:3],repval1[:3], repval2[:3]], keys=['XGB - Train','XGB - Val1','XGB - Val2']).round(2)\n",
    "res"
   ]
  },
  {
   "cell_type": "markdown",
   "metadata": {},
   "source": [
    "***Evaluation Report for XGBoost Classifier***"
   ]
  },
  {
   "cell_type": "markdown",
   "metadata": {},
   "source": [
    "## 5. KNN Classifier"
   ]
  },
  {
   "cell_type": "code",
   "execution_count": 168,
   "metadata": {
    "execution": {
     "iopub.execute_input": "2021-08-15T13:13:27.886305Z",
     "iopub.status.busy": "2021-08-15T13:13:27.886028Z",
     "iopub.status.idle": "2021-08-15T13:13:31.203545Z",
     "shell.execute_reply": "2021-08-15T13:13:31.202578Z",
     "shell.execute_reply.started": "2021-08-15T13:13:27.886279Z"
    }
   },
   "outputs": [],
   "source": [
    "# Fitting KNN to the Training Set\n",
    "classifier = KNeighborsClassifier()\n",
    "classifier.fit(x_train_scaled, y_train)\n",
    "# Predicting the Train Set Results\n",
    "y_pred = classifier.predict(x_train_scaled)\n",
    "# Classification Report\n",
    "reptrain=classification_report(y_train, y_pred, output_dict=True)\n",
    "reptrain = pd.DataFrame(reptrain).transpose()"
   ]
  },
  {
   "cell_type": "code",
   "execution_count": 169,
   "metadata": {
    "execution": {
     "iopub.execute_input": "2021-08-15T13:13:31.205002Z",
     "iopub.status.busy": "2021-08-15T13:13:31.204728Z",
     "iopub.status.idle": "2021-08-15T13:13:32.574031Z",
     "shell.execute_reply": "2021-08-15T13:13:32.572902Z",
     "shell.execute_reply.started": "2021-08-15T13:13:31.204976Z"
    }
   },
   "outputs": [
    {
     "data": {
      "text/html": [
       "<div>\n",
       "<style scoped>\n",
       "    .dataframe tbody tr th:only-of-type {\n",
       "        vertical-align: middle;\n",
       "    }\n",
       "\n",
       "    .dataframe tbody tr th {\n",
       "        vertical-align: top;\n",
       "    }\n",
       "\n",
       "    .dataframe thead th {\n",
       "        text-align: right;\n",
       "    }\n",
       "</style>\n",
       "<table border=\"1\" class=\"dataframe\">\n",
       "  <thead>\n",
       "    <tr style=\"text-align: right;\">\n",
       "      <th></th>\n",
       "      <th></th>\n",
       "      <th>precision</th>\n",
       "      <th>recall</th>\n",
       "      <th>f1-score</th>\n",
       "      <th>support</th>\n",
       "    </tr>\n",
       "  </thead>\n",
       "  <tbody>\n",
       "    <tr>\n",
       "      <th rowspan=\"3\" valign=\"top\">KNN - Train</th>\n",
       "      <th>0</th>\n",
       "      <td>0.94</td>\n",
       "      <td>0.99</td>\n",
       "      <td>0.97</td>\n",
       "      <td>33497.00</td>\n",
       "    </tr>\n",
       "    <tr>\n",
       "      <th>1</th>\n",
       "      <td>0.84</td>\n",
       "      <td>0.38</td>\n",
       "      <td>0.52</td>\n",
       "      <td>3182.00</td>\n",
       "    </tr>\n",
       "    <tr>\n",
       "      <th>accuracy</th>\n",
       "      <td>0.94</td>\n",
       "      <td>0.94</td>\n",
       "      <td>0.94</td>\n",
       "      <td>0.94</td>\n",
       "    </tr>\n",
       "    <tr>\n",
       "      <th rowspan=\"3\" valign=\"top\">KNN - Val1</th>\n",
       "      <th>0</th>\n",
       "      <td>0.93</td>\n",
       "      <td>0.99</td>\n",
       "      <td>0.96</td>\n",
       "      <td>7178.00</td>\n",
       "    </tr>\n",
       "    <tr>\n",
       "      <th>1</th>\n",
       "      <td>0.61</td>\n",
       "      <td>0.23</td>\n",
       "      <td>0.33</td>\n",
       "      <td>682.00</td>\n",
       "    </tr>\n",
       "    <tr>\n",
       "      <th>accuracy</th>\n",
       "      <td>0.92</td>\n",
       "      <td>0.92</td>\n",
       "      <td>0.92</td>\n",
       "      <td>0.92</td>\n",
       "    </tr>\n",
       "    <tr>\n",
       "      <th rowspan=\"3\" valign=\"top\">KNN - Val2</th>\n",
       "      <th>0</th>\n",
       "      <td>0.94</td>\n",
       "      <td>0.99</td>\n",
       "      <td>0.96</td>\n",
       "      <td>7178.00</td>\n",
       "    </tr>\n",
       "    <tr>\n",
       "      <th>1</th>\n",
       "      <td>0.70</td>\n",
       "      <td>0.29</td>\n",
       "      <td>0.41</td>\n",
       "      <td>682.00</td>\n",
       "    </tr>\n",
       "    <tr>\n",
       "      <th>accuracy</th>\n",
       "      <td>0.93</td>\n",
       "      <td>0.93</td>\n",
       "      <td>0.93</td>\n",
       "      <td>0.93</td>\n",
       "    </tr>\n",
       "  </tbody>\n",
       "</table>\n",
       "</div>"
      ],
      "text/plain": [
       "                      precision  recall  f1-score   support\n",
       "KNN - Train 0              0.94    0.99      0.97  33497.00\n",
       "            1              0.84    0.38      0.52   3182.00\n",
       "            accuracy       0.94    0.94      0.94      0.94\n",
       "KNN - Val1  0              0.93    0.99      0.96   7178.00\n",
       "            1              0.61    0.23      0.33    682.00\n",
       "            accuracy       0.92    0.92      0.92      0.92\n",
       "KNN - Val2  0              0.94    0.99      0.96   7178.00\n",
       "            1              0.70    0.29      0.41    682.00\n",
       "            accuracy       0.93    0.93      0.93      0.93"
      ]
     },
     "execution_count": 169,
     "metadata": {},
     "output_type": "execute_result"
    }
   ],
   "source": [
    "# Predicting the Val1 Set Results\n",
    "y_pred = classifier.predict(x_val1_scaled)\n",
    "# Classification Report\n",
    "repval1=classification_report(y_val1, y_pred, output_dict=True)\n",
    "repval1 = pd.DataFrame(repval1).transpose()\n",
    "\n",
    "# Predicting the Val2 Set Results\n",
    "y_pred = classifier.predict(x_val2_scaled)\n",
    "# Classification Report\n",
    "repval2=classification_report(y_val2, y_pred, output_dict=True)\n",
    "repval2 = pd.DataFrame(repval2).transpose()\n",
    "\n",
    "\n",
    "#Overall Report\n",
    "res = pd.concat([reptrain[:3],repval1[:3], repval2[:3]], keys=['KNN - Train','KNN - Val1','KNN - Val2']).round(2)\n",
    "res"
   ]
  },
  {
   "cell_type": "markdown",
   "metadata": {},
   "source": [
    "***Evaluation Report for KNN Classifier***"
   ]
  },
  {
   "cell_type": "markdown",
   "metadata": {},
   "source": [
    "<br>**We see that out of the 5 models used Random Forest Classifier and XGB Classifier have the best performance.**\n",
    "\n",
    "**So we will proceed with these 2 models and tune their hyperparameters and then select the best model for our final test set prediction** <br>"
   ]
  },
  {
   "cell_type": "markdown",
   "metadata": {},
   "source": [
    "<br>\n",
    "\n",
    "# <center> ----- HYPERPARAMETER TUNING ----- </center>"
   ]
  },
  {
   "cell_type": "markdown",
   "metadata": {},
   "source": [
    "## 1. Random Forest Classifier"
   ]
  },
  {
   "cell_type": "markdown",
   "metadata": {},
   "source": [
    "***Checking default parameters :***"
   ]
  },
  {
   "cell_type": "code",
   "execution_count": 170,
   "metadata": {
    "execution": {
     "iopub.execute_input": "2021-08-15T13:13:32.577529Z",
     "iopub.status.busy": "2021-08-15T13:13:32.577200Z",
     "iopub.status.idle": "2021-08-15T13:13:32.590859Z",
     "shell.execute_reply": "2021-08-15T13:13:32.585089Z",
     "shell.execute_reply.started": "2021-08-15T13:13:32.577499Z"
    }
   },
   "outputs": [
    {
     "name": "stdout",
     "output_type": "stream",
     "text": [
      "Parameters currently in use:\n",
      "\n",
      "{'bootstrap': True,\n",
      " 'ccp_alpha': 0.0,\n",
      " 'class_weight': None,\n",
      " 'criterion': 'gini',\n",
      " 'max_depth': None,\n",
      " 'max_features': 'auto',\n",
      " 'max_leaf_nodes': None,\n",
      " 'max_samples': None,\n",
      " 'min_impurity_decrease': 0.0,\n",
      " 'min_impurity_split': None,\n",
      " 'min_samples_leaf': 1,\n",
      " 'min_samples_split': 2,\n",
      " 'min_weight_fraction_leaf': 0.0,\n",
      " 'n_estimators': 100,\n",
      " 'n_jobs': None,\n",
      " 'oob_score': False,\n",
      " 'random_state': 42,\n",
      " 'verbose': 0,\n",
      " 'warm_start': False}\n"
     ]
    }
   ],
   "source": [
    "from pprint import pprint\n",
    "\n",
    "# To look at the available hyperparameters, we can create a random forest and examine the default values.\n",
    "\n",
    "rf = RandomForestClassifier(random_state = 42)\n",
    "# Look at parameters used by our current forest\n",
    "print('Parameters currently in use:\\n')\n",
    "pprint(rf.get_params())"
   ]
  },
  {
   "cell_type": "markdown",
   "metadata": {},
   "source": [
    "***Constructing a grid:***"
   ]
  },
  {
   "cell_type": "code",
   "execution_count": 171,
   "metadata": {
    "execution": {
     "iopub.execute_input": "2021-08-15T13:13:32.592655Z",
     "iopub.status.busy": "2021-08-15T13:13:32.592318Z",
     "iopub.status.idle": "2021-08-15T13:13:32.609620Z",
     "shell.execute_reply": "2021-08-15T13:13:32.608487Z",
     "shell.execute_reply.started": "2021-08-15T13:13:32.592627Z"
    }
   },
   "outputs": [
    {
     "name": "stdout",
     "output_type": "stream",
     "text": [
      "{'bootstrap': [True, False],\n",
      " 'max_depth': [10, 20, 30, 40, 50, 60, 70, 80, 90, 100, 110, None],\n",
      " 'max_features': ['auto', 'sqrt'],\n",
      " 'min_samples_leaf': [1, 2, 4, 6],\n",
      " 'min_samples_split': [2, 5, 10, 15],\n",
      " 'n_estimators': [200, 400, 600, 800, 1000, 1200, 1400, 1600, 1800, 2000]}\n"
     ]
    }
   ],
   "source": [
    "#To use RandomizedSearchCV, we first need to create a parameter grid to sample from during fitting:\n",
    "\n",
    "# Number of trees in random forest\n",
    "n_estimators = [int(x) for x in np.linspace(start = 200, stop = 2000, num = 10)]\n",
    "# Number of features to consider at every split\n",
    "max_features = ['auto', 'sqrt']\n",
    "# Maximum number of levels in tree\n",
    "max_depth = [int(x) for x in np.linspace(10, 110, num = 11)]\n",
    "max_depth.append(None)\n",
    "# Minimum number of samples required to split a node\n",
    "min_samples_split = [2, 5, 10, 15]\n",
    "# Minimum number of samples required at each leaf node\n",
    "min_samples_leaf = [1, 2, 4, 6]\n",
    "# Method of selecting samples for training each tree\n",
    "bootstrap = [True, False]\n",
    "# Create the random grid\n",
    "random_grid = {'n_estimators': n_estimators,\n",
    "               'max_features': max_features,\n",
    "               'max_depth': max_depth,\n",
    "               'min_samples_split': min_samples_split,\n",
    "               'min_samples_leaf': min_samples_leaf,\n",
    "               'bootstrap': bootstrap}\n",
    "pprint(random_grid)\n",
    "\n"
   ]
  },
  {
   "cell_type": "markdown",
   "metadata": {},
   "source": [
    "***Grid Size : 2 x 12 x 2 x 4 x 4 x 10 = 7680***"
   ]
  },
  {
   "cell_type": "code",
   "execution_count": 172,
   "metadata": {
    "execution": {
     "iopub.execute_input": "2021-08-15T13:13:32.611228Z",
     "iopub.status.busy": "2021-08-15T13:13:32.610851Z",
     "iopub.status.idle": "2021-08-15T13:13:32.623027Z",
     "shell.execute_reply": "2021-08-15T13:13:32.622248Z",
     "shell.execute_reply.started": "2021-08-15T13:13:32.611136Z"
    }
   },
   "outputs": [],
   "source": [
    "# Use the random grid to search for best hyperparameters\n",
    "# First create the base model to tune\n",
    "#rf = RandomForestClassifier(random_state = 1)\n",
    "# Random search of parameters, using 3 fold cross validation, \n",
    "# search across 100 different combinations, and use all available cores\n",
    "#rf_random = RandomizedSearchCV(estimator = rf, param_distributions = random_grid, n_iter = 50, cv = 4,scoring='f1',verbose=3, random_state=42, n_jobs = -1)\n",
    "# Fit the random search model\n",
    "#rf_random.fit(x_train_scaled, y_train)"
   ]
  },
  {
   "cell_type": "code",
   "execution_count": 173,
   "metadata": {
    "execution": {
     "iopub.execute_input": "2021-08-15T13:13:32.624739Z",
     "iopub.status.busy": "2021-08-15T13:13:32.624437Z",
     "iopub.status.idle": "2021-08-15T13:13:32.637806Z",
     "shell.execute_reply": "2021-08-15T13:13:32.636952Z",
     "shell.execute_reply.started": "2021-08-15T13:13:32.624702Z"
    }
   },
   "outputs": [],
   "source": [
    "#rf_random.best_params_ #Best values of selected parameters"
   ]
  },
  {
   "cell_type": "code",
   "execution_count": 174,
   "metadata": {
    "execution": {
     "iopub.execute_input": "2021-08-15T13:13:32.639458Z",
     "iopub.status.busy": "2021-08-15T13:13:32.639170Z",
     "iopub.status.idle": "2021-08-15T13:13:32.651957Z",
     "shell.execute_reply": "2021-08-15T13:13:32.651124Z",
     "shell.execute_reply.started": "2021-08-15T13:13:32.639431Z"
    }
   },
   "outputs": [],
   "source": [
    "#rf_random.best_estimator_"
   ]
  },
  {
   "cell_type": "markdown",
   "metadata": {},
   "source": [
    "#### We have our best set of tuned hyperparameters for the Random Forest Classifier.\n",
    "#### Now applying these and again predicting"
   ]
  },
  {
   "cell_type": "code",
   "execution_count": 175,
   "metadata": {
    "execution": {
     "iopub.execute_input": "2021-08-15T13:13:32.653663Z",
     "iopub.status.busy": "2021-08-15T13:13:32.653363Z",
     "iopub.status.idle": "2021-08-15T13:13:47.359791Z",
     "shell.execute_reply": "2021-08-15T13:13:47.358687Z",
     "shell.execute_reply.started": "2021-08-15T13:13:32.653636Z"
    }
   },
   "outputs": [],
   "source": [
    "# Fitting Random Forest Classifier to the Training Set\n",
    "classifier = RandomForestClassifier(bootstrap=False, max_depth=50, max_features='sqrt',\n",
    "                       min_samples_split=15, n_estimators=400, random_state=1)\n",
    "\n",
    "classifier.fit(x_train_scaled, y_train)\n",
    "# Predicting the Train Set Results\n",
    "y_pred = classifier.predict(x_train_scaled)\n",
    "# Classification Report\n",
    "reptrain=classification_report(y_train, y_pred, output_dict=True)\n",
    "reptrain = pd.DataFrame(reptrain).transpose()"
   ]
  },
  {
   "cell_type": "code",
   "execution_count": 176,
   "metadata": {
    "execution": {
     "iopub.execute_input": "2021-08-15T13:13:47.361616Z",
     "iopub.status.busy": "2021-08-15T13:13:47.361274Z",
     "iopub.status.idle": "2021-08-15T13:13:48.632404Z",
     "shell.execute_reply": "2021-08-15T13:13:48.631459Z",
     "shell.execute_reply.started": "2021-08-15T13:13:47.361584Z"
    }
   },
   "outputs": [
    {
     "data": {
      "text/html": [
       "<div>\n",
       "<style scoped>\n",
       "    .dataframe tbody tr th:only-of-type {\n",
       "        vertical-align: middle;\n",
       "    }\n",
       "\n",
       "    .dataframe tbody tr th {\n",
       "        vertical-align: top;\n",
       "    }\n",
       "\n",
       "    .dataframe thead th {\n",
       "        text-align: right;\n",
       "    }\n",
       "</style>\n",
       "<table border=\"1\" class=\"dataframe\">\n",
       "  <thead>\n",
       "    <tr style=\"text-align: right;\">\n",
       "      <th></th>\n",
       "      <th></th>\n",
       "      <th>precision</th>\n",
       "      <th>recall</th>\n",
       "      <th>f1-score</th>\n",
       "      <th>support</th>\n",
       "    </tr>\n",
       "  </thead>\n",
       "  <tbody>\n",
       "    <tr>\n",
       "      <th rowspan=\"3\" valign=\"top\">RF - Train</th>\n",
       "      <th>0</th>\n",
       "      <td>0.95</td>\n",
       "      <td>1.00</td>\n",
       "      <td>0.97</td>\n",
       "      <td>33497.00</td>\n",
       "    </tr>\n",
       "    <tr>\n",
       "      <th>1</th>\n",
       "      <td>0.97</td>\n",
       "      <td>0.47</td>\n",
       "      <td>0.63</td>\n",
       "      <td>3182.00</td>\n",
       "    </tr>\n",
       "    <tr>\n",
       "      <th>accuracy</th>\n",
       "      <td>0.95</td>\n",
       "      <td>0.95</td>\n",
       "      <td>0.95</td>\n",
       "      <td>0.95</td>\n",
       "    </tr>\n",
       "    <tr>\n",
       "      <th rowspan=\"3\" valign=\"top\">RF - Val1</th>\n",
       "      <th>0</th>\n",
       "      <td>0.94</td>\n",
       "      <td>1.00</td>\n",
       "      <td>0.97</td>\n",
       "      <td>7178.00</td>\n",
       "    </tr>\n",
       "    <tr>\n",
       "      <th>1</th>\n",
       "      <td>0.87</td>\n",
       "      <td>0.30</td>\n",
       "      <td>0.45</td>\n",
       "      <td>682.00</td>\n",
       "    </tr>\n",
       "    <tr>\n",
       "      <th>accuracy</th>\n",
       "      <td>0.94</td>\n",
       "      <td>0.94</td>\n",
       "      <td>0.94</td>\n",
       "      <td>0.94</td>\n",
       "    </tr>\n",
       "    <tr>\n",
       "      <th rowspan=\"3\" valign=\"top\">RF - Val2</th>\n",
       "      <th>0</th>\n",
       "      <td>0.94</td>\n",
       "      <td>1.00</td>\n",
       "      <td>0.97</td>\n",
       "      <td>7178.00</td>\n",
       "    </tr>\n",
       "    <tr>\n",
       "      <th>1</th>\n",
       "      <td>0.88</td>\n",
       "      <td>0.34</td>\n",
       "      <td>0.50</td>\n",
       "      <td>682.00</td>\n",
       "    </tr>\n",
       "    <tr>\n",
       "      <th>accuracy</th>\n",
       "      <td>0.94</td>\n",
       "      <td>0.94</td>\n",
       "      <td>0.94</td>\n",
       "      <td>0.94</td>\n",
       "    </tr>\n",
       "  </tbody>\n",
       "</table>\n",
       "</div>"
      ],
      "text/plain": [
       "                     precision  recall  f1-score   support\n",
       "RF - Train 0              0.95    1.00      0.97  33497.00\n",
       "           1              0.97    0.47      0.63   3182.00\n",
       "           accuracy       0.95    0.95      0.95      0.95\n",
       "RF - Val1  0              0.94    1.00      0.97   7178.00\n",
       "           1              0.87    0.30      0.45    682.00\n",
       "           accuracy       0.94    0.94      0.94      0.94\n",
       "RF - Val2  0              0.94    1.00      0.97   7178.00\n",
       "           1              0.88    0.34      0.50    682.00\n",
       "           accuracy       0.94    0.94      0.94      0.94"
      ]
     },
     "execution_count": 176,
     "metadata": {},
     "output_type": "execute_result"
    }
   ],
   "source": [
    "# Predicting the Val1 Set Results\n",
    "y_pred = classifier.predict(x_val1_scaled)\n",
    "# Classification Report\n",
    "repval1=classification_report(y_val1, y_pred, output_dict=True)\n",
    "repval1 = pd.DataFrame(repval1).transpose()\n",
    "\n",
    "# Predicting the Val2 Set Results\n",
    "y_pred = classifier.predict(x_val2_scaled)\n",
    "# Classification Report\n",
    "repval2=classification_report(y_val2, y_pred, output_dict=True)\n",
    "repval2 = pd.DataFrame(repval2).transpose()\n",
    "\n",
    "res = pd.concat([reptrain[:3],repval1[:3], repval2[:3]], keys=['RF - Train','RF - Val1','RF - Val2']).round(2)\n",
    "res"
   ]
  },
  {
   "cell_type": "markdown",
   "metadata": {},
   "source": [
    "### We see that after predicting on the tuned Random Forest Classifier, the evaluation metrics have imporved significantly."
   ]
  },
  {
   "cell_type": "markdown",
   "metadata": {},
   "source": [
    "<br>"
   ]
  },
  {
   "cell_type": "markdown",
   "metadata": {},
   "source": [
    "## 2. XGB Classifier"
   ]
  },
  {
   "cell_type": "markdown",
   "metadata": {},
   "source": [
    "***Checking default parameters***"
   ]
  },
  {
   "cell_type": "code",
   "execution_count": 177,
   "metadata": {
    "execution": {
     "iopub.execute_input": "2021-08-15T13:13:48.634257Z",
     "iopub.status.busy": "2021-08-15T13:13:48.633892Z",
     "iopub.status.idle": "2021-08-15T13:13:48.648962Z",
     "shell.execute_reply": "2021-08-15T13:13:48.643121Z",
     "shell.execute_reply.started": "2021-08-15T13:13:48.634226Z"
    }
   },
   "outputs": [
    {
     "name": "stdout",
     "output_type": "stream",
     "text": [
      "Parameters currently in use:\n",
      "\n",
      "{'base_score': None,\n",
      " 'booster': None,\n",
      " 'colsample_bylevel': None,\n",
      " 'colsample_bynode': None,\n",
      " 'colsample_bytree': None,\n",
      " 'gamma': None,\n",
      " 'gpu_id': None,\n",
      " 'importance_type': 'gain',\n",
      " 'interaction_constraints': None,\n",
      " 'learning_rate': None,\n",
      " 'max_delta_step': None,\n",
      " 'max_depth': None,\n",
      " 'min_child_weight': None,\n",
      " 'missing': nan,\n",
      " 'monotone_constraints': None,\n",
      " 'n_estimators': 100,\n",
      " 'n_jobs': None,\n",
      " 'num_parallel_tree': None,\n",
      " 'objective': 'binary:logistic',\n",
      " 'random_state': 42,\n",
      " 'reg_alpha': None,\n",
      " 'reg_lambda': None,\n",
      " 'scale_pos_weight': None,\n",
      " 'subsample': None,\n",
      " 'tree_method': None,\n",
      " 'use_label_encoder': True,\n",
      " 'validate_parameters': None,\n",
      " 'verbosity': None}\n"
     ]
    }
   ],
   "source": [
    "# To look at the available hyperparameters, we can create a random forest and examine the default values.\n",
    "\n",
    "xgb = XGBClassifier(random_state = 42)\n",
    "# Look at parameters used by our current forest\n",
    "print('Parameters currently in use:\\n')\n",
    "pprint(xgb.get_params())"
   ]
  },
  {
   "cell_type": "markdown",
   "metadata": {},
   "source": [
    "***Constructing Grid***"
   ]
  },
  {
   "cell_type": "code",
   "execution_count": 178,
   "metadata": {
    "execution": {
     "iopub.execute_input": "2021-08-15T13:13:48.651143Z",
     "iopub.status.busy": "2021-08-15T13:13:48.650668Z",
     "iopub.status.idle": "2021-08-15T13:13:48.659780Z",
     "shell.execute_reply": "2021-08-15T13:13:48.658527Z",
     "shell.execute_reply.started": "2021-08-15T13:13:48.651093Z"
    }
   },
   "outputs": [],
   "source": [
    "params={\n",
    " \"learning_rate\"    : [0.05, 0.10, 0.15, 0.20, 0.25, 0.30, 0.35 ] ,\n",
    " \"max_depth\"        : [ 3, 4, 5, 6, 8, 10, 12, 15],\n",
    " \"min_child_weight\" : [ 1, 3, 5, 7, 9, 11 ],\n",
    " \"gamma\"            : [ 0.0, 0.1, 0.2 , 0.3, 0.4 ,0.5],\n",
    " \"colsample_bytree\" : [ 0.3, 0.4, 0.5 , 0.7 ]\n",
    "    \n",
    "}"
   ]
  },
  {
   "cell_type": "markdown",
   "metadata": {},
   "source": [
    "***Grid Size : 7 x 8 x 6 x 6 x 4 = 8064 ***"
   ]
  },
  {
   "cell_type": "markdown",
   "metadata": {},
   "source": [
    "***Applying Random Search***"
   ]
  },
  {
   "cell_type": "code",
   "execution_count": 179,
   "metadata": {
    "execution": {
     "iopub.execute_input": "2021-08-15T13:13:48.661559Z",
     "iopub.status.busy": "2021-08-15T13:13:48.661173Z",
     "iopub.status.idle": "2021-08-15T13:13:48.675649Z",
     "shell.execute_reply": "2021-08-15T13:13:48.674561Z",
     "shell.execute_reply.started": "2021-08-15T13:13:48.661524Z"
    }
   },
   "outputs": [],
   "source": [
    "#Running random search\n",
    "#xgb= XGBClassifier()\n",
    "#xgb_random=RandomizedSearchCV(xgb,param_distributions=params,n_iter=50,scoring='f1',n_jobs=-1,cv=4,verbose=3)\n",
    "#xgb_random.fit(x_train_scaled,y_train)\n"
   ]
  },
  {
   "cell_type": "code",
   "execution_count": 180,
   "metadata": {
    "execution": {
     "iopub.execute_input": "2021-08-15T13:13:48.677679Z",
     "iopub.status.busy": "2021-08-15T13:13:48.677255Z",
     "iopub.status.idle": "2021-08-15T13:13:48.690189Z",
     "shell.execute_reply": "2021-08-15T13:13:48.689312Z",
     "shell.execute_reply.started": "2021-08-15T13:13:48.677638Z"
    }
   },
   "outputs": [],
   "source": [
    "#xgb_random.best_params_ #Best values of selected parameters"
   ]
  },
  {
   "cell_type": "code",
   "execution_count": 181,
   "metadata": {
    "execution": {
     "iopub.execute_input": "2021-08-15T13:13:48.691847Z",
     "iopub.status.busy": "2021-08-15T13:13:48.691290Z",
     "iopub.status.idle": "2021-08-15T13:13:48.704339Z",
     "shell.execute_reply": "2021-08-15T13:13:48.703356Z",
     "shell.execute_reply.started": "2021-08-15T13:13:48.691803Z"
    }
   },
   "outputs": [],
   "source": [
    "#xgb_random.best_estimator_"
   ]
  },
  {
   "cell_type": "markdown",
   "metadata": {},
   "source": [
    "#### We have our best set of tuned hyperparameters for the XGB Classifier.\n",
    "#### Now applying these and again predicting"
   ]
  },
  {
   "cell_type": "code",
   "execution_count": 182,
   "metadata": {
    "execution": {
     "iopub.execute_input": "2021-08-15T13:13:48.706250Z",
     "iopub.status.busy": "2021-08-15T13:13:48.705817Z",
     "iopub.status.idle": "2021-08-15T13:13:50.261737Z",
     "shell.execute_reply": "2021-08-15T13:13:50.260715Z",
     "shell.execute_reply.started": "2021-08-15T13:13:48.706209Z"
    }
   },
   "outputs": [
    {
     "name": "stdout",
     "output_type": "stream",
     "text": [
      "[13:13:48] WARNING: ../src/learner.cc:1095: Starting in XGBoost 1.3.0, the default evaluation metric used with the objective 'binary:logistic' was changed from 'error' to 'logloss'. Explicitly set eval_metric if you'd like to restore the old behavior.\n"
     ]
    }
   ],
   "source": [
    "# Fitting XGBoost to the Training Set\n",
    "classifier = XGBClassifier(base_score=0.5, booster='gbtree', colsample_bylevel=1,\n",
    "              colsample_bynode=1, colsample_bytree=0.7, gamma=0.3, gpu_id=-1,\n",
    "              importance_type='gain', interaction_constraints='',\n",
    "              learning_rate=0.25, max_delta_step=0, max_depth=6,\n",
    "              min_child_weight=3,monotone_constraints='()',\n",
    "              n_estimators=100, n_jobs=8, num_parallel_tree=1, random_state=0,\n",
    "              reg_alpha=0, reg_lambda=1, scale_pos_weight=1, subsample=1,\n",
    "              tree_method='exact', validate_parameters=1, verbosity=None)\n",
    "classifier.fit(x_train_scaled, y_train)\n",
    "# Predicting the Train Set Results\n",
    "y_pred = classifier.predict(x_train_scaled)\n",
    "# Classification Report\n",
    "reptrain=classification_report(y_train, y_pred, output_dict=True)\n",
    "reptrain = pd.DataFrame(reptrain).transpose()"
   ]
  },
  {
   "cell_type": "code",
   "execution_count": 183,
   "metadata": {
    "execution": {
     "iopub.execute_input": "2021-08-15T13:13:50.263242Z",
     "iopub.status.busy": "2021-08-15T13:13:50.262963Z",
     "iopub.status.idle": "2021-08-15T13:13:50.341370Z",
     "shell.execute_reply": "2021-08-15T13:13:50.340538Z",
     "shell.execute_reply.started": "2021-08-15T13:13:50.263216Z"
    }
   },
   "outputs": [
    {
     "data": {
      "text/html": [
       "<div>\n",
       "<style scoped>\n",
       "    .dataframe tbody tr th:only-of-type {\n",
       "        vertical-align: middle;\n",
       "    }\n",
       "\n",
       "    .dataframe tbody tr th {\n",
       "        vertical-align: top;\n",
       "    }\n",
       "\n",
       "    .dataframe thead th {\n",
       "        text-align: right;\n",
       "    }\n",
       "</style>\n",
       "<table border=\"1\" class=\"dataframe\">\n",
       "  <thead>\n",
       "    <tr style=\"text-align: right;\">\n",
       "      <th></th>\n",
       "      <th></th>\n",
       "      <th>precision</th>\n",
       "      <th>recall</th>\n",
       "      <th>f1-score</th>\n",
       "      <th>support</th>\n",
       "    </tr>\n",
       "  </thead>\n",
       "  <tbody>\n",
       "    <tr>\n",
       "      <th rowspan=\"3\" valign=\"top\">XGB - Train</th>\n",
       "      <th>0</th>\n",
       "      <td>0.94</td>\n",
       "      <td>1.00</td>\n",
       "      <td>0.97</td>\n",
       "      <td>33497.00</td>\n",
       "    </tr>\n",
       "    <tr>\n",
       "      <th>1</th>\n",
       "      <td>0.97</td>\n",
       "      <td>0.38</td>\n",
       "      <td>0.55</td>\n",
       "      <td>3182.00</td>\n",
       "    </tr>\n",
       "    <tr>\n",
       "      <th>accuracy</th>\n",
       "      <td>0.95</td>\n",
       "      <td>0.95</td>\n",
       "      <td>0.95</td>\n",
       "      <td>0.95</td>\n",
       "    </tr>\n",
       "    <tr>\n",
       "      <th rowspan=\"3\" valign=\"top\">XGB - Val1</th>\n",
       "      <th>0</th>\n",
       "      <td>0.94</td>\n",
       "      <td>1.00</td>\n",
       "      <td>0.97</td>\n",
       "      <td>7178.00</td>\n",
       "    </tr>\n",
       "    <tr>\n",
       "      <th>1</th>\n",
       "      <td>0.90</td>\n",
       "      <td>0.32</td>\n",
       "      <td>0.47</td>\n",
       "      <td>682.00</td>\n",
       "    </tr>\n",
       "    <tr>\n",
       "      <th>accuracy</th>\n",
       "      <td>0.94</td>\n",
       "      <td>0.94</td>\n",
       "      <td>0.94</td>\n",
       "      <td>0.94</td>\n",
       "    </tr>\n",
       "    <tr>\n",
       "      <th rowspan=\"3\" valign=\"top\">XGB - Val2</th>\n",
       "      <th>0</th>\n",
       "      <td>0.94</td>\n",
       "      <td>1.00</td>\n",
       "      <td>0.97</td>\n",
       "      <td>7178.00</td>\n",
       "    </tr>\n",
       "    <tr>\n",
       "      <th>1</th>\n",
       "      <td>0.92</td>\n",
       "      <td>0.36</td>\n",
       "      <td>0.52</td>\n",
       "      <td>682.00</td>\n",
       "    </tr>\n",
       "    <tr>\n",
       "      <th>accuracy</th>\n",
       "      <td>0.94</td>\n",
       "      <td>0.94</td>\n",
       "      <td>0.94</td>\n",
       "      <td>0.94</td>\n",
       "    </tr>\n",
       "  </tbody>\n",
       "</table>\n",
       "</div>"
      ],
      "text/plain": [
       "                      precision  recall  f1-score   support\n",
       "XGB - Train 0              0.94    1.00      0.97  33497.00\n",
       "            1              0.97    0.38      0.55   3182.00\n",
       "            accuracy       0.95    0.95      0.95      0.95\n",
       "XGB - Val1  0              0.94    1.00      0.97   7178.00\n",
       "            1              0.90    0.32      0.47    682.00\n",
       "            accuracy       0.94    0.94      0.94      0.94\n",
       "XGB - Val2  0              0.94    1.00      0.97   7178.00\n",
       "            1              0.92    0.36      0.52    682.00\n",
       "            accuracy       0.94    0.94      0.94      0.94"
      ]
     },
     "execution_count": 183,
     "metadata": {},
     "output_type": "execute_result"
    }
   ],
   "source": [
    "# Predicting the Val1 Set Results\n",
    "y_pred = classifier.predict(x_val1_scaled)\n",
    "# Classification Report\n",
    "repval1=classification_report(y_val1, y_pred, output_dict=True)\n",
    "repval1 = pd.DataFrame(repval1).transpose()\n",
    "\n",
    "# Predicting the Val2 Set Results\n",
    "y_pred = classifier.predict(x_val2_scaled)\n",
    "# Classification Report\n",
    "repval2=classification_report(y_val2, y_pred, output_dict=True)\n",
    "repval2 = pd.DataFrame(repval2).transpose()\n",
    "\n",
    "res = pd.concat([reptrain[:3],repval1[:3], repval2[:3]], keys=['XGB - Train','XGB - Val1','XGB - Val2']).round(2)\n",
    "res"
   ]
  },
  {
   "cell_type": "markdown",
   "metadata": {},
   "source": [
    "## We see that the XGB Classfier performs better than Random Forest. So we select it for our final predictions."
   ]
  },
  {
   "cell_type": "markdown",
   "metadata": {},
   "source": [
    "\n",
    "# <center> ----- MAKING PREDICTIONS ON TEST SET ----- </center>\n",
    "<br>"
   ]
  },
  {
   "cell_type": "code",
   "execution_count": 184,
   "metadata": {
    "execution": {
     "iopub.execute_input": "2021-08-15T13:13:50.342826Z",
     "iopub.status.busy": "2021-08-15T13:13:50.342400Z",
     "iopub.status.idle": "2021-08-15T13:13:51.856699Z",
     "shell.execute_reply": "2021-08-15T13:13:51.855737Z",
     "shell.execute_reply.started": "2021-08-15T13:13:50.342796Z"
    }
   },
   "outputs": [
    {
     "name": "stdout",
     "output_type": "stream",
     "text": [
      "[13:13:50] WARNING: ../src/learner.cc:1095: Starting in XGBoost 1.3.0, the default evaluation metric used with the objective 'binary:logistic' was changed from 'error' to 'logloss'. Explicitly set eval_metric if you'd like to restore the old behavior.\n"
     ]
    },
    {
     "data": {
      "text/plain": [
       "array([0, 0, 0, ..., 0, 0, 1])"
      ]
     },
     "execution_count": 184,
     "metadata": {},
     "output_type": "execute_result"
    }
   ],
   "source": [
    "#We will now make final predictions on XGBoost Classifier model\n",
    "\n",
    "xgb = XGBClassifier(base_score=0.5, booster='gbtree', colsample_bylevel=1,\n",
    "              colsample_bynode=1, colsample_bytree=0.7, gamma=0.3, gpu_id=-1,\n",
    "              importance_type='gain', interaction_constraints='',\n",
    "              learning_rate=0.25, max_delta_step=0, max_depth=6,\n",
    "              min_child_weight=3,monotone_constraints='()',\n",
    "              n_estimators=100, n_jobs=8, num_parallel_tree=1, random_state=0,\n",
    "              reg_alpha=0, reg_lambda=1, scale_pos_weight=1, subsample=1,\n",
    "              tree_method='exact', validate_parameters=1, verbosity=None)\n",
    "\n",
    "xgb.fit(x_train_scaled, y_train)\n",
    "\n",
    "y_test_predicted = xgb.predict(x_test_scaled) #predicting test data\n",
    "y_test_predicted\n"
   ]
  },
  {
   "cell_type": "code",
   "execution_count": 185,
   "metadata": {
    "execution": {
     "iopub.execute_input": "2021-08-15T13:13:51.858252Z",
     "iopub.status.busy": "2021-08-15T13:13:51.857882Z",
     "iopub.status.idle": "2021-08-15T13:13:51.864975Z",
     "shell.execute_reply": "2021-08-15T13:13:51.863785Z",
     "shell.execute_reply.started": "2021-08-15T13:13:51.858217Z"
    }
   },
   "outputs": [
    {
     "data": {
      "text/plain": [
       "(22456,)"
      ]
     },
     "execution_count": 185,
     "metadata": {},
     "output_type": "execute_result"
    }
   ],
   "source": [
    "promotions_pred= pd.Series(y_test_predicted)\n",
    "promotions_pred.shape"
   ]
  },
  {
   "cell_type": "code",
   "execution_count": 186,
   "metadata": {
    "execution": {
     "iopub.execute_input": "2021-08-15T13:13:51.866479Z",
     "iopub.status.busy": "2021-08-15T13:13:51.866164Z",
     "iopub.status.idle": "2021-08-15T13:13:51.886498Z",
     "shell.execute_reply": "2021-08-15T13:13:51.885221Z",
     "shell.execute_reply.started": "2021-08-15T13:13:51.866441Z"
    }
   },
   "outputs": [
    {
     "data": {
      "text/html": [
       "<div>\n",
       "<style scoped>\n",
       "    .dataframe tbody tr th:only-of-type {\n",
       "        vertical-align: middle;\n",
       "    }\n",
       "\n",
       "    .dataframe tbody tr th {\n",
       "        vertical-align: top;\n",
       "    }\n",
       "\n",
       "    .dataframe thead th {\n",
       "        text-align: right;\n",
       "    }\n",
       "</style>\n",
       "<table border=\"1\" class=\"dataframe\">\n",
       "  <thead>\n",
       "    <tr style=\"text-align: right;\">\n",
       "      <th></th>\n",
       "      <th>0</th>\n",
       "    </tr>\n",
       "  </thead>\n",
       "  <tbody>\n",
       "    <tr>\n",
       "      <th>0</th>\n",
       "      <td>21747</td>\n",
       "    </tr>\n",
       "    <tr>\n",
       "      <th>1</th>\n",
       "      <td>709</td>\n",
       "    </tr>\n",
       "  </tbody>\n",
       "</table>\n",
       "</div>"
      ],
      "text/plain": [
       "       0\n",
       "0  21747\n",
       "1    709"
      ]
     },
     "execution_count": 186,
     "metadata": {},
     "output_type": "execute_result"
    }
   ],
   "source": [
    "promotions_pred.value_counts().to_frame()"
   ]
  },
  {
   "cell_type": "markdown",
   "metadata": {},
   "source": [
    "**The model has predicted that out of 22456 employees in the test set, 21749 will not get promotions and 707 employees will be promoted**"
   ]
  },
  {
   "cell_type": "code",
   "execution_count": 187,
   "metadata": {
    "execution": {
     "iopub.execute_input": "2021-08-15T13:13:51.888149Z",
     "iopub.status.busy": "2021-08-15T13:13:51.887844Z",
     "iopub.status.idle": "2021-08-15T13:13:51.900570Z",
     "shell.execute_reply": "2021-08-15T13:13:51.899377Z",
     "shell.execute_reply.started": "2021-08-15T13:13:51.888120Z"
    }
   },
   "outputs": [],
   "source": [
    "id=pd.Series(test.employee_id).reset_index().drop('index',axis=1)"
   ]
  },
  {
   "cell_type": "code",
   "execution_count": 188,
   "metadata": {
    "execution": {
     "iopub.execute_input": "2021-08-15T13:13:51.902377Z",
     "iopub.status.busy": "2021-08-15T13:13:51.902006Z",
     "iopub.status.idle": "2021-08-15T13:13:51.917982Z",
     "shell.execute_reply": "2021-08-15T13:13:51.916786Z",
     "shell.execute_reply.started": "2021-08-15T13:13:51.902346Z"
    }
   },
   "outputs": [],
   "source": [
    "# Mapping employee ids of test set with their promotion status for a better understanding\n",
    "\n",
    "result=pd.concat([id,promotions_pred],axis=1,ignore_index=True)"
   ]
  },
  {
   "cell_type": "code",
   "execution_count": 189,
   "metadata": {
    "execution": {
     "iopub.execute_input": "2021-08-15T13:13:51.919844Z",
     "iopub.status.busy": "2021-08-15T13:13:51.919527Z",
     "iopub.status.idle": "2021-08-15T13:13:51.945064Z",
     "shell.execute_reply": "2021-08-15T13:13:51.943978Z",
     "shell.execute_reply.started": "2021-08-15T13:13:51.919814Z"
    }
   },
   "outputs": [
    {
     "data": {
      "text/html": [
       "<div>\n",
       "<style scoped>\n",
       "    .dataframe tbody tr th:only-of-type {\n",
       "        vertical-align: middle;\n",
       "    }\n",
       "\n",
       "    .dataframe tbody tr th {\n",
       "        vertical-align: top;\n",
       "    }\n",
       "\n",
       "    .dataframe thead th {\n",
       "        text-align: right;\n",
       "    }\n",
       "</style>\n",
       "<table border=\"1\" class=\"dataframe\">\n",
       "  <thead>\n",
       "    <tr style=\"text-align: right;\">\n",
       "      <th></th>\n",
       "      <th>employee_id</th>\n",
       "      <th>is_promoted</th>\n",
       "    </tr>\n",
       "  </thead>\n",
       "  <tbody>\n",
       "    <tr>\n",
       "      <th>0</th>\n",
       "      <td>8724</td>\n",
       "      <td>0</td>\n",
       "    </tr>\n",
       "    <tr>\n",
       "      <th>1</th>\n",
       "      <td>74430</td>\n",
       "      <td>0</td>\n",
       "    </tr>\n",
       "    <tr>\n",
       "      <th>2</th>\n",
       "      <td>72255</td>\n",
       "      <td>0</td>\n",
       "    </tr>\n",
       "    <tr>\n",
       "      <th>3</th>\n",
       "      <td>38562</td>\n",
       "      <td>0</td>\n",
       "    </tr>\n",
       "    <tr>\n",
       "      <th>4</th>\n",
       "      <td>64486</td>\n",
       "      <td>0</td>\n",
       "    </tr>\n",
       "    <tr>\n",
       "      <th>...</th>\n",
       "      <td>...</td>\n",
       "      <td>...</td>\n",
       "    </tr>\n",
       "    <tr>\n",
       "      <th>22451</th>\n",
       "      <td>53478</td>\n",
       "      <td>0</td>\n",
       "    </tr>\n",
       "    <tr>\n",
       "      <th>22452</th>\n",
       "      <td>25600</td>\n",
       "      <td>0</td>\n",
       "    </tr>\n",
       "    <tr>\n",
       "      <th>22453</th>\n",
       "      <td>45409</td>\n",
       "      <td>0</td>\n",
       "    </tr>\n",
       "    <tr>\n",
       "      <th>22454</th>\n",
       "      <td>1186</td>\n",
       "      <td>0</td>\n",
       "    </tr>\n",
       "    <tr>\n",
       "      <th>22455</th>\n",
       "      <td>5973</td>\n",
       "      <td>1</td>\n",
       "    </tr>\n",
       "  </tbody>\n",
       "</table>\n",
       "<p>22456 rows × 2 columns</p>\n",
       "</div>"
      ],
      "text/plain": [
       "       employee_id  is_promoted\n",
       "0             8724            0\n",
       "1            74430            0\n",
       "2            72255            0\n",
       "3            38562            0\n",
       "4            64486            0\n",
       "...            ...          ...\n",
       "22451        53478            0\n",
       "22452        25600            0\n",
       "22453        45409            0\n",
       "22454         1186            0\n",
       "22455         5973            1\n",
       "\n",
       "[22456 rows x 2 columns]"
      ]
     },
     "execution_count": 189,
     "metadata": {},
     "output_type": "execute_result"
    }
   ],
   "source": [
    "#final answer on test set\n",
    "result.columns=['employee_id','is_promoted']\n",
    "result"
   ]
  },
  {
   "cell_type": "markdown",
   "metadata": {},
   "source": [
    "### Final Result showing the employees and their promotion status"
   ]
  },
  {
   "cell_type": "markdown",
   "metadata": {},
   "source": [
    "## THANK YOU..."
   ]
  },
  {
   "cell_type": "markdown",
   "metadata": {},
   "source": [
    "# Upvote and drop a comment if you liked it."
   ]
  },
  {
   "cell_type": "code",
   "execution_count": null,
   "metadata": {},
   "outputs": [],
   "source": []
  }
 ],
 "metadata": {
  "kernelspec": {
   "display_name": "Python 3",
   "language": "python",
   "name": "python3"
  },
  "language_info": {
   "codemirror_mode": {
    "name": "ipython",
    "version": 3
   },
   "file_extension": ".py",
   "mimetype": "text/x-python",
   "name": "python",
   "nbconvert_exporter": "python",
   "pygments_lexer": "ipython3",
   "version": "3.7.6"
  }
 },
 "nbformat": 4,
 "nbformat_minor": 4
}
